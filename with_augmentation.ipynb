{
 "cells": [
  {
   "cell_type": "code",
   "execution_count": 1,
   "metadata": {},
   "outputs": [],
   "source": [
    "import random\n",
    "random.seed(0)"
   ]
  },
  {
   "cell_type": "code",
   "execution_count": 2,
   "metadata": {},
   "outputs": [],
   "source": [
    "import torch\n",
    "import torch.nn as nn\n",
    "import torchvision\n",
    "from torchvision import transforms\n",
    "from torchvision.transforms import v2"
   ]
  },
  {
   "cell_type": "code",
   "execution_count": 3,
   "metadata": {},
   "outputs": [],
   "source": [
    "DATASET_PATH = './knee-osteoarthritis'"
   ]
  },
  {
   "cell_type": "code",
   "execution_count": 4,
   "metadata": {},
   "outputs": [],
   "source": [
    "TRAIN_PATH = f'{DATASET_PATH}/train'\n",
    "VAL_PATH = f'{DATASET_PATH}/val'\n",
    "TEST_PATH = f'{DATASET_PATH}/test'\n",
    "AUTO_TEST_PATH = f'{DATASET_PATH}/auto_test'"
   ]
  },
  {
   "cell_type": "markdown",
   "metadata": {},
   "source": [
    "### Get Dataset "
   ]
  },
  {
   "cell_type": "code",
   "execution_count": 5,
   "metadata": {},
   "outputs": [],
   "source": [
    "from src.dataset.augmented_dataset import get_KneeOsteoarthritis_Edges\n",
    "\n",
    "train_dataset = get_KneeOsteoarthritis_Edges(TRAIN_PATH)\n",
    "val_dataset = get_KneeOsteoarthritis_Edges(VAL_PATH)"
   ]
  },
  {
   "cell_type": "code",
   "execution_count": 6,
   "metadata": {},
   "outputs": [],
   "source": [
    "import matplotlib.pyplot as plt\n",
    "import numpy as np\n",
    "\n",
    "# functions to show an image\n",
    "def imshow(img):\n",
    "    img = img / 2 + 0.5     # unnormalize\n",
    "    npimg = img.numpy()\n",
    "    plt.imshow(np.transpose(npimg, (1, 2, 0)), cmap='gray')\n",
    "    plt.show()"
   ]
  },
  {
   "cell_type": "code",
   "execution_count": 7,
   "metadata": {},
   "outputs": [
    {
     "name": "stdout",
     "output_type": "stream",
     "text": [
      "torch.Size([3, 256, 256]) torch.Size([1, 224, 224])\n"
     ]
    }
   ],
   "source": [
    "row = train_dataset[1]\n",
    "normal_ex = row[0]\n",
    "augmented_ex = row[1]\n",
    "print(normal_ex.shape, augmented_ex.shape)"
   ]
  },
  {
   "cell_type": "code",
   "execution_count": 8,
   "metadata": {},
   "outputs": [],
   "source": [
    "# imshow(normal_ex)\n",
    "# imshow(augmented_ex)"
   ]
  },
  {
   "cell_type": "markdown",
   "metadata": {},
   "source": [
    "### Configuring loader"
   ]
  },
  {
   "cell_type": "code",
   "execution_count": 9,
   "metadata": {},
   "outputs": [],
   "source": [
    "from torch.utils.data import DataLoader\n",
    "BATCH_SIZE = 128\n",
    "\n",
    "train_loader = DataLoader(train_dataset, batch_size=BATCH_SIZE, shuffle=True)\n",
    "val_loader = DataLoader(val_dataset, batch_size=BATCH_SIZE, shuffle=True)"
   ]
  },
  {
   "cell_type": "markdown",
   "metadata": {},
   "source": [
    "### Building Model"
   ]
  },
  {
   "cell_type": "code",
   "execution_count": 10,
   "metadata": {},
   "outputs": [
    {
     "name": "stdout",
     "output_type": "stream",
     "text": [
      "cuda\n"
     ]
    }
   ],
   "source": [
    "device = 'cuda' if torch.cuda.is_available() else 'cpu'\n",
    "print(device)"
   ]
  },
  {
   "cell_type": "code",
   "execution_count": 11,
   "metadata": {},
   "outputs": [],
   "source": [
    "from src.models.custom import CustomModel\n",
    "\n",
    "model = CustomModel(3, 0.5)\n",
    "model = model.to(device)"
   ]
  },
  {
   "cell_type": "code",
   "execution_count": 12,
   "metadata": {},
   "outputs": [
    {
     "name": "stdout",
     "output_type": "stream",
     "text": [
      "12374699\n",
      "12374699\n"
     ]
    }
   ],
   "source": [
    "print(sum(p.numel() for p in model.parameters()))\n",
    "\n",
    "trainable_parameters = filter(lambda p: p.requires_grad, model.parameters())\n",
    "print(sum(p.numel() for p in trainable_parameters))"
   ]
  },
  {
   "cell_type": "markdown",
   "metadata": {},
   "source": [
    "### Setting up Model Training"
   ]
  },
  {
   "cell_type": "code",
   "execution_count": 13,
   "metadata": {},
   "outputs": [
    {
     "name": "stdout",
     "output_type": "stream",
     "text": [
      "tensor([2286., 3319.,  173.], device='cuda:0') torch.float32\n"
     ]
    }
   ],
   "source": [
    "import torch.optim as optim\n",
    "from src.other import getClassesFrequency\n",
    "# criterion = nn.NLLLoss()\n",
    "\n",
    "class_weights = getClassesFrequency(train_dataset)\n",
    "weights_tensor = torch.Tensor(list(class_weights.values())).to(device)\n",
    "print(weights_tensor, weights_tensor.dtype)\n",
    "\n",
    "criterion = nn.CrossEntropyLoss(weights_tensor)\n",
    "optimizer = optim.Adam(model.parameters(), lr=0.001)"
   ]
  },
  {
   "cell_type": "code",
   "execution_count": 14,
   "metadata": {},
   "outputs": [],
   "source": [
    "def get_lr(optimizer):\n",
    "  for param_group in optimizer.param_groups:\n",
    "    return param_group['lr']"
   ]
  },
  {
   "cell_type": "markdown",
   "metadata": {},
   "source": [
    "#### Setting Up Logger"
   ]
  },
  {
   "cell_type": "code",
   "execution_count": 15,
   "metadata": {},
   "outputs": [],
   "source": [
    "EXP_NAME = \"only-resnet18/1\""
   ]
  },
  {
   "cell_type": "code",
   "execution_count": 16,
   "metadata": {},
   "outputs": [],
   "source": [
    "from torch.utils.tensorboard import SummaryWriter\n",
    "\n",
    "logger = SummaryWriter(log_dir=f\"logs/{EXP_NAME}\")"
   ]
  },
  {
   "cell_type": "code",
   "execution_count": 17,
   "metadata": {},
   "outputs": [],
   "source": [
    "epochCounter = 0"
   ]
  },
  {
   "cell_type": "markdown",
   "metadata": {},
   "source": [
    "#### Training Loop"
   ]
  },
  {
   "cell_type": "code",
   "execution_count": 18,
   "metadata": {},
   "outputs": [],
   "source": [
    "from src.validation import validate\n",
    "\n",
    "def train_many(model, epochs_nr, regularization_type = \"L2\", lambda_reg=0.01):\n",
    "    global epochCounter\n",
    "    \n",
    "    for epoch in range(0, epochs_nr):  # loop over the dataset multiple times\n",
    "        epoch_correct = 0\n",
    "        epoch_samples = 0\n",
    "        epoch_batches = 0\n",
    "        running_loss = 0.0\n",
    "    \n",
    "        for i, data in enumerate(train_loader, 0):\n",
    "\n",
    "            # get the inputs; data is a list of [inputs, labels]\n",
    "            images, edges, labels = data\n",
    "            images = images.to(device)\n",
    "            edges = edges.to(device)\n",
    "            labels = labels.to(device)\n",
    "            \n",
    "            # zero the parameter gradients\n",
    "            optimizer.zero_grad()\n",
    "            \n",
    "            # forward + backward + optimize\n",
    "            outputs = model(images, edges)\n",
    "            loss = criterion(outputs, labels)\n",
    "            \n",
    "            # Apply L1 regularization\n",
    "            if regularization_type == 'L1':\n",
    "                l1_norm = sum(p.abs().sum() for p in model.parameters())\n",
    "                loss += lambda_reg * l1_norm\n",
    "                \n",
    "            # Apply L2 regularization\n",
    "            elif regularization_type == 'L2':\n",
    "                l2_norm = sum(p.pow(2).sum() for p in model.parameters())\n",
    "                loss += lambda_reg * l2_norm\n",
    "                \n",
    "            loss.backward()\n",
    "            \n",
    "            optimizer.step()\n",
    "            \n",
    "            # Changing outputs (logits) to labels\n",
    "            outputs_clear = outputs.max(1).indices\n",
    "            \n",
    "            epoch_correct += (outputs_clear == labels).float().sum()\n",
    "            epoch_samples += len(outputs)\n",
    "            epoch_batches +=1\n",
    "            \n",
    "            running_loss += loss.item()\n",
    "        \n",
    "        tAccuracy = epoch_correct / epoch_samples * 100\n",
    "        tLoss = running_loss / epoch_batches\n",
    "        \n",
    "        # Validation\n",
    "        vAccuracy, vLoss = validate(model, val_loader, criterion, device)\n",
    "        \n",
    "        logger.add_text(\"REGULARIZATION_TYPE\", regularization_type, global_step=epochCounter)\n",
    "        logger.add_scalar(\"REGULARIZATION_LAMBDA\", lambda_reg, global_step=epochCounter)\n",
    "        logger.add_scalar(\"learning_rate\", get_lr(optimizer), global_step=epochCounter)\n",
    "        \n",
    "        logger.add_scalar(\"Accuracy/train\", tAccuracy, global_step=epochCounter)\n",
    "        logger.add_scalar(\"Loss/train\", tLoss, global_step=epochCounter)\n",
    "        logger.add_scalar(\"Accuracy/validation\", vAccuracy, global_step=epochCounter)\n",
    "        logger.add_scalar(\"Loss/validation\", vLoss, global_step=epochCounter)\n",
    "        \n",
    "        print(f'Epoch {epochCounter}: Training: accuracy: {tAccuracy:.3f}%, loss: {tLoss:.3f}; Validation: accuracy: {vAccuracy:.3f}%, loss: {vLoss:.3f}')\n",
    "        \n",
    "        epochCounter += 1\n",
    "        \n",
    "    print('Finished Training')"
   ]
  },
  {
   "cell_type": "markdown",
   "metadata": {},
   "source": [
    "### Training Model"
   ]
  },
  {
   "cell_type": "code",
   "execution_count": 19,
   "metadata": {},
   "outputs": [
    {
     "name": "stdout",
     "output_type": "stream",
     "text": [
      "Epoch 0: Training: accuracy: 56.213%, loss: 7.952; Validation: accuracy: 57.506%, loss: 0.648\n",
      "Epoch 1: Training: accuracy: 60.280%, loss: 4.791; Validation: accuracy: 57.748%, loss: 0.670\n",
      "Epoch 2: Training: accuracy: 59.519%, loss: 3.735; Validation: accuracy: 61.985%, loss: 0.649\n",
      "Epoch 3: Training: accuracy: 64.555%, loss: 3.190; Validation: accuracy: 60.412%, loss: 0.617\n"
     ]
    },
    {
     "ename": "KeyboardInterrupt",
     "evalue": "",
     "output_type": "error",
     "traceback": [
      "\u001b[0;31m---------------------------------------------------------------------------\u001b[0m",
      "\u001b[0;31mKeyboardInterrupt\u001b[0m                         Traceback (most recent call last)",
      "Cell \u001b[0;32mIn[19], line 1\u001b[0m\n\u001b[0;32m----> 1\u001b[0m train_many(model, \u001b[38;5;241m15\u001b[39m, \u001b[38;5;124m'\u001b[39m\u001b[38;5;124mL2\u001b[39m\u001b[38;5;124m'\u001b[39m, \u001b[38;5;241m0.001\u001b[39m)\n",
      "Cell \u001b[0;32mIn[18], line 48\u001b[0m, in \u001b[0;36mtrain_many\u001b[0;34m(model, epochs_nr, regularization_type, lambda_reg)\u001b[0m\n\u001b[1;32m     45\u001b[0m     epoch_samples \u001b[38;5;241m+\u001b[39m\u001b[38;5;241m=\u001b[39m \u001b[38;5;28mlen\u001b[39m(outputs)\n\u001b[1;32m     46\u001b[0m     epoch_batches \u001b[38;5;241m+\u001b[39m\u001b[38;5;241m=\u001b[39m\u001b[38;5;241m1\u001b[39m\n\u001b[0;32m---> 48\u001b[0m     running_loss \u001b[38;5;241m+\u001b[39m\u001b[38;5;241m=\u001b[39m loss\u001b[38;5;241m.\u001b[39mitem()\n\u001b[1;32m     50\u001b[0m tAccuracy \u001b[38;5;241m=\u001b[39m epoch_correct \u001b[38;5;241m/\u001b[39m epoch_samples \u001b[38;5;241m*\u001b[39m \u001b[38;5;241m100\u001b[39m\n\u001b[1;32m     51\u001b[0m tLoss \u001b[38;5;241m=\u001b[39m running_loss \u001b[38;5;241m/\u001b[39m epoch_batches\n",
      "\u001b[0;31mKeyboardInterrupt\u001b[0m: "
     ]
    }
   ],
   "source": [
    "train_many(model, 15, 'L2', 0.001)"
   ]
  }
 ],
 "metadata": {
  "kernelspec": {
   "display_name": "pawel",
   "language": "python",
   "name": "python3"
  },
  "language_info": {
   "codemirror_mode": {
    "name": "ipython",
    "version": 3
   },
   "file_extension": ".py",
   "mimetype": "text/x-python",
   "name": "python",
   "nbconvert_exporter": "python",
   "pygments_lexer": "ipython3",
   "version": "3.12.8"
  }
 },
 "nbformat": 4,
 "nbformat_minor": 2
}
