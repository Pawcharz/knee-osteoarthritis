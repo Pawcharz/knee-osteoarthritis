{
 "cells": [
  {
   "cell_type": "markdown",
   "metadata": {},
   "source": [
    "### Import Dependencies"
   ]
  },
  {
   "cell_type": "code",
   "execution_count": 1,
   "metadata": {},
   "outputs": [],
   "source": [
    "import random\n",
    "random.seed(0)"
   ]
  },
  {
   "cell_type": "code",
   "execution_count": 2,
   "metadata": {},
   "outputs": [],
   "source": [
    "import torch\n",
    "import torch.nn as nn\n",
    "import torchvision\n",
    "from torchvision import transforms\n",
    "from torchvision.transforms import v2"
   ]
  },
  {
   "cell_type": "markdown",
   "metadata": {},
   "source": [
    "### Constant Variables"
   ]
  },
  {
   "cell_type": "code",
   "execution_count": 3,
   "metadata": {},
   "outputs": [],
   "source": [
    "DATASET_PATH = './knee-osteoarthritis_2'"
   ]
  },
  {
   "cell_type": "code",
   "execution_count": 4,
   "metadata": {},
   "outputs": [],
   "source": [
    "TRAIN_PATH = f'{DATASET_PATH}/train'\n",
    "VAL_PATH = f'{DATASET_PATH}/val'\n",
    "TEST_PATH = f'{DATASET_PATH}/test'"
   ]
  },
  {
   "cell_type": "code",
   "execution_count": 5,
   "metadata": {},
   "outputs": [
    {
     "name": "stdout",
     "output_type": "stream",
     "text": [
      "cuda\n"
     ]
    }
   ],
   "source": [
    "device = 'cuda' if torch.cuda.is_available() else 'cpu'\n",
    "\n",
    "print(device)"
   ]
  },
  {
   "cell_type": "code",
   "execution_count": 6,
   "metadata": {},
   "outputs": [],
   "source": [
    "classes = range(4)"
   ]
  },
  {
   "cell_type": "markdown",
   "metadata": {},
   "source": [
    "### Dataset "
   ]
  },
  {
   "cell_type": "code",
   "execution_count": 7,
   "metadata": {},
   "outputs": [],
   "source": [
    "from src.dataset.augmented_dataset import get_KneeOsteoarthritis_Edges, KneeOsteoarthritis_Edges\n",
    "\n",
    "transform_toTensor = transforms.Compose([transforms.ToTensor()])\n",
    "\n",
    "train_dataset = torchvision.datasets.ImageFolder(TRAIN_PATH, transform_toTensor)\n",
    "val_dataset = torchvision.datasets.ImageFolder(VAL_PATH, transform_toTensor)\n",
    "test_dataset = torchvision.datasets.ImageFolder(TEST_PATH, transform_toTensor)\n",
    "\n",
    "dataset_all = torch.utils.data.ConcatDataset([train_dataset, val_dataset, test_dataset])\n",
    "\n",
    "train_dataset, val_dataset, test_dataset = torch.utils.data.random_split(dataset_all, [0.7, 0.1, 0.2])\n",
    "\n",
    "train_dataset = KneeOsteoarthritis_Edges(train_dataset)\n",
    "val_dataset = KneeOsteoarthritis_Edges(val_dataset)\n",
    "test_dataset = KneeOsteoarthritis_Edges(test_dataset)"
   ]
  },
  {
   "cell_type": "code",
   "execution_count": 8,
   "metadata": {},
   "outputs": [
    {
     "name": "stdout",
     "output_type": "stream",
     "text": [
      "4736 676 1353\n"
     ]
    }
   ],
   "source": [
    "print(len(train_dataset), len(val_dataset), len(test_dataset))"
   ]
  },
  {
   "cell_type": "code",
   "execution_count": 9,
   "metadata": {},
   "outputs": [],
   "source": [
    "# import matplotlib.pyplot as plt\n",
    "# import numpy as np\n",
    "\n",
    "# # functions to show an image\n",
    "# def imshow(img):\n",
    "#     img = img / 2 + 0.5     # unnormalize\n",
    "#     npimg = img.numpy()\n",
    "#     plt.imshow(np.transpose(npimg, (1, 2, 0)), cmap='gray')\n",
    "#     plt.show()"
   ]
  },
  {
   "cell_type": "markdown",
   "metadata": {},
   "source": [
    "### Data Loader"
   ]
  },
  {
   "cell_type": "code",
   "execution_count": 10,
   "metadata": {},
   "outputs": [],
   "source": [
    "from torch.utils.data import DataLoader\n",
    "\n",
    "BATCH_SIZE = 128\n",
    "\n",
    "train_loader = DataLoader(train_dataset, batch_size=BATCH_SIZE, shuffle=True)\n",
    "val_loader = DataLoader(val_dataset, batch_size=BATCH_SIZE, shuffle=True)\n",
    "test_loader = DataLoader(test_dataset, batch_size=BATCH_SIZE, shuffle=True)"
   ]
  },
  {
   "cell_type": "markdown",
   "metadata": {},
   "source": [
    "### Model"
   ]
  },
  {
   "cell_type": "code",
   "execution_count": 11,
   "metadata": {},
   "outputs": [],
   "source": [
    "class IntermediarySpaceModel(nn.Module):\n",
    "    def __init__(self, train_device, num_classes: int = 5, dropout: float = 0.5) -> None:\n",
    "        super().__init__()\n",
    "        \n",
    "        # Size of layer block\n",
    "        S = 24\n",
    "        self.train_device = train_device\n",
    "        \n",
    "        # Images\n",
    "        self.imagesClassifier = nn.Sequential(\n",
    "            nn.Conv2d(3, S*2, kernel_size=11, stride=4, padding=2),\n",
    "            nn.ReLU(inplace=True),\n",
    "            nn.MaxPool2d(kernel_size=3, stride=2),\n",
    "            nn.Dropout(p=dropout*0.2),\n",
    "            nn.Conv2d(S*2, S*2, kernel_size=5, padding=2),\n",
    "            nn.ReLU(inplace=True),\n",
    "            nn.MaxPool2d(kernel_size=3, stride=2),\n",
    "            nn.Dropout(p=dropout*0.4),\n",
    "            nn.Conv2d(S*2, S*2, kernel_size=3, padding=1),\n",
    "            nn.ReLU(inplace=True),\n",
    "            nn.Dropout(p=dropout*0.6),\n",
    "            nn.Conv2d(S*2, S, kernel_size=3, padding=1),\n",
    "            nn.ReLU(inplace=True),\n",
    "            nn.MaxPool2d(kernel_size=3, stride=2),\n",
    "            \n",
    "            nn.Flatten(),\n",
    "            nn.Dropout(p=dropout*0.8),\n",
    "            nn.Linear(S * 7 * 7, S*2),\n",
    "        )\n",
    "\n",
    "        self.edgesClassifier = nn.Sequential(\n",
    "            nn.Conv2d(1, S*2, kernel_size=11, stride=4, padding=2),\n",
    "            nn.ReLU(inplace=True),\n",
    "            nn.MaxPool2d(kernel_size=3, stride=2),\n",
    "            nn.Dropout(p=dropout*0.4),\n",
    "            nn.Conv2d(S*2, S*2, kernel_size=5, padding=2),\n",
    "            nn.ReLU(inplace=True),\n",
    "            nn.MaxPool2d(kernel_size=3, stride=2),\n",
    "            nn.Dropout(p=dropout*0.6),\n",
    "            nn.Conv2d(S*2, S, kernel_size=3, padding=1),\n",
    "            nn.ReLU(inplace=True),\n",
    "            nn.MaxPool2d(kernel_size=3, stride=2),\n",
    "            \n",
    "            nn.Flatten(),\n",
    "            nn.Dropout(p=dropout*0.8),\n",
    "            nn.Linear(S * 6 * 6, S*2),\n",
    "        )\n",
    "        \n",
    "        self.outputCombiner = nn.Sequential(\n",
    "            nn.ReLU(inplace=True),\n",
    "            nn.Dropout(p=dropout),\n",
    "            nn.Linear(S*4, S*3),\n",
    "            nn.ReLU(inplace=True),\n",
    "            nn.Dropout(p=dropout),\n",
    "            nn.Linear(S*3, S),\n",
    "            nn.ReLU(inplace=True),\n",
    "            nn.Dropout(p=dropout),\n",
    "            nn.Linear(S, num_classes),\n",
    "        )\n",
    "        \n",
    "    def forward(self, data: tuple) -> torch.Tensor:\n",
    "        \n",
    "        images, edges = data\n",
    "        \n",
    "        images = images.to(self.train_device)\n",
    "        edges = edges.to(self.train_device)\n",
    "        \n",
    "        # Images\n",
    "        images = self.imagesClassifier(images)\n",
    "        \n",
    "        # Edges\n",
    "        edges = self.edgesClassifier(edges)\n",
    "        \n",
    "        # Combining outputs\n",
    "        concated = torch.cat((images, edges), 1)\n",
    "        res = self.outputCombiner(concated)\n",
    "        \n",
    "        return res"
   ]
  },
  {
   "cell_type": "code",
   "execution_count": 12,
   "metadata": {},
   "outputs": [],
   "source": [
    "model = IntermediarySpaceModel(device, 4, 0.5)\n",
    "model = model.to(device)"
   ]
  },
  {
   "cell_type": "code",
   "execution_count": 13,
   "metadata": {},
   "outputs": [
    {
     "name": "stdout",
     "output_type": "stream",
     "text": [
      "287044\n",
      "287044\n"
     ]
    }
   ],
   "source": [
    "# print(sum(p.numel() for p in net.classifier.parameters()) ,sum(p.numel() for p in net.edgesClassifier.parameters()) )\n",
    "print(sum(p.numel() for p in model.parameters()))\n",
    "\n",
    "trainable_parameters = filter(lambda p: p.requires_grad, model.parameters())\n",
    "print(sum(p.numel() for p in trainable_parameters))"
   ]
  },
  {
   "cell_type": "markdown",
   "metadata": {},
   "source": [
    "### Training Loop"
   ]
  },
  {
   "cell_type": "markdown",
   "metadata": {},
   "source": [
    "#### Setting optimizer"
   ]
  },
  {
   "cell_type": "code",
   "execution_count": 14,
   "metadata": {},
   "outputs": [
    {
     "name": "stdout",
     "output_type": "stream",
     "text": [
      "{0: 2276, 1: 1538, 3: 179, 2: 743} tensor([2276., 1538.,  179.,  743.], device='cuda:0')\n"
     ]
    }
   ],
   "source": [
    "import torch.optim as optim\n",
    "from src.other import get_classes_frequencies\n",
    "\n",
    "class_weights = get_classes_frequencies(train_dataset)\n",
    "weights_tensor = torch.Tensor(list(class_weights.values())).to(device)\n",
    "print(class_weights, weights_tensor)\n",
    "\n",
    "criterion = nn.CrossEntropyLoss(weights_tensor)\n",
    "optimizer = optim.Adam(model.parameters(), lr=0.001)"
   ]
  },
  {
   "cell_type": "code",
   "execution_count": 15,
   "metadata": {},
   "outputs": [
    {
     "name": "stdout",
     "output_type": "stream",
     "text": [
      "0.9908789441918076\n"
     ]
    }
   ],
   "source": [
    "# decayRate100 = 0.8\n",
    "decayRate100 = 0.4\n",
    "decayRate1 = decayRate100**(1/100)\n",
    "lr_scheduler = torch.optim.lr_scheduler.ExponentialLR(optimizer=optimizer, gamma=decayRate1)\n",
    "\n",
    "print(decayRate1)"
   ]
  },
  {
   "cell_type": "markdown",
   "metadata": {},
   "source": [
    "#### Setting Logger"
   ]
  },
  {
   "cell_type": "code",
   "execution_count": 16,
   "metadata": {},
   "outputs": [],
   "source": [
    "EXP_NAME = \"confusion_matrix_test\"\n",
    "\n",
    "from torch.utils.tensorboard import SummaryWriter\n",
    "\n",
    "# logger = SummaryWriter(log_dir=f\"logs/test/{EXP_NAME}\")\n",
    "logger = SummaryWriter(log_dir=f\"logs/test\")"
   ]
  },
  {
   "cell_type": "markdown",
   "metadata": {},
   "source": [
    "#### Trainer"
   ]
  },
  {
   "cell_type": "code",
   "execution_count": 17,
   "metadata": {},
   "outputs": [],
   "source": [
    "from src.training import Trainer\n",
    "\n",
    "trainer = Trainer(\n",
    "  model=model,\n",
    "  classes=classes,\n",
    "  train_loader=train_loader,\n",
    "  val_loader=val_loader,\n",
    "  criterion=criterion,\n",
    "  optimizer=optimizer,\n",
    "  device=device,\n",
    "  lr_scheduler=lr_scheduler,\n",
    "  reg_type=\"L2\",\n",
    "  reg_lambda=0.01,\n",
    "  tensorboard_logger=logger\n",
    ")"
   ]
  },
  {
   "cell_type": "markdown",
   "metadata": {},
   "source": [
    "#### Data Visualization"
   ]
  },
  {
   "cell_type": "code",
   "execution_count": 18,
   "metadata": {},
   "outputs": [],
   "source": [
    "from src.other import get_confusion_matrix_display\n",
    "\n",
    "def visualize_all(model, epoch):\n",
    "    tAccuracy, tLoss, tReport, tCm = trainer.evaluate(trainer.train_loader)\n",
    "    vAccuracy, vLoss, vReport, vCm = trainer.evaluate(trainer.val_loader)\n",
    "    print(f\"training accuracy: {tAccuracy}, training loss: {tLoss}, validation accuracy: {vAccuracy}, validation loss: {vLoss}\")\n",
    "    print(f\"Training report: {tReport}\")\n",
    "    print(f\"Validation report: {vReport}\")\n",
    "    \n",
    "    get_confusion_matrix_display(tCm, classes, \"Training\", epoch)\n",
    "    get_confusion_matrix_display(vCm, classes, \"Validation\", epoch)"
   ]
  },
  {
   "cell_type": "markdown",
   "metadata": {},
   "source": [
    "### Training Model"
   ]
  },
  {
   "cell_type": "code",
   "execution_count": 19,
   "metadata": {},
   "outputs": [
    {
     "name": "stdout",
     "output_type": "stream",
     "text": [
      "Epoch 0: Training: accuracy: 43.412%, loss: 1.778; Validation: accuracy: 46.746%, loss: 1.010, lr: 0.00100\n",
      "Epoch 1: Training: accuracy: 48.057%, loss: 1.416; Validation: accuracy: 46.746%, loss: 0.897, lr: 0.00099\n",
      "Epoch 2: Training: accuracy: 48.057%, loss: 1.391; Validation: accuracy: 46.746%, loss: 0.742, lr: 0.00098\n",
      "Epoch 3: Training: accuracy: 48.585%, loss: 1.152; Validation: accuracy: 47.781%, loss: 0.818, lr: 0.00097\n",
      "Epoch 4: Training: accuracy: 52.956%, loss: 1.142; Validation: accuracy: 54.586%, loss: 0.708, lr: 0.00096\n",
      "Epoch 5: Training: accuracy: 56.883%, loss: 0.982; Validation: accuracy: 56.953%, loss: 0.662, lr: 0.00096\n",
      "Epoch 6: Training: accuracy: 58.530%, loss: 0.907; Validation: accuracy: 58.580%, loss: 0.485, lr: 0.00095\n",
      "Epoch 7: Training: accuracy: 61.740%, loss: 0.846; Validation: accuracy: 59.763%, loss: 0.741, lr: 0.00094\n",
      "Epoch 8: Training: accuracy: 62.078%, loss: 0.882; Validation: accuracy: 60.059%, loss: 0.499, lr: 0.00093\n",
      "Epoch 9: Training: accuracy: 64.844%, loss: 0.787; Validation: accuracy: 60.503%, loss: 0.625, lr: 0.00092\n",
      "Finished Training\n"
     ]
    }
   ],
   "source": [
    "trainer.train_many(10)"
   ]
  },
  {
   "cell_type": "code",
   "execution_count": 20,
   "metadata": {},
   "outputs": [
    {
     "name": "stdout",
     "output_type": "stream",
     "text": [
      "training accuracy: 68.89780405405405, training loss: 0.42668452858924866, validation accuracy: 60.50295857988166, validation loss: 0.6850597858428955\n",
      "Training report:               precision    recall  f1-score   support\n",
      "\n",
      "           0       0.84      0.91      0.87      2276\n",
      "           1       0.53      0.77      0.63      1538\n",
      "           2        nan      0.00      0.00       743\n",
      "           3        nan      0.00      0.00       179\n",
      "\n",
      "    accuracy                           0.69      4736\n",
      "   macro avg       0.68      0.42      0.37      4736\n",
      "weighted avg       0.71      0.69      0.62      4736\n",
      "\n",
      "Validation report:               precision    recall  f1-score   support\n",
      "\n",
      "           0       0.77      0.83      0.80       316\n",
      "           1       0.43      0.69      0.53       213\n",
      "           2        nan      0.00      0.00       125\n",
      "           3        nan      0.00      0.00        22\n",
      "\n",
      "    accuracy                           0.61       676\n",
      "   macro avg       0.60      0.38      0.33       676\n",
      "weighted avg       0.64      0.61      0.54       676\n",
      "\n"
     ]
    },
    {
     "data": {
      "image/png": "[encoded data removed]",
      "text/plain": [
       "<Figure size 400x300 with 2 Axes>"
      ]
     },
     "metadata": {},
     "output_type": "display_data"
    },
    {
     "data": {
      "image/png": "[encoded data removed]",
      "text/plain": [
       "<Figure size 400x300 with 2 Axes>"
      ]
     },
     "metadata": {},
     "output_type": "display_data"
    }
   ],
   "source": [
    "# test\n",
    "visualize_all(model, trainer.epochCounter)"
   ]
  }
 ],
 "metadata": {
  "kernelspec": {
   "display_name": "pawel",
   "language": "python",
   "name": "python3"
  },
  "language_info": {
   "codemirror_mode": {
    "name": "ipython",
    "version": 3
   },
   "file_extension": ".py",
   "mimetype": "text/x-python",
   "name": "python",
   "nbconvert_exporter": "python",
   "pygments_lexer": "ipython3",
   "version": "3.9.21"
  }
 },
 "nbformat": 4,
 "nbformat_minor": 2
}
