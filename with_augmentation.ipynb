{
 "cells": [
  {
   "cell_type": "markdown",
   "metadata": {},
   "source": [
    "### Import Dependencies"
   ]
  },
  {
   "cell_type": "code",
   "execution_count": 1,
   "metadata": {},
   "outputs": [],
   "source": [
    "import random\n",
    "random.seed(0)"
   ]
  },
  {
   "cell_type": "code",
   "execution_count": 2,
   "metadata": {},
   "outputs": [],
   "source": [
    "import torch\n",
    "import torch.nn as nn\n",
    "import torchvision\n",
    "from torchvision import transforms\n",
    "from torchvision.transforms import v2"
   ]
  },
  {
   "cell_type": "markdown",
   "metadata": {},
   "source": [
    "### Constant Variables"
   ]
  },
  {
   "cell_type": "code",
   "execution_count": 3,
   "metadata": {},
   "outputs": [],
   "source": [
    "DATASET_PATH = './knee-osteoarthritis'"
   ]
  },
  {
   "cell_type": "code",
   "execution_count": 4,
   "metadata": {},
   "outputs": [],
   "source": [
    "TRAIN_PATH = f'{DATASET_PATH}/train'\n",
    "VAL_PATH = f'{DATASET_PATH}/val'\n",
    "TEST_PATH = f'{DATASET_PATH}/test'\n",
    "AUTO_TEST_PATH = f'{DATASET_PATH}/auto_test'"
   ]
  },
  {
   "cell_type": "code",
   "execution_count": 5,
   "metadata": {},
   "outputs": [
    {
     "name": "stdout",
     "output_type": "stream",
     "text": [
      "cuda\n"
     ]
    }
   ],
   "source": [
    "device = 'cuda' if torch.cuda.is_available() else 'cpu'\n",
    "\n",
    "print(device)"
   ]
  },
  {
   "cell_type": "markdown",
   "metadata": {},
   "source": [
    "### Dataset "
   ]
  },
  {
   "cell_type": "code",
   "execution_count": 6,
   "metadata": {},
   "outputs": [],
   "source": [
    "from src.dataset.augmented_dataset import get_KneeOsteoarthritis_Edges\n",
    "\n",
    "train_dataset = get_KneeOsteoarthritis_Edges(TRAIN_PATH)\n",
    "val_dataset = get_KneeOsteoarthritis_Edges(VAL_PATH)"
   ]
  },
  {
   "cell_type": "code",
   "execution_count": 7,
   "metadata": {},
   "outputs": [],
   "source": [
    "import matplotlib.pyplot as plt\n",
    "import numpy as np\n",
    "\n",
    "# functions to show an image\n",
    "def imshow(img):\n",
    "    img = img / 2 + 0.5     # unnormalize\n",
    "    npimg = img.numpy()\n",
    "    plt.imshow(np.transpose(npimg, (1, 2, 0)), cmap='gray')\n",
    "    plt.show()"
   ]
  },
  {
   "cell_type": "code",
   "execution_count": 8,
   "metadata": {},
   "outputs": [
    {
     "name": "stdout",
     "output_type": "stream",
     "text": [
      "torch.Size([3, 256, 256]) torch.Size([1, 224, 224])\n"
     ]
    }
   ],
   "source": [
    "row = train_dataset[1]\n",
    "normal_ex = row[0]\n",
    "augmented_ex = row[1]\n",
    "print(normal_ex.shape, augmented_ex.shape)"
   ]
  },
  {
   "cell_type": "markdown",
   "metadata": {},
   "source": [
    "### Data Loader"
   ]
  },
  {
   "cell_type": "code",
   "execution_count": 9,
   "metadata": {},
   "outputs": [],
   "source": [
    "from torch.utils.data import DataLoader\n",
    "BATCH_SIZE = 128\n",
    "\n",
    "train_loader = DataLoader(train_dataset, batch_size=BATCH_SIZE, shuffle=True)\n",
    "val_loader = DataLoader(val_dataset, batch_size=BATCH_SIZE, shuffle=True)"
   ]
  },
  {
   "cell_type": "markdown",
   "metadata": {},
   "source": [
    "### Model"
   ]
  },
  {
   "cell_type": "code",
   "execution_count": 10,
   "metadata": {},
   "outputs": [],
   "source": [
    "class CustomModel(nn.Module):\n",
    "    def __init__(self, num_classes: int = 5, dropout: float = 0.5) -> None:\n",
    "        super().__init__()\n",
    "        \n",
    "        BASE_SIZE = 8\n",
    "        \n",
    "        # Images\n",
    "        self.images_features = nn.Sequential(\n",
    "            nn.Conv2d(3, BASE_SIZE, kernel_size=11, stride=4, padding=2),\n",
    "            nn.ReLU(inplace=True),\n",
    "            nn.MaxPool2d(kernel_size=3, stride=2),\n",
    "            nn.Conv2d(BASE_SIZE, BASE_SIZE*3, kernel_size=5, padding=2),\n",
    "            nn.ReLU(inplace=True),\n",
    "            nn.MaxPool2d(kernel_size=3, stride=2),\n",
    "            nn.Conv2d(BASE_SIZE*3, BASE_SIZE*6, kernel_size=3, padding=1),\n",
    "            nn.ReLU(inplace=True),\n",
    "            nn.Conv2d(BASE_SIZE*6, BASE_SIZE*4, kernel_size=3, padding=1),\n",
    "            nn.ReLU(inplace=True),\n",
    "            nn.Conv2d(BASE_SIZE*4, BASE_SIZE*4, kernel_size=3, padding=1),\n",
    "            nn.ReLU(inplace=True),\n",
    "            nn.MaxPool2d(kernel_size=3, stride=2),\n",
    "        )\n",
    "        self.images_avgpool = nn.Sequential(\n",
    "          nn.AdaptiveAvgPool2d((6, 6)),\n",
    "          nn.Flatten()\n",
    "        )\n",
    "        self.images_classifier = nn.Sequential(\n",
    "            nn.Dropout(p=dropout),\n",
    "            nn.Linear(BASE_SIZE*4 * 6 * 6, BASE_SIZE*8),\n",
    "            nn.ReLU(inplace=True),\n",
    "            nn.Dropout(p=dropout),\n",
    "            nn.Linear(BASE_SIZE*8, BASE_SIZE*4),\n",
    "            nn.ReLU(inplace=True),\n",
    "            nn.Linear(BASE_SIZE*4, num_classes),\n",
    "        )\n",
    "        \n",
    "        # Edges\n",
    "        # self.edges_features = nn.Sequential(\n",
    "        #     nn.Conv2d(3, 64, kernel_size=11, stride=4, padding=2),\n",
    "        #     nn.ReLU(inplace=True),\n",
    "        #     nn.MaxPool2d(kernel_size=3, stride=2),\n",
    "        #     nn.Conv2d(64, 192, kernel_size=5, padding=2),\n",
    "        #     nn.ReLU(inplace=True),\n",
    "        #     nn.MaxPool2d(kernel_size=3, stride=2),\n",
    "        #     nn.Conv2d(192, 384, kernel_size=3, padding=1),\n",
    "        #     nn.ReLU(inplace=True),\n",
    "        #     nn.Conv2d(384, 256, kernel_size=3, padding=1),\n",
    "        #     nn.ReLU(inplace=True),\n",
    "        #     nn.Conv2d(256, 256, kernel_size=3, padding=1),\n",
    "        #     nn.ReLU(inplace=True),\n",
    "        #     nn.MaxPool2d(kernel_size=3, stride=2),\n",
    "        # )\n",
    "        # self.edges_avgpool = nn.AdaptiveAvgPool2d((6, 6))\n",
    "        # self.edges_classifier = nn.Sequential(\n",
    "        #     nn.Dropout(p=dropout),\n",
    "        #     nn.Linear(256 * 6 * 6, 4096),\n",
    "        #     nn.ReLU(inplace=True),\n",
    "        #     nn.Dropout(p=dropout),\n",
    "        #     nn.Linear(4096, 4096),\n",
    "        #     nn.ReLU(inplace=True),\n",
    "        #     nn.Linear(4096, num_classes),\n",
    "        # )\n",
    "\n",
    "    def forward(self, image: torch.Tensor, edges: torch.Tensor) -> torch.Tensor:\n",
    "        \n",
    "        images = self.images_features(image)\n",
    "        images = self.images_avgpool(images)\n",
    "        images = self.images_classifier(images)\n",
    "        \n",
    "        return images"
   ]
  },
  {
   "cell_type": "code",
   "execution_count": 11,
   "metadata": {},
   "outputs": [],
   "source": [
    "# from src.models.custom import CustomModel\n",
    "\n",
    "model = CustomModel(3, 0.5)\n",
    "model = model.to(device)"
   ]
  },
  {
   "cell_type": "code",
   "execution_count": 12,
   "metadata": {},
   "outputs": [
    {
     "name": "stdout",
     "output_type": "stream",
     "text": [
      "117227\n",
      "117227\n"
     ]
    }
   ],
   "source": [
    "# print(sum(p.numel() for p in net.classifier.parameters()) ,sum(p.numel() for p in net.edgesClassifier.parameters()) )\n",
    "print(sum(p.numel() for p in model.parameters()))\n",
    "\n",
    "trainable_parameters = filter(lambda p: p.requires_grad, model.parameters())\n",
    "print(sum(p.numel() for p in trainable_parameters))"
   ]
  },
  {
   "cell_type": "markdown",
   "metadata": {},
   "source": [
    "### Training Loop"
   ]
  },
  {
   "cell_type": "markdown",
   "metadata": {},
   "source": [
    "#### Setting optimizer"
   ]
  },
  {
   "cell_type": "code",
   "execution_count": 13,
   "metadata": {},
   "outputs": [
    {
     "name": "stdout",
     "output_type": "stream",
     "text": [
      "{0: 2286, 1: 3319, 2: 173} tensor([0.3956, 0.5744, 0.0299], device='cuda:0') torch.float32\n"
     ]
    }
   ],
   "source": [
    "import torch.optim as optim\n",
    "from src.other import getClassesFrequency\n",
    "# criterion = nn.NLLLoss()\n",
    "\n",
    "class_weights = getClassesFrequency(train_dataset)\n",
    "weights_tensor = torch.Tensor(list(class_weights.values())).to(device)\n",
    "weights_tensor = weights_tensor\n",
    "print(class_weights, weights_tensor / weights_tensor.sum(), weights_tensor.dtype)\n",
    "\n",
    "criterion = nn.CrossEntropyLoss(weights_tensor)\n",
    "optimizer = optim.Adam(model.parameters(), lr=0.01)"
   ]
  },
  {
   "cell_type": "code",
   "execution_count": 14,
   "metadata": {},
   "outputs": [],
   "source": [
    "def get_lr(optimizer):\n",
    "  for param_group in optimizer.param_groups:\n",
    "    return param_group['lr']"
   ]
  },
  {
   "cell_type": "markdown",
   "metadata": {},
   "source": [
    "#### Setting Logger"
   ]
  },
  {
   "cell_type": "code",
   "execution_count": 15,
   "metadata": {},
   "outputs": [],
   "source": [
    "EXP_NAME = \"images_downscaled_alexnet\""
   ]
  },
  {
   "cell_type": "code",
   "execution_count": 16,
   "metadata": {},
   "outputs": [],
   "source": [
    "from torch.utils.tensorboard import SummaryWriter\n",
    "\n",
    "logger = SummaryWriter(log_dir=f\"logs/experiments/{EXP_NAME}\")"
   ]
  },
  {
   "cell_type": "code",
   "execution_count": 17,
   "metadata": {},
   "outputs": [],
   "source": [
    "epochCounter = 0"
   ]
  },
  {
   "cell_type": "markdown",
   "metadata": {},
   "source": [
    "#### Training Loop"
   ]
  },
  {
   "cell_type": "code",
   "execution_count": 18,
   "metadata": {},
   "outputs": [],
   "source": [
    "from src.validation import validate\n",
    "\n",
    "def train_many(model, epochs_nr, regularization_type = \"L2\", lambda_reg=0.01):\n",
    "    global epochCounter\n",
    "    \n",
    "    for epoch in range(0, epochs_nr):  # loop over the dataset multiple times\n",
    "        epoch_correct = 0\n",
    "        epoch_samples = 0\n",
    "        epoch_batches = 0\n",
    "        running_loss = 0.0\n",
    "    \n",
    "        for i, data in enumerate(train_loader, 0):\n",
    "\n",
    "            # get the inputs; data is a list of [inputs, labels]\n",
    "            images, edges, labels = data\n",
    "            images = images.to(device)\n",
    "            edges = edges.to(device)\n",
    "            labels = labels.to(device)\n",
    "            \n",
    "            # zero the parameter gradients\n",
    "            optimizer.zero_grad()\n",
    "            \n",
    "            # forward + backward + optimize\n",
    "            outputs = model(images, edges)\n",
    "            loss = criterion(outputs, labels)\n",
    "            \n",
    "            # Apply L1 regularization\n",
    "            if regularization_type == 'L1':\n",
    "                l1_norm = sum(p.abs().sum() for p in model.parameters())\n",
    "                loss += lambda_reg * l1_norm\n",
    "                \n",
    "            # Apply L2 regularization\n",
    "            elif regularization_type == 'L2':\n",
    "                l2_norm = sum(p.pow(2).sum() for p in model.parameters())\n",
    "                loss += lambda_reg * l2_norm\n",
    "                \n",
    "            loss.backward()\n",
    "            \n",
    "            optimizer.step()\n",
    "            \n",
    "            # Changing outputs (logits) to labels\n",
    "            outputs_clear = outputs.max(1).indices\n",
    "            \n",
    "            epoch_correct += (outputs_clear == labels).float().sum()\n",
    "            epoch_samples += len(outputs)\n",
    "            epoch_batches +=1\n",
    "            \n",
    "            running_loss += loss.item()\n",
    "        \n",
    "        tAccuracy = epoch_correct / epoch_samples * 100\n",
    "        tLoss = running_loss / epoch_batches\n",
    "        \n",
    "        # Validation\n",
    "        vAccuracy, vLoss = validate(model, val_loader, criterion, device)\n",
    "        \n",
    "        logger.add_text(\"REGULARIZATION_TYPE\", regularization_type, global_step=epochCounter)\n",
    "        logger.add_scalar(\"REGULARIZATION_LAMBDA\", lambda_reg, global_step=epochCounter)\n",
    "        logger.add_scalar(\"learning_rate\", get_lr(optimizer), global_step=epochCounter)\n",
    "        \n",
    "        logger.add_scalar(\"Accuracy/train\", tAccuracy, global_step=epochCounter)\n",
    "        logger.add_scalar(\"Loss/train\", tLoss, global_step=epochCounter)\n",
    "        logger.add_scalar(\"Accuracy/validation\", vAccuracy, global_step=epochCounter)\n",
    "        logger.add_scalar(\"Loss/validation\", vLoss, global_step=epochCounter)\n",
    "        \n",
    "        print(f'Epoch {epochCounter}: Training: accuracy: {tAccuracy:.3f}%, loss: {tLoss:.3f}; Validation: accuracy: {vAccuracy:.3f}%, loss: {vLoss:.3f}')\n",
    "        \n",
    "        epochCounter += 1\n",
    "        \n",
    "    print('Finished Training')"
   ]
  },
  {
   "cell_type": "markdown",
   "metadata": {},
   "source": [
    "### Training Model"
   ]
  },
  {
   "cell_type": "code",
   "execution_count": 19,
   "metadata": {},
   "outputs": [
    {
     "name": "stdout",
     "output_type": "stream",
     "text": [
      "Epoch 0: Training: accuracy: 57.373%, loss: 1.180; Validation: accuracy: 57.022%, loss: 0.668\n",
      "Epoch 1: Training: accuracy: 57.442%, loss: 0.852; Validation: accuracy: 57.022%, loss: 0.650\n",
      "Epoch 2: Training: accuracy: 57.442%, loss: 0.753; Validation: accuracy: 57.022%, loss: 0.649\n",
      "Epoch 3: Training: accuracy: 57.442%, loss: 0.725; Validation: accuracy: 57.022%, loss: 0.656\n",
      "Epoch 4: Training: accuracy: 57.425%, loss: 0.731; Validation: accuracy: 57.022%, loss: 0.649\n",
      "Epoch 5: Training: accuracy: 57.442%, loss: 0.700; Validation: accuracy: 57.022%, loss: 0.648\n",
      "Epoch 6: Training: accuracy: 57.442%, loss: 0.697; Validation: accuracy: 57.022%, loss: 0.643\n",
      "Epoch 7: Training: accuracy: 57.459%, loss: 0.694; Validation: accuracy: 57.022%, loss: 0.648\n",
      "Epoch 8: Training: accuracy: 57.442%, loss: 0.682; Validation: accuracy: 57.022%, loss: 0.647\n",
      "Epoch 9: Training: accuracy: 57.442%, loss: 0.681; Validation: accuracy: 57.022%, loss: 0.647\n",
      "Epoch 10: Training: accuracy: 57.442%, loss: 0.684; Validation: accuracy: 57.022%, loss: 0.647\n",
      "Epoch 11: Training: accuracy: 57.442%, loss: 0.689; Validation: accuracy: 57.022%, loss: 0.640\n",
      "Epoch 12: Training: accuracy: 57.442%, loss: 0.686; Validation: accuracy: 57.022%, loss: 0.650\n",
      "Epoch 13: Training: accuracy: 57.442%, loss: 0.683; Validation: accuracy: 57.022%, loss: 0.644\n",
      "Epoch 14: Training: accuracy: 57.442%, loss: 0.685; Validation: accuracy: 57.022%, loss: 0.654\n",
      "Epoch 15: Training: accuracy: 57.390%, loss: 0.699; Validation: accuracy: 57.022%, loss: 0.648\n",
      "Epoch 16: Training: accuracy: 57.442%, loss: 0.676; Validation: accuracy: 57.022%, loss: 0.653\n",
      "Epoch 17: Training: accuracy: 57.442%, loss: 0.697; Validation: accuracy: 57.022%, loss: 0.646\n",
      "Epoch 18: Training: accuracy: 57.442%, loss: 0.675; Validation: accuracy: 57.022%, loss: 2.585\n",
      "Epoch 19: Training: accuracy: 56.888%, loss: 1.913; Validation: accuracy: 57.022%, loss: 0.688\n",
      "Finished Training\n"
     ]
    }
   ],
   "source": [
    "train_many(model, 20)"
   ]
  }
 ],
 "metadata": {
  "kernelspec": {
   "display_name": "pawel",
   "language": "python",
   "name": "python3"
  },
  "language_info": {
   "codemirror_mode": {
    "name": "ipython",
    "version": 3
   },
   "file_extension": ".py",
   "mimetype": "text/x-python",
   "name": "python",
   "nbconvert_exporter": "python",
   "pygments_lexer": "ipython3",
   "version": "3.12.8"
  }
 },
 "nbformat": 4,
 "nbformat_minor": 2
}
