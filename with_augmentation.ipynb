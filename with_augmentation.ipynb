{
 "cells": [
  {
   "cell_type": "markdown",
   "metadata": {},
   "source": [
    "### Import Dependencies"
   ]
  },
  {
   "cell_type": "code",
   "execution_count": 1,
   "metadata": {},
   "outputs": [],
   "source": [
    "import random\n",
    "random.seed(0)"
   ]
  },
  {
   "cell_type": "code",
   "execution_count": 37,
   "metadata": {},
   "outputs": [],
   "source": [
    "import torch\n",
    "import torch.nn as nn\n",
    "import torchvision\n",
    "from torchvision import transforms\n",
    "from torchvision.transforms import v2"
   ]
  },
  {
   "cell_type": "markdown",
   "metadata": {},
   "source": [
    "### Constant Variables"
   ]
  },
  {
   "cell_type": "code",
   "execution_count": 3,
   "metadata": {},
   "outputs": [],
   "source": [
    "DATASET_PATH = './knee-osteoarthritis_2'"
   ]
  },
  {
   "cell_type": "code",
   "execution_count": 4,
   "metadata": {},
   "outputs": [],
   "source": [
    "TRAIN_PATH = f'{DATASET_PATH}/train'\n",
    "VAL_PATH = f'{DATASET_PATH}/val'\n",
    "TEST_PATH = f'{DATASET_PATH}/test'"
   ]
  },
  {
   "cell_type": "code",
   "execution_count": 5,
   "metadata": {},
   "outputs": [
    {
     "name": "stdout",
     "output_type": "stream",
     "text": [
      "cuda\n"
     ]
    }
   ],
   "source": [
    "device = 'cuda' if torch.cuda.is_available() else 'cpu'\n",
    "\n",
    "print(device)"
   ]
  },
  {
   "cell_type": "markdown",
   "metadata": {},
   "source": [
    "### Dataset "
   ]
  },
  {
   "cell_type": "code",
   "execution_count": 6,
   "metadata": {},
   "outputs": [],
   "source": [
    "from src.dataset.augmented_dataset import get_KneeOsteoarthritis_Edges, KneeOsteoarthritis_Edges\n",
    "\n",
    "# train_dataset = get_KneeOsteoarthritis_Edges(TRAIN_PATH)\n",
    "# val_dataset = get_KneeOsteoarthritis_Edges(VAL_PATH)\n",
    "transform_toTensor = transforms.Compose([transforms.ToTensor()])\n",
    "\n",
    "train_dataset = torchvision.datasets.ImageFolder(TRAIN_PATH, transform_toTensor)\n",
    "# train_size = len(train_set)\n",
    "val_dataset = torchvision.datasets.ImageFolder(VAL_PATH, transform_toTensor)\n",
    "# val_size = len(val_set)\n",
    "test_dataset = torchvision.datasets.ImageFolder(TEST_PATH, transform_toTensor)\n",
    "# test_size = len(test_set)\n",
    "\n",
    "dataset_all = torch.utils.data.ConcatDataset([train_dataset, val_dataset, test_dataset])\n",
    "\n",
    "train_dataset, val_dataset, test_dataset = torch.utils.data.random_split(dataset_all, [0.7, 0.1, 0.2])\n",
    "train_dataset = KneeOsteoarthritis_Edges(train_dataset)\n",
    "val_dataset = KneeOsteoarthritis_Edges(val_dataset)\n",
    "test_dataset = KneeOsteoarthritis_Edges(test_dataset)"
   ]
  },
  {
   "cell_type": "code",
   "execution_count": 7,
   "metadata": {},
   "outputs": [
    {
     "name": "stdout",
     "output_type": "stream",
     "text": [
      "4736 676 1353\n"
     ]
    }
   ],
   "source": [
    "print(len(train_dataset), len(val_dataset), len(test_dataset))"
   ]
  },
  {
   "cell_type": "code",
   "execution_count": 8,
   "metadata": {},
   "outputs": [],
   "source": [
    "import matplotlib.pyplot as plt\n",
    "import numpy as np\n",
    "\n",
    "# functions to show an image\n",
    "def imshow(img):\n",
    "    img = img / 2 + 0.5     # unnormalize\n",
    "    npimg = img.numpy()\n",
    "    plt.imshow(np.transpose(npimg, (1, 2, 0)), cmap='gray')\n",
    "    plt.show()"
   ]
  },
  {
   "cell_type": "code",
   "execution_count": 9,
   "metadata": {},
   "outputs": [
    {
     "name": "stdout",
     "output_type": "stream",
     "text": [
      "torch.Size([3, 256, 256]) torch.Size([1, 224, 224])\n"
     ]
    }
   ],
   "source": [
    "row = train_dataset[1]\n",
    "normal_ex = row[0]\n",
    "augmented_ex = row[1]\n",
    "print(normal_ex.shape, augmented_ex.shape)"
   ]
  },
  {
   "cell_type": "markdown",
   "metadata": {},
   "source": [
    "### Data Loader"
   ]
  },
  {
   "cell_type": "code",
   "execution_count": 10,
   "metadata": {},
   "outputs": [],
   "source": [
    "from torch.utils.data import DataLoader\n",
    "from src.other import getWeightedDataLoader\n",
    "BATCH_SIZE = 128\n",
    "\n",
    "train_loader = DataLoader(train_dataset, batch_size=BATCH_SIZE, shuffle=True)\n",
    "val_loader = DataLoader(val_dataset, batch_size=BATCH_SIZE, shuffle=True)\n",
    "test_loader = DataLoader(test_dataset, batch_size=BATCH_SIZE, shuffle=True)\n",
    "\n",
    "# val_loader = getWeightedDataLoader(val_dataset, BATCH_SIZE)"
   ]
  },
  {
   "cell_type": "markdown",
   "metadata": {},
   "source": [
    "### Model"
   ]
  },
  {
   "cell_type": "code",
   "execution_count": 11,
   "metadata": {},
   "outputs": [],
   "source": [
    "class IntermediarySpaceModel(nn.Module):\n",
    "    def __init__(self, num_classes: int = 5, dropout: float = 0.5) -> None:\n",
    "        super().__init__()\n",
    "        \n",
    "        # Size of layer block\n",
    "        S = 24\n",
    "        \n",
    "        # Images\n",
    "        self.imagesClassifier = nn.Sequential(\n",
    "            nn.Conv2d(3, S*2, kernel_size=11, stride=4, padding=2),\n",
    "            nn.ReLU(inplace=True),\n",
    "            nn.MaxPool2d(kernel_size=3, stride=2),\n",
    "            nn.Dropout(p=dropout*0.2),\n",
    "            nn.Conv2d(S*2, S*2, kernel_size=5, padding=2),\n",
    "            nn.ReLU(inplace=True),\n",
    "            nn.MaxPool2d(kernel_size=3, stride=2),\n",
    "            nn.Dropout(p=dropout*0.4),\n",
    "            nn.Conv2d(S*2, S*2, kernel_size=3, padding=1),\n",
    "            nn.ReLU(inplace=True),\n",
    "            nn.Dropout(p=dropout*0.6),\n",
    "            nn.Conv2d(S*2, S, kernel_size=3, padding=1),\n",
    "            nn.ReLU(inplace=True),\n",
    "            nn.MaxPool2d(kernel_size=3, stride=2),\n",
    "            \n",
    "            nn.Flatten(),\n",
    "            nn.Dropout(p=dropout*0.8),\n",
    "            nn.Linear(S * 7 * 7, S*2),\n",
    "        )\n",
    "\n",
    "        self.edgesClassifier = nn.Sequential(\n",
    "            nn.Conv2d(1, S*2, kernel_size=11, stride=4, padding=2),\n",
    "            nn.ReLU(inplace=True),\n",
    "            nn.MaxPool2d(kernel_size=3, stride=2),\n",
    "            nn.Dropout(p=dropout*0.4),\n",
    "            nn.Conv2d(S*2, S*2, kernel_size=5, padding=2),\n",
    "            nn.ReLU(inplace=True),\n",
    "            nn.MaxPool2d(kernel_size=3, stride=2),\n",
    "            nn.Dropout(p=dropout*0.6),\n",
    "            nn.Conv2d(S*2, S, kernel_size=3, padding=1),\n",
    "            nn.ReLU(inplace=True),\n",
    "            nn.MaxPool2d(kernel_size=3, stride=2),\n",
    "            \n",
    "            nn.Flatten(),\n",
    "            nn.Dropout(p=dropout*0.8),\n",
    "            nn.Linear(S * 6 * 6, S*2),\n",
    "        )\n",
    "        \n",
    "        self.outputCombiner = nn.Sequential(\n",
    "            nn.ReLU(inplace=True),\n",
    "            nn.Dropout(p=dropout),\n",
    "            nn.Linear(S*4, S*3),\n",
    "            nn.ReLU(inplace=True),\n",
    "            nn.Dropout(p=dropout),\n",
    "            nn.Linear(S*3, S),\n",
    "            nn.ReLU(inplace=True),\n",
    "            nn.Dropout(p=dropout),\n",
    "            nn.Linear(S, num_classes),\n",
    "        )\n",
    "\n",
    "    def forward(self, images: torch.Tensor, edges: torch.Tensor) -> torch.Tensor:\n",
    "        \n",
    "        # Images\n",
    "        images = self.imagesClassifier(images)\n",
    "        \n",
    "        # Edges\n",
    "        edges = self.edgesClassifier(edges)\n",
    "        \n",
    "        # Combining outputs\n",
    "        concated = torch.cat((images, edges), 1)\n",
    "        res = self.outputCombiner(concated)\n",
    "        \n",
    "        return res"
   ]
  },
  {
   "cell_type": "code",
   "execution_count": 12,
   "metadata": {},
   "outputs": [],
   "source": [
    "# from src.models.custom import CustomModel\n",
    "\n",
    "# model = EarlyIntermediarySpaceModel(3, 0)\n",
    "model = IntermediarySpaceModel(4, 0.4)\n",
    "model = model.to(device)"
   ]
  },
  {
   "cell_type": "code",
   "execution_count": 13,
   "metadata": {},
   "outputs": [
    {
     "name": "stdout",
     "output_type": "stream",
     "text": [
      "287044\n",
      "287044\n"
     ]
    }
   ],
   "source": [
    "# print(sum(p.numel() for p in net.classifier.parameters()) ,sum(p.numel() for p in net.edgesClassifier.parameters()) )\n",
    "print(sum(p.numel() for p in model.parameters()))\n",
    "\n",
    "trainable_parameters = filter(lambda p: p.requires_grad, model.parameters())\n",
    "print(sum(p.numel() for p in trainable_parameters))"
   ]
  },
  {
   "cell_type": "markdown",
   "metadata": {},
   "source": [
    "### Training Loop"
   ]
  },
  {
   "cell_type": "markdown",
   "metadata": {},
   "source": [
    "#### Setting optimizer"
   ]
  },
  {
   "cell_type": "code",
   "execution_count": 45,
   "metadata": {},
   "outputs": [
    {
     "name": "stdout",
     "output_type": "stream",
     "text": [
      "{0: 2293, 2: 752, 3: 167, 1: 1524} tensor([2293.,  752.,  167., 1524.], device='cuda:0')\n"
     ]
    }
   ],
   "source": [
    "import torch.optim as optim\n",
    "from src.other import getClassesFrequency\n",
    "\n",
    "class_weights = getClassesFrequency(train_dataset)\n",
    "weights_tensor = torch.Tensor(list(class_weights.values())).to(device)\n",
    "print(class_weights, weights_tensor)\n",
    "\n",
    "criterion = nn.CrossEntropyLoss(weights_tensor)\n",
    "optimizer = optim.Adam(model.parameters(), lr=0.001)"
   ]
  },
  {
   "cell_type": "code",
   "execution_count": 46,
   "metadata": {},
   "outputs": [
    {
     "name": "stdout",
     "output_type": "stream",
     "text": [
      "0.9930924954370359\n"
     ]
    }
   ],
   "source": [
    "decayRate100 = 0.5\n",
    "decayRate1 = decayRate100**(1/100)\n",
    "my_lr_scheduler = torch.optim.lr_scheduler.ExponentialLR(optimizer=optimizer, gamma=decayRate1)\n",
    "\n",
    "print(decayRate1)"
   ]
  },
  {
   "cell_type": "code",
   "execution_count": 47,
   "metadata": {},
   "outputs": [],
   "source": [
    "def get_lr(optimizer):\n",
    "  for param_group in optimizer.param_groups:\n",
    "    return param_group['lr']"
   ]
  },
  {
   "cell_type": "markdown",
   "metadata": {},
   "source": [
    "#### Setting Logger"
   ]
  },
  {
   "cell_type": "code",
   "execution_count": 48,
   "metadata": {},
   "outputs": [],
   "source": [
    "# EXP_NAME = \"5/0\"\n",
    "# from torch.utils.tensorboard import SummaryWriter\n",
    "\n",
    "# logger = SummaryWriter(log_dir=f\"logs/experiments/{EXP_NAME}\")"
   ]
  },
  {
   "cell_type": "code",
   "execution_count": 49,
   "metadata": {},
   "outputs": [],
   "source": [
    "epochCounter = 0"
   ]
  },
  {
   "cell_type": "markdown",
   "metadata": {},
   "source": [
    "#### Training Loop"
   ]
  },
  {
   "cell_type": "code",
   "execution_count": 50,
   "metadata": {},
   "outputs": [],
   "source": [
    "from src.validation import validate\n",
    "\n",
    "def train_many(model, epochs_nr, logger = None, lr_scheduler = None, regularization_type = \"L2\", lambda_reg=0.01):\n",
    "    global epochCounter\n",
    "    \n",
    "    for epoch in range(0, epochs_nr):  # loop over the dataset multiple times\n",
    "        epoch_correct = 0\n",
    "        epoch_samples = 0\n",
    "        epoch_batches = 0\n",
    "        running_loss = 0.0\n",
    "    \n",
    "        for i, data in enumerate(train_loader, 0):\n",
    "\n",
    "            # get the inputs; data is a list of [inputs, labels]\n",
    "            images, edges, labels = data\n",
    "            images = images.to(device)\n",
    "            edges = edges.to(device)\n",
    "            labels = labels.to(device)\n",
    "            \n",
    "            # zero the parameter gradients\n",
    "            optimizer.zero_grad()\n",
    "            \n",
    "            # forward + backward + optimize\n",
    "            outputs = model(images, edges)\n",
    "            loss = criterion(outputs, labels)\n",
    "            \n",
    "            # Apply L1 regularization\n",
    "            if regularization_type == 'L1':\n",
    "                l1_norm = sum(p.abs().sum() for p in model.parameters())\n",
    "                loss += lambda_reg * l1_norm\n",
    "                \n",
    "            # Apply L2 regularization\n",
    "            elif regularization_type == 'L2':\n",
    "                l2_norm = sum(p.pow(2).sum() for p in model.parameters())\n",
    "                loss += lambda_reg * l2_norm\n",
    "                \n",
    "            loss.backward()\n",
    "            \n",
    "            optimizer.step()\n",
    "            \n",
    "            # Changing outputs (logits) to labels\n",
    "            outputs_clear = outputs.max(1).indices\n",
    "            \n",
    "            epoch_correct += (outputs_clear == labels).float().sum()\n",
    "            epoch_samples += len(outputs)\n",
    "            epoch_batches +=1\n",
    "            \n",
    "            running_loss += loss.item()\n",
    "        \n",
    "        tAccuracy = epoch_correct / epoch_samples * 100\n",
    "        tLoss = running_loss / epoch_batches\n",
    "        \n",
    "        # Validation\n",
    "        vAccuracy, vLoss = validate(model, val_loader, criterion, device)\n",
    "        \n",
    "        if logger != None:\n",
    "\n",
    "            logger.add_text(\"REGULARIZATION_TYPE\", regularization_type, global_step=epochCounter)\n",
    "            logger.add_scalar(\"REGULARIZATION_LAMBDA\", lambda_reg, global_step=epochCounter)\n",
    "            logger.add_scalar(\"learning_rate\", get_lr(optimizer), global_step=epochCounter)\n",
    "            \n",
    "            logger.add_scalar(\"Accuracy/train\", tAccuracy, global_step=epochCounter)\n",
    "            logger.add_scalar(\"Loss/train\", tLoss, global_step=epochCounter)\n",
    "            logger.add_scalar(\"Accuracy/validation\", vAccuracy, global_step=epochCounter)\n",
    "            logger.add_scalar(\"Loss/validation\", vLoss, global_step=epochCounter)\n",
    "        \n",
    "        print(f'Epoch {epochCounter}: Training: accuracy: {tAccuracy:.3f}%, loss: {tLoss:.3f}; Validation: accuracy: {vAccuracy:.3f}%, loss: {vLoss:.3f}')\n",
    "        \n",
    "        epochCounter += 1\n",
    "        \n",
    "        if lr_scheduler != None:\n",
    "            lr_scheduler.step()\n",
    "        \n",
    "        # print(\"lr= \" + str(get_lr(optimizer)))\n",
    "    print('Finished Training')"
   ]
  },
  {
   "cell_type": "markdown",
   "metadata": {},
   "source": [
    "### Training Model"
   ]
  },
  {
   "cell_type": "code",
   "execution_count": 51,
   "metadata": {},
   "outputs": [
    {
     "name": "stdout",
     "output_type": "stream",
     "text": [
      "Epoch 0: Training: accuracy: 49.092%, loss: 0.643; Validation: accuracy: 47.485%, loss: 0.633\n",
      "lr= 0.000993092495437036\n",
      "Epoch 1: Training: accuracy: 50.612%, loss: 0.607; Validation: accuracy: 47.633%, loss: 0.547\n",
      "lr= 0.0009862327044933591\n",
      "Epoch 2: Training: accuracy: 51.499%, loss: 0.578; Validation: accuracy: 50.592%, loss: 0.565\n",
      "lr= 0.0009794202975869268\n",
      "Epoch 3: Training: accuracy: 54.688%, loss: 0.571; Validation: accuracy: 52.219%, loss: 0.583\n",
      "lr= 0.0009726549474122855\n",
      "Epoch 4: Training: accuracy: 55.194%, loss: 0.562; Validation: accuracy: 51.331%, loss: 0.620\n",
      "lr= 0.0009659363289248456\n",
      "Epoch 5: Training: accuracy: 55.954%, loss: 0.542; Validation: accuracy: 55.769%, loss: 0.569\n",
      "lr= 0.0009592641193252644\n",
      "Epoch 6: Training: accuracy: 57.179%, loss: 0.538; Validation: accuracy: 53.402%, loss: 0.580\n",
      "lr= 0.0009526379980439374\n",
      "Epoch 7: Training: accuracy: 58.678%, loss: 0.521; Validation: accuracy: 52.959%, loss: 0.537\n",
      "lr= 0.000946057646725596\n",
      "Epoch 8: Training: accuracy: 59.649%, loss: 0.509; Validation: accuracy: 55.178%, loss: 0.572\n",
      "lr= 0.0009395227492140118\n",
      "Epoch 9: Training: accuracy: 60.684%, loss: 0.506; Validation: accuracy: 53.107%, loss: 0.557\n",
      "lr= 0.0009330329915368075\n",
      "Epoch 10: Training: accuracy: 59.312%, loss: 0.509; Validation: accuracy: 55.917%, loss: 0.573\n",
      "lr= 0.000926588061890371\n"
     ]
    },
    {
     "ename": "KeyboardInterrupt",
     "evalue": "",
     "output_type": "error",
     "traceback": [
      "\u001b[0;31m---------------------------------------------------------------------------\u001b[0m",
      "\u001b[0;31mKeyboardInterrupt\u001b[0m                         Traceback (most recent call last)",
      "Cell \u001b[0;32mIn[51], line 1\u001b[0m\n\u001b[0;32m----> 1\u001b[0m \u001b[43mtrain_many\u001b[49m\u001b[43m(\u001b[49m\u001b[43mmodel\u001b[49m\u001b[43m,\u001b[49m\u001b[43m \u001b[49m\u001b[38;5;241;43m60\u001b[39;49m\u001b[43m,\u001b[49m\u001b[43m \u001b[49m\u001b[38;5;28;43;01mNone\u001b[39;49;00m\u001b[43m,\u001b[49m\u001b[43m \u001b[49m\u001b[43mmy_lr_scheduler\u001b[49m\u001b[43m,\u001b[49m\u001b[43m \u001b[49m\u001b[38;5;124;43m\"\u001b[39;49m\u001b[38;5;124;43mL2\u001b[39;49m\u001b[38;5;124;43m\"\u001b[39;49m\u001b[43m,\u001b[49m\u001b[43m \u001b[49m\u001b[38;5;241;43m0.002\u001b[39;49m\u001b[43m)\u001b[49m\n",
      "Cell \u001b[0;32mIn[50], line 48\u001b[0m, in \u001b[0;36mtrain_many\u001b[0;34m(model, epochs_nr, logger, lr_scheduler, regularization_type, lambda_reg)\u001b[0m\n\u001b[1;32m     45\u001b[0m     epoch_samples \u001b[38;5;241m+\u001b[39m\u001b[38;5;241m=\u001b[39m \u001b[38;5;28mlen\u001b[39m(outputs)\n\u001b[1;32m     46\u001b[0m     epoch_batches \u001b[38;5;241m+\u001b[39m\u001b[38;5;241m=\u001b[39m\u001b[38;5;241m1\u001b[39m\n\u001b[0;32m---> 48\u001b[0m     running_loss \u001b[38;5;241m+\u001b[39m\u001b[38;5;241m=\u001b[39m \u001b[43mloss\u001b[49m\u001b[38;5;241;43m.\u001b[39;49m\u001b[43mitem\u001b[49m\u001b[43m(\u001b[49m\u001b[43m)\u001b[49m\n\u001b[1;32m     50\u001b[0m tAccuracy \u001b[38;5;241m=\u001b[39m epoch_correct \u001b[38;5;241m/\u001b[39m epoch_samples \u001b[38;5;241m*\u001b[39m \u001b[38;5;241m100\u001b[39m\n\u001b[1;32m     51\u001b[0m tLoss \u001b[38;5;241m=\u001b[39m running_loss \u001b[38;5;241m/\u001b[39m epoch_batches\n",
      "\u001b[0;31mKeyboardInterrupt\u001b[0m: "
     ]
    }
   ],
   "source": [
    "train_many(model, 60, None, my_lr_scheduler, \"L2\", 0.002)\n",
    "# train_many(model, 50)"
   ]
  },
  {
   "cell_type": "code",
   "execution_count": null,
   "metadata": {},
   "outputs": [],
   "source": [
    "acc, loss = validate(model, test_loader, criterion, device)\n",
    "\n",
    "print(acc, loss)"
   ]
  },
  {
   "cell_type": "markdown",
   "metadata": {},
   "source": [
    "## Data Visualization"
   ]
  },
  {
   "cell_type": "code",
   "execution_count": 103,
   "metadata": {},
   "outputs": [],
   "source": [
    "import sklearn\n",
    "from sklearn.metrics import classification_report, confusion_matrix, ConfusionMatrixDisplay\n",
    "from tqdm import tqdm"
   ]
  },
  {
   "cell_type": "code",
   "execution_count": 130,
   "metadata": {},
   "outputs": [],
   "source": [
    "def visualize_cm(cm, true_labels, predicted_labels):\n",
    "    cmplot = ConfusionMatrixDisplay(confusion_matrix=cm, display_labels=range(4))\n",
    "    cmplot.plot(cmap = 'Blues')\n",
    "    plt.show()\n",
    "    \n",
    "def visualize(model, loader):\n",
    "    correct = 0\n",
    "    total = 0\n",
    "    model.eval()\n",
    "    predicted_labels = []\n",
    "    true_labels = []\n",
    "\n",
    "    with torch.no_grad():\n",
    "        for inputs, edges, labels in tqdm(loader):\n",
    "            inputs, edges, labels = inputs.to(device), edges.to(device), labels.to(device)\n",
    "            outputs = model(inputs, edges)\n",
    "            _, predicted = torch.max(outputs, 1)\n",
    "            total += labels.size(0)\n",
    "            correct += (predicted == labels).sum().item()\n",
    "            predicted_labels.extend(predicted.cpu().numpy())\n",
    "            true_labels.extend(labels.cpu().numpy())\n",
    "\n",
    "    print(f\"Test Accuracy: {100 * correct / total:.2f}%\")\n",
    "\n",
    "    print(classification_report(true_labels, predicted_labels, zero_division=np.nan))\n",
    "\n",
    "    cm = confusion_matrix(true_labels, predicted_labels)\n",
    "    visualize_cm(cm, true_labels, predicted_labels)"
   ]
  },
  {
   "cell_type": "code",
   "execution_count": null,
   "metadata": {},
   "outputs": [],
   "source": [
    "visualize(model, train_loader)"
   ]
  }
 ],
 "metadata": {
  "kernelspec": {
   "display_name": "pawel",
   "language": "python",
   "name": "python3"
  },
  "language_info": {
   "codemirror_mode": {
    "name": "ipython",
    "version": 3
   },
   "file_extension": ".py",
   "mimetype": "text/x-python",
   "name": "python",
   "nbconvert_exporter": "python",
   "pygments_lexer": "ipython3",
   "version": "3.9.21"
  }
 },
 "nbformat": 4,
 "nbformat_minor": 2
}
