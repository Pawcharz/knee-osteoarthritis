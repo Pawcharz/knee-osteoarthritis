{
 "cells": [
  {
   "cell_type": "markdown",
   "metadata": {},
   "source": [
    "### Import Dependencies"
   ]
  },
  {
   "cell_type": "code",
   "execution_count": 1,
   "metadata": {},
   "outputs": [],
   "source": [
    "import random\n",
    "random.seed(0)"
   ]
  },
  {
   "cell_type": "code",
   "execution_count": 2,
   "metadata": {},
   "outputs": [],
   "source": [
    "import torch\n",
    "import torch.nn as nn\n",
    "import torchvision\n",
    "from torchvision import transforms\n",
    "from torchvision.transforms import v2"
   ]
  },
  {
   "cell_type": "markdown",
   "metadata": {},
   "source": [
    "### Constant Variables"
   ]
  },
  {
   "cell_type": "code",
   "execution_count": 3,
   "metadata": {},
   "outputs": [],
   "source": [
    "DATASET_PATH = './knee-osteoarthritis'"
   ]
  },
  {
   "cell_type": "code",
   "execution_count": 4,
   "metadata": {},
   "outputs": [],
   "source": [
    "TRAIN_PATH = f'{DATASET_PATH}/train'\n",
    "VAL_PATH = f'{DATASET_PATH}/val'\n",
    "TEST_PATH = f'{DATASET_PATH}/test'\n",
    "AUTO_TEST_PATH = f'{DATASET_PATH}/auto_test'"
   ]
  },
  {
   "cell_type": "code",
   "execution_count": 5,
   "metadata": {},
   "outputs": [
    {
     "name": "stdout",
     "output_type": "stream",
     "text": [
      "cuda\n"
     ]
    }
   ],
   "source": [
    "device = 'cuda' if torch.cuda.is_available() else 'cpu'\n",
    "\n",
    "print(device)"
   ]
  },
  {
   "cell_type": "markdown",
   "metadata": {},
   "source": [
    "### Dataset "
   ]
  },
  {
   "cell_type": "code",
   "execution_count": 6,
   "metadata": {},
   "outputs": [],
   "source": [
    "from src.dataset.augmented_dataset import get_KneeOsteoarthritis_Edges\n",
    "\n",
    "train_dataset = get_KneeOsteoarthritis_Edges(TRAIN_PATH)\n",
    "val_dataset = get_KneeOsteoarthritis_Edges(VAL_PATH)"
   ]
  },
  {
   "cell_type": "code",
   "execution_count": 7,
   "metadata": {},
   "outputs": [],
   "source": [
    "import matplotlib.pyplot as plt\n",
    "import numpy as np\n",
    "\n",
    "# functions to show an image\n",
    "def imshow(img):\n",
    "    img = img / 2 + 0.5     # unnormalize\n",
    "    npimg = img.numpy()\n",
    "    plt.imshow(np.transpose(npimg, (1, 2, 0)), cmap='gray')\n",
    "    plt.show()"
   ]
  },
  {
   "cell_type": "code",
   "execution_count": 8,
   "metadata": {},
   "outputs": [
    {
     "name": "stdout",
     "output_type": "stream",
     "text": [
      "torch.Size([3, 256, 256]) torch.Size([1, 224, 224])\n"
     ]
    }
   ],
   "source": [
    "row = train_dataset[1]\n",
    "normal_ex = row[0]\n",
    "augmented_ex = row[1]\n",
    "print(normal_ex.shape, augmented_ex.shape)"
   ]
  },
  {
   "cell_type": "markdown",
   "metadata": {},
   "source": [
    "### Data Loader"
   ]
  },
  {
   "cell_type": "code",
   "execution_count": 9,
   "metadata": {},
   "outputs": [],
   "source": [
    "from torch.utils.data import DataLoader\n",
    "BATCH_SIZE = 128\n",
    "\n",
    "train_loader = DataLoader(train_dataset, batch_size=BATCH_SIZE, shuffle=True)\n",
    "val_loader = DataLoader(val_dataset, batch_size=BATCH_SIZE, shuffle=True)"
   ]
  },
  {
   "cell_type": "markdown",
   "metadata": {},
   "source": [
    "### Model"
   ]
  },
  {
   "cell_type": "code",
   "execution_count": 128,
   "metadata": {},
   "outputs": [],
   "source": [
    "class IntermediarySpaceModel(nn.Module):\n",
    "    def __init__(self, num_classes: int = 5, dropout: float = 0.5) -> None:\n",
    "        super().__init__()\n",
    "        \n",
    "        # Size of layer block\n",
    "        S = 32\n",
    "        \n",
    "        # Images\n",
    "        self.imagesClassifier = nn.Sequential(\n",
    "            nn.Conv2d(3, S*2, kernel_size=11, stride=4, padding=2),\n",
    "            nn.ReLU(inplace=True),\n",
    "            nn.MaxPool2d(kernel_size=3, stride=2),\n",
    "            nn.Conv2d(S*2, S*2, kernel_size=5, padding=2),\n",
    "            nn.ReLU(inplace=True),\n",
    "            nn.MaxPool2d(kernel_size=3, stride=2),\n",
    "            nn.Conv2d(S*2, S*2, kernel_size=3, padding=1),\n",
    "            nn.ReLU(inplace=True),\n",
    "            nn.Conv2d(S*2, S, kernel_size=3, padding=1),\n",
    "            nn.ReLU(inplace=True),\n",
    "            nn.MaxPool2d(kernel_size=3, stride=2),\n",
    "            \n",
    "            nn.Flatten(),\n",
    "            nn.Dropout(p=dropout),\n",
    "            nn.Linear(S * 7 * 7, S*2),\n",
    "        )\n",
    "\n",
    "        self.edgesClassifier = nn.Sequential(\n",
    "            nn.Conv2d(1, S*2, kernel_size=11, stride=4, padding=2),\n",
    "            nn.ReLU(inplace=True),\n",
    "            nn.MaxPool2d(kernel_size=3, stride=2),\n",
    "            nn.Conv2d(S*2, S*2, kernel_size=5, padding=2),\n",
    "            nn.Dropout(p=dropout*0.4),\n",
    "            nn.ReLU(inplace=True),\n",
    "            nn.MaxPool2d(kernel_size=3, stride=2),\n",
    "            nn.Dropout(p=dropout*0.6),\n",
    "            nn.Conv2d(S*2, S, kernel_size=3, padding=1),\n",
    "            nn.ReLU(inplace=True),\n",
    "            nn.Dropout(p=dropout*0.8),\n",
    "            nn.MaxPool2d(kernel_size=3, stride=2),\n",
    "            \n",
    "            nn.Flatten(),\n",
    "            nn.Dropout(p=dropout),\n",
    "            nn.Linear(S * 6 * 6, S*2),\n",
    "        )\n",
    "        \n",
    "        self.outputCombiner = nn.Sequential(\n",
    "            nn.ReLU(inplace=True),\n",
    "            nn.Dropout(p=dropout),\n",
    "            nn.Linear(S*4, S*3),\n",
    "            nn.ReLU(inplace=True),\n",
    "            nn.Dropout(p=dropout),\n",
    "            nn.Linear(S*3, S),\n",
    "            nn.Dropout(p=dropout),\n",
    "            nn.ReLU(inplace=True),\n",
    "            nn.Linear(S, num_classes),\n",
    "        )\n",
    "\n",
    "    def forward(self, images: torch.Tensor, edges: torch.Tensor) -> torch.Tensor:\n",
    "        \n",
    "        # Images\n",
    "        images = self.imagesClassifier(images)\n",
    "        \n",
    "        # Edges\n",
    "        edges = self.edgesClassifier(edges)\n",
    "        \n",
    "        # Combining outputs\n",
    "        concated = torch.cat((images, edges), 1)\n",
    "        res = self.outputCombiner(concated)\n",
    "        \n",
    "        return res"
   ]
  },
  {
   "cell_type": "code",
   "execution_count": 129,
   "metadata": {},
   "outputs": [],
   "source": [
    "# from src.models.custom import CustomModel\n",
    "\n",
    "model = IntermediarySpaceModel(3, 0.5)\n",
    "model = model.to(device)"
   ]
  },
  {
   "cell_type": "code",
   "execution_count": 130,
   "metadata": {},
   "outputs": [
    {
     "name": "stdout",
     "output_type": "stream",
     "text": [
      "499683\n",
      "499683\n"
     ]
    }
   ],
   "source": [
    "# print(sum(p.numel() for p in net.classifier.parameters()) ,sum(p.numel() for p in net.edgesClassifier.parameters()) )\n",
    "print(sum(p.numel() for p in model.parameters()))\n",
    "\n",
    "trainable_parameters = filter(lambda p: p.requires_grad, model.parameters())\n",
    "print(sum(p.numel() for p in trainable_parameters))"
   ]
  },
  {
   "cell_type": "markdown",
   "metadata": {},
   "source": [
    "### Training Loop"
   ]
  },
  {
   "cell_type": "markdown",
   "metadata": {},
   "source": [
    "#### Setting optimizer"
   ]
  },
  {
   "cell_type": "code",
   "execution_count": 131,
   "metadata": {},
   "outputs": [],
   "source": [
    "import torch.optim as optim\n",
    "from src.other import getClassesFrequency\n",
    "\n",
    "class_weights = getClassesFrequency(train_dataset)\n",
    "weights_tensor = torch.Tensor(list(class_weights.values())).to(device)\n",
    "\n",
    "criterion = nn.CrossEntropyLoss(weights_tensor)\n",
    "optimizer = optim.Adam(model.parameters(), lr=0.001)"
   ]
  },
  {
   "cell_type": "code",
   "execution_count": 132,
   "metadata": {},
   "outputs": [],
   "source": [
    "def get_lr(optimizer):\n",
    "  for param_group in optimizer.param_groups:\n",
    "    return param_group['lr']"
   ]
  },
  {
   "cell_type": "markdown",
   "metadata": {},
   "source": [
    "#### Setting Logger"
   ]
  },
  {
   "cell_type": "code",
   "execution_count": 133,
   "metadata": {},
   "outputs": [],
   "source": [
    "EXP_NAME = \"4/3\""
   ]
  },
  {
   "cell_type": "code",
   "execution_count": 134,
   "metadata": {},
   "outputs": [],
   "source": [
    "from torch.utils.tensorboard import SummaryWriter\n",
    "\n",
    "logger = SummaryWriter(log_dir=f\"logs/experiments/{EXP_NAME}\")"
   ]
  },
  {
   "cell_type": "code",
   "execution_count": 135,
   "metadata": {},
   "outputs": [],
   "source": [
    "epochCounter = 0"
   ]
  },
  {
   "cell_type": "markdown",
   "metadata": {},
   "source": [
    "#### Training Loop"
   ]
  },
  {
   "cell_type": "code",
   "execution_count": 136,
   "metadata": {},
   "outputs": [],
   "source": [
    "from src.validation import validate\n",
    "\n",
    "def train_many(model, epochs_nr, regularization_type = \"L2\", lambda_reg=0.01):\n",
    "    global epochCounter\n",
    "    \n",
    "    for epoch in range(0, epochs_nr):  # loop over the dataset multiple times\n",
    "        epoch_correct = 0\n",
    "        epoch_samples = 0\n",
    "        epoch_batches = 0\n",
    "        running_loss = 0.0\n",
    "    \n",
    "        for i, data in enumerate(train_loader, 0):\n",
    "\n",
    "            # get the inputs; data is a list of [inputs, labels]\n",
    "            images, edges, labels = data\n",
    "            images = images.to(device)\n",
    "            edges = edges.to(device)\n",
    "            labels = labels.to(device)\n",
    "            \n",
    "            # zero the parameter gradients\n",
    "            optimizer.zero_grad()\n",
    "            \n",
    "            # forward + backward + optimize\n",
    "            outputs = model(images, edges)\n",
    "            loss = criterion(outputs, labels)\n",
    "            \n",
    "            # Apply L1 regularization\n",
    "            if regularization_type == 'L1':\n",
    "                l1_norm = sum(p.abs().sum() for p in model.parameters())\n",
    "                loss += lambda_reg * l1_norm\n",
    "                \n",
    "            # Apply L2 regularization\n",
    "            elif regularization_type == 'L2':\n",
    "                l2_norm = sum(p.pow(2).sum() for p in model.parameters())\n",
    "                loss += lambda_reg * l2_norm\n",
    "                \n",
    "            loss.backward()\n",
    "            \n",
    "            optimizer.step()\n",
    "            \n",
    "            # Changing outputs (logits) to labels\n",
    "            outputs_clear = outputs.max(1).indices\n",
    "            \n",
    "            epoch_correct += (outputs_clear == labels).float().sum()\n",
    "            epoch_samples += len(outputs)\n",
    "            epoch_batches +=1\n",
    "            \n",
    "            running_loss += loss.item()\n",
    "        \n",
    "        tAccuracy = epoch_correct / epoch_samples * 100\n",
    "        tLoss = running_loss / epoch_batches\n",
    "        \n",
    "        # Validation\n",
    "        vAccuracy, vLoss = validate(model, val_loader, criterion, device)\n",
    "        \n",
    "        logger.add_text(\"REGULARIZATION_TYPE\", regularization_type, global_step=epochCounter)\n",
    "        logger.add_scalar(\"REGULARIZATION_LAMBDA\", lambda_reg, global_step=epochCounter)\n",
    "        logger.add_scalar(\"learning_rate\", get_lr(optimizer), global_step=epochCounter)\n",
    "        \n",
    "        logger.add_scalar(\"Accuracy/train\", tAccuracy, global_step=epochCounter)\n",
    "        logger.add_scalar(\"Loss/train\", tLoss, global_step=epochCounter)\n",
    "        logger.add_scalar(\"Accuracy/validation\", vAccuracy, global_step=epochCounter)\n",
    "        logger.add_scalar(\"Loss/validation\", vLoss, global_step=epochCounter)\n",
    "        \n",
    "        print(f'Epoch {epochCounter}: Training: accuracy: {tAccuracy:.3f}%, loss: {tLoss:.3f}; Validation: accuracy: {vAccuracy:.3f}%, loss: {vLoss:.3f}')\n",
    "        \n",
    "        epochCounter += 1\n",
    "        \n",
    "    print('Finished Training')"
   ]
  },
  {
   "cell_type": "markdown",
   "metadata": {},
   "source": [
    "### Training Model"
   ]
  },
  {
   "cell_type": "code",
   "execution_count": 137,
   "metadata": {},
   "outputs": [
    {
     "name": "stdout",
     "output_type": "stream",
     "text": [
      "Epoch 0: Training: accuracy: 53.617%, loss: 1.045; Validation: accuracy: 55.327%, loss: 0.712\n",
      "Epoch 1: Training: accuracy: 57.148%, loss: 0.805; Validation: accuracy: 56.901%, loss: 0.668\n",
      "Epoch 2: Training: accuracy: 57.459%, loss: 0.777; Validation: accuracy: 56.901%, loss: 0.674\n",
      "Epoch 3: Training: accuracy: 57.373%, loss: 0.769; Validation: accuracy: 57.022%, loss: 0.665\n",
      "Epoch 4: Training: accuracy: 57.477%, loss: 0.763; Validation: accuracy: 57.022%, loss: 0.678\n",
      "Epoch 5: Training: accuracy: 57.442%, loss: 0.754; Validation: accuracy: 57.022%, loss: 0.660\n",
      "Epoch 6: Training: accuracy: 57.407%, loss: 0.750; Validation: accuracy: 57.022%, loss: 0.656\n",
      "Epoch 7: Training: accuracy: 57.425%, loss: 0.741; Validation: accuracy: 56.901%, loss: 0.663\n",
      "Epoch 8: Training: accuracy: 57.425%, loss: 0.734; Validation: accuracy: 57.022%, loss: 0.668\n",
      "Epoch 9: Training: accuracy: 57.407%, loss: 0.727; Validation: accuracy: 57.022%, loss: 0.656\n",
      "Epoch 10: Training: accuracy: 57.425%, loss: 0.723; Validation: accuracy: 57.022%, loss: 0.656\n",
      "Epoch 11: Training: accuracy: 57.442%, loss: 0.715; Validation: accuracy: 57.022%, loss: 0.652\n",
      "Epoch 12: Training: accuracy: 57.442%, loss: 0.710; Validation: accuracy: 57.022%, loss: 0.646\n",
      "Epoch 13: Training: accuracy: 57.442%, loss: 0.706; Validation: accuracy: 57.022%, loss: 0.650\n",
      "Epoch 14: Training: accuracy: 57.442%, loss: 0.697; Validation: accuracy: 57.022%, loss: 0.641\n",
      "Epoch 15: Training: accuracy: 57.442%, loss: 0.688; Validation: accuracy: 57.022%, loss: 0.639\n",
      "Epoch 16: Training: accuracy: 57.442%, loss: 0.682; Validation: accuracy: 57.022%, loss: 0.633\n",
      "Epoch 17: Training: accuracy: 57.459%, loss: 0.662; Validation: accuracy: 57.506%, loss: 0.636\n",
      "Epoch 18: Training: accuracy: 57.390%, loss: 0.665; Validation: accuracy: 57.385%, loss: 0.632\n",
      "Epoch 19: Training: accuracy: 59.017%, loss: 0.638; Validation: accuracy: 58.596%, loss: 0.660\n",
      "Epoch 20: Training: accuracy: 59.415%, loss: 0.646; Validation: accuracy: 60.896%, loss: 0.622\n",
      "Epoch 21: Training: accuracy: 61.388%, loss: 0.632; Validation: accuracy: 61.259%, loss: 0.611\n",
      "Epoch 22: Training: accuracy: 62.582%, loss: 0.623; Validation: accuracy: 60.412%, loss: 0.606\n",
      "Epoch 23: Training: accuracy: 62.790%, loss: 0.617; Validation: accuracy: 61.864%, loss: 0.644\n",
      "Epoch 24: Training: accuracy: 61.648%, loss: 0.638; Validation: accuracy: 57.869%, loss: 0.632\n",
      "Epoch 25: Training: accuracy: 65.351%, loss: 0.600; Validation: accuracy: 62.954%, loss: 0.609\n",
      "Epoch 26: Training: accuracy: 64.815%, loss: 0.605; Validation: accuracy: 63.680%, loss: 0.613\n",
      "Epoch 27: Training: accuracy: 65.767%, loss: 0.600; Validation: accuracy: 62.712%, loss: 0.630\n",
      "Epoch 28: Training: accuracy: 66.892%, loss: 0.600; Validation: accuracy: 63.438%, loss: 0.623\n",
      "Epoch 29: Training: accuracy: 67.272%, loss: 0.594; Validation: accuracy: 60.169%, loss: 0.595\n",
      "Epoch 30: Training: accuracy: 68.415%, loss: 0.587; Validation: accuracy: 58.475%, loss: 0.701\n",
      "Epoch 31: Training: accuracy: 67.999%, loss: 0.575; Validation: accuracy: 61.985%, loss: 0.651\n",
      "Epoch 32: Training: accuracy: 69.436%, loss: 0.570; Validation: accuracy: 63.923%, loss: 0.614\n",
      "Epoch 33: Training: accuracy: 71.063%, loss: 0.556; Validation: accuracy: 63.559%, loss: 0.632\n",
      "Epoch 34: Training: accuracy: 73.589%, loss: 0.534; Validation: accuracy: 63.680%, loss: 0.643\n",
      "Epoch 35: Training: accuracy: 71.461%, loss: 0.546; Validation: accuracy: 65.133%, loss: 0.605\n",
      "Epoch 36: Training: accuracy: 72.845%, loss: 0.530; Validation: accuracy: 64.649%, loss: 0.618\n",
      "Epoch 37: Training: accuracy: 75.147%, loss: 0.514; Validation: accuracy: 66.465%, loss: 0.597\n",
      "Epoch 38: Training: accuracy: 75.147%, loss: 0.522; Validation: accuracy: 63.196%, loss: 0.646\n",
      "Epoch 39: Training: accuracy: 76.376%, loss: 0.502; Validation: accuracy: 65.860%, loss: 0.656\n",
      "Epoch 40: Training: accuracy: 76.670%, loss: 0.498; Validation: accuracy: 64.286%, loss: 0.760\n",
      "Epoch 41: Training: accuracy: 76.237%, loss: 0.496; Validation: accuracy: 66.102%, loss: 0.643\n",
      "Epoch 42: Training: accuracy: 78.487%, loss: 0.475; Validation: accuracy: 64.891%, loss: 0.702\n",
      "Epoch 43: Training: accuracy: 78.107%, loss: 0.475; Validation: accuracy: 65.375%, loss: 0.644\n",
      "Epoch 44: Training: accuracy: 78.695%, loss: 0.474; Validation: accuracy: 64.770%, loss: 0.768\n",
      "Epoch 45: Training: accuracy: 79.785%, loss: 0.454; Validation: accuracy: 66.707%, loss: 0.806\n",
      "Epoch 46: Training: accuracy: 79.820%, loss: 0.463; Validation: accuracy: 65.617%, loss: 0.668\n",
      "Epoch 47: Training: accuracy: 79.837%, loss: 0.449; Validation: accuracy: 63.196%, loss: 0.860\n",
      "Epoch 48: Training: accuracy: 79.941%, loss: 0.461; Validation: accuracy: 65.496%, loss: 0.658\n",
      "Epoch 49: Training: accuracy: 80.910%, loss: 0.437; Validation: accuracy: 66.586%, loss: 0.695\n",
      "Finished Training\n"
     ]
    }
   ],
   "source": [
    "train_many(model, 50, \"L2\", 0.001)\n",
    "# train_many(model, 50)"
   ]
  }
 ],
 "metadata": {
  "kernelspec": {
   "display_name": "pawel",
   "language": "python",
   "name": "python3"
  },
  "language_info": {
   "codemirror_mode": {
    "name": "ipython",
    "version": 3
   },
   "file_extension": ".py",
   "mimetype": "text/x-python",
   "name": "python",
   "nbconvert_exporter": "python",
   "pygments_lexer": "ipython3",
   "version": "3.12.8"
  }
 },
 "nbformat": 4,
 "nbformat_minor": 2
}
