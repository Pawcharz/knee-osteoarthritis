{
 "cells": [
  {
   "cell_type": "markdown",
   "metadata": {},
   "source": [
    "### Import Dependencies"
   ]
  },
  {
   "cell_type": "code",
   "execution_count": 1,
   "metadata": {},
   "outputs": [],
   "source": [
    "import random\n",
    "random.seed(0)"
   ]
  },
  {
   "cell_type": "code",
   "execution_count": 2,
   "metadata": {},
   "outputs": [],
   "source": [
    "import torch\n",
    "import torch.nn as nn\n",
    "import torchvision\n",
    "from torchvision import transforms\n",
    "from torchvision.transforms import v2"
   ]
  },
  {
   "cell_type": "markdown",
   "metadata": {},
   "source": [
    "### Constant Variables"
   ]
  },
  {
   "cell_type": "code",
   "execution_count": 3,
   "metadata": {},
   "outputs": [],
   "source": [
    "DATASET_PATH = './knee-osteoarthritis_2'"
   ]
  },
  {
   "cell_type": "code",
   "execution_count": 4,
   "metadata": {},
   "outputs": [],
   "source": [
    "TRAIN_PATH = f'{DATASET_PATH}/train'\n",
    "VAL_PATH = f'{DATASET_PATH}/val'\n",
    "TEST_PATH = f'{DATASET_PATH}/test'"
   ]
  },
  {
   "cell_type": "code",
   "execution_count": 5,
   "metadata": {},
   "outputs": [
    {
     "name": "stdout",
     "output_type": "stream",
     "text": [
      "cuda\n"
     ]
    }
   ],
   "source": [
    "device = 'cuda' if torch.cuda.is_available() else 'cpu'\n",
    "\n",
    "print(device)"
   ]
  },
  {
   "cell_type": "markdown",
   "metadata": {},
   "source": [
    "### Dataset "
   ]
  },
  {
   "cell_type": "code",
   "execution_count": 6,
   "metadata": {},
   "outputs": [],
   "source": [
    "from src.dataset.augmented_dataset import get_KneeOsteoarthritis_Edges, KneeOsteoarthritis_Edges\n",
    "\n",
    "transform_toTensor = transforms.Compose([transforms.ToTensor()])\n",
    "\n",
    "train_dataset = torchvision.datasets.ImageFolder(TRAIN_PATH, transform_toTensor)\n",
    "val_dataset = torchvision.datasets.ImageFolder(VAL_PATH, transform_toTensor)\n",
    "test_dataset = torchvision.datasets.ImageFolder(TEST_PATH, transform_toTensor)\n",
    "\n",
    "dataset_all = torch.utils.data.ConcatDataset([train_dataset, val_dataset, test_dataset])\n",
    "\n",
    "train_dataset, val_dataset, test_dataset = torch.utils.data.random_split(dataset_all, [0.7, 0.1, 0.2])\n",
    "train_dataset = KneeOsteoarthritis_Edges(train_dataset)\n",
    "val_dataset = KneeOsteoarthritis_Edges(val_dataset)\n",
    "test_dataset = KneeOsteoarthritis_Edges(test_dataset)"
   ]
  },
  {
   "cell_type": "code",
   "execution_count": 7,
   "metadata": {},
   "outputs": [
    {
     "name": "stdout",
     "output_type": "stream",
     "text": [
      "4736 676 1353\n"
     ]
    }
   ],
   "source": [
    "print(len(train_dataset), len(val_dataset), len(test_dataset))"
   ]
  },
  {
   "cell_type": "code",
   "execution_count": 8,
   "metadata": {},
   "outputs": [],
   "source": [
    "import matplotlib.pyplot as plt\n",
    "import numpy as np\n",
    "\n",
    "# functions to show an image\n",
    "def imshow(img):\n",
    "    img = img / 2 + 0.5     # unnormalize\n",
    "    npimg = img.numpy()\n",
    "    plt.imshow(np.transpose(npimg, (1, 2, 0)), cmap='gray')\n",
    "    plt.show()"
   ]
  },
  {
   "cell_type": "code",
   "execution_count": 9,
   "metadata": {},
   "outputs": [
    {
     "name": "stdout",
     "output_type": "stream",
     "text": [
      "torch.Size([3, 256, 256]) torch.Size([1, 224, 224])\n"
     ]
    }
   ],
   "source": [
    "row = train_dataset[1]\n",
    "normal_ex = row[0]\n",
    "augmented_ex = row[1]\n",
    "print(normal_ex.shape, augmented_ex.shape)"
   ]
  },
  {
   "cell_type": "markdown",
   "metadata": {},
   "source": [
    "### Data Loader"
   ]
  },
  {
   "cell_type": "code",
   "execution_count": 10,
   "metadata": {},
   "outputs": [],
   "source": [
    "from torch.utils.data import DataLoader\n",
    "from src.other import getWeightedDataLoader\n",
    "BATCH_SIZE = 128\n",
    "\n",
    "train_loader = DataLoader(train_dataset, batch_size=BATCH_SIZE, shuffle=True)\n",
    "val_loader = DataLoader(val_dataset, batch_size=BATCH_SIZE, shuffle=True)\n",
    "test_loader = DataLoader(test_dataset, batch_size=BATCH_SIZE, shuffle=True)"
   ]
  },
  {
   "cell_type": "markdown",
   "metadata": {},
   "source": [
    "### Model"
   ]
  },
  {
   "cell_type": "code",
   "execution_count": 11,
   "metadata": {},
   "outputs": [],
   "source": [
    "class IntermediarySpaceModel(nn.Module):\n",
    "    def __init__(self, num_classes: int = 5, dropout: float = 0.5) -> None:\n",
    "        super().__init__()\n",
    "        \n",
    "        # Size of layer block\n",
    "        S = 24\n",
    "        \n",
    "        # Images\n",
    "        self.imagesClassifier = nn.Sequential(\n",
    "            nn.Conv2d(3, S*2, kernel_size=11, stride=4, padding=2),\n",
    "            nn.ReLU(inplace=True),\n",
    "            nn.MaxPool2d(kernel_size=3, stride=2),\n",
    "            nn.Dropout(p=dropout*0.2),\n",
    "            nn.Conv2d(S*2, S*2, kernel_size=5, padding=2),\n",
    "            nn.ReLU(inplace=True),\n",
    "            nn.MaxPool2d(kernel_size=3, stride=2),\n",
    "            nn.Dropout(p=dropout*0.4),\n",
    "            nn.Conv2d(S*2, S*2, kernel_size=3, padding=1),\n",
    "            nn.ReLU(inplace=True),\n",
    "            nn.Dropout(p=dropout*0.6),\n",
    "            nn.Conv2d(S*2, S, kernel_size=3, padding=1),\n",
    "            nn.ReLU(inplace=True),\n",
    "            nn.MaxPool2d(kernel_size=3, stride=2),\n",
    "            \n",
    "            nn.Flatten(),\n",
    "            nn.Dropout(p=dropout*0.8),\n",
    "            nn.Linear(S * 7 * 7, S*2),\n",
    "        )\n",
    "\n",
    "        self.edgesClassifier = nn.Sequential(\n",
    "            nn.Conv2d(1, S*2, kernel_size=11, stride=4, padding=2),\n",
    "            nn.ReLU(inplace=True),\n",
    "            nn.MaxPool2d(kernel_size=3, stride=2),\n",
    "            nn.Dropout(p=dropout*0.4),\n",
    "            nn.Conv2d(S*2, S*2, kernel_size=5, padding=2),\n",
    "            nn.ReLU(inplace=True),\n",
    "            nn.MaxPool2d(kernel_size=3, stride=2),\n",
    "            nn.Dropout(p=dropout*0.6),\n",
    "            nn.Conv2d(S*2, S, kernel_size=3, padding=1),\n",
    "            nn.ReLU(inplace=True),\n",
    "            nn.MaxPool2d(kernel_size=3, stride=2),\n",
    "            \n",
    "            nn.Flatten(),\n",
    "            nn.Dropout(p=dropout*0.8),\n",
    "            nn.Linear(S * 6 * 6, S*2),\n",
    "        )\n",
    "        \n",
    "        self.outputCombiner = nn.Sequential(\n",
    "            nn.ReLU(inplace=True),\n",
    "            nn.Dropout(p=dropout),\n",
    "            nn.Linear(S*4, S*3),\n",
    "            nn.ReLU(inplace=True),\n",
    "            nn.Dropout(p=dropout),\n",
    "            nn.Linear(S*3, S),\n",
    "            nn.ReLU(inplace=True),\n",
    "            nn.Dropout(p=dropout),\n",
    "            nn.Linear(S, num_classes),\n",
    "        )\n",
    "\n",
    "    def forward(self, images: torch.Tensor, edges: torch.Tensor) -> torch.Tensor:\n",
    "        \n",
    "        # Images\n",
    "        images = self.imagesClassifier(images)\n",
    "        \n",
    "        # Edges\n",
    "        edges = self.edgesClassifier(edges)\n",
    "        \n",
    "        # Combining outputs\n",
    "        concated = torch.cat((images, edges), 1)\n",
    "        res = self.outputCombiner(concated)\n",
    "        \n",
    "        return res"
   ]
  },
  {
   "cell_type": "code",
   "execution_count": 12,
   "metadata": {},
   "outputs": [],
   "source": [
    "# from src.models.custom import CustomModel\n",
    "\n",
    "# model = EarlyIntermediarySpaceModel(3, 0)\n",
    "model = IntermediarySpaceModel(4, 0.5)\n",
    "model = model.to(device)"
   ]
  },
  {
   "cell_type": "code",
   "execution_count": 13,
   "metadata": {},
   "outputs": [
    {
     "name": "stdout",
     "output_type": "stream",
     "text": [
      "287044\n",
      "287044\n"
     ]
    }
   ],
   "source": [
    "# print(sum(p.numel() for p in net.classifier.parameters()) ,sum(p.numel() for p in net.edgesClassifier.parameters()) )\n",
    "print(sum(p.numel() for p in model.parameters()))\n",
    "\n",
    "trainable_parameters = filter(lambda p: p.requires_grad, model.parameters())\n",
    "print(sum(p.numel() for p in trainable_parameters))"
   ]
  },
  {
   "cell_type": "markdown",
   "metadata": {},
   "source": [
    "### Training Loop"
   ]
  },
  {
   "cell_type": "markdown",
   "metadata": {},
   "source": [
    "#### Setting optimizer"
   ]
  },
  {
   "cell_type": "code",
   "execution_count": 14,
   "metadata": {},
   "outputs": [
    {
     "name": "stdout",
     "output_type": "stream",
     "text": [
      "{0: 2269, 2: 767, 1: 1524, 3: 176} tensor([2269.,  767., 1524.,  176.], device='cuda:0')\n"
     ]
    }
   ],
   "source": [
    "import torch.optim as optim\n",
    "from src.other import getClassesFrequency\n",
    "\n",
    "class_weights = getClassesFrequency(train_dataset)\n",
    "weights_tensor = torch.Tensor(list(class_weights.values())).to(device)\n",
    "print(class_weights, weights_tensor)\n",
    "\n",
    "criterion = nn.CrossEntropyLoss(weights_tensor)\n",
    "optimizer = optim.Adam(model.parameters(), lr=0.001)"
   ]
  },
  {
   "cell_type": "code",
   "execution_count": 15,
   "metadata": {},
   "outputs": [
    {
     "name": "stdout",
     "output_type": "stream",
     "text": [
      "0.9949047687155309\n"
     ]
    }
   ],
   "source": [
    "decayRate100 = 0.6\n",
    "decayRate1 = decayRate100**(1/100)\n",
    "my_lr_scheduler = torch.optim.lr_scheduler.ExponentialLR(optimizer=optimizer, gamma=decayRate1)\n",
    "\n",
    "print(decayRate1)"
   ]
  },
  {
   "cell_type": "code",
   "execution_count": 16,
   "metadata": {},
   "outputs": [],
   "source": [
    "def get_lr(optimizer):\n",
    "  for param_group in optimizer.param_groups:\n",
    "    return param_group['lr']"
   ]
  },
  {
   "cell_type": "markdown",
   "metadata": {},
   "source": [
    "#### Setting Logger"
   ]
  },
  {
   "cell_type": "code",
   "execution_count": 17,
   "metadata": {},
   "outputs": [],
   "source": [
    "# EXP_NAME = \"5/0\"\n",
    "# from torch.utils.tensorboard import SummaryWriter\n",
    "\n",
    "# logger = SummaryWriter(log_dir=f\"logs/experiments/{EXP_NAME}\")"
   ]
  },
  {
   "cell_type": "code",
   "execution_count": 18,
   "metadata": {},
   "outputs": [],
   "source": [
    "epochCounter = 0"
   ]
  },
  {
   "cell_type": "markdown",
   "metadata": {},
   "source": [
    "#### Training Loop"
   ]
  },
  {
   "cell_type": "code",
   "execution_count": 19,
   "metadata": {},
   "outputs": [],
   "source": [
    "from src.validation import validate\n",
    "\n",
    "def train_many(model, epochs_nr, logger = None, lr_scheduler = None, regularization_type = \"L2\", lambda_reg=0.01):\n",
    "    global epochCounter\n",
    "    \n",
    "    for epoch in range(0, epochs_nr):  # loop over the dataset multiple times\n",
    "        epoch_correct = 0\n",
    "        epoch_samples = 0\n",
    "        epoch_batches = 0\n",
    "        running_loss = 0.0\n",
    "    \n",
    "        for i, data in enumerate(train_loader, 0):\n",
    "\n",
    "            # get the inputs; data is a list of [inputs, labels]\n",
    "            images, edges, labels = data\n",
    "            images = images.to(device)\n",
    "            edges = edges.to(device)\n",
    "            labels = labels.to(device)\n",
    "            \n",
    "            # zero the parameter gradients\n",
    "            optimizer.zero_grad()\n",
    "            \n",
    "            # forward + backward + optimize\n",
    "            outputs = model(images, edges)\n",
    "            loss = criterion(outputs, labels)\n",
    "            \n",
    "            # Apply L1 regularization\n",
    "            if regularization_type == 'L1':\n",
    "                l1_norm = sum(p.abs().sum() for p in model.parameters())\n",
    "                loss += lambda_reg * l1_norm\n",
    "                \n",
    "            # Apply L2 regularization\n",
    "            elif regularization_type == 'L2':\n",
    "                l2_norm = sum(p.pow(2).sum() for p in model.parameters())\n",
    "                loss += lambda_reg * l2_norm\n",
    "                \n",
    "            loss.backward()\n",
    "            \n",
    "            optimizer.step()\n",
    "            \n",
    "            # Changing outputs (logits) to labels\n",
    "            outputs_clear = outputs.max(1).indices\n",
    "            \n",
    "            epoch_correct += (outputs_clear == labels).float().sum()\n",
    "            epoch_samples += len(outputs)\n",
    "            epoch_batches +=1\n",
    "            \n",
    "            running_loss += loss.item()\n",
    "        \n",
    "        tAccuracy = epoch_correct / epoch_samples * 100\n",
    "        tLoss = running_loss / epoch_batches\n",
    "        \n",
    "        # Validation\n",
    "        vAccuracy, vLoss = validate(model, val_loader, criterion, device)\n",
    "        \n",
    "        if logger != None:\n",
    "\n",
    "            logger.add_text(\"REGULARIZATION_TYPE\", regularization_type, global_step=epochCounter)\n",
    "            logger.add_scalar(\"REGULARIZATION_LAMBDA\", lambda_reg, global_step=epochCounter)\n",
    "            logger.add_scalar(\"learning_rate\", get_lr(optimizer), global_step=epochCounter)\n",
    "            \n",
    "            logger.add_scalar(\"Accuracy/train\", tAccuracy, global_step=epochCounter)\n",
    "            logger.add_scalar(\"Loss/train\", tLoss, global_step=epochCounter)\n",
    "            logger.add_scalar(\"Accuracy/validation\", vAccuracy, global_step=epochCounter)\n",
    "            logger.add_scalar(\"Loss/validation\", vLoss, global_step=epochCounter)\n",
    "        \n",
    "        print(f'Epoch {epochCounter}: Training: accuracy: {tAccuracy:.3f}%, loss: {tLoss:.3f}; Validation: accuracy: {vAccuracy:.3f}%, loss: {vLoss:.3f}')\n",
    "        \n",
    "        epochCounter += 1\n",
    "        \n",
    "        if lr_scheduler != None:\n",
    "            lr_scheduler.step()\n",
    "        \n",
    "        # print(\"lr= \" + str(get_lr(optimizer)))\n",
    "    print('Finished Training')"
   ]
  },
  {
   "cell_type": "markdown",
   "metadata": {},
   "source": [
    "#### Data Visualization"
   ]
  },
  {
   "cell_type": "code",
   "execution_count": 20,
   "metadata": {},
   "outputs": [],
   "source": [
    "import sklearn\n",
    "from sklearn.metrics import classification_report, confusion_matrix, ConfusionMatrixDisplay\n",
    "from tqdm import tqdm"
   ]
  },
  {
   "cell_type": "code",
   "execution_count": 21,
   "metadata": {},
   "outputs": [],
   "source": [
    "def visualize_cm(cm, true_labels, predicted_labels):\n",
    "    cmplot = ConfusionMatrixDisplay(confusion_matrix=cm, display_labels=range(4))\n",
    "    cmplot.plot(cmap = 'Blues')\n",
    "    plt.show()\n",
    "    \n",
    "def visualize(model, loader):\n",
    "    correct = 0\n",
    "    total = 0\n",
    "    model.eval()\n",
    "    predicted_labels = []\n",
    "    true_labels = []\n",
    "\n",
    "    with torch.no_grad():\n",
    "        for inputs, edges, labels in tqdm(loader):\n",
    "            inputs, edges, labels = inputs.to(device), edges.to(device), labels.to(device)\n",
    "            outputs = model(inputs, edges)\n",
    "            _, predicted = torch.max(outputs, 1)\n",
    "            total += labels.size(0)\n",
    "            correct += (predicted == labels).sum().item()\n",
    "            predicted_labels.extend(predicted.cpu().numpy())\n",
    "            true_labels.extend(labels.cpu().numpy())\n",
    "\n",
    "    print(f\"Test Accuracy: {100 * correct / total:.2f}%\")\n",
    "\n",
    "    print(classification_report(true_labels, predicted_labels, zero_division=np.nan))\n",
    "\n",
    "    cm = confusion_matrix(true_labels, predicted_labels)\n",
    "    visualize_cm(cm, true_labels, predicted_labels)"
   ]
  },
  {
   "cell_type": "markdown",
   "metadata": {},
   "source": [
    "### Training Model"
   ]
  },
  {
   "cell_type": "code",
   "execution_count": 22,
   "metadata": {},
   "outputs": [
    {
     "name": "stdout",
     "output_type": "stream",
     "text": [
      "Epoch 0: Training: accuracy: 37.458%, loss: 1.935; Validation: accuracy: 47.189%, loss: 1.034\n",
      "Epoch 1: Training: accuracy: 44.764%, loss: 1.362; Validation: accuracy: 48.521%, loss: 0.954\n",
      "Epoch 2: Training: accuracy: 46.178%, loss: 1.260; Validation: accuracy: 49.112%, loss: 0.897\n",
      "Epoch 3: Training: accuracy: 46.685%, loss: 1.218; Validation: accuracy: 49.704%, loss: 0.956\n",
      "Epoch 4: Training: accuracy: 47.192%, loss: 1.180; Validation: accuracy: 51.627%, loss: 0.896\n",
      "Epoch 5: Training: accuracy: 47.741%, loss: 1.145; Validation: accuracy: 52.367%, loss: 0.843\n",
      "Epoch 6: Training: accuracy: 47.340%, loss: 1.115; Validation: accuracy: 51.775%, loss: 0.815\n",
      "Epoch 7: Training: accuracy: 47.635%, loss: 1.065; Validation: accuracy: 51.479%, loss: 0.850\n",
      "Epoch 8: Training: accuracy: 47.846%, loss: 1.031; Validation: accuracy: 51.627%, loss: 0.809\n",
      "Epoch 9: Training: accuracy: 47.889%, loss: 0.992; Validation: accuracy: 51.627%, loss: 0.717\n",
      "Epoch 10: Training: accuracy: 47.931%, loss: 0.972; Validation: accuracy: 51.627%, loss: 0.752\n",
      "Epoch 11: Training: accuracy: 47.889%, loss: 0.931; Validation: accuracy: 51.627%, loss: 0.707\n",
      "Epoch 12: Training: accuracy: 47.910%, loss: 0.896; Validation: accuracy: 51.627%, loss: 0.694\n",
      "Epoch 13: Training: accuracy: 47.931%, loss: 0.871; Validation: accuracy: 51.627%, loss: 0.698\n",
      "Epoch 14: Training: accuracy: 48.796%, loss: 0.859; Validation: accuracy: 52.367%, loss: 0.733\n",
      "Epoch 15: Training: accuracy: 52.724%, loss: 0.833; Validation: accuracy: 54.586%, loss: 0.722\n",
      "Epoch 16: Training: accuracy: 55.469%, loss: 0.802; Validation: accuracy: 57.249%, loss: 0.627\n",
      "Epoch 17: Training: accuracy: 56.883%, loss: 0.785; Validation: accuracy: 57.840%, loss: 0.647\n",
      "Epoch 18: Training: accuracy: 58.129%, loss: 0.769; Validation: accuracy: 59.763%, loss: 0.602\n",
      "Epoch 19: Training: accuracy: 58.552%, loss: 0.739; Validation: accuracy: 61.686%, loss: 0.580\n",
      "Epoch 20: Training: accuracy: 59.417%, loss: 0.719; Validation: accuracy: 60.651%, loss: 0.629\n",
      "Epoch 21: Training: accuracy: 59.692%, loss: 0.707; Validation: accuracy: 60.503%, loss: 0.670\n",
      "Epoch 22: Training: accuracy: 60.473%, loss: 0.686; Validation: accuracy: 60.207%, loss: 0.623\n",
      "Epoch 23: Training: accuracy: 59.502%, loss: 0.712; Validation: accuracy: 58.876%, loss: 0.622\n",
      "Epoch 24: Training: accuracy: 60.367%, loss: 0.679; Validation: accuracy: 61.538%, loss: 0.587\n",
      "Epoch 25: Training: accuracy: 61.022%, loss: 0.661; Validation: accuracy: 61.391%, loss: 0.569\n",
      "Epoch 26: Training: accuracy: 60.790%, loss: 0.662; Validation: accuracy: 60.947%, loss: 0.576\n",
      "Epoch 27: Training: accuracy: 61.634%, loss: 0.636; Validation: accuracy: 61.834%, loss: 0.598\n",
      "Epoch 28: Training: accuracy: 61.339%, loss: 0.652; Validation: accuracy: 60.947%, loss: 0.582\n",
      "Epoch 29: Training: accuracy: 62.120%, loss: 0.626; Validation: accuracy: 61.538%, loss: 0.734\n",
      "Epoch 30: Training: accuracy: 61.972%, loss: 0.633; Validation: accuracy: 61.391%, loss: 0.600\n",
      "Epoch 31: Training: accuracy: 62.901%, loss: 0.614; Validation: accuracy: 62.130%, loss: 0.606\n",
      "Epoch 32: Training: accuracy: 62.183%, loss: 0.613; Validation: accuracy: 60.503%, loss: 0.587\n",
      "Epoch 33: Training: accuracy: 62.247%, loss: 0.621; Validation: accuracy: 61.243%, loss: 0.598\n",
      "Epoch 34: Training: accuracy: 63.281%, loss: 0.613; Validation: accuracy: 61.243%, loss: 0.566\n",
      "Epoch 35: Training: accuracy: 62.099%, loss: 0.626; Validation: accuracy: 59.467%, loss: 0.597\n",
      "Epoch 36: Training: accuracy: 63.091%, loss: 0.591; Validation: accuracy: 63.166%, loss: 0.584\n",
      "Epoch 37: Training: accuracy: 64.443%, loss: 0.581; Validation: accuracy: 63.166%, loss: 0.569\n",
      "Epoch 38: Training: accuracy: 63.830%, loss: 0.585; Validation: accuracy: 63.905%, loss: 0.527\n",
      "Epoch 39: Training: accuracy: 64.992%, loss: 0.578; Validation: accuracy: 63.018%, loss: 0.567\n",
      "Epoch 40: Training: accuracy: 66.448%, loss: 0.557; Validation: accuracy: 63.905%, loss: 0.520\n",
      "Epoch 41: Training: accuracy: 67.483%, loss: 0.539; Validation: accuracy: 64.349%, loss: 0.575\n",
      "Epoch 42: Training: accuracy: 68.433%, loss: 0.550; Validation: accuracy: 65.089%, loss: 0.613\n",
      "Epoch 43: Training: accuracy: 68.602%, loss: 0.534; Validation: accuracy: 63.905%, loss: 0.580\n",
      "Epoch 44: Training: accuracy: 67.124%, loss: 0.530; Validation: accuracy: 64.497%, loss: 0.654\n",
      "Epoch 45: Training: accuracy: 67.905%, loss: 0.560; Validation: accuracy: 65.089%, loss: 0.585\n",
      "Epoch 46: Training: accuracy: 68.813%, loss: 0.546; Validation: accuracy: 65.976%, loss: 0.628\n",
      "Epoch 47: Training: accuracy: 69.658%, loss: 0.536; Validation: accuracy: 64.941%, loss: 0.623\n",
      "Epoch 48: Training: accuracy: 70.777%, loss: 0.527; Validation: accuracy: 63.905%, loss: 0.707\n",
      "Epoch 49: Training: accuracy: 69.954%, loss: 0.528; Validation: accuracy: 66.420%, loss: 0.592\n",
      "Epoch 50: Training: accuracy: 70.671%, loss: 0.526; Validation: accuracy: 65.680%, loss: 0.654\n",
      "Epoch 51: Training: accuracy: 70.291%, loss: 0.532; Validation: accuracy: 66.420%, loss: 0.631\n",
      "Epoch 52: Training: accuracy: 68.412%, loss: 0.534; Validation: accuracy: 67.308%, loss: 0.683\n",
      "Epoch 53: Training: accuracy: 71.410%, loss: 0.515; Validation: accuracy: 65.533%, loss: 0.630\n",
      "Epoch 54: Training: accuracy: 70.904%, loss: 0.520; Validation: accuracy: 63.462%, loss: 0.757\n",
      "Epoch 55: Training: accuracy: 70.798%, loss: 0.512; Validation: accuracy: 66.864%, loss: 0.651\n",
      "Epoch 56: Training: accuracy: 71.981%, loss: 0.499; Validation: accuracy: 68.343%, loss: 0.597\n",
      "Epoch 57: Training: accuracy: 71.622%, loss: 0.520; Validation: accuracy: 65.828%, loss: 0.578\n",
      "Epoch 58: Training: accuracy: 74.029%, loss: 0.492; Validation: accuracy: 69.970%, loss: 0.549\n",
      "Epoch 59: Training: accuracy: 75.486%, loss: 0.479; Validation: accuracy: 66.124%, loss: 0.638\n",
      "Epoch 60: Training: accuracy: 72.065%, loss: 0.501; Validation: accuracy: 67.604%, loss: 0.591\n",
      "Epoch 61: Training: accuracy: 72.994%, loss: 0.509; Validation: accuracy: 64.793%, loss: 0.643\n",
      "Epoch 62: Training: accuracy: 73.395%, loss: 0.490; Validation: accuracy: 67.456%, loss: 0.756\n",
      "Epoch 63: Training: accuracy: 74.282%, loss: 0.498; Validation: accuracy: 67.456%, loss: 0.625\n",
      "Epoch 64: Training: accuracy: 75.697%, loss: 0.483; Validation: accuracy: 68.787%, loss: 0.613\n",
      "Epoch 65: Training: accuracy: 75.633%, loss: 0.483; Validation: accuracy: 67.456%, loss: 0.671\n",
      "Epoch 66: Training: accuracy: 75.845%, loss: 0.477; Validation: accuracy: 69.379%, loss: 0.668\n",
      "Epoch 67: Training: accuracy: 76.098%, loss: 0.463; Validation: accuracy: 67.604%, loss: 0.612\n",
      "Epoch 68: Training: accuracy: 74.789%, loss: 0.473; Validation: accuracy: 66.124%, loss: 0.717\n",
      "Epoch 69: Training: accuracy: 75.633%, loss: 0.462; Validation: accuracy: 70.562%, loss: 0.624\n",
      "Epoch 70: Training: accuracy: 76.499%, loss: 0.462; Validation: accuracy: 67.751%, loss: 0.755\n",
      "Epoch 71: Training: accuracy: 76.140%, loss: 0.477; Validation: accuracy: 66.716%, loss: 0.719\n",
      "Epoch 72: Training: accuracy: 74.367%, loss: 0.495; Validation: accuracy: 69.675%, loss: 0.555\n",
      "Epoch 73: Training: accuracy: 76.626%, loss: 0.463; Validation: accuracy: 69.675%, loss: 0.684\n",
      "Epoch 74: Training: accuracy: 77.914%, loss: 0.454; Validation: accuracy: 67.160%, loss: 0.717\n",
      "Epoch 75: Training: accuracy: 78.948%, loss: 0.435; Validation: accuracy: 69.527%, loss: 0.654\n",
      "Epoch 76: Training: accuracy: 79.265%, loss: 0.435; Validation: accuracy: 70.710%, loss: 0.716\n",
      "Epoch 77: Training: accuracy: 77.513%, loss: 0.462; Validation: accuracy: 66.864%, loss: 0.698\n",
      "Epoch 78: Training: accuracy: 77.893%, loss: 0.454; Validation: accuracy: 68.639%, loss: 0.662\n",
      "Epoch 79: Training: accuracy: 78.062%, loss: 0.450; Validation: accuracy: 65.680%, loss: 0.717\n",
      "Epoch 80: Training: accuracy: 77.829%, loss: 0.454; Validation: accuracy: 69.379%, loss: 0.564\n",
      "Epoch 81: Training: accuracy: 77.956%, loss: 0.442; Validation: accuracy: 68.195%, loss: 0.767\n",
      "Epoch 82: Training: accuracy: 80.236%, loss: 0.441; Validation: accuracy: 69.379%, loss: 0.693\n",
      "Epoch 83: Training: accuracy: 79.392%, loss: 0.424; Validation: accuracy: 67.456%, loss: 0.660\n",
      "Epoch 84: Training: accuracy: 77.111%, loss: 0.460; Validation: accuracy: 68.343%, loss: 0.676\n",
      "Epoch 85: Training: accuracy: 79.709%, loss: 0.436; Validation: accuracy: 68.195%, loss: 0.764\n",
      "Epoch 86: Training: accuracy: 78.632%, loss: 0.448; Validation: accuracy: 68.787%, loss: 0.721\n",
      "Epoch 87: Training: accuracy: 80.384%, loss: 0.426; Validation: accuracy: 69.527%, loss: 0.719\n",
      "Epoch 88: Training: accuracy: 80.490%, loss: 0.420; Validation: accuracy: 68.491%, loss: 0.740\n",
      "Epoch 89: Training: accuracy: 80.300%, loss: 0.428; Validation: accuracy: 67.604%, loss: 0.672\n",
      "Epoch 90: Training: accuracy: 80.321%, loss: 0.421; Validation: accuracy: 69.675%, loss: 0.635\n",
      "Epoch 91: Training: accuracy: 80.701%, loss: 0.424; Validation: accuracy: 71.598%, loss: 0.672\n",
      "Epoch 92: Training: accuracy: 80.764%, loss: 0.422; Validation: accuracy: 69.970%, loss: 0.660\n",
      "Epoch 93: Training: accuracy: 81.419%, loss: 0.426; Validation: accuracy: 69.083%, loss: 0.709\n",
      "Epoch 94: Training: accuracy: 80.574%, loss: 0.416; Validation: accuracy: 67.751%, loss: 0.798\n",
      "Epoch 95: Training: accuracy: 79.265%, loss: 0.435; Validation: accuracy: 68.343%, loss: 0.635\n",
      "Epoch 96: Training: accuracy: 79.519%, loss: 0.441; Validation: accuracy: 66.272%, loss: 0.847\n",
      "Epoch 97: Training: accuracy: 81.187%, loss: 0.415; Validation: accuracy: 67.160%, loss: 0.729\n",
      "Epoch 98: Training: accuracy: 80.638%, loss: 0.410; Validation: accuracy: 69.527%, loss: 0.876\n",
      "Epoch 99: Training: accuracy: 81.292%, loss: 0.409; Validation: accuracy: 69.970%, loss: 0.650\n",
      "Finished Training\n"
     ]
    }
   ],
   "source": [
    "train_many(model, 100, None, my_lr_scheduler, \"L2\", 0.003)"
   ]
  },
  {
   "cell_type": "code",
   "execution_count": 23,
   "metadata": {},
   "outputs": [
    {
     "name": "stderr",
     "output_type": "stream",
     "text": [
      "100%|██████████| 11/11 [00:00<00:00, 41.31it/s]\n"
     ]
    },
    {
     "name": "stdout",
     "output_type": "stream",
     "text": [
      "Test Accuracy: 70.66%\n",
      "              precision    recall  f1-score   support\n",
      "\n",
      "           0       0.77      0.90      0.83       635\n",
      "           1       0.66      0.45      0.54       432\n",
      "           2       0.60      0.84      0.70       227\n",
      "           3        nan      0.00      0.00        59\n",
      "\n",
      "    accuracy                           0.71      1353\n",
      "   macro avg       0.68      0.55      0.52      1353\n",
      "weighted avg       0.70      0.71      0.68      1353\n",
      "\n"
     ]
    },
    {
     "data": {
      "image/png": "[encoded data removed]",
      "text/plain": [
       "<Figure size 640x480 with 2 Axes>"
      ]
     },
     "metadata": {},
     "output_type": "display_data"
    }
   ],
   "source": [
    "visualize(model, test_loader)"
   ]
  },
  {
   "cell_type": "code",
   "execution_count": 24,
   "metadata": {},
   "outputs": [
    {
     "name": "stdout",
     "output_type": "stream",
     "text": [
      "Epoch 100: Training: accuracy: 92.103%, loss: 0.235; Validation: accuracy: 72.633%, loss: 0.889\n",
      "Epoch 101: Training: accuracy: 94.447%, loss: 0.191; Validation: accuracy: 72.929%, loss: 0.974\n",
      "Epoch 102: Training: accuracy: 95.334%, loss: 0.172; Validation: accuracy: 71.302%, loss: 1.402\n",
      "Epoch 103: Training: accuracy: 95.650%, loss: 0.162; Validation: accuracy: 73.225%, loss: 1.176\n",
      "Epoch 104: Training: accuracy: 95.988%, loss: 0.153; Validation: accuracy: 72.485%, loss: 1.260\n",
      "Epoch 105: Training: accuracy: 96.157%, loss: 0.146; Validation: accuracy: 72.485%, loss: 1.280\n",
      "Epoch 106: Training: accuracy: 96.178%, loss: 0.141; Validation: accuracy: 72.189%, loss: 1.301\n",
      "Epoch 107: Training: accuracy: 96.178%, loss: 0.137; Validation: accuracy: 72.337%, loss: 1.349\n",
      "Epoch 108: Training: accuracy: 96.242%, loss: 0.133; Validation: accuracy: 71.598%, loss: 1.538\n",
      "Epoch 109: Training: accuracy: 96.242%, loss: 0.130; Validation: accuracy: 72.485%, loss: 1.367\n",
      "Epoch 110: Training: accuracy: 96.263%, loss: 0.127; Validation: accuracy: 72.485%, loss: 1.532\n",
      "Epoch 111: Training: accuracy: 96.284%, loss: 0.124; Validation: accuracy: 70.562%, loss: 1.629\n",
      "Epoch 112: Training: accuracy: 96.495%, loss: 0.121; Validation: accuracy: 71.450%, loss: 1.633\n",
      "Epoch 113: Training: accuracy: 96.685%, loss: 0.119; Validation: accuracy: 72.485%, loss: 1.797\n",
      "Epoch 114: Training: accuracy: 97.340%, loss: 0.116; Validation: accuracy: 71.154%, loss: 1.547\n",
      "Epoch 115: Training: accuracy: 97.508%, loss: 0.114; Validation: accuracy: 71.893%, loss: 1.434\n",
      "Epoch 116: Training: accuracy: 97.762%, loss: 0.112; Validation: accuracy: 70.858%, loss: 1.849\n",
      "Epoch 117: Training: accuracy: 98.036%, loss: 0.110; Validation: accuracy: 71.006%, loss: 1.770\n",
      "Epoch 118: Training: accuracy: 98.036%, loss: 0.108; Validation: accuracy: 71.450%, loss: 1.683\n",
      "Epoch 119: Training: accuracy: 98.818%, loss: 0.106; Validation: accuracy: 71.598%, loss: 1.597\n",
      "Epoch 120: Training: accuracy: 98.923%, loss: 0.103; Validation: accuracy: 71.450%, loss: 1.819\n",
      "Epoch 121: Training: accuracy: 99.198%, loss: 0.101; Validation: accuracy: 70.858%, loss: 1.581\n",
      "Epoch 122: Training: accuracy: 99.261%, loss: 0.100; Validation: accuracy: 71.006%, loss: 1.718\n",
      "Epoch 123: Training: accuracy: 99.261%, loss: 0.098; Validation: accuracy: 70.562%, loss: 1.781\n",
      "Epoch 124: Training: accuracy: 98.311%, loss: 0.099; Validation: accuracy: 70.710%, loss: 1.423\n",
      "Epoch 125: Training: accuracy: 96.368%, loss: 0.108; Validation: accuracy: 69.822%, loss: 1.776\n",
      "Epoch 126: Training: accuracy: 96.326%, loss: 0.108; Validation: accuracy: 72.337%, loss: 1.456\n",
      "Epoch 127: Training: accuracy: 96.368%, loss: 0.107; Validation: accuracy: 71.302%, loss: 1.358\n",
      "Epoch 128: Training: accuracy: 92.378%, loss: 0.177; Validation: accuracy: 71.893%, loss: 0.862\n",
      "Epoch 129: Training: accuracy: 90.477%, loss: 0.218; Validation: accuracy: 73.225%, loss: 0.769\n",
      "Epoch 130: Training: accuracy: 92.610%, loss: 0.176; Validation: accuracy: 73.225%, loss: 1.018\n",
      "Epoch 131: Training: accuracy: 95.144%, loss: 0.133; Validation: accuracy: 72.633%, loss: 1.144\n",
      "Epoch 132: Training: accuracy: 95.756%, loss: 0.120; Validation: accuracy: 71.893%, loss: 1.200\n",
      "Epoch 133: Training: accuracy: 95.883%, loss: 0.117; Validation: accuracy: 71.598%, loss: 1.335\n",
      "Epoch 134: Training: accuracy: 96.073%, loss: 0.113; Validation: accuracy: 70.266%, loss: 1.673\n",
      "Epoch 135: Training: accuracy: 96.305%, loss: 0.108; Validation: accuracy: 71.746%, loss: 1.493\n",
      "Epoch 136: Training: accuracy: 96.664%, loss: 0.103; Validation: accuracy: 72.485%, loss: 1.550\n",
      "Epoch 137: Training: accuracy: 98.416%, loss: 0.098; Validation: accuracy: 71.450%, loss: 1.578\n",
      "Epoch 138: Training: accuracy: 98.796%, loss: 0.096; Validation: accuracy: 71.893%, loss: 1.557\n",
      "Epoch 139: Training: accuracy: 99.282%, loss: 0.093; Validation: accuracy: 71.450%, loss: 1.556\n",
      "Epoch 140: Training: accuracy: 99.641%, loss: 0.091; Validation: accuracy: 71.302%, loss: 1.672\n",
      "Epoch 141: Training: accuracy: 99.641%, loss: 0.090; Validation: accuracy: 71.154%, loss: 1.429\n",
      "Epoch 142: Training: accuracy: 99.747%, loss: 0.088; Validation: accuracy: 72.337%, loss: 1.609\n",
      "Epoch 143: Training: accuracy: 99.662%, loss: 0.087; Validation: accuracy: 69.970%, loss: 1.783\n",
      "Epoch 144: Training: accuracy: 99.726%, loss: 0.086; Validation: accuracy: 70.266%, loss: 1.541\n",
      "Epoch 145: Training: accuracy: 99.768%, loss: 0.085; Validation: accuracy: 69.379%, loss: 1.596\n",
      "Epoch 146: Training: accuracy: 99.810%, loss: 0.083; Validation: accuracy: 68.195%, loss: 1.716\n",
      "Epoch 147: Training: accuracy: 99.852%, loss: 0.082; Validation: accuracy: 71.450%, loss: 1.674\n",
      "Epoch 148: Training: accuracy: 99.831%, loss: 0.081; Validation: accuracy: 68.935%, loss: 1.744\n",
      "Epoch 149: Training: accuracy: 99.852%, loss: 0.080; Validation: accuracy: 69.379%, loss: 1.750\n",
      "Epoch 150: Training: accuracy: 99.831%, loss: 0.079; Validation: accuracy: 69.675%, loss: 1.649\n",
      "Epoch 151: Training: accuracy: 99.852%, loss: 0.078; Validation: accuracy: 69.527%, loss: 1.581\n",
      "Epoch 152: Training: accuracy: 99.852%, loss: 0.077; Validation: accuracy: 68.935%, loss: 1.800\n",
      "Epoch 153: Training: accuracy: 99.852%, loss: 0.076; Validation: accuracy: 69.231%, loss: 1.772\n",
      "Epoch 154: Training: accuracy: 99.789%, loss: 0.075; Validation: accuracy: 69.675%, loss: 1.565\n",
      "Epoch 155: Training: accuracy: 99.789%, loss: 0.074; Validation: accuracy: 68.787%, loss: 1.581\n",
      "Epoch 156: Training: accuracy: 99.810%, loss: 0.074; Validation: accuracy: 69.970%, loss: 1.783\n",
      "Epoch 157: Training: accuracy: 99.704%, loss: 0.073; Validation: accuracy: 69.675%, loss: 2.048\n",
      "Epoch 158: Training: accuracy: 99.662%, loss: 0.072; Validation: accuracy: 70.414%, loss: 1.696\n",
      "Epoch 159: Training: accuracy: 99.367%, loss: 0.073; Validation: accuracy: 70.266%, loss: 1.475\n",
      "Epoch 160: Training: accuracy: 97.466%, loss: 0.087; Validation: accuracy: 68.195%, loss: 1.842\n",
      "Epoch 161: Training: accuracy: 94.193%, loss: 0.130; Validation: accuracy: 68.935%, loss: 1.398\n",
      "Epoch 162: Training: accuracy: 91.934%, loss: 0.168; Validation: accuracy: 71.598%, loss: 1.229\n",
      "Epoch 163: Training: accuracy: 92.546%, loss: 0.160; Validation: accuracy: 70.118%, loss: 1.048\n",
      "Epoch 164: Training: accuracy: 93.560%, loss: 0.137; Validation: accuracy: 72.041%, loss: 1.146\n",
      "Epoch 165: Training: accuracy: 95.249%, loss: 0.114; Validation: accuracy: 71.006%, loss: 1.133\n",
      "Epoch 166: Training: accuracy: 95.650%, loss: 0.103; Validation: accuracy: 68.787%, loss: 1.283\n",
      "Epoch 167: Training: accuracy: 96.432%, loss: 0.090; Validation: accuracy: 70.414%, loss: 1.510\n",
      "Epoch 168: Training: accuracy: 97.593%, loss: 0.085; Validation: accuracy: 71.006%, loss: 1.483\n",
      "Epoch 169: Training: accuracy: 98.691%, loss: 0.081; Validation: accuracy: 70.266%, loss: 1.607\n",
      "Epoch 170: Training: accuracy: 99.557%, loss: 0.079; Validation: accuracy: 69.970%, loss: 1.669\n",
      "Epoch 171: Training: accuracy: 99.768%, loss: 0.078; Validation: accuracy: 70.562%, loss: 1.557\n",
      "Epoch 172: Training: accuracy: 99.894%, loss: 0.076; Validation: accuracy: 70.710%, loss: 1.652\n",
      "Epoch 173: Training: accuracy: 99.894%, loss: 0.075; Validation: accuracy: 69.527%, loss: 1.748\n",
      "Epoch 174: Training: accuracy: 99.937%, loss: 0.074; Validation: accuracy: 70.118%, loss: 1.708\n",
      "Epoch 175: Training: accuracy: 99.937%, loss: 0.073; Validation: accuracy: 69.527%, loss: 1.789\n",
      "Epoch 176: Training: accuracy: 99.937%, loss: 0.072; Validation: accuracy: 69.822%, loss: 1.731\n",
      "Epoch 177: Training: accuracy: 99.894%, loss: 0.071; Validation: accuracy: 70.118%, loss: 1.893\n",
      "Epoch 178: Training: accuracy: 99.958%, loss: 0.070; Validation: accuracy: 68.935%, loss: 1.840\n",
      "Epoch 179: Training: accuracy: 99.958%, loss: 0.069; Validation: accuracy: 69.083%, loss: 1.842\n",
      "Epoch 180: Training: accuracy: 99.937%, loss: 0.068; Validation: accuracy: 68.639%, loss: 2.047\n",
      "Epoch 181: Training: accuracy: 99.958%, loss: 0.068; Validation: accuracy: 69.231%, loss: 1.976\n",
      "Epoch 182: Training: accuracy: 99.958%, loss: 0.067; Validation: accuracy: 68.491%, loss: 1.831\n",
      "Epoch 183: Training: accuracy: 99.852%, loss: 0.067; Validation: accuracy: 68.639%, loss: 1.885\n",
      "Epoch 184: Training: accuracy: 99.916%, loss: 0.066; Validation: accuracy: 68.047%, loss: 1.805\n",
      "Epoch 185: Training: accuracy: 99.958%, loss: 0.065; Validation: accuracy: 68.787%, loss: 2.059\n",
      "Epoch 186: Training: accuracy: 99.958%, loss: 0.064; Validation: accuracy: 68.491%, loss: 1.892\n",
      "Epoch 187: Training: accuracy: 99.958%, loss: 0.064; Validation: accuracy: 68.787%, loss: 1.874\n",
      "Epoch 188: Training: accuracy: 99.958%, loss: 0.063; Validation: accuracy: 68.639%, loss: 1.912\n",
      "Epoch 189: Training: accuracy: 99.894%, loss: 0.063; Validation: accuracy: 68.343%, loss: 1.767\n",
      "Epoch 190: Training: accuracy: 99.704%, loss: 0.063; Validation: accuracy: 69.527%, loss: 2.008\n",
      "Epoch 191: Training: accuracy: 99.852%, loss: 0.062; Validation: accuracy: 69.379%, loss: 2.028\n",
      "Epoch 192: Training: accuracy: 99.916%, loss: 0.061; Validation: accuracy: 69.083%, loss: 1.842\n",
      "Epoch 193: Training: accuracy: 99.937%, loss: 0.060; Validation: accuracy: 68.787%, loss: 1.839\n",
      "Epoch 194: Training: accuracy: 99.958%, loss: 0.060; Validation: accuracy: 69.083%, loss: 1.777\n",
      "Epoch 195: Training: accuracy: 99.768%, loss: 0.060; Validation: accuracy: 69.970%, loss: 1.787\n",
      "Epoch 196: Training: accuracy: 75.802%, loss: 0.467; Validation: accuracy: 70.118%, loss: 0.615\n",
      "Epoch 197: Training: accuracy: 85.114%, loss: 0.272; Validation: accuracy: 72.485%, loss: 0.608\n",
      "Epoch 198: Training: accuracy: 92.905%, loss: 0.154; Validation: accuracy: 70.858%, loss: 0.856\n",
      "Epoch 199: Training: accuracy: 95.017%, loss: 0.114; Validation: accuracy: 69.379%, loss: 1.078\n",
      "Finished Training\n"
     ]
    }
   ],
   "source": [
    "train_many(model, 100, None, my_lr_scheduler, \"L2\", 0.003)"
   ]
  },
  {
   "cell_type": "code",
   "execution_count": 25,
   "metadata": {},
   "outputs": [
    {
     "name": "stderr",
     "output_type": "stream",
     "text": [
      "100%|██████████| 11/11 [00:00<00:00, 40.09it/s]\n"
     ]
    },
    {
     "name": "stdout",
     "output_type": "stream",
     "text": [
      "Test Accuracy: 69.48%\n",
      "              precision    recall  f1-score   support\n",
      "\n",
      "           0       0.80      0.82      0.81       635\n",
      "           1       0.56      0.63      0.59       432\n",
      "           2       0.68      0.67      0.67       227\n",
      "           3        nan      0.00      0.00        59\n",
      "\n",
      "    accuracy                           0.69      1353\n",
      "   macro avg       0.68      0.53      0.52      1353\n",
      "weighted avg       0.70      0.69      0.68      1353\n",
      "\n"
     ]
    },
    {
     "data": {
      "image/png": "[encoded data removed]",
      "text/plain": [
       "<Figure size 640x480 with 2 Axes>"
      ]
     },
     "metadata": {},
     "output_type": "display_data"
    }
   ],
   "source": [
    "visualize(model, test_loader)"
   ]
  },
  {
   "cell_type": "code",
   "execution_count": 28,
   "metadata": {},
   "outputs": [
    {
     "name": "stderr",
     "output_type": "stream",
     "text": [
      "100%|██████████| 37/37 [00:00<00:00, 37.91it/s]"
     ]
    },
    {
     "name": "stdout",
     "output_type": "stream",
     "text": [
      "Test Accuracy: 96.01%\n",
      "              precision    recall  f1-score   support\n",
      "\n",
      "           0       1.00      1.00      1.00      2269\n",
      "           1       0.95      0.99      0.97      1524\n",
      "           2       0.89      1.00      0.94       767\n",
      "           3        nan      0.00      0.00       176\n",
      "\n",
      "    accuracy                           0.96      4736\n",
      "   macro avg       0.94      0.75      0.73      4736\n",
      "weighted avg       0.96      0.96      0.94      4736\n",
      "\n"
     ]
    },
    {
     "name": "stderr",
     "output_type": "stream",
     "text": [
      "\n"
     ]
    },
    {
     "data": {
      "image/png": "[encoded data removed]",
      "text/plain": [
       "<Figure size 640x480 with 2 Axes>"
      ]
     },
     "metadata": {},
     "output_type": "display_data"
    }
   ],
   "source": [
    "visualize(model, train_loader)"
   ]
  },
  {
   "cell_type": "code",
   "execution_count": 29,
   "metadata": {},
   "outputs": [
    {
     "name": "stdout",
     "output_type": "stream",
     "text": [
      "Epoch 200: Training: accuracy: 96.030%, loss: 0.095; Validation: accuracy: 71.746%, loss: 1.184\n",
      "Epoch 201: Training: accuracy: 96.263%, loss: 0.085; Validation: accuracy: 72.337%, loss: 1.193\n",
      "Epoch 202: Training: accuracy: 96.537%, loss: 0.080; Validation: accuracy: 70.710%, loss: 1.316\n",
      "Epoch 203: Training: accuracy: 97.825%, loss: 0.077; Validation: accuracy: 70.710%, loss: 1.488\n",
      "Epoch 204: Training: accuracy: 98.501%, loss: 0.075; Validation: accuracy: 71.154%, loss: 1.521\n",
      "Epoch 205: Training: accuracy: 99.198%, loss: 0.073; Validation: accuracy: 71.450%, loss: 1.510\n",
      "Epoch 206: Training: accuracy: 99.430%, loss: 0.072; Validation: accuracy: 70.710%, loss: 1.604\n",
      "Epoch 207: Training: accuracy: 99.704%, loss: 0.071; Validation: accuracy: 70.562%, loss: 1.648\n",
      "Epoch 208: Training: accuracy: 99.831%, loss: 0.070; Validation: accuracy: 70.562%, loss: 1.490\n",
      "Epoch 209: Training: accuracy: 99.873%, loss: 0.069; Validation: accuracy: 70.710%, loss: 1.563\n",
      "Finished Training\n"
     ]
    }
   ],
   "source": [
    "train_many(model, 10, None, my_lr_scheduler, \"L2\", 0.003)"
   ]
  },
  {
   "cell_type": "code",
   "execution_count": 30,
   "metadata": {},
   "outputs": [
    {
     "name": "stderr",
     "output_type": "stream",
     "text": [
      "100%|██████████| 37/37 [00:00<00:00, 38.55it/s]"
     ]
    },
    {
     "name": "stdout",
     "output_type": "stream",
     "text": [
      "Test Accuracy: 99.89%\n",
      "              precision    recall  f1-score   support\n",
      "\n",
      "           0       1.00      1.00      1.00      2269\n",
      "           1       1.00      1.00      1.00      1524\n",
      "           2       0.99      1.00      1.00       767\n",
      "           3       1.00      0.97      0.99       176\n",
      "\n",
      "    accuracy                           1.00      4736\n",
      "   macro avg       1.00      0.99      1.00      4736\n",
      "weighted avg       1.00      1.00      1.00      4736\n",
      "\n"
     ]
    },
    {
     "name": "stderr",
     "output_type": "stream",
     "text": [
      "\n"
     ]
    },
    {
     "data": {
      "image/png": "[encoded data removed]",
      "text/plain": [
       "<Figure size 640x480 with 2 Axes>"
      ]
     },
     "metadata": {},
     "output_type": "display_data"
    }
   ],
   "source": [
    "visualize(model, train_loader)"
   ]
  },
  {
   "cell_type": "code",
   "execution_count": 31,
   "metadata": {},
   "outputs": [
    {
     "name": "stderr",
     "output_type": "stream",
     "text": [
      "100%|██████████| 11/11 [00:00<00:00, 38.53it/s]\n"
     ]
    },
    {
     "name": "stdout",
     "output_type": "stream",
     "text": [
      "Test Accuracy: 69.55%\n",
      "              precision    recall  f1-score   support\n",
      "\n",
      "           0       0.79      0.84      0.82       635\n",
      "           1       0.59      0.57      0.58       432\n",
      "           2       0.72      0.65      0.68       227\n",
      "           3       0.19      0.17      0.18        59\n",
      "\n",
      "    accuracy                           0.70      1353\n",
      "   macro avg       0.57      0.56      0.57      1353\n",
      "weighted avg       0.69      0.70      0.69      1353\n",
      "\n"
     ]
    },
    {
     "data": {
      "image/png": "[encoded data removed]",
      "text/plain": [
       "<Figure size 640x480 with 2 Axes>"
      ]
     },
     "metadata": {},
     "output_type": "display_data"
    }
   ],
   "source": [
    "visualize(model, test_loader)"
   ]
  },
  {
   "cell_type": "code",
   "execution_count": 32,
   "metadata": {},
   "outputs": [
    {
     "name": "stderr",
     "output_type": "stream",
     "text": [
      "100%|██████████| 6/6 [00:00<00:00, 38.27it/s]\n"
     ]
    },
    {
     "name": "stdout",
     "output_type": "stream",
     "text": [
      "Test Accuracy: 70.71%\n",
      "              precision    recall  f1-score   support\n",
      "\n",
      "           0       0.80      0.84      0.82       349\n",
      "           1       0.61      0.59      0.60       219\n",
      "           2       0.75      0.54      0.63        92\n",
      "           3       0.13      0.25      0.17        16\n",
      "\n",
      "    accuracy                           0.71       676\n",
      "   macro avg       0.57      0.56      0.56       676\n",
      "weighted avg       0.72      0.71      0.71       676\n",
      "\n"
     ]
    },
    {
     "data": {
      "image/png": "[encoded data removed]",
      "text/plain": [
       "<Figure size 640x480 with 2 Axes>"
      ]
     },
     "metadata": {},
     "output_type": "display_data"
    }
   ],
   "source": [
    "visualize(model, val_loader)"
   ]
  }
 ],
 "metadata": {
  "kernelspec": {
   "display_name": "pawel",
   "language": "python",
   "name": "python3"
  },
  "language_info": {
   "codemirror_mode": {
    "name": "ipython",
    "version": 3
   },
   "file_extension": ".py",
   "mimetype": "text/x-python",
   "name": "python",
   "nbconvert_exporter": "python",
   "pygments_lexer": "ipython3",
   "version": "3.9.21"
  }
 },
 "nbformat": 4,
 "nbformat_minor": 2
}
