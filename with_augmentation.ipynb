{
 "cells": [
  {
   "cell_type": "markdown",
   "metadata": {},
   "source": [
    "### Import Dependencies"
   ]
  },
  {
   "cell_type": "code",
   "execution_count": 1,
   "metadata": {},
   "outputs": [],
   "source": [
    "import random\n",
    "random.seed(0)"
   ]
  },
  {
   "cell_type": "code",
   "execution_count": 2,
   "metadata": {},
   "outputs": [],
   "source": [
    "import torch\n",
    "import torch.nn as nn\n",
    "import torchvision\n",
    "from torchvision import transforms\n",
    "from torchvision.transforms import v2"
   ]
  },
  {
   "cell_type": "markdown",
   "metadata": {},
   "source": [
    "### Constant Variables"
   ]
  },
  {
   "cell_type": "code",
   "execution_count": 3,
   "metadata": {},
   "outputs": [],
   "source": [
    "DATASET_PATH = './knee-osteoarthritis_2'"
   ]
  },
  {
   "cell_type": "code",
   "execution_count": 4,
   "metadata": {},
   "outputs": [],
   "source": [
    "TRAIN_PATH = f'{DATASET_PATH}/train'\n",
    "VAL_PATH = f'{DATASET_PATH}/val'\n",
    "TEST_PATH = f'{DATASET_PATH}/test'"
   ]
  },
  {
   "cell_type": "code",
   "execution_count": 5,
   "metadata": {},
   "outputs": [
    {
     "name": "stdout",
     "output_type": "stream",
     "text": [
      "cuda\n"
     ]
    }
   ],
   "source": [
    "device = 'cuda' if torch.cuda.is_available() else 'cpu'\n",
    "\n",
    "print(device)"
   ]
  },
  {
   "cell_type": "code",
   "execution_count": 6,
   "metadata": {},
   "outputs": [],
   "source": [
    "classes = range(4)"
   ]
  },
  {
   "cell_type": "markdown",
   "metadata": {},
   "source": [
    "### Dataset "
   ]
  },
  {
   "cell_type": "code",
   "execution_count": 7,
   "metadata": {},
   "outputs": [],
   "source": [
    "from src.dataset.augmented_dataset import get_KneeOsteoarthritis_Edges, KneeOsteoarthritis_Edges\n",
    "\n",
    "transform_toTensor = transforms.Compose([transforms.ToTensor()])\n",
    "\n",
    "train_dataset = torchvision.datasets.ImageFolder(TRAIN_PATH, transform_toTensor)\n",
    "val_dataset = torchvision.datasets.ImageFolder(VAL_PATH, transform_toTensor)\n",
    "test_dataset = torchvision.datasets.ImageFolder(TEST_PATH, transform_toTensor)\n",
    "\n",
    "dataset_all = torch.utils.data.ConcatDataset([train_dataset, val_dataset, test_dataset])\n",
    "\n",
    "train_dataset, val_dataset, test_dataset = torch.utils.data.random_split(dataset_all, [0.7, 0.1, 0.2])\n",
    "train_dataset = KneeOsteoarthritis_Edges(train_dataset)\n",
    "val_dataset = KneeOsteoarthritis_Edges(val_dataset)\n",
    "test_dataset = KneeOsteoarthritis_Edges(test_dataset)"
   ]
  },
  {
   "cell_type": "code",
   "execution_count": 8,
   "metadata": {},
   "outputs": [
    {
     "name": "stdout",
     "output_type": "stream",
     "text": [
      "4736 676 1353\n"
     ]
    }
   ],
   "source": [
    "print(len(train_dataset), len(val_dataset), len(test_dataset))"
   ]
  },
  {
   "cell_type": "code",
   "execution_count": 9,
   "metadata": {},
   "outputs": [],
   "source": [
    "import matplotlib.pyplot as plt\n",
    "import numpy as np\n",
    "\n",
    "# functions to show an image\n",
    "def imshow(img):\n",
    "    img = img / 2 + 0.5     # unnormalize\n",
    "    npimg = img.numpy()\n",
    "    plt.imshow(np.transpose(npimg, (1, 2, 0)), cmap='gray')\n",
    "    plt.show()"
   ]
  },
  {
   "cell_type": "code",
   "execution_count": 10,
   "metadata": {},
   "outputs": [
    {
     "name": "stdout",
     "output_type": "stream",
     "text": [
      "torch.Size([3, 256, 256]) torch.Size([1, 224, 224])\n"
     ]
    }
   ],
   "source": [
    "row = train_dataset[1]\n",
    "normal_ex = row[0]\n",
    "augmented_ex = row[1]\n",
    "print(normal_ex.shape, augmented_ex.shape)"
   ]
  },
  {
   "cell_type": "markdown",
   "metadata": {},
   "source": [
    "### Data Loader"
   ]
  },
  {
   "cell_type": "code",
   "execution_count": 11,
   "metadata": {},
   "outputs": [],
   "source": [
    "from torch.utils.data import DataLoader\n",
    "\n",
    "BATCH_SIZE = 128\n",
    "\n",
    "train_loader = DataLoader(train_dataset, batch_size=BATCH_SIZE, shuffle=True)\n",
    "val_loader = DataLoader(val_dataset, batch_size=BATCH_SIZE, shuffle=True)\n",
    "test_loader = DataLoader(test_dataset, batch_size=BATCH_SIZE, shuffle=True)"
   ]
  },
  {
   "cell_type": "markdown",
   "metadata": {},
   "source": [
    "### Model"
   ]
  },
  {
   "cell_type": "code",
   "execution_count": 12,
   "metadata": {},
   "outputs": [],
   "source": [
    "class IntermediarySpaceModel(nn.Module):\n",
    "    def __init__(self, num_classes: int = 5, dropout: float = 0.5) -> None:\n",
    "        super().__init__()\n",
    "        \n",
    "        # Size of layer block\n",
    "        S = 24\n",
    "        \n",
    "        # Images\n",
    "        self.imagesClassifier = nn.Sequential(\n",
    "            nn.Conv2d(3, S*2, kernel_size=11, stride=4, padding=2),\n",
    "            nn.ReLU(inplace=True),\n",
    "            nn.MaxPool2d(kernel_size=3, stride=2),\n",
    "            nn.Dropout(p=dropout*0.2),\n",
    "            nn.Conv2d(S*2, S*2, kernel_size=5, padding=2),\n",
    "            nn.ReLU(inplace=True),\n",
    "            nn.MaxPool2d(kernel_size=3, stride=2),\n",
    "            nn.Dropout(p=dropout*0.4),\n",
    "            nn.Conv2d(S*2, S*2, kernel_size=3, padding=1),\n",
    "            nn.ReLU(inplace=True),\n",
    "            nn.Dropout(p=dropout*0.6),\n",
    "            nn.Conv2d(S*2, S, kernel_size=3, padding=1),\n",
    "            nn.ReLU(inplace=True),\n",
    "            nn.MaxPool2d(kernel_size=3, stride=2),\n",
    "            \n",
    "            nn.Flatten(),\n",
    "            nn.Dropout(p=dropout*0.8),\n",
    "            nn.Linear(S * 7 * 7, S*2),\n",
    "        )\n",
    "\n",
    "        self.edgesClassifier = nn.Sequential(\n",
    "            nn.Conv2d(1, S*2, kernel_size=11, stride=4, padding=2),\n",
    "            nn.ReLU(inplace=True),\n",
    "            nn.MaxPool2d(kernel_size=3, stride=2),\n",
    "            nn.Dropout(p=dropout*0.4),\n",
    "            nn.Conv2d(S*2, S*2, kernel_size=5, padding=2),\n",
    "            nn.ReLU(inplace=True),\n",
    "            nn.MaxPool2d(kernel_size=3, stride=2),\n",
    "            nn.Dropout(p=dropout*0.6),\n",
    "            nn.Conv2d(S*2, S, kernel_size=3, padding=1),\n",
    "            nn.ReLU(inplace=True),\n",
    "            nn.MaxPool2d(kernel_size=3, stride=2),\n",
    "            \n",
    "            nn.Flatten(),\n",
    "            nn.Dropout(p=dropout*0.8),\n",
    "            nn.Linear(S * 6 * 6, S*2),\n",
    "        )\n",
    "        \n",
    "        self.outputCombiner = nn.Sequential(\n",
    "            nn.ReLU(inplace=True),\n",
    "            nn.Dropout(p=dropout),\n",
    "            nn.Linear(S*4, S*3),\n",
    "            nn.ReLU(inplace=True),\n",
    "            nn.Dropout(p=dropout),\n",
    "            nn.Linear(S*3, S),\n",
    "            nn.ReLU(inplace=True),\n",
    "            nn.Dropout(p=dropout),\n",
    "            nn.Linear(S, num_classes),\n",
    "        )\n",
    "\n",
    "    def forward(self, images: torch.Tensor, edges: torch.Tensor) -> torch.Tensor:\n",
    "        \n",
    "        # Images\n",
    "        images = self.imagesClassifier(images)\n",
    "        \n",
    "        # Edges\n",
    "        edges = self.edgesClassifier(edges)\n",
    "        \n",
    "        # Combining outputs\n",
    "        concated = torch.cat((images, edges), 1)\n",
    "        res = self.outputCombiner(concated)\n",
    "        \n",
    "        return res"
   ]
  },
  {
   "cell_type": "code",
   "execution_count": 13,
   "metadata": {},
   "outputs": [],
   "source": [
    "# from src.models.custom import CustomModel\n",
    "\n",
    "# model = EarlyIntermediarySpaceModel(3, 0)\n",
    "model = IntermediarySpaceModel(4, 0.5)\n",
    "model = model.to(device)"
   ]
  },
  {
   "cell_type": "code",
   "execution_count": 14,
   "metadata": {},
   "outputs": [
    {
     "name": "stdout",
     "output_type": "stream",
     "text": [
      "287044\n",
      "287044\n"
     ]
    }
   ],
   "source": [
    "# print(sum(p.numel() for p in net.classifier.parameters()) ,sum(p.numel() for p in net.edgesClassifier.parameters()) )\n",
    "print(sum(p.numel() for p in model.parameters()))\n",
    "\n",
    "trainable_parameters = filter(lambda p: p.requires_grad, model.parameters())\n",
    "print(sum(p.numel() for p in trainable_parameters))"
   ]
  },
  {
   "cell_type": "markdown",
   "metadata": {},
   "source": [
    "### Training Loop"
   ]
  },
  {
   "cell_type": "markdown",
   "metadata": {},
   "source": [
    "#### Setting optimizer"
   ]
  },
  {
   "cell_type": "code",
   "execution_count": 15,
   "metadata": {},
   "outputs": [
    {
     "name": "stdout",
     "output_type": "stream",
     "text": [
      "{0: 2259, 1: 1514, 3: 185, 2: 778} tensor([2259., 1514.,  185.,  778.], device='cuda:0')\n"
     ]
    }
   ],
   "source": [
    "import torch.optim as optim\n",
    "from src.other import getClassesFrequency\n",
    "\n",
    "class_weights = getClassesFrequency(train_dataset)\n",
    "weights_tensor = torch.Tensor(list(class_weights.values())).to(device)\n",
    "print(class_weights, weights_tensor)\n",
    "\n",
    "criterion = nn.CrossEntropyLoss(weights_tensor)\n",
    "optimizer = optim.Adam(model.parameters(), lr=0.001)"
   ]
  },
  {
   "cell_type": "code",
   "execution_count": 16,
   "metadata": {},
   "outputs": [
    {
     "name": "stdout",
     "output_type": "stream",
     "text": [
      "0.9908789441918076\n"
     ]
    }
   ],
   "source": [
    "# decayRate100 = 0.8\n",
    "decayRate100 = 0.4\n",
    "decayRate1 = decayRate100**(1/100)\n",
    "my_lr_scheduler = torch.optim.lr_scheduler.ExponentialLR(optimizer=optimizer, gamma=decayRate1)\n",
    "\n",
    "print(decayRate1)"
   ]
  },
  {
   "cell_type": "code",
   "execution_count": 17,
   "metadata": {},
   "outputs": [],
   "source": [
    "def get_lr(optimizer):\n",
    "  for param_group in optimizer.param_groups:\n",
    "    return param_group['lr']"
   ]
  },
  {
   "cell_type": "markdown",
   "metadata": {},
   "source": [
    "#### Setting Logger"
   ]
  },
  {
   "cell_type": "code",
   "execution_count": 18,
   "metadata": {},
   "outputs": [],
   "source": [
    "EXP_NAME = \"long_cm\"\n",
    "\n",
    "from torch.utils.tensorboard import SummaryWriter\n",
    "\n",
    "logger = SummaryWriter(log_dir=f\"logs/experiments/{EXP_NAME}\")"
   ]
  },
  {
   "cell_type": "code",
   "execution_count": 19,
   "metadata": {},
   "outputs": [],
   "source": [
    "epochCounter = 0"
   ]
  },
  {
   "cell_type": "markdown",
   "metadata": {},
   "source": [
    "#### Training Loop"
   ]
  },
  {
   "cell_type": "code",
   "execution_count": 20,
   "metadata": {},
   "outputs": [],
   "source": [
    "from src.evaluate import evaluate_augmented_model\n",
    "from src.other import getConfusionMatrixDisplay\n",
    "\n",
    "def train_many(model, epochs_nr, logger = None, lr_scheduler = None, regularization_type = \"L2\", lambda_reg=0.01, display_logs=False):\n",
    "    global epochCounter\n",
    "    \n",
    "    for epoch in range(0, epochs_nr):  # loop over the dataset multiple times\n",
    "        epoch_correct = 0\n",
    "        epoch_samples = 0\n",
    "        epoch_batches = 0\n",
    "        running_loss = 0.0\n",
    "    \n",
    "        for i, data in enumerate(train_loader, 0):\n",
    "\n",
    "            # get the inputs; data is a list of [inputs, labels]\n",
    "            images, edges, labels = data\n",
    "            images = images.to(device)\n",
    "            edges = edges.to(device)\n",
    "            labels = labels.to(device)\n",
    "            \n",
    "            # zero the parameter gradients\n",
    "            optimizer.zero_grad()\n",
    "            \n",
    "            # forward + backward + optimize\n",
    "            outputs = model(images, edges)\n",
    "            loss = criterion(outputs, labels)\n",
    "            \n",
    "            # Apply L1 regularization\n",
    "            if regularization_type == 'L1':\n",
    "                l1_norm = sum(p.abs().sum() for p in model.parameters())\n",
    "                loss += lambda_reg * l1_norm\n",
    "                \n",
    "            # Apply L2 regularization\n",
    "            elif regularization_type == 'L2':\n",
    "                l2_norm = sum(p.pow(2).sum() for p in model.parameters())\n",
    "                loss += lambda_reg * l2_norm\n",
    "                \n",
    "            loss.backward()\n",
    "            \n",
    "            optimizer.step()\n",
    "            \n",
    "            # Changing outputs (logits) to labels\n",
    "            outputs_clear = outputs.max(1).indices\n",
    "            \n",
    "            epoch_correct += (outputs_clear == labels).float().sum()\n",
    "            epoch_samples += len(outputs)\n",
    "            epoch_batches +=1\n",
    "            \n",
    "            running_loss += loss.item()\n",
    "        \n",
    "        tAccuracy = epoch_correct / epoch_samples * 100\n",
    "        tLoss = running_loss / epoch_batches\n",
    "        \n",
    "        # Validation\n",
    "        vAccuracy, vLoss, report, cm = evaluate_augmented_model(model, criterion, val_loader, device)\n",
    "        # cmDisplay = getConfusionMatrixDisplay(cm, classes)\n",
    "        \n",
    "        learning_rate = get_lr(optimizer)\n",
    "        if logger != None:\n",
    "\n",
    "            # logger.add(\"Confusion_matrix\", regularization_type, global_step=epochCounter)\n",
    "            logger.add_text(\"REGULARIZATION_TYPE\", regularization_type, global_step=epochCounter)\n",
    "            logger.add_scalar(\"REGULARIZATION_LAMBDA\", lambda_reg, global_step=epochCounter)\n",
    "            logger.add_scalar(\"learning_rate\", learning_rate, global_step=epochCounter)\n",
    "            \n",
    "            logger.add_scalar(\"Accuracy/train\", tAccuracy, global_step=epochCounter)\n",
    "            logger.add_scalar(\"Loss/train\", tLoss, global_step=epochCounter)\n",
    "            logger.add_scalar(\"Accuracy/validation\", vAccuracy, global_step=epochCounter)\n",
    "            logger.add_scalar(\"Loss/validation\", vLoss, global_step=epochCounter)\n",
    "            \n",
    "            if epochCounter % 10 == 0:\n",
    "                logger.add_text(\"Slassification Report\", report, global_step=epochCounter)\n",
    "                logger.add_figure(\"Confusion matrix\", getConfusionMatrixDisplay(trainloader, classes), global_step=epochCounter)\n",
    "                \n",
    "                if display_logs:\n",
    "                    getConfusionMatrixDisplay(trainloader, classes)\n",
    "            \n",
    "        print(f'Epoch {epochCounter}: Training: accuracy: {tAccuracy:.3f}%, loss: {tLoss:.3f}; Validation: accuracy: {vAccuracy:.3f}%, loss: {vLoss:.3f}, lr: {learning_rate:.5f}')\n",
    "        \n",
    "        epochCounter += 1\n",
    "        \n",
    "        if lr_scheduler != None:\n",
    "            lr_scheduler.step()\n",
    "        \n",
    "        # print(\"lr= \" + str(learning_rate))\n",
    "    print('Finished Training')"
   ]
  },
  {
   "cell_type": "markdown",
   "metadata": {},
   "source": [
    "#### Data Visualization"
   ]
  },
  {
   "cell_type": "code",
   "execution_count": 21,
   "metadata": {},
   "outputs": [],
   "source": [
    "def visualize_cm(cm):\n",
    "    getConfusionMatrixDisplay(cm, classes)\n",
    "    plt.show()\n",
    "    \n",
    "def visualize_all(model, criterion, loader):\n",
    "    acc, loss, report, cm = evaluate_augmented_model(model, criterion, loader, device)\n",
    "    print(f\"Accuracy: {acc}, loss: {loss}\")\n",
    "    print(report)\n",
    "    \n",
    "    visualize_cm(cm)"
   ]
  },
  {
   "cell_type": "markdown",
   "metadata": {},
   "source": [
    "### Training Model"
   ]
  },
  {
   "cell_type": "code",
   "execution_count": 22,
   "metadata": {},
   "outputs": [
    {
     "name": "stdout",
     "output_type": "stream",
     "text": [
      "Epoch 0: Training: accuracy: 40.203%, loss: 2.179; Validation: accuracy: 51.331%, loss: 0.969, lr: 0.00100\n",
      "Epoch 1: Training: accuracy: 47.698%, loss: 1.457; Validation: accuracy: 51.331%, loss: 0.717, lr: 0.00099\n",
      "Epoch 2: Training: accuracy: 47.698%, loss: 1.329; Validation: accuracy: 51.331%, loss: 0.718, lr: 0.00098\n",
      "Epoch 3: Training: accuracy: 47.698%, loss: 1.228; Validation: accuracy: 51.331%, loss: 0.788, lr: 0.00097\n",
      "Epoch 4: Training: accuracy: 47.698%, loss: 1.137; Validation: accuracy: 51.331%, loss: 0.591, lr: 0.00096\n",
      "Epoch 5: Training: accuracy: 47.698%, loss: 1.063; Validation: accuracy: 51.331%, loss: 0.624, lr: 0.00096\n",
      "Epoch 6: Training: accuracy: 47.698%, loss: 1.008; Validation: accuracy: 51.331%, loss: 0.559, lr: 0.00095\n",
      "Epoch 7: Training: accuracy: 48.480%, loss: 0.959; Validation: accuracy: 52.219%, loss: 0.695, lr: 0.00094\n",
      "Epoch 8: Training: accuracy: 52.492%, loss: 0.908; Validation: accuracy: 55.917%, loss: 0.484, lr: 0.00093\n",
      "Epoch 9: Training: accuracy: 57.390%, loss: 0.854; Validation: accuracy: 62.722%, loss: 0.675, lr: 0.00092\n",
      "Epoch 10: Training: accuracy: 59.903%, loss: 0.787; Validation: accuracy: 61.686%, loss: 0.735, lr: 0.00091\n",
      "Epoch 11: Training: accuracy: 60.262%, loss: 0.787; Validation: accuracy: 62.130%, loss: 0.737, lr: 0.00090\n",
      "Epoch 12: Training: accuracy: 62.035%, loss: 0.716; Validation: accuracy: 61.834%, loss: 0.614, lr: 0.00090\n",
      "Epoch 13: Training: accuracy: 63.915%, loss: 0.679; Validation: accuracy: 62.426%, loss: 0.658, lr: 0.00089\n",
      "Epoch 14: Training: accuracy: 66.132%, loss: 0.623; Validation: accuracy: 64.793%, loss: 0.335, lr: 0.00088\n",
      "Epoch 15: Training: accuracy: 68.138%, loss: 0.584; Validation: accuracy: 61.982%, loss: 0.802, lr: 0.00087\n",
      "Epoch 16: Training: accuracy: 68.644%, loss: 0.594; Validation: accuracy: 63.462%, loss: 1.114, lr: 0.00086\n",
      "Epoch 17: Training: accuracy: 72.297%, loss: 0.516; Validation: accuracy: 65.237%, loss: 0.383, lr: 0.00086\n",
      "Epoch 18: Training: accuracy: 72.867%, loss: 0.498; Validation: accuracy: 65.089%, loss: 0.546, lr: 0.00085\n",
      "Epoch 19: Training: accuracy: 74.324%, loss: 0.473; Validation: accuracy: 64.941%, loss: 0.584, lr: 0.00084\n",
      "Epoch 20: Training: accuracy: 75.232%, loss: 0.448; Validation: accuracy: 64.497%, loss: 0.686, lr: 0.00083\n",
      "Epoch 21: Training: accuracy: 76.816%, loss: 0.408; Validation: accuracy: 63.905%, loss: 0.945, lr: 0.00082\n",
      "Epoch 22: Training: accuracy: 77.027%, loss: 0.392; Validation: accuracy: 55.769%, loss: 1.171, lr: 0.00082\n",
      "Epoch 23: Training: accuracy: 77.787%, loss: 0.391; Validation: accuracy: 63.314%, loss: 0.601, lr: 0.00081\n",
      "Epoch 24: Training: accuracy: 80.659%, loss: 0.315; Validation: accuracy: 63.757%, loss: 0.494, lr: 0.00080\n",
      "Epoch 25: Training: accuracy: 81.144%, loss: 0.304; Validation: accuracy: 63.166%, loss: 1.230, lr: 0.00080\n",
      "Epoch 26: Training: accuracy: 80.617%, loss: 0.303; Validation: accuracy: 62.426%, loss: 1.131, lr: 0.00079\n",
      "Epoch 27: Training: accuracy: 80.448%, loss: 0.311; Validation: accuracy: 64.941%, loss: 0.998, lr: 0.00078\n",
      "Epoch 28: Training: accuracy: 81.081%, loss: 0.297; Validation: accuracy: 61.538%, loss: 0.513, lr: 0.00077\n",
      "Epoch 29: Training: accuracy: 81.799%, loss: 0.276; Validation: accuracy: 62.278%, loss: 0.769, lr: 0.00077\n",
      "Epoch 30: Training: accuracy: 82.137%, loss: 0.268; Validation: accuracy: 64.201%, loss: 1.794, lr: 0.00076\n",
      "Epoch 31: Training: accuracy: 82.285%, loss: 0.261; Validation: accuracy: 63.018%, loss: 1.808, lr: 0.00075\n",
      "Epoch 32: Training: accuracy: 82.580%, loss: 0.246; Validation: accuracy: 63.018%, loss: 0.644, lr: 0.00075\n",
      "Epoch 33: Training: accuracy: 82.897%, loss: 0.236; Validation: accuracy: 64.645%, loss: 1.808, lr: 0.00074\n",
      "Epoch 34: Training: accuracy: 83.742%, loss: 0.221; Validation: accuracy: 64.201%, loss: 2.233, lr: 0.00073\n",
      "Epoch 35: Training: accuracy: 84.459%, loss: 0.211; Validation: accuracy: 64.793%, loss: 0.686, lr: 0.00073\n",
      "Epoch 36: Training: accuracy: 84.502%, loss: 0.205; Validation: accuracy: 64.497%, loss: 0.662, lr: 0.00072\n",
      "Epoch 37: Training: accuracy: 85.790%, loss: 0.199; Validation: accuracy: 63.609%, loss: 1.662, lr: 0.00071\n",
      "Epoch 38: Training: accuracy: 86.149%, loss: 0.194; Validation: accuracy: 63.905%, loss: 2.593, lr: 0.00071\n",
      "Epoch 39: Training: accuracy: 86.128%, loss: 0.190; Validation: accuracy: 64.793%, loss: 1.482, lr: 0.00070\n",
      "Epoch 40: Training: accuracy: 87.247%, loss: 0.187; Validation: accuracy: 64.201%, loss: 1.168, lr: 0.00069\n",
      "Epoch 41: Training: accuracy: 87.542%, loss: 0.184; Validation: accuracy: 65.089%, loss: 0.859, lr: 0.00069\n",
      "Epoch 42: Training: accuracy: 87.922%, loss: 0.180; Validation: accuracy: 64.349%, loss: 1.028, lr: 0.00068\n",
      "Epoch 43: Training: accuracy: 88.112%, loss: 0.178; Validation: accuracy: 65.237%, loss: 1.322, lr: 0.00067\n",
      "Epoch 44: Training: accuracy: 88.492%, loss: 0.174; Validation: accuracy: 64.941%, loss: 1.952, lr: 0.00067\n",
      "Epoch 45: Training: accuracy: 88.957%, loss: 0.171; Validation: accuracy: 65.533%, loss: 1.779, lr: 0.00066\n",
      "Epoch 46: Training: accuracy: 89.844%, loss: 0.166; Validation: accuracy: 64.941%, loss: 1.012, lr: 0.00066\n",
      "Epoch 47: Training: accuracy: 89.443%, loss: 0.168; Validation: accuracy: 67.456%, loss: 1.175, lr: 0.00065\n",
      "Epoch 48: Training: accuracy: 85.621%, loss: 0.252; Validation: accuracy: 47.781%, loss: 3.293, lr: 0.00064\n",
      "Epoch 49: Training: accuracy: 65.076%, loss: 0.683; Validation: accuracy: 61.243%, loss: 0.661, lr: 0.00064\n",
      "Epoch 50: Training: accuracy: 74.113%, loss: 0.447; Validation: accuracy: 64.645%, loss: 0.749, lr: 0.00063\n",
      "Epoch 51: Training: accuracy: 78.442%, loss: 0.326; Validation: accuracy: 62.130%, loss: 0.862, lr: 0.00063\n",
      "Epoch 52: Training: accuracy: 80.384%, loss: 0.280; Validation: accuracy: 62.870%, loss: 0.375, lr: 0.00062\n",
      "Epoch 53: Training: accuracy: 82.010%, loss: 0.241; Validation: accuracy: 64.941%, loss: 0.985, lr: 0.00062\n",
      "Epoch 54: Training: accuracy: 82.348%, loss: 0.230; Validation: accuracy: 65.089%, loss: 1.276, lr: 0.00061\n",
      "Epoch 55: Training: accuracy: 84.227%, loss: 0.205; Validation: accuracy: 63.314%, loss: 1.614, lr: 0.00060\n",
      "Epoch 56: Training: accuracy: 85.452%, loss: 0.194; Validation: accuracy: 64.497%, loss: 1.965, lr: 0.00060\n",
      "Epoch 57: Training: accuracy: 86.550%, loss: 0.183; Validation: accuracy: 65.237%, loss: 1.608, lr: 0.00059\n",
      "Epoch 58: Training: accuracy: 87.120%, loss: 0.177; Validation: accuracy: 66.124%, loss: 1.391, lr: 0.00059\n",
      "Epoch 59: Training: accuracy: 88.323%, loss: 0.171; Validation: accuracy: 65.976%, loss: 1.066, lr: 0.00058\n",
      "Epoch 60: Training: accuracy: 88.936%, loss: 0.170; Validation: accuracy: 64.793%, loss: 0.489, lr: 0.00058\n",
      "Epoch 61: Training: accuracy: 89.590%, loss: 0.165; Validation: accuracy: 65.385%, loss: 0.757, lr: 0.00057\n",
      "Epoch 62: Training: accuracy: 89.611%, loss: 0.162; Validation: accuracy: 65.680%, loss: 1.792, lr: 0.00057\n",
      "Epoch 63: Training: accuracy: 90.372%, loss: 0.160; Validation: accuracy: 66.420%, loss: 1.259, lr: 0.00056\n",
      "Epoch 64: Training: accuracy: 89.928%, loss: 0.160; Validation: accuracy: 65.237%, loss: 3.229, lr: 0.00056\n",
      "Epoch 65: Training: accuracy: 91.280%, loss: 0.154; Validation: accuracy: 66.568%, loss: 2.072, lr: 0.00055\n",
      "Epoch 66: Training: accuracy: 91.385%, loss: 0.153; Validation: accuracy: 65.533%, loss: 1.020, lr: 0.00055\n",
      "Epoch 67: Training: accuracy: 91.913%, loss: 0.152; Validation: accuracy: 65.533%, loss: 0.817, lr: 0.00054\n",
      "Epoch 68: Training: accuracy: 91.976%, loss: 0.149; Validation: accuracy: 63.905%, loss: 1.875, lr: 0.00054\n",
      "Epoch 69: Training: accuracy: 91.871%, loss: 0.151; Validation: accuracy: 64.645%, loss: 0.812, lr: 0.00053\n",
      "Epoch 70: Training: accuracy: 92.124%, loss: 0.151; Validation: accuracy: 66.124%, loss: 1.801, lr: 0.00053\n",
      "Epoch 71: Training: accuracy: 91.913%, loss: 0.151; Validation: accuracy: 65.089%, loss: 0.839, lr: 0.00052\n",
      "Epoch 72: Training: accuracy: 91.491%, loss: 0.157; Validation: accuracy: 65.680%, loss: 1.361, lr: 0.00052\n",
      "Epoch 73: Training: accuracy: 84.586%, loss: 0.285; Validation: accuracy: 63.462%, loss: 0.806, lr: 0.00051\n",
      "Epoch 74: Training: accuracy: 81.630%, loss: 0.296; Validation: accuracy: 63.757%, loss: 0.993, lr: 0.00051\n",
      "Epoch 75: Training: accuracy: 86.360%, loss: 0.212; Validation: accuracy: 65.680%, loss: 1.969, lr: 0.00050\n",
      "Epoch 76: Training: accuracy: 87.500%, loss: 0.205; Validation: accuracy: 64.201%, loss: 1.253, lr: 0.00050\n",
      "Epoch 77: Training: accuracy: 86.909%, loss: 0.193; Validation: accuracy: 64.645%, loss: 0.604, lr: 0.00049\n",
      "Epoch 78: Training: accuracy: 89.823%, loss: 0.167; Validation: accuracy: 65.533%, loss: 1.211, lr: 0.00049\n",
      "Epoch 79: Training: accuracy: 90.224%, loss: 0.159; Validation: accuracy: 66.124%, loss: 1.522, lr: 0.00048\n",
      "Epoch 80: Training: accuracy: 91.364%, loss: 0.156; Validation: accuracy: 66.864%, loss: 0.773, lr: 0.00048\n",
      "Epoch 81: Training: accuracy: 92.504%, loss: 0.150; Validation: accuracy: 66.272%, loss: 2.814, lr: 0.00048\n",
      "Epoch 82: Training: accuracy: 92.863%, loss: 0.148; Validation: accuracy: 66.420%, loss: 1.471, lr: 0.00047\n",
      "Epoch 83: Training: accuracy: 93.243%, loss: 0.146; Validation: accuracy: 66.568%, loss: 1.810, lr: 0.00047\n",
      "Epoch 84: Training: accuracy: 93.750%, loss: 0.143; Validation: accuracy: 66.272%, loss: 1.160, lr: 0.00046\n",
      "Epoch 85: Training: accuracy: 94.067%, loss: 0.142; Validation: accuracy: 65.828%, loss: 1.374, lr: 0.00046\n",
      "Epoch 86: Training: accuracy: 94.193%, loss: 0.141; Validation: accuracy: 66.568%, loss: 1.096, lr: 0.00045\n",
      "Epoch 87: Training: accuracy: 93.476%, loss: 0.143; Validation: accuracy: 66.124%, loss: 2.040, lr: 0.00045\n",
      "Epoch 88: Training: accuracy: 93.792%, loss: 0.140; Validation: accuracy: 66.568%, loss: 1.100, lr: 0.00045\n",
      "Epoch 89: Training: accuracy: 94.911%, loss: 0.136; Validation: accuracy: 65.976%, loss: 1.852, lr: 0.00044\n",
      "Epoch 90: Training: accuracy: 95.355%, loss: 0.135; Validation: accuracy: 65.828%, loss: 1.684, lr: 0.00044\n",
      "Epoch 91: Training: accuracy: 95.714%, loss: 0.133; Validation: accuracy: 66.716%, loss: 1.475, lr: 0.00043\n",
      "Epoch 92: Training: accuracy: 95.481%, loss: 0.133; Validation: accuracy: 66.124%, loss: 1.456, lr: 0.00043\n",
      "Epoch 93: Training: accuracy: 95.566%, loss: 0.132; Validation: accuracy: 65.976%, loss: 0.477, lr: 0.00043\n",
      "Epoch 94: Training: accuracy: 96.136%, loss: 0.130; Validation: accuracy: 66.124%, loss: 0.695, lr: 0.00042\n",
      "Epoch 95: Training: accuracy: 95.798%, loss: 0.131; Validation: accuracy: 64.941%, loss: 0.687, lr: 0.00042\n",
      "Epoch 96: Training: accuracy: 95.291%, loss: 0.132; Validation: accuracy: 67.160%, loss: 2.358, lr: 0.00041\n",
      "Epoch 97: Training: accuracy: 96.136%, loss: 0.129; Validation: accuracy: 66.716%, loss: 2.078, lr: 0.00041\n",
      "Epoch 98: Training: accuracy: 96.052%, loss: 0.128; Validation: accuracy: 66.420%, loss: 2.331, lr: 0.00041\n",
      "Epoch 99: Training: accuracy: 96.495%, loss: 0.127; Validation: accuracy: 65.976%, loss: 0.904, lr: 0.00040\n",
      "Finished Training\n"
     ]
    }
   ],
   "source": [
    "train_many(model, 100, None, my_lr_scheduler, \"L2\", 0.008)"
   ]
  },
  {
   "cell_type": "code",
   "execution_count": 23,
   "metadata": {},
   "outputs": [
    {
     "name": "stdout",
     "output_type": "stream",
     "text": [
      "Accuracy: 96.76942567567568, loss: 0.01707095094025135\n",
      "              precision    recall  f1-score   support\n",
      "\n",
      "           0       0.98      1.00      0.99      2259\n",
      "           1       0.96      1.00      0.98      1514\n",
      "           2       1.00      0.80      0.89       778\n",
      "           3       0.81      1.00      0.90       185\n",
      "\n",
      "    accuracy                           0.97      4736\n",
      "   macro avg       0.94      0.95      0.94      4736\n",
      "weighted avg       0.97      0.97      0.97      4736\n",
      "\n"
     ]
    },
    {
     "data": {
      "image/png": "[encoded data removed]",
      "text/plain": [
       "<Figure size 400x300 with 2 Axes>"
      ]
     },
     "metadata": {},
     "output_type": "display_data"
    },
    {
     "name": "stdout",
     "output_type": "stream",
     "text": [
      "Accuracy: 66.51884700665188, loss: 1.7496623992919922\n",
      "              precision    recall  f1-score   support\n",
      "\n",
      "           0       0.75      0.82      0.78       647\n",
      "           1       0.57      0.57      0.57       450\n",
      "           2       0.62      0.43      0.51       215\n",
      "           3       0.42      0.54      0.47        41\n",
      "\n",
      "    accuracy                           0.67      1353\n",
      "   macro avg       0.59      0.59      0.58      1353\n",
      "weighted avg       0.66      0.67      0.66      1353\n",
      "\n"
     ]
    },
    {
     "data": {
      "image/png": "[encoded data removed]",
      "text/plain": [
       "<Figure size 400x300 with 2 Axes>"
      ]
     },
     "metadata": {},
     "output_type": "display_data"
    }
   ],
   "source": [
    "# test\n",
    "visualize_all(model, criterion, train_loader)\n",
    "visualize_all(model, criterion, test_loader)"
   ]
  },
  {
   "cell_type": "code",
   "execution_count": 24,
   "metadata": {},
   "outputs": [
    {
     "name": "stdout",
     "output_type": "stream",
     "text": [
      "Epoch 100: Training: accuracy: 96.474%, loss: 0.126; Validation: accuracy: 66.124%, loss: 1.723, lr: 0.00040\n",
      "Epoch 101: Training: accuracy: 96.643%, loss: 0.125; Validation: accuracy: 66.420%, loss: 1.783, lr: 0.00040\n",
      "Epoch 102: Training: accuracy: 96.727%, loss: 0.124; Validation: accuracy: 65.828%, loss: 1.047, lr: 0.00039\n",
      "Epoch 103: Training: accuracy: 96.537%, loss: 0.124; Validation: accuracy: 66.272%, loss: 1.663, lr: 0.00039\n",
      "Epoch 104: Training: accuracy: 96.938%, loss: 0.123; Validation: accuracy: 66.568%, loss: 1.041, lr: 0.00039\n",
      "Epoch 105: Training: accuracy: 97.044%, loss: 0.122; Validation: accuracy: 66.568%, loss: 0.628, lr: 0.00038\n",
      "Epoch 106: Training: accuracy: 97.023%, loss: 0.122; Validation: accuracy: 66.716%, loss: 1.333, lr: 0.00038\n",
      "Epoch 107: Training: accuracy: 96.833%, loss: 0.122; Validation: accuracy: 66.864%, loss: 1.331, lr: 0.00038\n",
      "Epoch 108: Training: accuracy: 96.981%, loss: 0.121; Validation: accuracy: 67.012%, loss: 1.607, lr: 0.00037\n",
      "Epoch 109: Training: accuracy: 97.002%, loss: 0.121; Validation: accuracy: 67.308%, loss: 1.304, lr: 0.00037\n",
      "Epoch 110: Training: accuracy: 96.664%, loss: 0.122; Validation: accuracy: 67.160%, loss: 1.803, lr: 0.00036\n",
      "Epoch 111: Training: accuracy: 97.213%, loss: 0.119; Validation: accuracy: 66.716%, loss: 2.460, lr: 0.00036\n",
      "Epoch 112: Training: accuracy: 97.276%, loss: 0.119; Validation: accuracy: 67.012%, loss: 1.229, lr: 0.00036\n",
      "Epoch 113: Training: accuracy: 97.551%, loss: 0.119; Validation: accuracy: 65.976%, loss: 1.724, lr: 0.00036\n",
      "Epoch 114: Training: accuracy: 97.403%, loss: 0.118; Validation: accuracy: 66.420%, loss: 1.599, lr: 0.00035\n",
      "Epoch 115: Training: accuracy: 97.698%, loss: 0.116; Validation: accuracy: 65.680%, loss: 1.452, lr: 0.00035\n",
      "Epoch 116: Training: accuracy: 97.171%, loss: 0.118; Validation: accuracy: 65.237%, loss: 0.831, lr: 0.00035\n",
      "Epoch 117: Training: accuracy: 97.445%, loss: 0.118; Validation: accuracy: 66.420%, loss: 1.607, lr: 0.00034\n",
      "Epoch 118: Training: accuracy: 97.424%, loss: 0.116; Validation: accuracy: 67.012%, loss: 1.759, lr: 0.00034\n",
      "Epoch 119: Training: accuracy: 96.305%, loss: 0.131; Validation: accuracy: 64.497%, loss: 1.939, lr: 0.00034\n",
      "Epoch 120: Training: accuracy: 77.998%, loss: 0.438; Validation: accuracy: 61.538%, loss: 1.036, lr: 0.00033\n",
      "Epoch 121: Training: accuracy: 82.665%, loss: 0.256; Validation: accuracy: 61.391%, loss: 1.339, lr: 0.00033\n",
      "Epoch 122: Training: accuracy: 88.197%, loss: 0.181; Validation: accuracy: 64.201%, loss: 1.014, lr: 0.00033\n",
      "Epoch 123: Training: accuracy: 91.005%, loss: 0.152; Validation: accuracy: 65.976%, loss: 2.061, lr: 0.00032\n",
      "Epoch 124: Training: accuracy: 92.251%, loss: 0.141; Validation: accuracy: 64.793%, loss: 1.531, lr: 0.00032\n",
      "Epoch 125: Training: accuracy: 93.518%, loss: 0.134; Validation: accuracy: 64.645%, loss: 1.458, lr: 0.00032\n",
      "Epoch 126: Training: accuracy: 94.658%, loss: 0.130; Validation: accuracy: 65.089%, loss: 1.082, lr: 0.00032\n",
      "Epoch 127: Training: accuracy: 95.291%, loss: 0.127; Validation: accuracy: 63.905%, loss: 1.575, lr: 0.00031\n",
      "Epoch 128: Training: accuracy: 95.671%, loss: 0.125; Validation: accuracy: 64.941%, loss: 1.306, lr: 0.00031\n",
      "Epoch 129: Training: accuracy: 95.756%, loss: 0.125; Validation: accuracy: 63.018%, loss: 2.025, lr: 0.00031\n",
      "Epoch 130: Training: accuracy: 95.925%, loss: 0.124; Validation: accuracy: 65.385%, loss: 2.552, lr: 0.00030\n",
      "Epoch 131: Training: accuracy: 96.389%, loss: 0.122; Validation: accuracy: 64.497%, loss: 0.855, lr: 0.00030\n",
      "Epoch 132: Training: accuracy: 96.220%, loss: 0.122; Validation: accuracy: 64.497%, loss: 1.818, lr: 0.00030\n",
      "Epoch 133: Training: accuracy: 96.938%, loss: 0.120; Validation: accuracy: 64.497%, loss: 1.591, lr: 0.00030\n",
      "Epoch 134: Training: accuracy: 97.149%, loss: 0.119; Validation: accuracy: 64.201%, loss: 1.574, lr: 0.00029\n",
      "Epoch 135: Training: accuracy: 97.044%, loss: 0.119; Validation: accuracy: 65.385%, loss: 1.500, lr: 0.00029\n",
      "Epoch 136: Training: accuracy: 97.276%, loss: 0.118; Validation: accuracy: 65.237%, loss: 2.286, lr: 0.00029\n",
      "Epoch 137: Training: accuracy: 97.297%, loss: 0.118; Validation: accuracy: 64.497%, loss: 1.189, lr: 0.00028\n",
      "Epoch 138: Training: accuracy: 97.318%, loss: 0.117; Validation: accuracy: 65.680%, loss: 2.000, lr: 0.00028\n",
      "Epoch 139: Training: accuracy: 97.445%, loss: 0.117; Validation: accuracy: 64.793%, loss: 2.356, lr: 0.00028\n",
      "Epoch 140: Training: accuracy: 97.234%, loss: 0.117; Validation: accuracy: 64.645%, loss: 2.403, lr: 0.00028\n",
      "Epoch 141: Training: accuracy: 97.593%, loss: 0.116; Validation: accuracy: 64.645%, loss: 1.291, lr: 0.00027\n",
      "Epoch 142: Training: accuracy: 97.551%, loss: 0.115; Validation: accuracy: 64.349%, loss: 2.254, lr: 0.00027\n",
      "Epoch 143: Training: accuracy: 97.720%, loss: 0.115; Validation: accuracy: 64.793%, loss: 1.496, lr: 0.00027\n",
      "Epoch 144: Training: accuracy: 97.867%, loss: 0.114; Validation: accuracy: 64.645%, loss: 1.405, lr: 0.00027\n",
      "Epoch 145: Training: accuracy: 97.867%, loss: 0.114; Validation: accuracy: 64.793%, loss: 2.403, lr: 0.00026\n",
      "Epoch 146: Training: accuracy: 98.015%, loss: 0.114; Validation: accuracy: 64.793%, loss: 0.619, lr: 0.00026\n",
      "Epoch 147: Training: accuracy: 97.867%, loss: 0.113; Validation: accuracy: 64.497%, loss: 1.045, lr: 0.00026\n",
      "Epoch 148: Training: accuracy: 98.100%, loss: 0.113; Validation: accuracy: 65.089%, loss: 1.266, lr: 0.00026\n",
      "Epoch 149: Training: accuracy: 98.079%, loss: 0.112; Validation: accuracy: 65.237%, loss: 1.961, lr: 0.00026\n",
      "Epoch 150: Training: accuracy: 98.142%, loss: 0.112; Validation: accuracy: 65.089%, loss: 2.192, lr: 0.00025\n",
      "Epoch 151: Training: accuracy: 98.121%, loss: 0.112; Validation: accuracy: 65.680%, loss: 1.231, lr: 0.00025\n",
      "Epoch 152: Training: accuracy: 98.036%, loss: 0.112; Validation: accuracy: 65.237%, loss: 1.405, lr: 0.00025\n",
      "Epoch 153: Training: accuracy: 98.416%, loss: 0.111; Validation: accuracy: 65.237%, loss: 1.202, lr: 0.00025\n",
      "Epoch 154: Training: accuracy: 98.332%, loss: 0.110; Validation: accuracy: 65.680%, loss: 1.381, lr: 0.00024\n",
      "Epoch 155: Training: accuracy: 98.438%, loss: 0.110; Validation: accuracy: 65.089%, loss: 2.281, lr: 0.00024\n",
      "Epoch 156: Training: accuracy: 98.121%, loss: 0.111; Validation: accuracy: 64.941%, loss: 1.794, lr: 0.00024\n",
      "Epoch 157: Training: accuracy: 98.374%, loss: 0.110; Validation: accuracy: 65.533%, loss: 2.335, lr: 0.00024\n",
      "Epoch 158: Training: accuracy: 98.374%, loss: 0.110; Validation: accuracy: 64.201%, loss: 1.934, lr: 0.00024\n",
      "Epoch 159: Training: accuracy: 98.501%, loss: 0.109; Validation: accuracy: 65.237%, loss: 1.869, lr: 0.00023\n",
      "Epoch 160: Training: accuracy: 98.522%, loss: 0.109; Validation: accuracy: 64.941%, loss: 1.382, lr: 0.00023\n",
      "Epoch 161: Training: accuracy: 98.543%, loss: 0.109; Validation: accuracy: 65.680%, loss: 2.620, lr: 0.00023\n",
      "Epoch 162: Training: accuracy: 98.543%, loss: 0.108; Validation: accuracy: 65.089%, loss: 1.567, lr: 0.00023\n",
      "Epoch 163: Training: accuracy: 98.606%, loss: 0.108; Validation: accuracy: 65.533%, loss: 1.811, lr: 0.00022\n",
      "Epoch 164: Training: accuracy: 98.543%, loss: 0.108; Validation: accuracy: 65.680%, loss: 1.019, lr: 0.00022\n",
      "Epoch 165: Training: accuracy: 98.733%, loss: 0.108; Validation: accuracy: 65.237%, loss: 1.714, lr: 0.00022\n",
      "Epoch 166: Training: accuracy: 98.374%, loss: 0.108; Validation: accuracy: 65.089%, loss: 2.084, lr: 0.00022\n",
      "Epoch 167: Training: accuracy: 98.796%, loss: 0.107; Validation: accuracy: 65.533%, loss: 1.698, lr: 0.00022\n",
      "Epoch 168: Training: accuracy: 98.775%, loss: 0.107; Validation: accuracy: 65.976%, loss: 1.398, lr: 0.00021\n",
      "Epoch 169: Training: accuracy: 98.754%, loss: 0.107; Validation: accuracy: 65.680%, loss: 2.138, lr: 0.00021\n",
      "Epoch 170: Training: accuracy: 98.839%, loss: 0.106; Validation: accuracy: 64.941%, loss: 1.991, lr: 0.00021\n",
      "Epoch 171: Training: accuracy: 98.881%, loss: 0.106; Validation: accuracy: 65.828%, loss: 2.447, lr: 0.00021\n",
      "Epoch 172: Training: accuracy: 98.860%, loss: 0.106; Validation: accuracy: 65.237%, loss: 1.672, lr: 0.00021\n",
      "Epoch 173: Training: accuracy: 98.923%, loss: 0.105; Validation: accuracy: 65.680%, loss: 1.155, lr: 0.00020\n",
      "Epoch 174: Training: accuracy: 98.902%, loss: 0.105; Validation: accuracy: 65.828%, loss: 1.432, lr: 0.00020\n",
      "Epoch 175: Training: accuracy: 98.986%, loss: 0.105; Validation: accuracy: 65.533%, loss: 1.484, lr: 0.00020\n",
      "Epoch 176: Training: accuracy: 98.775%, loss: 0.106; Validation: accuracy: 65.237%, loss: 1.242, lr: 0.00020\n",
      "Epoch 177: Training: accuracy: 98.944%, loss: 0.105; Validation: accuracy: 65.680%, loss: 0.858, lr: 0.00020\n",
      "Epoch 178: Training: accuracy: 99.029%, loss: 0.104; Validation: accuracy: 65.385%, loss: 1.877, lr: 0.00020\n",
      "Epoch 179: Training: accuracy: 98.585%, loss: 0.105; Validation: accuracy: 65.237%, loss: 1.349, lr: 0.00019\n",
      "Epoch 180: Training: accuracy: 98.818%, loss: 0.105; Validation: accuracy: 65.237%, loss: 1.165, lr: 0.00019\n",
      "Epoch 181: Training: accuracy: 99.155%, loss: 0.104; Validation: accuracy: 65.680%, loss: 2.820, lr: 0.00019\n",
      "Epoch 182: Training: accuracy: 98.965%, loss: 0.104; Validation: accuracy: 65.533%, loss: 1.025, lr: 0.00019\n",
      "Epoch 183: Training: accuracy: 99.134%, loss: 0.104; Validation: accuracy: 65.385%, loss: 1.530, lr: 0.00019\n",
      "Epoch 184: Training: accuracy: 99.071%, loss: 0.103; Validation: accuracy: 65.828%, loss: 2.119, lr: 0.00019\n",
      "Epoch 185: Training: accuracy: 99.282%, loss: 0.103; Validation: accuracy: 64.941%, loss: 1.333, lr: 0.00018\n",
      "Epoch 186: Training: accuracy: 99.219%, loss: 0.103; Validation: accuracy: 65.976%, loss: 1.649, lr: 0.00018\n",
      "Epoch 187: Training: accuracy: 99.092%, loss: 0.103; Validation: accuracy: 65.533%, loss: 1.397, lr: 0.00018\n",
      "Epoch 188: Training: accuracy: 99.134%, loss: 0.102; Validation: accuracy: 65.533%, loss: 2.412, lr: 0.00018\n",
      "Epoch 189: Training: accuracy: 99.303%, loss: 0.102; Validation: accuracy: 65.237%, loss: 1.991, lr: 0.00018\n",
      "Epoch 190: Training: accuracy: 99.240%, loss: 0.102; Validation: accuracy: 65.533%, loss: 1.998, lr: 0.00018\n",
      "Epoch 191: Training: accuracy: 99.219%, loss: 0.103; Validation: accuracy: 65.237%, loss: 0.970, lr: 0.00017\n",
      "Epoch 192: Training: accuracy: 99.219%, loss: 0.102; Validation: accuracy: 65.089%, loss: 1.463, lr: 0.00017\n",
      "Epoch 193: Training: accuracy: 99.219%, loss: 0.102; Validation: accuracy: 66.272%, loss: 0.658, lr: 0.00017\n",
      "Epoch 194: Training: accuracy: 99.219%, loss: 0.102; Validation: accuracy: 65.976%, loss: 1.186, lr: 0.00017\n",
      "Epoch 195: Training: accuracy: 99.367%, loss: 0.101; Validation: accuracy: 65.680%, loss: 1.986, lr: 0.00017\n",
      "Epoch 196: Training: accuracy: 99.198%, loss: 0.101; Validation: accuracy: 65.828%, loss: 1.135, lr: 0.00017\n",
      "Epoch 197: Training: accuracy: 99.451%, loss: 0.101; Validation: accuracy: 65.385%, loss: 0.757, lr: 0.00016\n",
      "Epoch 198: Training: accuracy: 99.282%, loss: 0.101; Validation: accuracy: 65.680%, loss: 1.894, lr: 0.00016\n",
      "Epoch 199: Training: accuracy: 99.367%, loss: 0.100; Validation: accuracy: 66.420%, loss: 2.364, lr: 0.00016\n",
      "Finished Training\n"
     ]
    }
   ],
   "source": [
    "train_many(model, 100, None, my_lr_scheduler, \"L2\", 0.008)"
   ]
  },
  {
   "cell_type": "code",
   "execution_count": 26,
   "metadata": {},
   "outputs": [
    {
     "name": "stdout",
     "output_type": "stream",
     "text": [
      "Accuracy: 98.58530405405405, loss: 0.010875229723751545\n",
      "              precision    recall  f1-score   support\n",
      "\n",
      "           0       0.99      1.00      1.00      2259\n",
      "           1       0.97      1.00      0.98      1514\n",
      "           2       1.00      0.91      0.96       778\n",
      "           3       0.99      1.00      1.00       185\n",
      "\n",
      "    accuracy                           0.99      4736\n",
      "   macro avg       0.99      0.98      0.98      4736\n",
      "weighted avg       0.99      0.99      0.99      4736\n",
      "\n"
     ]
    },
    {
     "data": {
      "image/png": "[encoded data removed]",
      "text/plain": [
       "<Figure size 400x300 with 2 Axes>"
      ]
     },
     "metadata": {},
     "output_type": "display_data"
    },
    {
     "name": "stdout",
     "output_type": "stream",
     "text": [
      "Accuracy: 66.22320768662232, loss: 1.5146923065185547\n",
      "              precision    recall  f1-score   support\n",
      "\n",
      "           0       0.76      0.81      0.78       647\n",
      "           1       0.55      0.59      0.57       450\n",
      "           2       0.63      0.41      0.50       215\n",
      "           3       0.50      0.39      0.44        41\n",
      "\n",
      "    accuracy                           0.66      1353\n",
      "   macro avg       0.61      0.55      0.57      1353\n",
      "weighted avg       0.66      0.66      0.66      1353\n",
      "\n"
     ]
    },
    {
     "data": {
      "image/png": "[encoded data removed]",
      "text/plain": [
       "<Figure size 400x300 with 2 Axes>"
      ]
     },
     "metadata": {},
     "output_type": "display_data"
    }
   ],
   "source": [
    "visualize_all(model, criterion, train_loader)\n",
    "visualize_all(model, criterion, test_loader)"
   ]
  },
  {
   "cell_type": "code",
   "execution_count": 27,
   "metadata": {},
   "outputs": [
    {
     "name": "stdout",
     "output_type": "stream",
     "text": [
      "Epoch 200: Training: accuracy: 99.155%, loss: 0.101; Validation: accuracy: 66.124%, loss: 1.446, lr: 0.00016\n",
      "Epoch 201: Training: accuracy: 99.430%, loss: 0.100; Validation: accuracy: 65.089%, loss: 1.537, lr: 0.00016\n",
      "Epoch 202: Training: accuracy: 99.430%, loss: 0.100; Validation: accuracy: 65.533%, loss: 2.179, lr: 0.00016\n",
      "Epoch 203: Training: accuracy: 99.430%, loss: 0.100; Validation: accuracy: 66.420%, loss: 2.479, lr: 0.00016\n",
      "Epoch 204: Training: accuracy: 99.451%, loss: 0.100; Validation: accuracy: 65.828%, loss: 2.820, lr: 0.00015\n",
      "Epoch 205: Training: accuracy: 99.451%, loss: 0.099; Validation: accuracy: 65.533%, loss: 0.710, lr: 0.00015\n",
      "Epoch 206: Training: accuracy: 99.451%, loss: 0.099; Validation: accuracy: 65.680%, loss: 1.469, lr: 0.00015\n",
      "Epoch 207: Training: accuracy: 99.451%, loss: 0.099; Validation: accuracy: 65.385%, loss: 1.206, lr: 0.00015\n",
      "Epoch 208: Training: accuracy: 99.472%, loss: 0.099; Validation: accuracy: 65.976%, loss: 1.514, lr: 0.00015\n",
      "Epoch 209: Training: accuracy: 99.514%, loss: 0.099; Validation: accuracy: 65.976%, loss: 2.875, lr: 0.00015\n",
      "Epoch 210: Training: accuracy: 99.409%, loss: 0.099; Validation: accuracy: 66.272%, loss: 0.958, lr: 0.00015\n",
      "Epoch 211: Training: accuracy: 99.535%, loss: 0.099; Validation: accuracy: 65.533%, loss: 1.753, lr: 0.00014\n",
      "Epoch 212: Training: accuracy: 99.409%, loss: 0.100; Validation: accuracy: 65.976%, loss: 2.226, lr: 0.00014\n",
      "Epoch 213: Training: accuracy: 99.451%, loss: 0.099; Validation: accuracy: 65.533%, loss: 1.491, lr: 0.00014\n",
      "Epoch 214: Training: accuracy: 99.535%, loss: 0.098; Validation: accuracy: 66.864%, loss: 1.341, lr: 0.00014\n",
      "Epoch 215: Training: accuracy: 99.451%, loss: 0.098; Validation: accuracy: 65.976%, loss: 1.759, lr: 0.00014\n",
      "Epoch 216: Training: accuracy: 99.472%, loss: 0.098; Validation: accuracy: 65.237%, loss: 1.863, lr: 0.00014\n",
      "Epoch 217: Training: accuracy: 99.388%, loss: 0.099; Validation: accuracy: 65.533%, loss: 2.100, lr: 0.00014\n",
      "Epoch 218: Training: accuracy: 99.472%, loss: 0.098; Validation: accuracy: 66.124%, loss: 2.783, lr: 0.00014\n",
      "Epoch 219: Training: accuracy: 99.303%, loss: 0.099; Validation: accuracy: 65.828%, loss: 1.212, lr: 0.00013\n",
      "Epoch 220: Training: accuracy: 99.430%, loss: 0.098; Validation: accuracy: 65.237%, loss: 2.064, lr: 0.00013\n",
      "Epoch 221: Training: accuracy: 99.240%, loss: 0.099; Validation: accuracy: 65.828%, loss: 2.777, lr: 0.00013\n",
      "Epoch 222: Training: accuracy: 99.493%, loss: 0.099; Validation: accuracy: 66.272%, loss: 2.590, lr: 0.00013\n",
      "Epoch 223: Training: accuracy: 99.578%, loss: 0.098; Validation: accuracy: 65.828%, loss: 1.310, lr: 0.00013\n",
      "Epoch 224: Training: accuracy: 99.535%, loss: 0.097; Validation: accuracy: 65.828%, loss: 3.135, lr: 0.00013\n",
      "Epoch 225: Training: accuracy: 99.620%, loss: 0.097; Validation: accuracy: 66.124%, loss: 1.807, lr: 0.00013\n",
      "Epoch 226: Training: accuracy: 99.514%, loss: 0.097; Validation: accuracy: 65.533%, loss: 2.266, lr: 0.00013\n",
      "Epoch 227: Training: accuracy: 99.662%, loss: 0.096; Validation: accuracy: 66.272%, loss: 0.878, lr: 0.00012\n",
      "Epoch 228: Training: accuracy: 99.641%, loss: 0.096; Validation: accuracy: 66.864%, loss: 2.148, lr: 0.00012\n",
      "Epoch 229: Training: accuracy: 99.620%, loss: 0.097; Validation: accuracy: 66.124%, loss: 1.092, lr: 0.00012\n",
      "Epoch 230: Training: accuracy: 99.662%, loss: 0.096; Validation: accuracy: 66.272%, loss: 2.993, lr: 0.00012\n",
      "Epoch 231: Training: accuracy: 99.578%, loss: 0.096; Validation: accuracy: 66.420%, loss: 1.766, lr: 0.00012\n",
      "Epoch 232: Training: accuracy: 99.620%, loss: 0.096; Validation: accuracy: 66.716%, loss: 1.335, lr: 0.00012\n",
      "Epoch 233: Training: accuracy: 99.704%, loss: 0.096; Validation: accuracy: 66.568%, loss: 1.917, lr: 0.00012\n",
      "Epoch 234: Training: accuracy: 99.578%, loss: 0.096; Validation: accuracy: 65.828%, loss: 1.652, lr: 0.00012\n",
      "Epoch 235: Training: accuracy: 99.578%, loss: 0.096; Validation: accuracy: 66.864%, loss: 1.825, lr: 0.00012\n",
      "Epoch 236: Training: accuracy: 99.683%, loss: 0.095; Validation: accuracy: 65.976%, loss: 1.432, lr: 0.00012\n",
      "Epoch 237: Training: accuracy: 99.641%, loss: 0.095; Validation: accuracy: 65.385%, loss: 1.706, lr: 0.00011\n",
      "Epoch 238: Training: accuracy: 99.704%, loss: 0.095; Validation: accuracy: 65.680%, loss: 1.536, lr: 0.00011\n",
      "Epoch 239: Training: accuracy: 99.747%, loss: 0.095; Validation: accuracy: 65.680%, loss: 1.319, lr: 0.00011\n",
      "Epoch 240: Training: accuracy: 99.704%, loss: 0.095; Validation: accuracy: 66.716%, loss: 2.022, lr: 0.00011\n",
      "Epoch 241: Training: accuracy: 99.726%, loss: 0.095; Validation: accuracy: 65.828%, loss: 2.538, lr: 0.00011\n",
      "Epoch 242: Training: accuracy: 99.726%, loss: 0.095; Validation: accuracy: 65.385%, loss: 1.061, lr: 0.00011\n",
      "Epoch 243: Training: accuracy: 99.747%, loss: 0.095; Validation: accuracy: 66.420%, loss: 1.398, lr: 0.00011\n",
      "Epoch 244: Training: accuracy: 99.726%, loss: 0.095; Validation: accuracy: 67.456%, loss: 1.730, lr: 0.00011\n",
      "Epoch 245: Training: accuracy: 99.683%, loss: 0.095; Validation: accuracy: 66.568%, loss: 1.731, lr: 0.00011\n",
      "Epoch 246: Training: accuracy: 99.704%, loss: 0.094; Validation: accuracy: 68.343%, loss: 2.275, lr: 0.00010\n",
      "Epoch 247: Training: accuracy: 99.662%, loss: 0.095; Validation: accuracy: 66.716%, loss: 1.947, lr: 0.00010\n",
      "Epoch 248: Training: accuracy: 99.704%, loss: 0.094; Validation: accuracy: 66.124%, loss: 1.933, lr: 0.00010\n",
      "Epoch 249: Training: accuracy: 99.726%, loss: 0.094; Validation: accuracy: 66.272%, loss: 1.058, lr: 0.00010\n",
      "Epoch 250: Training: accuracy: 99.747%, loss: 0.094; Validation: accuracy: 65.976%, loss: 1.101, lr: 0.00010\n",
      "Epoch 251: Training: accuracy: 99.747%, loss: 0.094; Validation: accuracy: 65.533%, loss: 1.650, lr: 0.00010\n",
      "Epoch 252: Training: accuracy: 99.726%, loss: 0.095; Validation: accuracy: 67.604%, loss: 1.111, lr: 0.00010\n",
      "Epoch 253: Training: accuracy: 99.535%, loss: 0.096; Validation: accuracy: 65.680%, loss: 2.328, lr: 0.00010\n",
      "Epoch 254: Training: accuracy: 99.578%, loss: 0.094; Validation: accuracy: 66.568%, loss: 1.551, lr: 0.00010\n",
      "Epoch 255: Training: accuracy: 99.726%, loss: 0.094; Validation: accuracy: 66.864%, loss: 1.820, lr: 0.00010\n",
      "Epoch 256: Training: accuracy: 99.747%, loss: 0.093; Validation: accuracy: 64.941%, loss: 1.148, lr: 0.00010\n",
      "Epoch 257: Training: accuracy: 99.768%, loss: 0.093; Validation: accuracy: 65.976%, loss: 1.147, lr: 0.00009\n",
      "Epoch 258: Training: accuracy: 99.768%, loss: 0.093; Validation: accuracy: 65.828%, loss: 2.623, lr: 0.00009\n",
      "Epoch 259: Training: accuracy: 99.768%, loss: 0.093; Validation: accuracy: 66.272%, loss: 0.961, lr: 0.00009\n",
      "Epoch 260: Training: accuracy: 99.704%, loss: 0.094; Validation: accuracy: 66.124%, loss: 1.259, lr: 0.00009\n",
      "Epoch 261: Training: accuracy: 99.683%, loss: 0.094; Validation: accuracy: 66.716%, loss: 2.318, lr: 0.00009\n",
      "Epoch 262: Training: accuracy: 99.768%, loss: 0.093; Validation: accuracy: 66.864%, loss: 2.625, lr: 0.00009\n",
      "Epoch 263: Training: accuracy: 99.768%, loss: 0.093; Validation: accuracy: 65.680%, loss: 1.864, lr: 0.00009\n",
      "Epoch 264: Training: accuracy: 99.789%, loss: 0.092; Validation: accuracy: 67.160%, loss: 1.343, lr: 0.00009\n",
      "Epoch 265: Training: accuracy: 99.747%, loss: 0.093; Validation: accuracy: 65.680%, loss: 0.965, lr: 0.00009\n",
      "Epoch 266: Training: accuracy: 99.789%, loss: 0.092; Validation: accuracy: 65.237%, loss: 1.097, lr: 0.00009\n",
      "Epoch 267: Training: accuracy: 99.768%, loss: 0.092; Validation: accuracy: 66.716%, loss: 1.752, lr: 0.00009\n",
      "Epoch 268: Training: accuracy: 99.768%, loss: 0.093; Validation: accuracy: 66.124%, loss: 1.250, lr: 0.00009\n",
      "Epoch 269: Training: accuracy: 99.747%, loss: 0.092; Validation: accuracy: 66.272%, loss: 1.875, lr: 0.00009\n",
      "Epoch 270: Training: accuracy: 99.789%, loss: 0.092; Validation: accuracy: 66.272%, loss: 1.912, lr: 0.00008\n",
      "Epoch 271: Training: accuracy: 99.789%, loss: 0.092; Validation: accuracy: 66.568%, loss: 2.311, lr: 0.00008\n",
      "Epoch 272: Training: accuracy: 99.704%, loss: 0.092; Validation: accuracy: 65.828%, loss: 2.285, lr: 0.00008\n",
      "Epoch 273: Training: accuracy: 99.747%, loss: 0.092; Validation: accuracy: 65.976%, loss: 1.646, lr: 0.00008\n",
      "Epoch 274: Training: accuracy: 99.662%, loss: 0.093; Validation: accuracy: 67.751%, loss: 2.136, lr: 0.00008\n",
      "Epoch 275: Training: accuracy: 99.768%, loss: 0.092; Validation: accuracy: 66.420%, loss: 1.135, lr: 0.00008\n",
      "Epoch 276: Training: accuracy: 99.768%, loss: 0.092; Validation: accuracy: 66.716%, loss: 1.409, lr: 0.00008\n",
      "Epoch 277: Training: accuracy: 99.768%, loss: 0.092; Validation: accuracy: 65.533%, loss: 0.869, lr: 0.00008\n",
      "Epoch 278: Training: accuracy: 99.747%, loss: 0.092; Validation: accuracy: 65.976%, loss: 0.803, lr: 0.00008\n",
      "Epoch 279: Training: accuracy: 99.768%, loss: 0.092; Validation: accuracy: 66.420%, loss: 1.680, lr: 0.00008\n",
      "Epoch 280: Training: accuracy: 99.789%, loss: 0.092; Validation: accuracy: 66.568%, loss: 1.749, lr: 0.00008\n",
      "Epoch 281: Training: accuracy: 99.810%, loss: 0.092; Validation: accuracy: 66.568%, loss: 1.566, lr: 0.00008\n",
      "Epoch 282: Training: accuracy: 99.789%, loss: 0.092; Validation: accuracy: 66.568%, loss: 1.320, lr: 0.00008\n",
      "Epoch 283: Training: accuracy: 99.789%, loss: 0.091; Validation: accuracy: 65.976%, loss: 1.488, lr: 0.00007\n",
      "Epoch 284: Training: accuracy: 99.768%, loss: 0.091; Validation: accuracy: 66.716%, loss: 1.133, lr: 0.00007\n",
      "Epoch 285: Training: accuracy: 99.810%, loss: 0.091; Validation: accuracy: 65.976%, loss: 2.086, lr: 0.00007\n",
      "Epoch 286: Training: accuracy: 99.831%, loss: 0.091; Validation: accuracy: 66.420%, loss: 1.623, lr: 0.00007\n",
      "Epoch 287: Training: accuracy: 99.789%, loss: 0.091; Validation: accuracy: 65.089%, loss: 1.448, lr: 0.00007\n",
      "Epoch 288: Training: accuracy: 99.831%, loss: 0.091; Validation: accuracy: 66.864%, loss: 2.540, lr: 0.00007\n",
      "Epoch 289: Training: accuracy: 99.810%, loss: 0.091; Validation: accuracy: 66.864%, loss: 0.842, lr: 0.00007\n",
      "Epoch 290: Training: accuracy: 99.810%, loss: 0.091; Validation: accuracy: 66.272%, loss: 2.082, lr: 0.00007\n",
      "Epoch 291: Training: accuracy: 99.831%, loss: 0.091; Validation: accuracy: 66.568%, loss: 2.469, lr: 0.00007\n",
      "Epoch 292: Training: accuracy: 99.789%, loss: 0.091; Validation: accuracy: 65.828%, loss: 1.380, lr: 0.00007\n",
      "Epoch 293: Training: accuracy: 99.831%, loss: 0.091; Validation: accuracy: 65.089%, loss: 1.792, lr: 0.00007\n",
      "Epoch 294: Training: accuracy: 99.810%, loss: 0.091; Validation: accuracy: 66.272%, loss: 1.770, lr: 0.00007\n",
      "Epoch 295: Training: accuracy: 99.747%, loss: 0.090; Validation: accuracy: 66.864%, loss: 1.265, lr: 0.00007\n",
      "Epoch 296: Training: accuracy: 99.747%, loss: 0.091; Validation: accuracy: 66.420%, loss: 1.677, lr: 0.00007\n",
      "Epoch 297: Training: accuracy: 99.810%, loss: 0.091; Validation: accuracy: 65.976%, loss: 0.922, lr: 0.00007\n",
      "Epoch 298: Training: accuracy: 99.789%, loss: 0.091; Validation: accuracy: 65.385%, loss: 1.308, lr: 0.00007\n",
      "Epoch 299: Training: accuracy: 99.747%, loss: 0.091; Validation: accuracy: 66.568%, loss: 1.014, lr: 0.00006\n",
      "Finished Training\n"
     ]
    }
   ],
   "source": [
    "train_many(model, 100, None, my_lr_scheduler, \"L2\", 0.008)"
   ]
  },
  {
   "cell_type": "code",
   "execution_count": 30,
   "metadata": {},
   "outputs": [
    {
     "name": "stdout",
     "output_type": "stream",
     "text": [
      "Accuracy: 99.83108108108108, loss: 0.006297830492258072\n",
      "              precision    recall  f1-score   support\n",
      "\n",
      "           0       1.00      1.00      1.00      2259\n",
      "           1       1.00      1.00      1.00      1514\n",
      "           2       1.00      0.99      0.99       778\n",
      "           3       0.99      1.00      1.00       185\n",
      "\n",
      "    accuracy                           1.00      4736\n",
      "   macro avg       1.00      1.00      1.00      4736\n",
      "weighted avg       1.00      1.00      1.00      4736\n",
      "\n"
     ]
    },
    {
     "data": {
      "image/png": "[encoded data removed]",
      "text/plain": [
       "<Figure size 400x300 with 2 Axes>"
      ]
     },
     "metadata": {},
     "output_type": "display_data"
    },
    {
     "name": "stdout",
     "output_type": "stream",
     "text": [
      "Accuracy: 64.7450110864745, loss: 1.0578800439834595\n",
      "              precision    recall  f1-score   support\n",
      "\n",
      "           0       0.75      0.76      0.76       647\n",
      "           1       0.53      0.58      0.56       450\n",
      "           2       0.62      0.47      0.53       215\n",
      "           3       0.48      0.49      0.48        41\n",
      "\n",
      "    accuracy                           0.65      1353\n",
      "   macro avg       0.59      0.57      0.58      1353\n",
      "weighted avg       0.65      0.65      0.65      1353\n",
      "\n"
     ]
    },
    {
     "data": {
      "image/png": "[encoded data removed]",
      "text/plain": [
       "<Figure size 400x300 with 2 Axes>"
      ]
     },
     "metadata": {},
     "output_type": "display_data"
    }
   ],
   "source": [
    "visualize_all(model, criterion, train_loader)\n",
    "visualize_all(model, criterion, test_loader)"
   ]
  }
 ],
 "metadata": {
  "kernelspec": {
   "display_name": "pawel",
   "language": "python",
   "name": "python3"
  },
  "language_info": {
   "codemirror_mode": {
    "name": "ipython",
    "version": 3
   },
   "file_extension": ".py",
   "mimetype": "text/x-python",
   "name": "python",
   "nbconvert_exporter": "python",
   "pygments_lexer": "ipython3",
   "version": "3.9.21"
  }
 },
 "nbformat": 4,
 "nbformat_minor": 2
}
