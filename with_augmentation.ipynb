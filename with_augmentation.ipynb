{
 "cells": [
  {
   "cell_type": "markdown",
   "metadata": {},
   "source": [
    "### Import Dependencies"
   ]
  },
  {
   "cell_type": "code",
   "execution_count": 1,
   "metadata": {},
   "outputs": [],
   "source": [
    "import random\n",
    "random.seed(0)"
   ]
  },
  {
   "cell_type": "code",
   "execution_count": 2,
   "metadata": {},
   "outputs": [],
   "source": [
    "import torch\n",
    "import torch.nn as nn\n",
    "import torchvision\n",
    "from torchvision import transforms\n",
    "from torchvision.transforms import v2"
   ]
  },
  {
   "cell_type": "markdown",
   "metadata": {},
   "source": [
    "### Constant Variables"
   ]
  },
  {
   "cell_type": "code",
   "execution_count": 3,
   "metadata": {},
   "outputs": [],
   "source": [
    "DATASET_PATH = './knee-osteoarthritis_2'"
   ]
  },
  {
   "cell_type": "code",
   "execution_count": 4,
   "metadata": {},
   "outputs": [],
   "source": [
    "TRAIN_PATH = f'{DATASET_PATH}/train'\n",
    "VAL_PATH = f'{DATASET_PATH}/val'\n",
    "TEST_PATH = f'{DATASET_PATH}/test'"
   ]
  },
  {
   "cell_type": "code",
   "execution_count": 5,
   "metadata": {},
   "outputs": [
    {
     "name": "stdout",
     "output_type": "stream",
     "text": [
      "cuda\n"
     ]
    }
   ],
   "source": [
    "device = 'cuda' if torch.cuda.is_available() else 'cpu'\n",
    "\n",
    "print(device)"
   ]
  },
  {
   "cell_type": "code",
   "execution_count": 6,
   "metadata": {},
   "outputs": [],
   "source": [
    "classes = range(4)"
   ]
  },
  {
   "cell_type": "markdown",
   "metadata": {},
   "source": [
    "### Dataset "
   ]
  },
  {
   "cell_type": "code",
   "execution_count": 7,
   "metadata": {},
   "outputs": [],
   "source": [
    "from src.dataset.augmented_dataset import get_KneeOsteoarthritis_Edges, KneeOsteoarthritis_Edges\n",
    "\n",
    "transform_toTensor = transforms.Compose([transforms.ToTensor()])\n",
    "\n",
    "train_dataset = torchvision.datasets.ImageFolder(TRAIN_PATH, transform_toTensor)\n",
    "val_dataset = torchvision.datasets.ImageFolder(VAL_PATH, transform_toTensor)\n",
    "test_dataset = torchvision.datasets.ImageFolder(TEST_PATH, transform_toTensor)\n",
    "\n",
    "dataset_all = torch.utils.data.ConcatDataset([train_dataset, val_dataset, test_dataset])\n",
    "\n",
    "train_dataset, val_dataset, test_dataset = torch.utils.data.random_split(dataset_all, [0.7, 0.1, 0.2])\n",
    "train_dataset = KneeOsteoarthritis_Edges(train_dataset)\n",
    "val_dataset = KneeOsteoarthritis_Edges(val_dataset)\n",
    "test_dataset = KneeOsteoarthritis_Edges(test_dataset)"
   ]
  },
  {
   "cell_type": "code",
   "execution_count": 8,
   "metadata": {},
   "outputs": [
    {
     "name": "stdout",
     "output_type": "stream",
     "text": [
      "4736 676 1353\n"
     ]
    }
   ],
   "source": [
    "print(len(train_dataset), len(val_dataset), len(test_dataset))"
   ]
  },
  {
   "cell_type": "code",
   "execution_count": 9,
   "metadata": {},
   "outputs": [],
   "source": [
    "import matplotlib.pyplot as plt\n",
    "import numpy as np\n",
    "\n",
    "# functions to show an image\n",
    "def imshow(img):\n",
    "    img = img / 2 + 0.5     # unnormalize\n",
    "    npimg = img.numpy()\n",
    "    plt.imshow(np.transpose(npimg, (1, 2, 0)), cmap='gray')\n",
    "    plt.show()"
   ]
  },
  {
   "cell_type": "code",
   "execution_count": 10,
   "metadata": {},
   "outputs": [
    {
     "name": "stdout",
     "output_type": "stream",
     "text": [
      "torch.Size([3, 256, 256]) torch.Size([1, 224, 224])\n"
     ]
    }
   ],
   "source": [
    "row = train_dataset[1]\n",
    "normal_ex = row[0]\n",
    "augmented_ex = row[1]\n",
    "print(normal_ex.shape, augmented_ex.shape)"
   ]
  },
  {
   "cell_type": "markdown",
   "metadata": {},
   "source": [
    "### Data Loader"
   ]
  },
  {
   "cell_type": "code",
   "execution_count": 11,
   "metadata": {},
   "outputs": [],
   "source": [
    "from torch.utils.data import DataLoader\n",
    "\n",
    "BATCH_SIZE = 128\n",
    "\n",
    "train_loader = DataLoader(train_dataset, batch_size=BATCH_SIZE, shuffle=True)\n",
    "val_loader = DataLoader(val_dataset, batch_size=BATCH_SIZE, shuffle=True)\n",
    "test_loader = DataLoader(test_dataset, batch_size=BATCH_SIZE, shuffle=True)"
   ]
  },
  {
   "cell_type": "markdown",
   "metadata": {},
   "source": [
    "### Model"
   ]
  },
  {
   "cell_type": "code",
   "execution_count": 12,
   "metadata": {},
   "outputs": [],
   "source": [
    "class IntermediarySpaceModel(nn.Module):\n",
    "    def __init__(self, num_classes: int = 5, dropout: float = 0.5) -> None:\n",
    "        super().__init__()\n",
    "        \n",
    "        # Size of layer block\n",
    "        S = 24\n",
    "        \n",
    "        # Images\n",
    "        self.imagesClassifier = nn.Sequential(\n",
    "            nn.Conv2d(3, S*2, kernel_size=11, stride=4, padding=2),\n",
    "            nn.ReLU(inplace=True),\n",
    "            nn.MaxPool2d(kernel_size=3, stride=2),\n",
    "            nn.Dropout(p=dropout*0.2),\n",
    "            nn.Conv2d(S*2, S*2, kernel_size=5, padding=2),\n",
    "            nn.ReLU(inplace=True),\n",
    "            nn.MaxPool2d(kernel_size=3, stride=2),\n",
    "            nn.Dropout(p=dropout*0.4),\n",
    "            nn.Conv2d(S*2, S*2, kernel_size=3, padding=1),\n",
    "            nn.ReLU(inplace=True),\n",
    "            nn.Dropout(p=dropout*0.6),\n",
    "            nn.Conv2d(S*2, S, kernel_size=3, padding=1),\n",
    "            nn.ReLU(inplace=True),\n",
    "            nn.MaxPool2d(kernel_size=3, stride=2),\n",
    "            \n",
    "            nn.Flatten(),\n",
    "            nn.Dropout(p=dropout*0.8),\n",
    "            nn.Linear(S * 7 * 7, S*2),\n",
    "        )\n",
    "\n",
    "        self.edgesClassifier = nn.Sequential(\n",
    "            nn.Conv2d(1, S*2, kernel_size=11, stride=4, padding=2),\n",
    "            nn.ReLU(inplace=True),\n",
    "            nn.MaxPool2d(kernel_size=3, stride=2),\n",
    "            nn.Dropout(p=dropout*0.4),\n",
    "            nn.Conv2d(S*2, S*2, kernel_size=5, padding=2),\n",
    "            nn.ReLU(inplace=True),\n",
    "            nn.MaxPool2d(kernel_size=3, stride=2),\n",
    "            nn.Dropout(p=dropout*0.6),\n",
    "            nn.Conv2d(S*2, S, kernel_size=3, padding=1),\n",
    "            nn.ReLU(inplace=True),\n",
    "            nn.MaxPool2d(kernel_size=3, stride=2),\n",
    "            \n",
    "            nn.Flatten(),\n",
    "            nn.Dropout(p=dropout*0.8),\n",
    "            nn.Linear(S * 6 * 6, S*2),\n",
    "        )\n",
    "        \n",
    "        self.outputCombiner = nn.Sequential(\n",
    "            nn.ReLU(inplace=True),\n",
    "            nn.Dropout(p=dropout),\n",
    "            nn.Linear(S*4, S*3),\n",
    "            nn.ReLU(inplace=True),\n",
    "            nn.Dropout(p=dropout),\n",
    "            nn.Linear(S*3, S),\n",
    "            nn.ReLU(inplace=True),\n",
    "            nn.Dropout(p=dropout),\n",
    "            nn.Linear(S, num_classes),\n",
    "        )\n",
    "\n",
    "    def forward(self, images: torch.Tensor, edges: torch.Tensor) -> torch.Tensor:\n",
    "        \n",
    "        # Images\n",
    "        images = self.imagesClassifier(images)\n",
    "        \n",
    "        # Edges\n",
    "        edges = self.edgesClassifier(edges)\n",
    "        \n",
    "        # Combining outputs\n",
    "        concated = torch.cat((images, edges), 1)\n",
    "        res = self.outputCombiner(concated)\n",
    "        \n",
    "        return res"
   ]
  },
  {
   "cell_type": "code",
   "execution_count": 13,
   "metadata": {},
   "outputs": [],
   "source": [
    "# from src.models.custom import CustomModel\n",
    "\n",
    "# model = EarlyIntermediarySpaceModel(3, 0)\n",
    "model = IntermediarySpaceModel(4, 0.5)\n",
    "model = model.to(device)"
   ]
  },
  {
   "cell_type": "code",
   "execution_count": 14,
   "metadata": {},
   "outputs": [
    {
     "name": "stdout",
     "output_type": "stream",
     "text": [
      "287044\n",
      "287044\n"
     ]
    }
   ],
   "source": [
    "# print(sum(p.numel() for p in net.classifier.parameters()) ,sum(p.numel() for p in net.edgesClassifier.parameters()) )\n",
    "print(sum(p.numel() for p in model.parameters()))\n",
    "\n",
    "trainable_parameters = filter(lambda p: p.requires_grad, model.parameters())\n",
    "print(sum(p.numel() for p in trainable_parameters))"
   ]
  },
  {
   "cell_type": "markdown",
   "metadata": {},
   "source": [
    "### Training Loop"
   ]
  },
  {
   "cell_type": "markdown",
   "metadata": {},
   "source": [
    "#### Setting optimizer"
   ]
  },
  {
   "cell_type": "code",
   "execution_count": 15,
   "metadata": {},
   "outputs": [
    {
     "name": "stdout",
     "output_type": "stream",
     "text": [
      "{2: 769, 0: 2262, 3: 177, 1: 1528} tensor([ 769., 2262.,  177., 1528.], device='cuda:0')\n"
     ]
    }
   ],
   "source": [
    "import torch.optim as optim\n",
    "from src.other import getClassesFrequency\n",
    "\n",
    "class_weights = getClassesFrequency(train_dataset)\n",
    "weights_tensor = torch.Tensor(list(class_weights.values())).to(device)\n",
    "print(class_weights, weights_tensor)\n",
    "\n",
    "criterion = nn.CrossEntropyLoss(weights_tensor)\n",
    "optimizer = optim.Adam(model.parameters(), lr=0.001)"
   ]
  },
  {
   "cell_type": "code",
   "execution_count": 16,
   "metadata": {},
   "outputs": [
    {
     "name": "stdout",
     "output_type": "stream",
     "text": [
      "0.9908789441918076\n"
     ]
    }
   ],
   "source": [
    "# decayRate100 = 0.8\n",
    "decayRate100 = 0.4\n",
    "decayRate1 = decayRate100**(1/100)\n",
    "lr_scheduler = torch.optim.lr_scheduler.ExponentialLR(optimizer=optimizer, gamma=decayRate1)\n",
    "\n",
    "print(decayRate1)"
   ]
  },
  {
   "cell_type": "code",
   "execution_count": 17,
   "metadata": {},
   "outputs": [],
   "source": [
    "# def get_lr(optimizer):\n",
    "#   for param_group in optimizer.param_groups:\n",
    "#     return param_group['lr']"
   ]
  },
  {
   "cell_type": "markdown",
   "metadata": {},
   "source": [
    "#### Setting Logger"
   ]
  },
  {
   "cell_type": "code",
   "execution_count": 18,
   "metadata": {},
   "outputs": [],
   "source": [
    "EXP_NAME = \"confusion_matrix_test\"\n",
    "\n",
    "from torch.utils.tensorboard import SummaryWriter\n",
    "\n",
    "# logger = SummaryWriter(log_dir=f\"logs/test/{EXP_NAME}\")\n",
    "logger = SummaryWriter(log_dir=f\"logs/test\")"
   ]
  },
  {
   "cell_type": "code",
   "execution_count": 19,
   "metadata": {},
   "outputs": [],
   "source": [
    "epochCounter = 0"
   ]
  },
  {
   "cell_type": "markdown",
   "metadata": {},
   "source": [
    "#### Training Loop"
   ]
  },
  {
   "cell_type": "code",
   "execution_count": 20,
   "metadata": {},
   "outputs": [],
   "source": [
    "# import pandas as pd\n",
    "# import seaborn as sns\n",
    "# import matplotlib.pyplot as plt\n",
    "\n",
    "# def getConfusionMatrixDisplay(cm, classes, evType, epoch=None):\n",
    "#     # Build confusion matrix\n",
    "#     df_cm = pd.DataFrame(cm / np.sum(cm, axis=1)[:, None], index=[i for i in classes], columns=[i for i in classes])\n",
    "#     plt.figure(figsize=(4, 3))    \n",
    "#     heatmap = sns.heatmap(df_cm, cmap='crest', annot=True)\n",
    "    \n",
    "#     title = evType\n",
    "      \n",
    "#     if epoch != None:\n",
    "#         title += f\", epoch: {epoch}\"\n",
    "        \n",
    "#     heatmap.set(xlabel='true label', ylabel='predicted label', title=title)\n",
    "#     return heatmap.get_figure()"
   ]
  },
  {
   "cell_type": "code",
   "execution_count": 21,
   "metadata": {},
   "outputs": [],
   "source": [
    "# from src.evaluate import evaluate_augmented_model\n",
    "\n",
    "# def train_many(model, epochs_nr, logger = None, lr_scheduler = None, regularization_type = \"L2\", lambda_reg=0.01, display_cm=False):\n",
    "#     global epochCounter\n",
    "    \n",
    "#     for epoch in range(0, epochs_nr):  # loop over the dataset multiple times\n",
    "#         epoch_correct = 0\n",
    "#         epoch_samples = 0\n",
    "#         epoch_batches = 0\n",
    "#         running_loss = 0.0\n",
    "    \n",
    "#         for i, data in enumerate(train_loader, 0):\n",
    "\n",
    "#             # get the inputs; data is a list of [inputs, labels]\n",
    "#             images, edges, labels = data\n",
    "#             images = images.to(device)\n",
    "#             edges = edges.to(device)\n",
    "#             labels = labels.to(device)\n",
    "            \n",
    "#             # zero the parameter gradients\n",
    "#             optimizer.zero_grad()\n",
    "            \n",
    "#             # forward + backward + optimize\n",
    "#             outputs = model(images, edges)\n",
    "#             loss = criterion(outputs, labels)\n",
    "            \n",
    "#             # Apply L1 regularization\n",
    "#             if regularization_type == 'L1':\n",
    "#                 l1_norm = sum(p.abs().sum() for p in model.parameters())\n",
    "#                 loss += lambda_reg * l1_norm\n",
    "                \n",
    "#             # Apply L2 regularization\n",
    "#             elif regularization_type == 'L2':\n",
    "#                 l2_norm = sum(p.pow(2).sum() for p in model.parameters())\n",
    "#                 loss += lambda_reg * l2_norm\n",
    "                \n",
    "#             loss.backward()\n",
    "            \n",
    "#             optimizer.step()\n",
    "            \n",
    "#             # Changing outputs (logits) to labels\n",
    "#             outputs_clear = outputs.max(1).indices\n",
    "            \n",
    "#             epoch_correct += (outputs_clear == labels).float().sum()\n",
    "#             epoch_samples += len(outputs)\n",
    "#             epoch_batches +=1\n",
    "            \n",
    "#             running_loss += loss.item()\n",
    "        \n",
    "#         tAccuracy = epoch_correct / epoch_samples * 100\n",
    "#         tLoss = running_loss / epoch_batches\n",
    "        \n",
    "#         # Validation + Training Evaluation for CM (doubled, should be merged with training)\n",
    "#         vAccuracy, vLoss, vReport, vCm = evaluate_augmented_model(model, criterion, val_loader, device)\n",
    "#         _, _, tReport, tCm = evaluate_augmented_model(model, criterion, train_loader, device)\n",
    "        \n",
    "#         learning_rate = get_lr(optimizer)\n",
    "#         if logger != None:\n",
    "#             # logger.add_text(\"REGULARIZATION_TYPE\", regularization_type, global_step=epochCounter)\n",
    "#             # logger.add_scalar(\"REGULARIZATION_LAMBDA\", lambda_reg, global_step=epochCounter)\n",
    "#             # logger.add_scalar(\"learning_rate\", learning_rate, global_step=epochCounter)\n",
    "            \n",
    "#             # logger.add_hparams({\"lr\": learning_rate, \"reg_type\": regularization_type, \"reg_lambda\": lambda_reg}, {})\n",
    "            \n",
    "#             logger.add_scalars(\"Accuracy\", {\n",
    "#               \"training\": tAccuracy,\n",
    "#               \"validation\": vAccuracy,\n",
    "#             }, epochCounter)\n",
    "            \n",
    "#             logger.add_scalars(\"Loss\", {\n",
    "#               \"training\": tLoss,\n",
    "#               \"validation\": vLoss,\n",
    "#             }, epochCounter)\n",
    "            \n",
    "#             if epochCounter % 5 == 0:\n",
    "#                 # print(cos)\n",
    "#                 logger.add_text(\"Classification Report/train\", tReport, global_step=epochCounter)\n",
    "#                 logger.add_text(\"Classification Report/validation\", vReport, global_step=epochCounter)\n",
    "#                 logger.add_figure(\"Training Confusion matrix/train\", getConfusionMatrixDisplay(tCm, classes, \"Training\", epochCounter), global_step=epochCounter)\n",
    "#                 logger.add_figure(\"Validation Confusion matrix/validation\", getConfusionMatrixDisplay(vCm, classes, \"Validation\", epochCounter), global_step=epochCounter)\n",
    "                \n",
    "#         if display_cm and epochCounter % 5 == 0:\n",
    "#             getConfusionMatrixDisplay(tCm, classes, \"Training\", epochCounter)\n",
    "#             getConfusionMatrixDisplay(vCm, classes, \"Validation\", epochCounter)\n",
    "            \n",
    "#         print(f'Epoch {epochCounter}: Training: accuracy: {tAccuracy:.3f}%, loss: {tLoss:.3f}; Validation: accuracy: {vAccuracy:.3f}%, loss: {vLoss:.3f}, lr: {learning_rate:.5f}')\n",
    "        \n",
    "#         epochCounter += 1\n",
    "        \n",
    "#         if lr_scheduler != None:\n",
    "#             lr_scheduler.step()\n",
    "        \n",
    "#         # print(\"lr= \" + str(learning_rate))\n",
    "#     print('Finished Training')"
   ]
  },
  {
   "cell_type": "code",
   "execution_count": 22,
   "metadata": {},
   "outputs": [],
   "source": [
    "from src.training import Trainer\n",
    "trainer = Trainer(\n",
    "  model=model,\n",
    "  classes=classes,\n",
    "  train_loader=train_loader,\n",
    "  val_loader=val_loader,\n",
    "  criterion=criterion,\n",
    "  optimizer=optimizer,\n",
    "  device=device,\n",
    "  lr_scheduler=lr_scheduler,\n",
    "  reg_type=\"L2\",\n",
    "  reg_lambda=0.01,\n",
    "  tensorboard_logger=logger\n",
    ")"
   ]
  },
  {
   "cell_type": "code",
   "execution_count": 23,
   "metadata": {},
   "outputs": [
    {
     "name": "stdout",
     "output_type": "stream",
     "text": [
      "Epoch 0: Training: accuracy: 21.284%, loss: 2.973; Validation: accuracy: 30.325%, loss: 1.134, lr: 0.00100\n",
      "Epoch 1: Training: accuracy: 32.264%, loss: 1.742; Validation: accuracy: 30.325%, loss: 1.067, lr: 0.00099\n",
      "Epoch 2: Training: accuracy: 32.264%, loss: 1.593; Validation: accuracy: 30.325%, loss: 0.804, lr: 0.00098\n"
     ]
    },
    {
     "ename": "KeyboardInterrupt",
     "evalue": "",
     "output_type": "error",
     "traceback": [
      "\u001b[0;31m---------------------------------------------------------------------------\u001b[0m",
      "\u001b[0;31mKeyboardInterrupt\u001b[0m                         Traceback (most recent call last)",
      "Cell \u001b[0;32mIn[23], line 1\u001b[0m\n\u001b[0;32m----> 1\u001b[0m \u001b[43mtrainer\u001b[49m\u001b[38;5;241;43m.\u001b[39;49m\u001b[43mtrain_many\u001b[49m\u001b[43m(\u001b[49m\u001b[38;5;241;43m10\u001b[39;49m\u001b[43m)\u001b[49m\n",
      "File \u001b[0;32m~/projects/knees_project/knee-osteoarthritis/src/training.py:82\u001b[0m, in \u001b[0;36mTrainer.train_many\u001b[0;34m(self, epochs_nr)\u001b[0m\n\u001b[1;32m     80\u001b[0m \u001b[38;5;66;03m# Validation + Training Evaluation for CM (doubled, should be merged with training)\u001b[39;00m\n\u001b[1;32m     81\u001b[0m vAccuracy, vLoss, vReport, vCm \u001b[38;5;241m=\u001b[39m evaluate_augmented_model(\u001b[38;5;28mself\u001b[39m\u001b[38;5;241m.\u001b[39mmodel, \u001b[38;5;28mself\u001b[39m\u001b[38;5;241m.\u001b[39mcriterion, \u001b[38;5;28mself\u001b[39m\u001b[38;5;241m.\u001b[39mval_loader, \u001b[38;5;28mself\u001b[39m\u001b[38;5;241m.\u001b[39mdevice)\n\u001b[0;32m---> 82\u001b[0m _, _, tReport, tCm \u001b[38;5;241m=\u001b[39m \u001b[43mevaluate_augmented_model\u001b[49m\u001b[43m(\u001b[49m\u001b[38;5;28;43mself\u001b[39;49m\u001b[38;5;241;43m.\u001b[39;49m\u001b[43mmodel\u001b[49m\u001b[43m,\u001b[49m\u001b[43m \u001b[49m\u001b[38;5;28;43mself\u001b[39;49m\u001b[38;5;241;43m.\u001b[39;49m\u001b[43mcriterion\u001b[49m\u001b[43m,\u001b[49m\u001b[43m \u001b[49m\u001b[38;5;28;43mself\u001b[39;49m\u001b[38;5;241;43m.\u001b[39;49m\u001b[43mtrain_loader\u001b[49m\u001b[43m,\u001b[49m\u001b[43m \u001b[49m\u001b[38;5;28;43mself\u001b[39;49m\u001b[38;5;241;43m.\u001b[39;49m\u001b[43mdevice\u001b[49m\u001b[43m)\u001b[49m\n\u001b[1;32m     84\u001b[0m learning_rate \u001b[38;5;241m=\u001b[39m \u001b[38;5;28mself\u001b[39m\u001b[38;5;241m.\u001b[39mget_lr()\n\u001b[1;32m     86\u001b[0m \u001b[38;5;28;01mif\u001b[39;00m \u001b[38;5;28mself\u001b[39m\u001b[38;5;241m.\u001b[39mlogger \u001b[38;5;241m!=\u001b[39m \u001b[38;5;28;01mNone\u001b[39;00m:\n",
      "File \u001b[0;32m~/projects/knees_project/knee-osteoarthritis/src/evaluate.py:20\u001b[0m, in \u001b[0;36mevaluate_augmented_model\u001b[0;34m(model, criterion, loader, device)\u001b[0m\n\u001b[1;32m     17\u001b[0m loss \u001b[38;5;241m=\u001b[39m criterion(outputs, labels)\n\u001b[1;32m     19\u001b[0m total \u001b[38;5;241m+\u001b[39m\u001b[38;5;241m=\u001b[39m labels\u001b[38;5;241m.\u001b[39msize(\u001b[38;5;241m0\u001b[39m)\n\u001b[0;32m---> 20\u001b[0m correct \u001b[38;5;241m+\u001b[39m\u001b[38;5;241m=\u001b[39m \u001b[43m(\u001b[49m\u001b[43mpredicted\u001b[49m\u001b[43m \u001b[49m\u001b[38;5;241;43m==\u001b[39;49m\u001b[43m \u001b[49m\u001b[43mlabels\u001b[49m\u001b[43m)\u001b[49m\u001b[38;5;241;43m.\u001b[39;49m\u001b[43msum\u001b[49m\u001b[43m(\u001b[49m\u001b[43m)\u001b[49m\u001b[38;5;241;43m.\u001b[39;49m\u001b[43mitem\u001b[49m\u001b[43m(\u001b[49m\u001b[43m)\u001b[49m\n\u001b[1;32m     21\u001b[0m predicted_labels\u001b[38;5;241m.\u001b[39mextend(predicted\u001b[38;5;241m.\u001b[39mcpu()\u001b[38;5;241m.\u001b[39mnumpy())\n\u001b[1;32m     22\u001b[0m true_labels\u001b[38;5;241m.\u001b[39mextend(labels\u001b[38;5;241m.\u001b[39mcpu()\u001b[38;5;241m.\u001b[39mnumpy())\n",
      "\u001b[0;31mKeyboardInterrupt\u001b[0m: "
     ]
    }
   ],
   "source": [
    "trainer.train_many(10)"
   ]
  },
  {
   "cell_type": "markdown",
   "metadata": {},
   "source": [
    "#### Data Visualization"
   ]
  },
  {
   "cell_type": "code",
   "execution_count": 22,
   "metadata": {},
   "outputs": [],
   "source": [
    "from src.other import get_confusion_matrix_display\n",
    "\n",
    "def visualize_all(model, epoch):\n",
    "    tAccuracy, tLoss, tReport, tCm = evaluate_augmented_model(model, criterion, train_loader, device)\n",
    "    vAccuracy, vLoss, vReport, vCm = evaluate_augmented_model(model, criterion, val_loader, device)\n",
    "    print(f\"training accuracy: {tAccuracy}, training loss: {tLoss}, validation accuracy: {vAccuracy}, validation loss: {vLoss}\")\n",
    "    print(f\"Training report: {tReport}\")\n",
    "    print(f\"Validation report: {vReport}\")\n",
    "    \n",
    "    get_confusion_matrix_display(tCm, classes, \"Training\", epoch)\n",
    "    get_confusion_matrix_display(vCm, classes, \"Validation\", epoch)"
   ]
  },
  {
   "cell_type": "markdown",
   "metadata": {},
   "source": [
    "### Training Model"
   ]
  },
  {
   "cell_type": "code",
   "execution_count": null,
   "metadata": {},
   "outputs": [],
   "source": [
    "train_many(model, 30, logger, my_lr_scheduler, \"L2\", 0.01, False)"
   ]
  },
  {
   "cell_type": "code",
   "execution_count": null,
   "metadata": {},
   "outputs": [],
   "source": [
    "# test\n",
    "visualize_all(model, epochCounter)"
   ]
  }
 ],
 "metadata": {
  "kernelspec": {
   "display_name": "pawel",
   "language": "python",
   "name": "python3"
  },
  "language_info": {
   "codemirror_mode": {
    "name": "ipython",
    "version": 3
   },
   "file_extension": ".py",
   "mimetype": "text/x-python",
   "name": "python",
   "nbconvert_exporter": "python",
   "pygments_lexer": "ipython3",
   "version": "3.9.21"
  }
 },
 "nbformat": 4,
 "nbformat_minor": 2
}
