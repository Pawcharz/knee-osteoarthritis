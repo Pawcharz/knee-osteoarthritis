{
 "cells": [
  {
   "cell_type": "code",
   "execution_count": null,
   "metadata": {},
   "outputs": [],
   "source": [
    "import torch\n",
    "import torchvision\n",
    "from torchvision import transforms"
   ]
  },
  {
   "cell_type": "code",
   "execution_count": null,
   "metadata": {},
   "outputs": [],
   "source": [
    "DATASET_PATH = './knee-osteoarthritis'"
   ]
  },
  {
   "cell_type": "code",
   "execution_count": null,
   "metadata": {},
   "outputs": [],
   "source": [
    "TRAIN_PATH = f'{DATASET_PATH}/train'\n",
    "VAL_PATH = f'{DATASET_PATH}/val'\n",
    "TEST_PATH = f'{DATASET_PATH}/test'\n",
    "AUTO_TEST_PATH = f'{DATASET_PATH}/auto_test'"
   ]
  },
  {
   "cell_type": "code",
   "execution_count": null,
   "metadata": {},
   "outputs": [],
   "source": [
    "TRANSFORM_IMG = transforms.Compose([\n",
    "    transforms.Resize(256),\n",
    "    transforms.CenterCrop(256),\n",
    "    transforms.ToTensor(),\n",
    "    transforms.Normalize(mean=[0.485, 0.456, 0.406],\n",
    "                         std=[0.229, 0.224, 0.225] )\n",
    "    ])"
   ]
  },
  {
   "cell_type": "code",
   "execution_count": null,
   "metadata": {},
   "outputs": [],
   "source": [
    "\n",
    "train = torchvision.datasets.ImageFolder(TRAIN_PATH, TRANSFORM_IMG)\n",
    "val = torchvision.datasets.ImageFolder(VAL_PATH, TRANSFORM_IMG)\n",
    "test = torchvision.datasets.ImageFolder(TEST_PATH, TRANSFORM_IMG)\n",
    "# auto_test = torchvision.datasets.ImageFolder(AUTO_TEST_PATH, TRANSFORM_IMG)"
   ]
  },
  {
   "cell_type": "code",
   "execution_count": null,
   "metadata": {},
   "outputs": [],
   "source": [
    "device = 'cuda' if torch.cuda.is_available() else 'cpu'"
   ]
  },
  {
   "cell_type": "code",
   "execution_count": null,
   "metadata": {},
   "outputs": [],
   "source": [
    "print(len(train))\n",
    "print(len(val))\n",
    "print(len(test))\n",
    "# print(len(auto_test))"
   ]
  },
  {
   "cell_type": "code",
   "execution_count": null,
   "metadata": {},
   "outputs": [],
   "source": [
    "import numpy as np\n",
    "from torch.utils.data import Dataset, DataLoader\n",
    "\n",
    "class KneeOsteoarthritis(Dataset):\n",
    "    def __init__(self, dataset):\n",
    "        self.images = []\n",
    "        self.labels = []\n",
    "        \n",
    "        for data in dataset:\n",
    "            self.images.append(data[0])\n",
    "            self.labels.append(data[1])\n",
    "            \n",
    "    def __len__(self):\n",
    "        return len(self.images)\n",
    "    \n",
    "    def __getitem__(self, idx):\n",
    "        image = self.images[idx]\n",
    "        label = self.labels[idx]\n",
    "        \n",
    "        return image, label"
   ]
  },
  {
   "cell_type": "code",
   "execution_count": null,
   "metadata": {},
   "outputs": [],
   "source": [
    "train_dataset = KneeOsteoarthritis(train)\n",
    "# val_dataset = KneeOsteoarthritis(val)\n",
    "# test_dataset = KneeOsteoarthritis(test)\n",
    "# auto_test_dataset = KneeOsteoarthritis(auto_test)"
   ]
  },
  {
   "cell_type": "code",
   "execution_count": null,
   "metadata": {},
   "outputs": [],
   "source": [
    "# train_dataset[0]"
   ]
  },
  {
   "cell_type": "code",
   "execution_count": null,
   "metadata": {},
   "outputs": [],
   "source": [
    "import matplotlib.pyplot as plt\n",
    "import numpy as np\n",
    "\n",
    "# functions to show an image\n",
    "def imshow(img):\n",
    "    img = img / 2 + 0.5     # unnormalize\n",
    "    npimg = img.numpy()\n",
    "    plt.imshow(np.transpose(npimg, (1, 2, 0)))\n",
    "    plt.show()"
   ]
  },
  {
   "cell_type": "code",
   "execution_count": null,
   "metadata": {},
   "outputs": [],
   "source": [
    "imshow(train_dataset[0][0])"
   ]
  },
  {
   "cell_type": "code",
   "execution_count": null,
   "metadata": {},
   "outputs": [],
   "source": [
    "from collections import Counter\n",
    "\n",
    "freq_table = dict(Counter(train_dataset.labels))\n",
    "least_class_frequency = min(freq_table.values())\n",
    "\n",
    "print(freq_table, least_class_frequency, list(freq_table.values()))"
   ]
  },
  {
   "cell_type": "code",
   "execution_count": null,
   "metadata": {},
   "outputs": [],
   "source": [
    "class_sample_count = np.array(freq_table.values())\n",
    "print(class_sample_count)\n",
    "weights = np.zeros(len(train_dataset.labels))\n",
    "for i, weight in enumerate(weights):\n",
    "    label = train_dataset.labels[i]\n",
    "    weights[i] = 1 / freq_table[label]\n",
    "    \n",
    "print(weights)\n",
    "samples_weight = torch.from_numpy(weights)\n",
    "samples_weigth = samples_weight.double()\n",
    "sampler = torch.utils.data.WeightedRandomSampler(samples_weight, len(samples_weight))"
   ]
  },
  {
   "cell_type": "code",
   "execution_count": null,
   "metadata": {},
   "outputs": [],
   "source": [
    "print(samples_weigth)"
   ]
  },
  {
   "cell_type": "code",
   "execution_count": null,
   "metadata": {},
   "outputs": [],
   "source": [
    "train_loader = torch.utils.data.DataLoader(train_dataset, batch_size=16, sampler=sampler)"
   ]
  },
  {
   "cell_type": "code",
   "execution_count": null,
   "metadata": {},
   "outputs": [],
   "source": [
    "import torch.nn as nn\n",
    "import torch.nn.functional as F\n",
    "\n",
    "from torchvision.models import resnet18, ResNet18_Weights\n",
    "\n",
    "class ResnetTL(nn.Module):\n",
    "    def __init__(self, num_classes: int = 5, dropout: float = 0.5) -> None:\n",
    "        super().__init__()\n",
    "        \n",
    "        weights = ResNet18_Weights.DEFAULT\n",
    "        self.resnet18 = resnet18(weights=weights, progress=False)\n",
    "        \n",
    "        # self.avgpool = nn.AdaptiveAvgPool2d((6, 6))\n",
    "        self.classifier = nn.Sequential(\n",
    "            nn.Dropout(p=dropout),\n",
    "            nn.Linear(1000, 4096),\n",
    "            nn.ReLU(inplace=True),\n",
    "            nn.Dropout(p=dropout),\n",
    "            nn.Linear(4096, 4096),\n",
    "            nn.ReLU(inplace=True),\n",
    "            nn.Linear(4096, num_classes),\n",
    "        )\n",
    "\n",
    "    def forward(self, x: torch.Tensor) -> torch.Tensor:\n",
    "        x = self.resnet18(x)\n",
    "        # print(x.shape)\n",
    "        x = self.classifier(x)\n",
    "        return x\n",
    "      \n",
    "net = ResnetTL(3)\n",
    "net = net.to(device)"
   ]
  },
  {
   "cell_type": "code",
   "execution_count": null,
   "metadata": {},
   "outputs": [],
   "source": [
    "sum(p.numel() for p in net.parameters())"
   ]
  },
  {
   "cell_type": "code",
   "execution_count": null,
   "metadata": {},
   "outputs": [],
   "source": [
    "import torch.optim as optim\n",
    "\n",
    "criterion = nn.CrossEntropyLoss()\n",
    "optimizer = optim.Adam(net.classifier.parameters(), lr=0.001)"
   ]
  },
  {
   "cell_type": "code",
   "execution_count": null,
   "metadata": {},
   "outputs": [],
   "source": [
    "LOGGING_FREQ = 100"
   ]
  },
  {
   "cell_type": "code",
   "execution_count": null,
   "metadata": {},
   "outputs": [],
   "source": [
    "for epoch in range(20):  # loop over the dataset multiple times\n",
    "\n",
    "    epoch_correct = 0\n",
    "    running_correct = 0\n",
    "    running_loss = 0.0\n",
    "    samples_epoch = 0\n",
    "    samples_running = 0\n",
    "    for i, data in enumerate(train_loader, 0):\n",
    "      \n",
    "        # print(i, data)\n",
    "\n",
    "        # get the inputs; data is a list of [inputs, labels]\n",
    "        inputs, labels = data\n",
    "        inputs = inputs.to(device)\n",
    "        labels = labels.to(device)\n",
    "        # zero the parameter gradients\n",
    "        optimizer.zero_grad()\n",
    "        # print(inputs.shape)\n",
    "        # forward + backward + optimize\n",
    "        outputs = net(inputs)\n",
    "        loss = criterion(outputs, labels)\n",
    "        loss.backward()\n",
    "        optimizer.step()\n",
    "        \n",
    "        outputs_clear = outputs.max(1).indices\n",
    "        # print(outputs, outputs_clear, labels.shape, (outputs_clear == labels).float().sum())\n",
    "        \n",
    "        epoch_correct += (outputs_clear == labels).float().sum()\n",
    "        running_correct += (outputs_clear == labels).float().sum()\n",
    "          \n",
    "        samples_epoch += len(outputs)\n",
    "        samples_running += len(outputs)\n",
    "        # print(f'step={i}, labels: {labels}')\n",
    "\n",
    "        # print statistics\n",
    "        running_loss += loss.item()\n",
    "        if i % LOGGING_FREQ == LOGGING_FREQ-1:\n",
    "            accuracy = LOGGING_FREQ * running_correct / samples_running\n",
    "            print(f'[{epoch + 1}, {i + 1:5d}] loss: {running_loss / LOGGING_FREQ:.3f}, accuracy: {accuracy}%')\n",
    "            # print(outputs)\n",
    "            \n",
    "            running_correct = 0\n",
    "            samples_running = 0\n",
    "            running_loss = 0.0\n",
    "\n",
    "print('Finished Training')"
   ]
  }
 ],
 "metadata": {
  "kernelspec": {
   "display_name": "env_torch",
   "language": "python",
   "name": "python3"
  },
  "language_info": {
   "codemirror_mode": {
    "name": "ipython",
    "version": 3
   },
   "file_extension": ".py",
   "mimetype": "text/x-python",
   "name": "python",
   "nbconvert_exporter": "python",
   "pygments_lexer": "ipython3",
   "version": "3.10.13"
  }
 },
 "nbformat": 4,
 "nbformat_minor": 2
}
