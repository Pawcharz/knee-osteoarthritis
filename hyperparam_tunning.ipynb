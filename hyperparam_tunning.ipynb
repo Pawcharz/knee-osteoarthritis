{
 "cells": [
  {
   "cell_type": "markdown",
   "metadata": {},
   "source": [
    "### Import Dependencies"
   ]
  },
  {
   "cell_type": "code",
   "execution_count": 1,
   "metadata": {},
   "outputs": [],
   "source": [
    "import random\n",
    "random.seed(0)"
   ]
  },
  {
   "cell_type": "code",
   "execution_count": 2,
   "metadata": {},
   "outputs": [],
   "source": [
    "import torch\n",
    "import torch.nn as nn\n",
    "import torchvision\n",
    "from torchvision import transforms\n",
    "\n",
    "import optuna"
   ]
  },
  {
   "cell_type": "markdown",
   "metadata": {},
   "source": [
    "### Constant Variables"
   ]
  },
  {
   "cell_type": "code",
   "execution_count": 3,
   "metadata": {},
   "outputs": [],
   "source": [
    "DATASET_PATH = './knee-osteoarthritis_2'\n",
    "\n",
    "TRAIN_PATH = f'{DATASET_PATH}/train'\n",
    "VAL_PATH = f'{DATASET_PATH}/val'\n",
    "TEST_PATH = f'{DATASET_PATH}/test'"
   ]
  },
  {
   "cell_type": "code",
   "execution_count": 4,
   "metadata": {},
   "outputs": [
    {
     "name": "stdout",
     "output_type": "stream",
     "text": [
      "cuda\n"
     ]
    }
   ],
   "source": [
    "device = 'cuda' if torch.cuda.is_available() else 'cpu'\n",
    "\n",
    "print(device)"
   ]
  },
  {
   "cell_type": "code",
   "execution_count": 5,
   "metadata": {},
   "outputs": [],
   "source": [
    "classes = range(4)"
   ]
  },
  {
   "cell_type": "markdown",
   "metadata": {},
   "source": [
    "### Dataset Preparation"
   ]
  },
  {
   "cell_type": "code",
   "execution_count": 6,
   "metadata": {},
   "outputs": [],
   "source": [
    "from src.dataset.augmented_dataset import get_KneeOsteoarthritis_Edges, KneeOsteoarthritis_Edges\n",
    "\n",
    "transform_toTensor = transforms.Compose([transforms.ToTensor()])\n",
    "\n",
    "train_dataset = torchvision.datasets.ImageFolder(TRAIN_PATH, transform_toTensor)\n",
    "val_dataset = torchvision.datasets.ImageFolder(VAL_PATH, transform_toTensor)\n",
    "test_dataset = torchvision.datasets.ImageFolder(TEST_PATH, transform_toTensor)\n",
    "\n",
    "dataset_all = torch.utils.data.ConcatDataset([train_dataset, val_dataset, test_dataset])\n",
    "\n",
    "train_dataset, val_dataset, test_dataset = torch.utils.data.random_split(dataset_all, [0.7, 0.1, 0.2])\n",
    "\n",
    "train_dataset = KneeOsteoarthritis_Edges(train_dataset)\n",
    "val_dataset = KneeOsteoarthritis_Edges(val_dataset)\n",
    "test_dataset = KneeOsteoarthritis_Edges(test_dataset)"
   ]
  },
  {
   "cell_type": "code",
   "execution_count": 7,
   "metadata": {},
   "outputs": [
    {
     "name": "stdout",
     "output_type": "stream",
     "text": [
      "4736 676 1353\n"
     ]
    }
   ],
   "source": [
    "print(len(train_dataset), len(val_dataset), len(test_dataset))"
   ]
  },
  {
   "cell_type": "markdown",
   "metadata": {},
   "source": [
    "### Data Loaders"
   ]
  },
  {
   "cell_type": "code",
   "execution_count": 8,
   "metadata": {},
   "outputs": [],
   "source": [
    "from torch.utils.data import DataLoader\n",
    "\n",
    "BATCH_SIZE = 128\n",
    "\n",
    "train_loader = DataLoader(train_dataset, batch_size=BATCH_SIZE, shuffle=True)\n",
    "val_loader = DataLoader(val_dataset, batch_size=BATCH_SIZE, shuffle=True)\n",
    "test_loader = DataLoader(test_dataset, batch_size=BATCH_SIZE, shuffle=True)"
   ]
  },
  {
   "cell_type": "markdown",
   "metadata": {},
   "source": [
    "## Optuna"
   ]
  },
  {
   "cell_type": "code",
   "execution_count": 9,
   "metadata": {},
   "outputs": [],
   "source": [
    "def define_model(trial, layer_size, dropout_main):\n",
    "    class IntermediarySpaceModel(nn.Module):\n",
    "        def __init__(self, train_device, num_classes: int = 5, dropout: float = 0.5) -> None:\n",
    "            super().__init__()\n",
    "            \n",
    "            # Size of layer block\n",
    "            \n",
    "            S = layer_size\n",
    "            # S = trial.suggest_int(\"layer_size\", 12, 24)\n",
    "            self.train_device = train_device\n",
    "            \n",
    "            # Images\n",
    "            self.imagesClassifier = nn.Sequential(\n",
    "                nn.Conv2d(3, S*2, kernel_size=11, stride=4, padding=2),\n",
    "                nn.ReLU(inplace=True),\n",
    "                nn.MaxPool2d(kernel_size=3, stride=2),\n",
    "                nn.Dropout(p=dropout*0.2),\n",
    "                nn.Conv2d(S*2, S*2, kernel_size=5, padding=2),\n",
    "                nn.ReLU(inplace=True),\n",
    "                nn.MaxPool2d(kernel_size=3, stride=2),\n",
    "                nn.Dropout(p=dropout*0.4),\n",
    "                nn.Conv2d(S*2, S*2, kernel_size=3, padding=1),\n",
    "                nn.ReLU(inplace=True),\n",
    "                nn.Dropout(p=dropout*0.6),\n",
    "                nn.Conv2d(S*2, S, kernel_size=3, padding=1),\n",
    "                nn.ReLU(inplace=True),\n",
    "                nn.MaxPool2d(kernel_size=3, stride=2),\n",
    "                \n",
    "                nn.Flatten(),\n",
    "                nn.Dropout(p=dropout*0.8),\n",
    "                nn.Linear(S * 7 * 7, S*2),\n",
    "            )\n",
    "\n",
    "            self.edgesClassifier = nn.Sequential(\n",
    "                nn.Conv2d(1, S*2, kernel_size=11, stride=4, padding=2),\n",
    "                nn.ReLU(inplace=True),\n",
    "                nn.MaxPool2d(kernel_size=3, stride=2),\n",
    "                nn.Dropout(p=dropout*0.4),\n",
    "                nn.Conv2d(S*2, S*2, kernel_size=5, padding=2),\n",
    "                nn.ReLU(inplace=True),\n",
    "                nn.MaxPool2d(kernel_size=3, stride=2),\n",
    "                nn.Dropout(p=dropout*0.6),\n",
    "                nn.Conv2d(S*2, S, kernel_size=3, padding=1),\n",
    "                nn.ReLU(inplace=True),\n",
    "                nn.MaxPool2d(kernel_size=3, stride=2),\n",
    "                \n",
    "                nn.Flatten(),\n",
    "                nn.Dropout(p=dropout*0.8),\n",
    "                nn.Linear(S * 6 * 6, S*2),\n",
    "            )\n",
    "            \n",
    "            self.outputCombiner = nn.Sequential(\n",
    "                nn.ReLU(inplace=True),\n",
    "                nn.Dropout(p=dropout),\n",
    "                nn.Linear(S*4, S*3),\n",
    "                nn.ReLU(inplace=True),\n",
    "                nn.Dropout(p=dropout),\n",
    "                nn.Linear(S*3, S),\n",
    "                nn.ReLU(inplace=True),\n",
    "                nn.Dropout(p=dropout),\n",
    "                nn.Linear(S, num_classes),\n",
    "            )\n",
    "            \n",
    "        def forward(self, data: tuple) -> torch.Tensor:\n",
    "            \n",
    "            images, edges = data\n",
    "            \n",
    "            images = images.to(self.train_device)\n",
    "            edges = edges.to(self.train_device)\n",
    "            \n",
    "            # Images\n",
    "            images = self.imagesClassifier(images)\n",
    "            \n",
    "            # Edges\n",
    "            edges = self.edgesClassifier(edges)\n",
    "            \n",
    "            # Combining outputs\n",
    "            concated = torch.cat((images, edges), 1)\n",
    "            res = self.outputCombiner(concated)\n",
    "            \n",
    "            return res\n",
    "\n",
    "    # DROPOUT_MAIN = trial.suggest_float(\"dropout_main\", 0.3, 0.7)\n",
    "    model = IntermediarySpaceModel(device, 4, dropout_main)\n",
    "    model = model.to(device)\n",
    "    \n",
    "    return model\n"
   ]
  },
  {
   "cell_type": "code",
   "execution_count": 10,
   "metadata": {},
   "outputs": [
    {
     "name": "stdout",
     "output_type": "stream",
     "text": [
      "{1: 1545, 0: 2262, 2: 749, 3: 180} tensor([1545., 2262.,  749.,  180.], device='cuda:0')\n"
     ]
    }
   ],
   "source": [
    "import torch.optim as optim\n",
    "from src.other import get_classes_frequencies\n",
    "    \n",
    "class_weights = get_classes_frequencies(train_dataset)\n",
    "weights_tensor = torch.Tensor(list(class_weights.values())).to(device)\n",
    "print(class_weights, weights_tensor)\n",
    "\n",
    "criterion = nn.CrossEntropyLoss(weights_tensor)"
   ]
  },
  {
   "cell_type": "code",
   "execution_count": 11,
   "metadata": {},
   "outputs": [],
   "source": [
    "from torch.utils.tensorboard import SummaryWriter\n",
    "\n",
    "logger = SummaryWriter(log_dir=f\"logs/hyperparameter_tunning\")"
   ]
  },
  {
   "cell_type": "code",
   "execution_count": 12,
   "metadata": {},
   "outputs": [],
   "source": [
    "from src.training import Trainer\n",
    "    \n",
    "def objective(trial):\n",
    "    # Hyperparameters\n",
    "    layer_size = trial.suggest_int(\"layer_size\", 8, 28)\n",
    "    dropout_main = trial.suggest_float(\"dropout_main\", 0.3, 0.7)\n",
    "    initial_lr = 0.001\n",
    "    lr_decay_rate_100 = trial.suggest_float(\"decay_rate_100\", 0.3, 0.8)\n",
    "    reg_type = \"L2\"\n",
    "    reg_lambda = trial.suggest_float(\"reg_lambda\", 0.0001, 0.1)\n",
    "    \n",
    "    hparams = {\n",
    "      \"layer_size\": layer_size,\n",
    "      \"dropout_main\": dropout_main,\n",
    "      \"initial_lr\": initial_lr,\n",
    "      \"lr_decay_rate_100\": lr_decay_rate_100,\n",
    "      \"reg_type\": reg_type,\n",
    "      \"reg_lambda\": reg_lambda,\n",
    "    }\n",
    "    \n",
    "    # Model\n",
    "    model = define_model(trial, layer_size, dropout_main)\n",
    "    \n",
    "    # Optimizer\n",
    "    optimizer = optim.Adam(model.parameters(), lr=initial_lr)\n",
    "    \n",
    "    # lr scheduler\n",
    "    lr_decay_rate_1 = lr_decay_rate_100**(1/100)\n",
    "    lr_scheduler = torch.optim.lr_scheduler.ExponentialLR(optimizer=optimizer, gamma=lr_decay_rate_1)\n",
    "    \n",
    "    # Trainer object\n",
    "    trainer = Trainer(\n",
    "      model=model,\n",
    "      classes=classes,\n",
    "      train_loader=train_loader,\n",
    "      val_loader=val_loader,\n",
    "      criterion=criterion,\n",
    "      optimizer=optimizer,\n",
    "      device=device,\n",
    "      lr_scheduler=lr_scheduler,\n",
    "      reg_type=reg_type,\n",
    "      reg_lambda=0.01,\n",
    "      # tensorboard_logger=logger\n",
    "    )\n",
    "\n",
    "        \n",
    "    # Training loop\n",
    "    tAccuracy, tLoss, vAccuracy, vLoss = 0, 0, 0, 0\n",
    "    \n",
    "    # val_accuracy_midpoint = 60\n",
    "    score = None\n",
    "    score_threshold = 30\n",
    "    \n",
    "    for step in range(40):\n",
    "      tAccuracy, tLoss, vAccuracy, vLoss, _ = trainer.train_single()\n",
    "      score = vAccuracy * 1.5 + tAccuracy * -1 - score_threshold\n",
    "      \n",
    "      trial.report(score, step)\n",
    "      \n",
    "      if trial.should_prune():\n",
    "        print(f'Training: accuracy: {tAccuracy:.3f}%, Validation: accuracy: {vAccuracy:.3f}%, score: {score:.3f}')\n",
    "        raise optuna.TrialPruned()\n",
    "    \n",
    "    print(f'Training: accuracy: {tAccuracy:.3f}%, Validation: accuracy: {vAccuracy:.3f}%')\n",
    "    \n",
    "    logger.add_hparams(hparams, {'hparam/tAccuracy': tAccuracy, 'hparam/vAccuracy': vAccuracy, 'score': score}, run_name=f\"Trial_nr_{trial.number}\")\n",
    "    \n",
    "    return score"
   ]
  },
  {
   "cell_type": "code",
   "execution_count": 13,
   "metadata": {},
   "outputs": [
    {
     "name": "stderr",
     "output_type": "stream",
     "text": [
      "[I 2024-12-22 15:35:32,081] A new study created in memory with name: no-name-54866a07-a231-4e91-8747-aa4d8a0b1e44\n",
      "[I 2024-12-22 15:36:16,372] Trial 0 finished with value: -13.651597233328005 and parameters: {'layer_size': 12, 'dropout_main': 0.5112931840273415, 'decay_rate_100': 0.4328183894560599, 'reg_lambda': 0.024768325050490276}. Best is trial 0 with value: -13.651597233328005.\n"
     ]
    },
    {
     "name": "stdout",
     "output_type": "stream",
     "text": [
      "Training: accuracy: 90.160%, Validation: accuracy: 71.006%\n"
     ]
    },
    {
     "name": "stderr",
     "output_type": "stream",
     "text": [
      "[I 2024-12-22 15:37:02,691] Trial 1 finished with value: -20.641741963857342 and parameters: {'layer_size': 28, 'dropout_main': 0.36914309970351267, 'decay_rate_100': 0.38901356347460353, 'reg_lambda': 0.06761355191486458}. Best is trial 0 with value: -13.651597233328005.\n"
     ]
    },
    {
     "name": "stdout",
     "output_type": "stream",
     "text": [
      "Training: accuracy: 95.819%, Validation: accuracy: 70.118%\n"
     ]
    },
    {
     "name": "stderr",
     "output_type": "stream",
     "text": [
      "[I 2024-12-22 15:37:49,911] Trial 2 finished with value: -17.906055093555082 and parameters: {'layer_size': 28, 'dropout_main': 0.508409386010329, 'decay_rate_100': 0.794684568984598, 'reg_lambda': 0.09529683416271793}. Best is trial 0 with value: -13.651597233328005.\n"
     ]
    },
    {
     "name": "stdout",
     "output_type": "stream",
     "text": [
      "Training: accuracy: 94.637%, Validation: accuracy: 71.154%\n"
     ]
    },
    {
     "name": "stderr",
     "output_type": "stream",
     "text": [
      "[I 2024-12-22 15:38:33,942] Trial 3 finished with value: -20.374370302254917 and parameters: {'layer_size': 18, 'dropout_main': 0.6187148962696843, 'decay_rate_100': 0.5991861429162133, 'reg_lambda': 0.04690215694235499}. Best is trial 0 with value: -13.651597233328005.\n"
     ]
    },
    {
     "name": "stdout",
     "output_type": "stream",
     "text": [
      "Training: accuracy: 87.120%, Validation: accuracy: 64.497%\n"
     ]
    },
    {
     "name": "stderr",
     "output_type": "stream",
     "text": [
      "[I 2024-12-22 15:39:20,119] Trial 4 finished with value: -18.511764353110507 and parameters: {'layer_size': 26, 'dropout_main': 0.35743410322164404, 'decay_rate_100': 0.7426072316807404, 'reg_lambda': 0.07508938737253033}. Best is trial 0 with value: -13.651597233328005.\n"
     ]
    },
    {
     "name": "stdout",
     "output_type": "stream",
     "text": [
      "Training: accuracy: 90.583%, Validation: accuracy: 68.047%\n"
     ]
    },
    {
     "name": "stderr",
     "output_type": "stream",
     "text": [
      "[I 2024-12-22 15:39:26,774] Trial 5 pruned. \n"
     ]
    },
    {
     "name": "stdout",
     "output_type": "stream",
     "text": [
      "Training: accuracy: 37.563%, Validation: accuracy: 47.041%, score: 2.999\n"
     ]
    },
    {
     "name": "stderr",
     "output_type": "stream",
     "text": [
      "[I 2024-12-22 15:39:27,904] Trial 6 pruned. \n"
     ]
    },
    {
     "name": "stdout",
     "output_type": "stream",
     "text": [
      "Training: accuracy: 37.732%, Validation: accuracy: 30.769%, score: -21.578\n"
     ]
    },
    {
     "name": "stderr",
     "output_type": "stream",
     "text": [
      "[I 2024-12-22 15:39:29,067] Trial 7 pruned. \n"
     ]
    },
    {
     "name": "stdout",
     "output_type": "stream",
     "text": [
      "Training: accuracy: 36.571%, Validation: accuracy: 30.769%, score: -20.417\n"
     ]
    },
    {
     "name": "stderr",
     "output_type": "stream",
     "text": [
      "[I 2024-12-22 15:40:15,823] Trial 8 finished with value: -21.6386384535423 and parameters: {'layer_size': 25, 'dropout_main': 0.5842131612640338, 'decay_rate_100': 0.6214485666126739, 'reg_lambda': 0.04685064048897798}. Best is trial 0 with value: -13.651597233328005.\n"
     ]
    },
    {
     "name": "stdout",
     "output_type": "stream",
     "text": [
      "Training: accuracy: 91.491%, Validation: accuracy: 66.568%\n"
     ]
    },
    {
     "name": "stderr",
     "output_type": "stream",
     "text": [
      "[I 2024-12-22 15:41:00,632] Trial 9 finished with value: -21.582665320646086 and parameters: {'layer_size': 18, 'dropout_main': 0.5227789183740458, 'decay_rate_100': 0.45938289240331037, 'reg_lambda': 0.08227574747942587}. Best is trial 0 with value: -13.651597233328005.\n"
     ]
    },
    {
     "name": "stdout",
     "output_type": "stream",
     "text": [
      "Training: accuracy: 95.207%, Validation: accuracy: 69.083%\n"
     ]
    },
    {
     "name": "stderr",
     "output_type": "stream",
     "text": [
      "[I 2024-12-22 15:41:01,767] Trial 10 pruned. \n"
     ]
    },
    {
     "name": "stdout",
     "output_type": "stream",
     "text": [
      "Training: accuracy: 37.035%, Validation: accuracy: 30.769%, score: -20.882\n"
     ]
    },
    {
     "name": "stderr",
     "output_type": "stream",
     "text": [
      "[I 2024-12-22 15:41:43,525] Trial 11 finished with value: -20.475821605629307 and parameters: {'layer_size': 13, 'dropout_main': 0.452499281002011, 'decay_rate_100': 0.4515894226915078, 'reg_lambda': 0.01684623582272277}. Best is trial 0 with value: -13.651597233328005.\n"
     ]
    },
    {
     "name": "stdout",
     "output_type": "stream",
     "text": [
      "Training: accuracy: 92.103%, Validation: accuracy: 67.751%\n"
     ]
    },
    {
     "name": "stderr",
     "output_type": "stream",
     "text": [
      "[I 2024-12-22 15:41:44,593] Trial 12 pruned. \n"
     ]
    },
    {
     "name": "stdout",
     "output_type": "stream",
     "text": [
      "Training: accuracy: 32.960%, Validation: accuracy: 30.769%, score: -16.806\n"
     ]
    },
    {
     "name": "stderr",
     "output_type": "stream",
     "text": [
      "[I 2024-12-22 15:42:29,379] Trial 13 finished with value: -13.334874260355036 and parameters: {'layer_size': 21, 'dropout_main': 0.5216045650138368, 'decay_rate_100': 0.7920295164644172, 'reg_lambda': 0.02576098708999021}. Best is trial 13 with value: -13.334874260355036.\n"
     ]
    },
    {
     "name": "stdout",
     "output_type": "stream",
     "text": [
      "Training: accuracy: 89.844%, Validation: accuracy: 71.006%\n"
     ]
    },
    {
     "name": "stderr",
     "output_type": "stream",
     "text": [
      "[I 2024-12-22 15:42:30,545] Trial 14 pruned. \n"
     ]
    },
    {
     "name": "stdout",
     "output_type": "stream",
     "text": [
      "Training: accuracy: 40.308%, Validation: accuracy: 48.077%, score: 1.807\n"
     ]
    },
    {
     "name": "stderr",
     "output_type": "stream",
     "text": [
      "[I 2024-12-22 15:42:31,639] Trial 15 pruned. \n"
     ]
    },
    {
     "name": "stdout",
     "output_type": "stream",
     "text": [
      "Training: accuracy: 40.857%, Validation: accuracy: 48.077%, score: 1.258\n"
     ]
    },
    {
     "name": "stderr",
     "output_type": "stream",
     "text": [
      "[I 2024-12-22 15:42:32,769] Trial 16 pruned. \n"
     ]
    },
    {
     "name": "stdout",
     "output_type": "stream",
     "text": [
      "Training: accuracy: 37.247%, Validation: accuracy: 45.710%, score: 1.318\n"
     ]
    },
    {
     "name": "stderr",
     "output_type": "stream",
     "text": [
      "[I 2024-12-22 15:43:17,172] Trial 17 finished with value: -18.498395770030385 and parameters: {'layer_size': 12, 'dropout_main': 0.4302898837187249, 'decay_rate_100': 0.6450261459980907, 'reg_lambda': 0.03516965626279632}. Best is trial 13 with value: -13.334874260355036.\n"
     ]
    },
    {
     "name": "stdout",
     "output_type": "stream",
     "text": [
      "Training: accuracy: 93.898%, Validation: accuracy: 70.266%\n"
     ]
    },
    {
     "name": "stderr",
     "output_type": "stream",
     "text": [
      "[I 2024-12-22 15:43:18,286] Trial 18 pruned. \n"
     ]
    },
    {
     "name": "stdout",
     "output_type": "stream",
     "text": [
      "Training: accuracy: 23.543%, Validation: accuracy: 31.213%, score: -6.724\n"
     ]
    },
    {
     "name": "stderr",
     "output_type": "stream",
     "text": [
      "[I 2024-12-22 15:43:19,418] Trial 19 pruned. \n"
     ]
    },
    {
     "name": "stdout",
     "output_type": "stream",
     "text": [
      "Training: accuracy: 31.778%, Validation: accuracy: 30.769%, score: -15.624\n"
     ]
    },
    {
     "name": "stderr",
     "output_type": "stream",
     "text": [
      "[I 2024-12-22 15:44:04,070] Trial 20 finished with value: -22.93739005277466 and parameters: {'layer_size': 21, 'dropout_main': 0.6165685971649633, 'decay_rate_100': 0.6838540565743794, 'reg_lambda': 0.03370100002180082}. Best is trial 13 with value: -13.334874260355036.\n"
     ]
    },
    {
     "name": "stdout",
     "output_type": "stream",
     "text": [
      "Training: accuracy: 92.568%, Validation: accuracy: 66.420%\n"
     ]
    },
    {
     "name": "stderr",
     "output_type": "stream",
     "text": [
      "[I 2024-12-22 15:44:05,215] Trial 21 pruned. \n"
     ]
    },
    {
     "name": "stdout",
     "output_type": "stream",
     "text": [
      "Training: accuracy: 38.028%, Validation: accuracy: 30.769%, score: -21.874\n"
     ]
    },
    {
     "name": "stderr",
     "output_type": "stream",
     "text": [
      "[I 2024-12-22 15:44:06,270] Trial 22 pruned. \n"
     ]
    },
    {
     "name": "stdout",
     "output_type": "stream",
     "text": [
      "Training: accuracy: 38.704%, Validation: accuracy: 31.213%, score: -21.884\n"
     ]
    },
    {
     "name": "stderr",
     "output_type": "stream",
     "text": [
      "[I 2024-12-22 15:44:07,446] Trial 23 pruned. \n"
     ]
    },
    {
     "name": "stdout",
     "output_type": "stream",
     "text": [
      "Training: accuracy: 28.547%, Validation: accuracy: 30.769%, score: -12.393\n"
     ]
    },
    {
     "name": "stderr",
     "output_type": "stream",
     "text": [
      "[I 2024-12-22 15:44:08,592] Trial 24 pruned. \n"
     ]
    },
    {
     "name": "stdout",
     "output_type": "stream",
     "text": [
      "Training: accuracy: 40.435%, Validation: accuracy: 48.077%, score: 1.680\n"
     ]
    },
    {
     "name": "stderr",
     "output_type": "stream",
     "text": [
      "[I 2024-12-22 15:44:09,712] Trial 25 pruned. \n"
     ]
    },
    {
     "name": "stdout",
     "output_type": "stream",
     "text": [
      "Training: accuracy: 33.573%, Validation: accuracy: 30.769%, score: -17.419\n"
     ]
    },
    {
     "name": "stderr",
     "output_type": "stream",
     "text": [
      "[I 2024-12-22 15:44:10,833] Trial 26 pruned. \n"
     ]
    },
    {
     "name": "stdout",
     "output_type": "stream",
     "text": [
      "Training: accuracy: 29.920%, Validation: accuracy: 30.621%, score: -13.988\n"
     ]
    },
    {
     "name": "stderr",
     "output_type": "stream",
     "text": [
      "[I 2024-12-22 15:44:11,971] Trial 27 pruned. \n"
     ]
    },
    {
     "name": "stdout",
     "output_type": "stream",
     "text": [
      "Training: accuracy: 37.753%, Validation: accuracy: 48.077%, score: 4.362\n"
     ]
    },
    {
     "name": "stderr",
     "output_type": "stream",
     "text": [
      "[I 2024-12-22 15:44:13,161] Trial 28 pruned. \n"
     ]
    },
    {
     "name": "stdout",
     "output_type": "stream",
     "text": [
      "Training: accuracy: 35.262%, Validation: accuracy: 30.769%, score: -19.108\n"
     ]
    },
    {
     "name": "stderr",
     "output_type": "stream",
     "text": [
      "[I 2024-12-22 15:44:14,343] Trial 29 pruned. \n"
     ]
    },
    {
     "name": "stdout",
     "output_type": "stream",
     "text": [
      "Training: accuracy: 31.060%, Validation: accuracy: 32.840%, score: -11.800\n"
     ]
    },
    {
     "name": "stderr",
     "output_type": "stream",
     "text": [
      "[I 2024-12-22 15:44:15,515] Trial 30 pruned. \n"
     ]
    },
    {
     "name": "stdout",
     "output_type": "stream",
     "text": [
      "Training: accuracy: 40.984%, Validation: accuracy: 48.077%, score: 1.131\n"
     ]
    },
    {
     "name": "stderr",
     "output_type": "stream",
     "text": [
      "[I 2024-12-22 15:44:56,645] Trial 31 finished with value: -22.165760434991185 and parameters: {'layer_size': 13, 'dropout_main': 0.42396634319927357, 'decay_rate_100': 0.6495304728260081, 'reg_lambda': 0.035517431710456446}. Best is trial 13 with value: -13.334874260355036.\n"
     ]
    },
    {
     "name": "stdout",
     "output_type": "stream",
     "text": [
      "Training: accuracy: 92.905%, Validation: accuracy: 67.160%\n"
     ]
    },
    {
     "name": "stderr",
     "output_type": "stream",
     "text": [
      "[I 2024-12-22 15:44:57,760] Trial 32 pruned. \n"
     ]
    },
    {
     "name": "stdout",
     "output_type": "stream",
     "text": [
      "Training: accuracy: 31.524%, Validation: accuracy: 30.769%, score: -15.371\n"
     ]
    },
    {
     "name": "stderr",
     "output_type": "stream",
     "text": [
      "[I 2024-12-22 15:44:58,793] Trial 33 pruned. \n"
     ]
    },
    {
     "name": "stdout",
     "output_type": "stream",
     "text": [
      "Training: accuracy: 30.997%, Validation: accuracy: 39.497%, score: -1.751\n"
     ]
    },
    {
     "name": "stderr",
     "output_type": "stream",
     "text": [
      "[I 2024-12-22 15:44:59,905] Trial 34 pruned. \n"
     ]
    },
    {
     "name": "stdout",
     "output_type": "stream",
     "text": [
      "Training: accuracy: 20.798%, Validation: accuracy: 30.769%, score: -4.644\n"
     ]
    },
    {
     "name": "stderr",
     "output_type": "stream",
     "text": [
      "[I 2024-12-22 15:45:01,021] Trial 35 pruned. \n"
     ]
    },
    {
     "name": "stdout",
     "output_type": "stream",
     "text": [
      "Training: accuracy: 39.844%, Validation: accuracy: 48.077%, score: 2.272\n"
     ]
    },
    {
     "name": "stderr",
     "output_type": "stream",
     "text": [
      "[I 2024-12-22 15:45:41,848] Trial 36 finished with value: -17.654925635694866 and parameters: {'layer_size': 14, 'dropout_main': 0.4150435426539135, 'decay_rate_100': 0.7558692193751331, 'reg_lambda': 0.04453823551688324}. Best is trial 13 with value: -13.334874260355036.\n"
     ]
    },
    {
     "name": "stdout",
     "output_type": "stream",
     "text": [
      "Training: accuracy: 91.723%, Validation: accuracy: 69.379%\n"
     ]
    },
    {
     "name": "stderr",
     "output_type": "stream",
     "text": [
      "[I 2024-12-22 15:45:42,899] Trial 37 pruned. \n"
     ]
    },
    {
     "name": "stdout",
     "output_type": "stream",
     "text": [
      "Training: accuracy: 38.260%, Validation: accuracy: 48.077%, score: 3.855\n"
     ]
    },
    {
     "name": "stderr",
     "output_type": "stream",
     "text": [
      "[I 2024-12-22 15:45:43,944] Trial 38 pruned. \n"
     ]
    },
    {
     "name": "stdout",
     "output_type": "stream",
     "text": [
      "Training: accuracy: 5.469%, Validation: accuracy: 3.846%, score: -29.700\n"
     ]
    },
    {
     "name": "stderr",
     "output_type": "stream",
     "text": [
      "[I 2024-12-22 15:45:45,121] Trial 39 pruned. \n"
     ]
    },
    {
     "name": "stdout",
     "output_type": "stream",
     "text": [
      "Training: accuracy: 39.527%, Validation: accuracy: 48.077%, score: 2.588\n"
     ]
    },
    {
     "name": "stderr",
     "output_type": "stream",
     "text": [
      "[I 2024-12-22 15:46:29,896] Trial 40 finished with value: -12.596978450343826 and parameters: {'layer_size': 18, 'dropout_main': 0.405178828695446, 'decay_rate_100': 0.766409561886798, 'reg_lambda': 0.07771729834786525}. Best is trial 40 with value: -12.596978450343826.\n"
     ]
    },
    {
     "name": "stdout",
     "output_type": "stream",
     "text": [
      "Training: accuracy: 87.774%, Validation: accuracy: 70.118%\n"
     ]
    },
    {
     "name": "stderr",
     "output_type": "stream",
     "text": [
      "[I 2024-12-22 15:46:31,030] Trial 41 pruned. \n"
     ]
    },
    {
     "name": "stdout",
     "output_type": "stream",
     "text": [
      "Training: accuracy: 33.636%, Validation: accuracy: 30.769%, score: -17.482\n"
     ]
    },
    {
     "name": "stderr",
     "output_type": "stream",
     "text": [
      "[I 2024-12-22 15:46:32,159] Trial 42 pruned. \n"
     ]
    },
    {
     "name": "stdout",
     "output_type": "stream",
     "text": [
      "Training: accuracy: 36.719%, Validation: accuracy: 48.077%, score: 5.397\n"
     ]
    },
    {
     "name": "stderr",
     "output_type": "stream",
     "text": [
      "[I 2024-12-22 15:46:33,330] Trial 43 pruned. \n"
     ]
    },
    {
     "name": "stdout",
     "output_type": "stream",
     "text": [
      "Training: accuracy: 38.704%, Validation: accuracy: 34.024%, score: -17.668\n"
     ]
    },
    {
     "name": "stderr",
     "output_type": "stream",
     "text": [
      "[I 2024-12-22 15:46:34,525] Trial 44 pruned. \n"
     ]
    },
    {
     "name": "stdout",
     "output_type": "stream",
     "text": [
      "Training: accuracy: 38.408%, Validation: accuracy: 48.077%, score: 3.707\n"
     ]
    },
    {
     "name": "stderr",
     "output_type": "stream",
     "text": [
      "[I 2024-12-22 15:46:35,665] Trial 45 pruned. \n"
     ]
    },
    {
     "name": "stdout",
     "output_type": "stream",
     "text": [
      "Training: accuracy: 39.210%, Validation: accuracy: 30.769%, score: -23.056\n"
     ]
    },
    {
     "name": "stderr",
     "output_type": "stream",
     "text": [
      "[I 2024-12-22 15:47:17,520] Trial 46 finished with value: -22.473612665920342 and parameters: {'layer_size': 14, 'dropout_main': 0.44389105437507653, 'decay_rate_100': 0.43447279299692165, 'reg_lambda': 0.05968713845733183}. Best is trial 40 with value: -12.596978450343826.\n"
     ]
    },
    {
     "name": "stdout",
     "output_type": "stream",
     "text": [
      "Training: accuracy: 91.216%, Validation: accuracy: 65.828%\n"
     ]
    },
    {
     "name": "stderr",
     "output_type": "stream",
     "text": [
      "[I 2024-12-22 15:47:18,661] Trial 47 pruned. \n"
     ]
    },
    {
     "name": "stdout",
     "output_type": "stream",
     "text": [
      "Training: accuracy: 34.333%, Validation: accuracy: 30.769%, score: -18.179\n"
     ]
    },
    {
     "name": "stderr",
     "output_type": "stream",
     "text": [
      "[I 2024-12-22 15:47:19,792] Trial 48 pruned. \n"
     ]
    },
    {
     "name": "stdout",
     "output_type": "stream",
     "text": [
      "Training: accuracy: 38.492%, Validation: accuracy: 41.124%, score: -6.806\n"
     ]
    },
    {
     "name": "stderr",
     "output_type": "stream",
     "text": [
      "[I 2024-12-22 15:47:20,858] Trial 49 pruned. \n"
     ]
    },
    {
     "name": "stdout",
     "output_type": "stream",
     "text": [
      "Training: accuracy: 35.241%, Validation: accuracy: 30.769%, score: -19.087\n"
     ]
    },
    {
     "name": "stderr",
     "output_type": "stream",
     "text": [
      "[I 2024-12-22 15:48:03,206] Trial 50 finished with value: -17.54747721093875 and parameters: {'layer_size': 15, 'dropout_main': 0.5003089007406075, 'decay_rate_100': 0.6855528508501998, 'reg_lambda': 0.08535753646362765}. Best is trial 40 with value: -12.596978450343826.\n"
     ]
    },
    {
     "name": "stdout",
     "output_type": "stream",
     "text": [
      "Training: accuracy: 93.834%, Validation: accuracy: 70.858%\n"
     ]
    },
    {
     "name": "stderr",
     "output_type": "stream",
     "text": [
      "[I 2024-12-22 15:48:04,265] Trial 51 pruned. \n"
     ]
    },
    {
     "name": "stdout",
     "output_type": "stream",
     "text": [
      "Training: accuracy: 31.883%, Validation: accuracy: 29.438%, score: -17.727\n"
     ]
    },
    {
     "name": "stderr",
     "output_type": "stream",
     "text": [
      "[I 2024-12-22 15:48:05,314] Trial 52 pruned. \n"
     ]
    },
    {
     "name": "stdout",
     "output_type": "stream",
     "text": [
      "Training: accuracy: 38.556%, Validation: accuracy: 48.077%, score: 3.560\n"
     ]
    },
    {
     "name": "stderr",
     "output_type": "stream",
     "text": [
      "[I 2024-12-22 15:48:06,439] Trial 53 pruned. \n"
     ]
    },
    {
     "name": "stdout",
     "output_type": "stream",
     "text": [
      "Training: accuracy: 29.033%, Validation: accuracy: 30.769%, score: -12.879\n"
     ]
    },
    {
     "name": "stderr",
     "output_type": "stream",
     "text": [
      "[I 2024-12-22 15:48:07,574] Trial 54 pruned. \n"
     ]
    },
    {
     "name": "stdout",
     "output_type": "stream",
     "text": [
      "Training: accuracy: 27.196%, Validation: accuracy: 30.769%, score: -11.042\n"
     ]
    },
    {
     "name": "stderr",
     "output_type": "stream",
     "text": [
      "[I 2024-12-22 15:48:48,989] Trial 55 finished with value: -17.46864005277466 and parameters: {'layer_size': 13, 'dropout_main': 0.5139766035048448, 'decay_rate_100': 0.7662011329207841, 'reg_lambda': 0.09991814030352411}. Best is trial 40 with value: -12.596978450343826.\n"
     ]
    },
    {
     "name": "stdout",
     "output_type": "stream",
     "text": [
      "Training: accuracy: 87.099%, Validation: accuracy: 66.420%\n"
     ]
    },
    {
     "name": "stderr",
     "output_type": "stream",
     "text": [
      "[I 2024-12-22 15:49:29,879] Trial 56 finished with value: -13.45156824724134 and parameters: {'layer_size': 14, 'dropout_main': 0.5653554157319522, 'decay_rate_100': 0.7791552575456477, 'reg_lambda': 0.09950709721825998}. Best is trial 40 with value: -12.596978450343826.\n"
     ]
    },
    {
     "name": "stdout",
     "output_type": "stream",
     "text": [
      "Training: accuracy: 89.295%, Validation: accuracy: 70.562%\n"
     ]
    },
    {
     "name": "stderr",
     "output_type": "stream",
     "text": [
      "[I 2024-12-22 15:49:31,014] Trial 57 pruned. \n"
     ]
    },
    {
     "name": "stdout",
     "output_type": "stream",
     "text": [
      "Training: accuracy: 28.991%, Validation: accuracy: 43.491%, score: 6.246\n"
     ]
    },
    {
     "name": "stderr",
     "output_type": "stream",
     "text": [
      "[I 2024-12-22 15:49:32,063] Trial 58 pruned. \n"
     ]
    },
    {
     "name": "stdout",
     "output_type": "stream",
     "text": [
      "Training: accuracy: 34.396%, Validation: accuracy: 34.911%, score: -12.029\n"
     ]
    },
    {
     "name": "stderr",
     "output_type": "stream",
     "text": [
      "[I 2024-12-22 15:50:13,713] Trial 59 finished with value: -14.413606468894926 and parameters: {'layer_size': 15, 'dropout_main': 0.544649431379825, 'decay_rate_100': 0.7822418564701141, 'reg_lambda': 0.09127913902710683}. Best is trial 40 with value: -12.596978450343826.\n"
     ]
    },
    {
     "name": "stdout",
     "output_type": "stream",
     "text": [
      "Training: accuracy: 88.704%, Validation: accuracy: 69.527%\n"
     ]
    },
    {
     "name": "stderr",
     "output_type": "stream",
     "text": [
      "[I 2024-12-22 15:50:14,823] Trial 60 pruned. \n"
     ]
    },
    {
     "name": "stdout",
     "output_type": "stream",
     "text": [
      "Training: accuracy: 34.101%, Validation: accuracy: 35.059%, score: -11.512\n"
     ]
    },
    {
     "name": "stderr",
     "output_type": "stream",
     "text": [
      "[I 2024-12-22 15:50:15,871] Trial 61 pruned. \n"
     ]
    },
    {
     "name": "stdout",
     "output_type": "stream",
     "text": [
      "Training: accuracy: 36.613%, Validation: accuracy: 48.077%, score: 5.502\n"
     ]
    },
    {
     "name": "stderr",
     "output_type": "stream",
     "text": [
      "[I 2024-12-22 15:50:16,927] Trial 62 pruned. \n"
     ]
    },
    {
     "name": "stdout",
     "output_type": "stream",
     "text": [
      "Training: accuracy: 32.517%, Validation: accuracy: 30.769%, score: -16.363\n"
     ]
    },
    {
     "name": "stderr",
     "output_type": "stream",
     "text": [
      "[I 2024-12-22 15:50:17,972] Trial 63 pruned. \n"
     ]
    },
    {
     "name": "stdout",
     "output_type": "stream",
     "text": [
      "Training: accuracy: 33.805%, Validation: accuracy: 32.101%, score: -15.654\n"
     ]
    },
    {
     "name": "stderr",
     "output_type": "stream",
     "text": [
      "[I 2024-12-22 15:51:03,225] Trial 64 finished with value: -19.304134015672474 and parameters: {'layer_size': 12, 'dropout_main': 0.5533087016479188, 'decay_rate_100': 0.709462269350285, 'reg_lambda': 0.08030148265472792}. Best is trial 40 with value: -12.596978450343826.\n"
     ]
    },
    {
     "name": "stdout",
     "output_type": "stream",
     "text": [
      "Training: accuracy: 90.709%, Validation: accuracy: 67.604%\n"
     ]
    },
    {
     "name": "stderr",
     "output_type": "stream",
     "text": [
      "[I 2024-12-22 15:51:04,386] Trial 65 pruned. \n"
     ]
    },
    {
     "name": "stdout",
     "output_type": "stream",
     "text": [
      "Training: accuracy: 38.640%, Validation: accuracy: 33.580%, score: -18.270\n"
     ]
    },
    {
     "name": "stderr",
     "output_type": "stream",
     "text": [
      "[I 2024-12-22 15:51:05,463] Trial 66 pruned. \n"
     ]
    },
    {
     "name": "stdout",
     "output_type": "stream",
     "text": [
      "Training: accuracy: 37.880%, Validation: accuracy: 48.077%, score: 4.235\n"
     ]
    },
    {
     "name": "stderr",
     "output_type": "stream",
     "text": [
      "[I 2024-12-22 15:51:06,615] Trial 67 pruned. \n"
     ]
    },
    {
     "name": "stdout",
     "output_type": "stream",
     "text": [
      "Training: accuracy: 39.780%, Validation: accuracy: 48.077%, score: 2.335\n"
     ]
    },
    {
     "name": "stderr",
     "output_type": "stream",
     "text": [
      "[I 2024-12-22 15:51:07,679] Trial 68 pruned. \n"
     ]
    },
    {
     "name": "stdout",
     "output_type": "stream",
     "text": [
      "Training: accuracy: 34.291%, Validation: accuracy: 48.077%, score: 7.825\n"
     ]
    },
    {
     "name": "stderr",
     "output_type": "stream",
     "text": [
      "[I 2024-12-22 15:51:08,805] Trial 69 pruned. \n"
     ]
    },
    {
     "name": "stdout",
     "output_type": "stream",
     "text": [
      "Training: accuracy: 7.306%, Validation: accuracy: 3.846%, score: -31.537\n"
     ]
    },
    {
     "name": "stderr",
     "output_type": "stream",
     "text": [
      "[I 2024-12-22 15:51:09,950] Trial 70 pruned. \n"
     ]
    },
    {
     "name": "stdout",
     "output_type": "stream",
     "text": [
      "Training: accuracy: 39.316%, Validation: accuracy: 48.077%, score: 2.800\n"
     ]
    },
    {
     "name": "stderr",
     "output_type": "stream",
     "text": [
      "[I 2024-12-22 15:51:10,991] Trial 71 pruned. \n"
     ]
    },
    {
     "name": "stdout",
     "output_type": "stream",
     "text": [
      "Training: accuracy: 26.098%, Validation: accuracy: 30.769%, score: -9.944\n"
     ]
    },
    {
     "name": "stderr",
     "output_type": "stream",
     "text": [
      "[I 2024-12-22 15:51:12,033] Trial 72 pruned. \n"
     ]
    },
    {
     "name": "stdout",
     "output_type": "stream",
     "text": [
      "Training: accuracy: 27.111%, Validation: accuracy: 29.290%, score: -13.177\n"
     ]
    },
    {
     "name": "stderr",
     "output_type": "stream",
     "text": [
      "[I 2024-12-22 15:51:13,092] Trial 73 pruned. \n"
     ]
    },
    {
     "name": "stdout",
     "output_type": "stream",
     "text": [
      "Training: accuracy: 37.035%, Validation: accuracy: 48.077%, score: 5.080\n"
     ]
    },
    {
     "name": "stderr",
     "output_type": "stream",
     "text": [
      "[I 2024-12-22 15:51:14,227] Trial 74 pruned. \n"
     ]
    },
    {
     "name": "stdout",
     "output_type": "stream",
     "text": [
      "Training: accuracy: 35.283%, Validation: accuracy: 30.769%, score: -19.129\n"
     ]
    },
    {
     "name": "stderr",
     "output_type": "stream",
     "text": [
      "[I 2024-12-22 15:51:15,278] Trial 75 pruned. \n"
     ]
    },
    {
     "name": "stdout",
     "output_type": "stream",
     "text": [
      "Training: accuracy: 38.725%, Validation: accuracy: 48.077%, score: 3.391\n"
     ]
    },
    {
     "name": "stderr",
     "output_type": "stream",
     "text": [
      "[I 2024-12-22 15:51:16,408] Trial 76 pruned. \n"
     ]
    },
    {
     "name": "stdout",
     "output_type": "stream",
     "text": [
      "Training: accuracy: 32.010%, Validation: accuracy: 30.769%, score: -15.856\n"
     ]
    },
    {
     "name": "stderr",
     "output_type": "stream",
     "text": [
      "[I 2024-12-22 15:51:17,483] Trial 77 pruned. \n"
     ]
    },
    {
     "name": "stdout",
     "output_type": "stream",
     "text": [
      "Training: accuracy: 45.481%, Validation: accuracy: 48.077%, score: -3.366\n"
     ]
    },
    {
     "name": "stderr",
     "output_type": "stream",
     "text": [
      "[I 2024-12-22 15:51:18,652] Trial 78 pruned. \n"
     ]
    },
    {
     "name": "stdout",
     "output_type": "stream",
     "text": [
      "Training: accuracy: 36.318%, Validation: accuracy: 30.769%, score: -20.164\n"
     ]
    },
    {
     "name": "stderr",
     "output_type": "stream",
     "text": [
      "[I 2024-12-22 15:51:19,696] Trial 79 pruned. \n"
     ]
    },
    {
     "name": "stdout",
     "output_type": "stream",
     "text": [
      "Training: accuracy: 23.881%, Validation: accuracy: 30.769%, score: -7.727\n"
     ]
    },
    {
     "name": "stderr",
     "output_type": "stream",
     "text": [
      "[I 2024-12-22 15:52:04,485] Trial 80 finished with value: -11.78574284343513 and parameters: {'layer_size': 11, 'dropout_main': 0.4991638025680359, 'decay_rate_100': 0.6745882100665711, 'reg_lambda': 0.049778939568522404}. Best is trial 80 with value: -11.78574284343513.\n"
     ]
    },
    {
     "name": "stdout",
     "output_type": "stream",
     "text": [
      "Training: accuracy: 84.966%, Validation: accuracy: 68.787%\n"
     ]
    },
    {
     "name": "stderr",
     "output_type": "stream",
     "text": [
      "[I 2024-12-22 15:52:05,622] Trial 81 pruned. \n"
     ]
    },
    {
     "name": "stdout",
     "output_type": "stream",
     "text": [
      "Training: accuracy: 40.604%, Validation: accuracy: 48.077%, score: 1.511\n"
     ]
    },
    {
     "name": "stderr",
     "output_type": "stream",
     "text": [
      "[I 2024-12-22 15:52:06,755] Trial 82 pruned. \n"
     ]
    },
    {
     "name": "stdout",
     "output_type": "stream",
     "text": [
      "Training: accuracy: 36.128%, Validation: accuracy: 48.964%, score: 7.319\n"
     ]
    },
    {
     "name": "stderr",
     "output_type": "stream",
     "text": [
      "[I 2024-12-22 15:52:50,864] Trial 83 finished with value: -27.703852150967535 and parameters: {'layer_size': 12, 'dropout_main': 0.38292334682682505, 'decay_rate_100': 0.6655663964591614, 'reg_lambda': 0.05271062496924435}. Best is trial 80 with value: -11.78574284343513.\n"
     ]
    },
    {
     "name": "stdout",
     "output_type": "stream",
     "text": [
      "Training: accuracy: 91.343%, Validation: accuracy: 62.426%\n"
     ]
    },
    {
     "name": "stderr",
     "output_type": "stream",
     "text": [
      "[I 2024-12-22 15:52:51,930] Trial 84 pruned. \n"
     ]
    },
    {
     "name": "stdout",
     "output_type": "stream",
     "text": [
      "Training: accuracy: 31.018%, Validation: accuracy: 30.769%, score: -14.864\n"
     ]
    },
    {
     "name": "stderr",
     "output_type": "stream",
     "text": [
      "[I 2024-12-22 15:52:52,986] Trial 85 pruned. \n"
     ]
    },
    {
     "name": "stdout",
     "output_type": "stream",
     "text": [
      "Training: accuracy: 40.731%, Validation: accuracy: 48.077%, score: 1.385\n"
     ]
    },
    {
     "name": "stderr",
     "output_type": "stream",
     "text": [
      "[I 2024-12-22 15:52:54,056] Trial 86 pruned. \n"
     ]
    },
    {
     "name": "stdout",
     "output_type": "stream",
     "text": [
      "Training: accuracy: 42.969%, Validation: accuracy: 48.077%, score: -0.853\n"
     ]
    },
    {
     "name": "stderr",
     "output_type": "stream",
     "text": [
      "[I 2024-12-22 15:52:55,137] Trial 87 pruned. \n"
     ]
    },
    {
     "name": "stdout",
     "output_type": "stream",
     "text": [
      "Training: accuracy: 22.192%, Validation: accuracy: 20.858%, score: -20.905\n"
     ]
    },
    {
     "name": "stderr",
     "output_type": "stream",
     "text": [
      "[I 2024-12-22 15:52:56,128] Trial 88 pruned. \n"
     ]
    },
    {
     "name": "stdout",
     "output_type": "stream",
     "text": [
      "Training: accuracy: 34.248%, Validation: accuracy: 48.077%, score: 7.867\n"
     ]
    },
    {
     "name": "stderr",
     "output_type": "stream",
     "text": [
      "[I 2024-12-22 15:52:57,117] Trial 89 pruned. \n"
     ]
    },
    {
     "name": "stdout",
     "output_type": "stream",
     "text": [
      "Training: accuracy: 28.484%, Validation: accuracy: 30.769%, score: -12.330\n"
     ]
    },
    {
     "name": "stderr",
     "output_type": "stream",
     "text": [
      "[I 2024-12-22 15:52:58,167] Trial 90 pruned. \n"
     ]
    },
    {
     "name": "stdout",
     "output_type": "stream",
     "text": [
      "Training: accuracy: 42.736%, Validation: accuracy: 48.077%, score: -0.621\n"
     ]
    },
    {
     "name": "stderr",
     "output_type": "stream",
     "text": [
      "[I 2024-12-22 15:52:59,217] Trial 91 pruned. \n"
     ]
    },
    {
     "name": "stdout",
     "output_type": "stream",
     "text": [
      "Training: accuracy: 29.899%, Validation: accuracy: 30.769%, score: -13.745\n"
     ]
    },
    {
     "name": "stderr",
     "output_type": "stream",
     "text": [
      "[I 2024-12-22 15:53:00,400] Trial 92 pruned. \n"
     ]
    },
    {
     "name": "stdout",
     "output_type": "stream",
     "text": [
      "Training: accuracy: 37.014%, Validation: accuracy: 30.769%, score: -20.861\n"
     ]
    },
    {
     "name": "stderr",
     "output_type": "stream",
     "text": [
      "[I 2024-12-22 15:53:01,577] Trial 93 pruned. \n"
     ]
    },
    {
     "name": "stdout",
     "output_type": "stream",
     "text": [
      "Training: accuracy: 38.577%, Validation: accuracy: 48.077%, score: 3.539\n"
     ]
    },
    {
     "name": "stderr",
     "output_type": "stream",
     "text": [
      "[I 2024-12-22 15:53:02,725] Trial 94 pruned. \n"
     ]
    },
    {
     "name": "stdout",
     "output_type": "stream",
     "text": [
      "Training: accuracy: 35.705%, Validation: accuracy: 31.213%, score: -18.886\n"
     ]
    },
    {
     "name": "stderr",
     "output_type": "stream",
     "text": [
      "[I 2024-12-22 15:53:03,756] Trial 95 pruned. \n"
     ]
    },
    {
     "name": "stdout",
     "output_type": "stream",
     "text": [
      "Training: accuracy: 38.302%, Validation: accuracy: 48.077%, score: 3.813\n"
     ]
    },
    {
     "name": "stderr",
     "output_type": "stream",
     "text": [
      "[I 2024-12-22 15:53:48,737] Trial 96 finished with value: -14.853645250279882 and parameters: {'layer_size': 17, 'dropout_main': 0.46333094839315814, 'decay_rate_100': 0.7854139913862607, 'reg_lambda': 0.08967566496272857}. Best is trial 80 with value: -11.78574284343513.\n"
     ]
    },
    {
     "name": "stdout",
     "output_type": "stream",
     "text": [
      "Training: accuracy: 93.138%, Validation: accuracy: 72.189%\n"
     ]
    },
    {
     "name": "stderr",
     "output_type": "stream",
     "text": [
      "[I 2024-12-22 15:54:34,566] Trial 97 finished with value: -17.138173676635233 and parameters: {'layer_size': 18, 'dropout_main': 0.44588332475517384, 'decay_rate_100': 0.7576528123717733, 'reg_lambda': 0.08992220285821656}. Best is trial 80 with value: -11.78574284343513.\n"
     ]
    },
    {
     "name": "stdout",
     "output_type": "stream",
     "text": [
      "Training: accuracy: 90.541%, Validation: accuracy: 68.935%\n"
     ]
    },
    {
     "name": "stderr",
     "output_type": "stream",
     "text": [
      "[I 2024-12-22 15:54:35,720] Trial 98 pruned. \n"
     ]
    },
    {
     "name": "stdout",
     "output_type": "stream",
     "text": [
      "Training: accuracy: 32.580%, Validation: accuracy: 30.769%, score: -16.426\n"
     ]
    },
    {
     "name": "stderr",
     "output_type": "stream",
     "text": [
      "[I 2024-12-22 15:54:36,883] Trial 99 pruned. \n"
     ]
    },
    {
     "name": "stdout",
     "output_type": "stream",
     "text": [
      "Training: accuracy: 39.506%, Validation: accuracy: 48.077%, score: 2.609\n"
     ]
    },
    {
     "name": "stderr",
     "output_type": "stream",
     "text": [
      "[I 2024-12-22 15:54:38,042] Trial 100 pruned. \n"
     ]
    },
    {
     "name": "stdout",
     "output_type": "stream",
     "text": [
      "Training: accuracy: 33.108%, Validation: accuracy: 30.769%, score: -16.954\n"
     ]
    },
    {
     "name": "stderr",
     "output_type": "stream",
     "text": [
      "[I 2024-12-22 15:54:39,198] Trial 101 pruned. \n"
     ]
    },
    {
     "name": "stdout",
     "output_type": "stream",
     "text": [
      "Training: accuracy: 40.287%, Validation: accuracy: 32.249%, score: -21.914\n"
     ]
    },
    {
     "name": "stderr",
     "output_type": "stream",
     "text": [
      "[I 2024-12-22 15:54:40,364] Trial 102 pruned. \n"
     ]
    },
    {
     "name": "stdout",
     "output_type": "stream",
     "text": [
      "Training: accuracy: 29.497%, Validation: accuracy: 30.769%, score: -13.344\n"
     ]
    },
    {
     "name": "stderr",
     "output_type": "stream",
     "text": [
      "[I 2024-12-22 15:54:41,532] Trial 103 pruned. \n"
     ]
    },
    {
     "name": "stdout",
     "output_type": "stream",
     "text": [
      "Training: accuracy: 37.986%, Validation: accuracy: 48.077%, score: 4.130\n"
     ]
    },
    {
     "name": "stderr",
     "output_type": "stream",
     "text": [
      "[I 2024-12-22 15:54:42,624] Trial 104 pruned. \n"
     ]
    },
    {
     "name": "stdout",
     "output_type": "stream",
     "text": [
      "Training: accuracy: 38.091%, Validation: accuracy: 48.077%, score: 4.024\n"
     ]
    },
    {
     "name": "stderr",
     "output_type": "stream",
     "text": [
      "[I 2024-12-22 15:54:43,713] Trial 105 pruned. \n"
     ]
    },
    {
     "name": "stdout",
     "output_type": "stream",
     "text": [
      "Training: accuracy: 31.377%, Validation: accuracy: 30.769%, score: -15.223\n"
     ]
    },
    {
     "name": "stderr",
     "output_type": "stream",
     "text": [
      "[I 2024-12-22 15:54:44,812] Trial 106 pruned. \n"
     ]
    },
    {
     "name": "stdout",
     "output_type": "stream",
     "text": [
      "Training: accuracy: 36.951%, Validation: accuracy: 48.077%, score: 5.164\n"
     ]
    },
    {
     "name": "stderr",
     "output_type": "stream",
     "text": [
      "[I 2024-12-22 15:54:45,974] Trial 107 pruned. \n"
     ]
    },
    {
     "name": "stdout",
     "output_type": "stream",
     "text": [
      "Training: accuracy: 35.325%, Validation: accuracy: 30.769%, score: -19.171\n"
     ]
    },
    {
     "name": "stderr",
     "output_type": "stream",
     "text": [
      "[I 2024-12-22 15:54:47,131] Trial 108 pruned. \n"
     ]
    },
    {
     "name": "stdout",
     "output_type": "stream",
     "text": [
      "Training: accuracy: 37.732%, Validation: accuracy: 48.077%, score: 4.383\n"
     ]
    },
    {
     "name": "stderr",
     "output_type": "stream",
     "text": [
      "[I 2024-12-22 15:54:48,213] Trial 109 pruned. \n"
     ]
    },
    {
     "name": "stdout",
     "output_type": "stream",
     "text": [
      "Training: accuracy: 37.838%, Validation: accuracy: 46.154%, score: 1.393\n"
     ]
    },
    {
     "name": "stderr",
     "output_type": "stream",
     "text": [
      "[I 2024-12-22 15:54:49,305] Trial 110 pruned. \n"
     ]
    },
    {
     "name": "stdout",
     "output_type": "stream",
     "text": [
      "Training: accuracy: 30.807%, Validation: accuracy: 30.769%, score: -14.653\n"
     ]
    },
    {
     "name": "stderr",
     "output_type": "stream",
     "text": [
      "[I 2024-12-22 15:54:50,385] Trial 111 pruned. \n"
     ]
    },
    {
     "name": "stdout",
     "output_type": "stream",
     "text": [
      "Training: accuracy: 39.358%, Validation: accuracy: 48.077%, score: 2.757\n"
     ]
    },
    {
     "name": "stderr",
     "output_type": "stream",
     "text": [
      "[I 2024-12-22 15:54:51,568] Trial 112 pruned. \n"
     ]
    },
    {
     "name": "stdout",
     "output_type": "stream",
     "text": [
      "Training: accuracy: 28.041%, Validation: accuracy: 30.769%, score: -11.887\n"
     ]
    },
    {
     "name": "stderr",
     "output_type": "stream",
     "text": [
      "[I 2024-12-22 15:54:52,656] Trial 113 pruned. \n"
     ]
    },
    {
     "name": "stdout",
     "output_type": "stream",
     "text": [
      "Training: accuracy: 39.654%, Validation: accuracy: 48.077%, score: 2.462\n"
     ]
    },
    {
     "name": "stderr",
     "output_type": "stream",
     "text": [
      "[I 2024-12-22 15:54:53,751] Trial 114 pruned. \n"
     ]
    },
    {
     "name": "stdout",
     "output_type": "stream",
     "text": [
      "Training: accuracy: 40.836%, Validation: accuracy: 46.598%, score: -0.940\n"
     ]
    },
    {
     "name": "stderr",
     "output_type": "stream",
     "text": [
      "[I 2024-12-22 15:54:54,931] Trial 115 pruned. \n"
     ]
    },
    {
     "name": "stdout",
     "output_type": "stream",
     "text": [
      "Training: accuracy: 35.663%, Validation: accuracy: 30.769%, score: -19.509\n"
     ]
    },
    {
     "name": "stderr",
     "output_type": "stream",
     "text": [
      "[I 2024-12-22 15:54:56,159] Trial 116 pruned. \n"
     ]
    },
    {
     "name": "stdout",
     "output_type": "stream",
     "text": [
      "Training: accuracy: 36.993%, Validation: accuracy: 29.586%, score: -22.615\n"
     ]
    },
    {
     "name": "stderr",
     "output_type": "stream",
     "text": [
      "[I 2024-12-22 15:54:57,317] Trial 117 pruned. \n"
     ]
    },
    {
     "name": "stdout",
     "output_type": "stream",
     "text": [
      "Training: accuracy: 30.891%, Validation: accuracy: 46.302%, score: 8.562\n"
     ]
    },
    {
     "name": "stderr",
     "output_type": "stream",
     "text": [
      "[I 2024-12-22 15:54:58,488] Trial 118 pruned. \n"
     ]
    },
    {
     "name": "stdout",
     "output_type": "stream",
     "text": [
      "Training: accuracy: 33.256%, Validation: accuracy: 31.361%, score: -16.214\n"
     ]
    },
    {
     "name": "stderr",
     "output_type": "stream",
     "text": [
      "[I 2024-12-22 15:54:59,575] Trial 119 pruned. \n"
     ]
    },
    {
     "name": "stdout",
     "output_type": "stream",
     "text": [
      "Training: accuracy: 35.304%, Validation: accuracy: 30.769%, score: -19.150\n",
      "Number of finished trials:  120\n"
     ]
    }
   ],
   "source": [
    "from optuna.samplers import TPESampler\n",
    "\n",
    "pruner = optuna.pruners.MedianPruner()\n",
    "sampler = TPESampler()\n",
    "\n",
    "study = optuna.create_study(directions=[\"maximize\"], sampler=sampler, pruner=pruner)\n",
    "study.optimize(objective, n_trials=120)\n",
    "\n",
    "print(\"Number of finished trials: \", len(study.trials))"
   ]
  }
 ],
 "metadata": {
  "kernelspec": {
   "display_name": "pawel",
   "language": "python",
   "name": "python3"
  },
  "language_info": {
   "codemirror_mode": {
    "name": "ipython",
    "version": 3
   },
   "file_extension": ".py",
   "mimetype": "text/x-python",
   "name": "python",
   "nbconvert_exporter": "python",
   "pygments_lexer": "ipython3",
   "version": "3.9.21"
  }
 },
 "nbformat": 4,
 "nbformat_minor": 2
}
