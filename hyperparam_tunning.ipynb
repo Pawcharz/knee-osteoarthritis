{
 "cells": [
  {
   "cell_type": "markdown",
   "metadata": {},
   "source": [
    "### Import Dependencies"
   ]
  },
  {
   "cell_type": "code",
   "execution_count": 1,
   "metadata": {},
   "outputs": [],
   "source": [
    "import random\n",
    "random.seed(0)"
   ]
  },
  {
   "cell_type": "code",
   "execution_count": 2,
   "metadata": {},
   "outputs": [],
   "source": [
    "import torch\n",
    "import torch.nn as nn\n",
    "import torchvision\n",
    "from torchvision import transforms\n",
    "\n",
    "import optuna"
   ]
  },
  {
   "cell_type": "markdown",
   "metadata": {},
   "source": [
    "### Constant Variables"
   ]
  },
  {
   "cell_type": "code",
   "execution_count": 3,
   "metadata": {},
   "outputs": [],
   "source": [
    "DATASET_PATH = './knee-osteoarthritis_2'\n",
    "\n",
    "TRAIN_PATH = f'{DATASET_PATH}/train'\n",
    "VAL_PATH = f'{DATASET_PATH}/val'\n",
    "TEST_PATH = f'{DATASET_PATH}/test'"
   ]
  },
  {
   "cell_type": "code",
   "execution_count": 4,
   "metadata": {},
   "outputs": [
    {
     "name": "stdout",
     "output_type": "stream",
     "text": [
      "cuda\n"
     ]
    }
   ],
   "source": [
    "device = 'cuda' if torch.cuda.is_available() else 'cpu'\n",
    "\n",
    "print(device)"
   ]
  },
  {
   "cell_type": "code",
   "execution_count": 5,
   "metadata": {},
   "outputs": [],
   "source": [
    "classes = range(4)"
   ]
  },
  {
   "cell_type": "markdown",
   "metadata": {},
   "source": [
    "### Dataset Preparation"
   ]
  },
  {
   "cell_type": "code",
   "execution_count": 6,
   "metadata": {},
   "outputs": [],
   "source": [
    "from src.dataset.augmented_dataset import get_KneeOsteoarthritis_Edges, KneeOsteoarthritis_Edges\n",
    "\n",
    "transform_toTensor = transforms.Compose([transforms.ToTensor()])\n",
    "\n",
    "train_dataset = torchvision.datasets.ImageFolder(TRAIN_PATH, transform_toTensor)\n",
    "val_dataset = torchvision.datasets.ImageFolder(VAL_PATH, transform_toTensor)\n",
    "test_dataset = torchvision.datasets.ImageFolder(TEST_PATH, transform_toTensor)\n",
    "\n",
    "dataset_all = torch.utils.data.ConcatDataset([train_dataset, val_dataset, test_dataset])\n",
    "\n",
    "train_dataset, val_dataset, test_dataset = torch.utils.data.random_split(dataset_all, [0.7, 0.1, 0.2])\n",
    "\n",
    "train_dataset = KneeOsteoarthritis_Edges(train_dataset)\n",
    "val_dataset = KneeOsteoarthritis_Edges(val_dataset)\n",
    "test_dataset = KneeOsteoarthritis_Edges(test_dataset)"
   ]
  },
  {
   "cell_type": "code",
   "execution_count": 7,
   "metadata": {},
   "outputs": [
    {
     "name": "stdout",
     "output_type": "stream",
     "text": [
      "4736 676 1353\n"
     ]
    }
   ],
   "source": [
    "print(len(train_dataset), len(val_dataset), len(test_dataset))"
   ]
  },
  {
   "cell_type": "markdown",
   "metadata": {},
   "source": [
    "### Data Loaders"
   ]
  },
  {
   "cell_type": "code",
   "execution_count": 8,
   "metadata": {},
   "outputs": [],
   "source": [
    "from torch.utils.data import DataLoader\n",
    "\n",
    "BATCH_SIZE = 128\n",
    "\n",
    "train_loader = DataLoader(train_dataset, batch_size=BATCH_SIZE, shuffle=True)\n",
    "val_loader = DataLoader(val_dataset, batch_size=BATCH_SIZE, shuffle=True)\n",
    "test_loader = DataLoader(test_dataset, batch_size=BATCH_SIZE, shuffle=True)"
   ]
  },
  {
   "cell_type": "markdown",
   "metadata": {},
   "source": [
    "## Optuna"
   ]
  },
  {
   "cell_type": "code",
   "execution_count": 9,
   "metadata": {},
   "outputs": [],
   "source": [
    "def define_model(trial, layer_size, dropout_main):\n",
    "    class IntermediarySpaceModel(nn.Module):\n",
    "        def __init__(self, train_device, num_classes: int = 5, dropout: float = 0.5) -> None:\n",
    "            super().__init__()\n",
    "            \n",
    "            # Size of layer block\n",
    "            \n",
    "            S = layer_size\n",
    "            # S = trial.suggest_int(\"layer_size\", 12, 24)\n",
    "            self.train_device = train_device\n",
    "            \n",
    "            # Images\n",
    "            self.imagesClassifier = nn.Sequential(\n",
    "                nn.Conv2d(3, S*2, kernel_size=11, stride=4, padding=2),\n",
    "                nn.ReLU(inplace=True),\n",
    "                nn.MaxPool2d(kernel_size=3, stride=2),\n",
    "                nn.Dropout(p=dropout*0.2),\n",
    "                nn.Conv2d(S*2, S*2, kernel_size=5, padding=2),\n",
    "                nn.ReLU(inplace=True),\n",
    "                nn.MaxPool2d(kernel_size=3, stride=2),\n",
    "                nn.Dropout(p=dropout*0.4),\n",
    "                nn.Conv2d(S*2, S*2, kernel_size=3, padding=1),\n",
    "                nn.ReLU(inplace=True),\n",
    "                nn.Dropout(p=dropout*0.6),\n",
    "                nn.Conv2d(S*2, S, kernel_size=3, padding=1),\n",
    "                nn.ReLU(inplace=True),\n",
    "                nn.MaxPool2d(kernel_size=3, stride=2),\n",
    "                \n",
    "                nn.Flatten(),\n",
    "                nn.Dropout(p=dropout*0.8),\n",
    "                nn.Linear(S * 7 * 7, S*2),\n",
    "            )\n",
    "\n",
    "            self.edgesClassifier = nn.Sequential(\n",
    "                nn.Conv2d(1, S*2, kernel_size=11, stride=4, padding=2),\n",
    "                nn.ReLU(inplace=True),\n",
    "                nn.MaxPool2d(kernel_size=3, stride=2),\n",
    "                nn.Dropout(p=dropout*0.4),\n",
    "                nn.Conv2d(S*2, S*2, kernel_size=5, padding=2),\n",
    "                nn.ReLU(inplace=True),\n",
    "                nn.MaxPool2d(kernel_size=3, stride=2),\n",
    "                nn.Dropout(p=dropout*0.6),\n",
    "                nn.Conv2d(S*2, S, kernel_size=3, padding=1),\n",
    "                nn.ReLU(inplace=True),\n",
    "                nn.MaxPool2d(kernel_size=3, stride=2),\n",
    "                \n",
    "                nn.Flatten(),\n",
    "                nn.Dropout(p=dropout*0.8),\n",
    "                nn.Linear(S * 6 * 6, S*2),\n",
    "            )\n",
    "            \n",
    "            self.outputCombiner = nn.Sequential(\n",
    "                nn.ReLU(inplace=True),\n",
    "                nn.Dropout(p=dropout),\n",
    "                nn.Linear(S*4, S*3),\n",
    "                nn.ReLU(inplace=True),\n",
    "                nn.Dropout(p=dropout),\n",
    "                nn.Linear(S*3, S),\n",
    "                nn.ReLU(inplace=True),\n",
    "                nn.Dropout(p=dropout),\n",
    "                nn.Linear(S, num_classes),\n",
    "            )\n",
    "            \n",
    "        def forward(self, data: tuple) -> torch.Tensor:\n",
    "            \n",
    "            images, edges = data\n",
    "            \n",
    "            images = images.to(self.train_device)\n",
    "            edges = edges.to(self.train_device)\n",
    "            \n",
    "            # Images\n",
    "            images = self.imagesClassifier(images)\n",
    "            \n",
    "            # Edges\n",
    "            edges = self.edgesClassifier(edges)\n",
    "            \n",
    "            # Combining outputs\n",
    "            concated = torch.cat((images, edges), 1)\n",
    "            res = self.outputCombiner(concated)\n",
    "            \n",
    "            return res\n",
    "\n",
    "    # DROPOUT_MAIN = trial.suggest_float(\"dropout_main\", 0.3, 0.7)\n",
    "    model = IntermediarySpaceModel(device, 4, dropout_main)\n",
    "    model = model.to(device)\n",
    "    \n",
    "    return model\n"
   ]
  },
  {
   "cell_type": "code",
   "execution_count": 10,
   "metadata": {},
   "outputs": [
    {
     "name": "stdout",
     "output_type": "stream",
     "text": [
      "{0: 2266, 1: 1530, 2: 760, 3: 180} tensor([2266., 1530.,  760.,  180.], device='cuda:0')\n"
     ]
    }
   ],
   "source": [
    "import torch.optim as optim\n",
    "from src.other import get_classes_frequencies\n",
    "    \n",
    "class_weights = get_classes_frequencies(train_dataset)\n",
    "weights_tensor = torch.Tensor(list(class_weights.values())).to(device)\n",
    "print(class_weights, weights_tensor)\n",
    "\n",
    "criterion = nn.CrossEntropyLoss(weights_tensor)"
   ]
  },
  {
   "cell_type": "code",
   "execution_count": 11,
   "metadata": {},
   "outputs": [],
   "source": [
    "from torch.utils.tensorboard import SummaryWriter\n",
    "\n",
    "logger = SummaryWriter(log_dir=f\"logs/hyperparameter_tunning_ratio_abs\")"
   ]
  },
  {
   "cell_type": "markdown",
   "metadata": {},
   "source": [
    "### Objective"
   ]
  },
  {
   "cell_type": "code",
   "execution_count": 12,
   "metadata": {},
   "outputs": [],
   "source": [
    "from src.training import Trainer\n",
    "    \n",
    "def objective(trial):\n",
    "    # Hyperparameters\n",
    "    layer_size = trial.suggest_int(\"layer_size\", 8, 28)\n",
    "    dropout_main = trial.suggest_float(\"dropout_main\", 0.3, 0.7)\n",
    "    initial_lr = 0.001\n",
    "    lr_decay_rate_100 = trial.suggest_float(\"decay_rate_100\", 0.3, 0.8)\n",
    "    reg_type = \"L2\"\n",
    "    reg_lambda = trial.suggest_float(\"reg_lambda\", 0.0001, 0.1)\n",
    "    \n",
    "    hparams = {\n",
    "      \"layer_size\": layer_size,\n",
    "      \"dropout_main\": dropout_main,\n",
    "      \"initial_lr\": initial_lr,\n",
    "      \"lr_decay_rate_100\": lr_decay_rate_100,\n",
    "      \"reg_type\": reg_type,\n",
    "      \"reg_lambda\": reg_lambda,\n",
    "    }\n",
    "    \n",
    "    # Model\n",
    "    model = define_model(trial, layer_size, dropout_main)\n",
    "    \n",
    "    # Optimizer\n",
    "    optimizer = optim.Adam(model.parameters(), lr=initial_lr)\n",
    "    \n",
    "    # lr scheduler\n",
    "    lr_decay_rate_1 = lr_decay_rate_100**(1/100)\n",
    "    lr_scheduler = torch.optim.lr_scheduler.ExponentialLR(optimizer=optimizer, gamma=lr_decay_rate_1)\n",
    "    \n",
    "    # Trainer object\n",
    "    trainer = Trainer(\n",
    "      model=model,\n",
    "      classes=classes,\n",
    "      train_loader=train_loader,\n",
    "      val_loader=val_loader,\n",
    "      criterion=criterion,\n",
    "      optimizer=optimizer,\n",
    "      device=device,\n",
    "      lr_scheduler=lr_scheduler,\n",
    "      reg_type=reg_type,\n",
    "      reg_lambda=0.01,\n",
    "      # tensorboard_logger=logger\n",
    "    )\n",
    "\n",
    "        \n",
    "    # Training loop\n",
    "    MAX_STEP = 50\n",
    "    differences = []\n",
    "    \n",
    "    tAccuracy, tLoss, vAccuracy, vLoss = 0, 0, 0, 0\n",
    "    score = None\n",
    "    step = 0\n",
    "    for step in range(MAX_STEP):\n",
    "      tAccuracy, tLoss, vAccuracy, vLoss, _ = trainer.train_single()\n",
    "      \n",
    "      difference = tAccuracy - vAccuracy\n",
    "      differences.append(difference)\n",
    "      \n",
    "      # I include absolute value of valdiation accuracy and the ratio - to neither be stuck with huge overfitting (ex. tAcc=90%, vAcc=68%) \n",
    "      # nor with low accuracy of both even when training accuracy is lower than validation (ex. tAcc=33%, vAcc=35%)\n",
    "      # I also applide offset to additionaly push out any low accuracies\n",
    "      score = ((vAccuracy - 50) / tAccuracy) + (vAccuracy/100 - 0.5)\n",
    "      \n",
    "      # Early stopping mechanism was implemented - I want to stop the training whenever it starts to overfit (3 consequtive epochs with higher training accuracy than validation)\n",
    "      if step > 3 and differences[step-2] > 0 and differences[step] > differences[step-1] and differences[step-1] > differences[step-2]:\n",
    "        \n",
    "        print(f'Training: accuracy: {tAccuracy:.3f}%, Validation: accuracy: {vAccuracy:.3f}%, Differences: {differences[-3:]}, Score: {score:.3f} Step: {step}')\n",
    "        logger.add_hparams(hparams, {'hparam/tAccuracy': tAccuracy, 'hparam/vAccuracy': vAccuracy, 'score': score, 'step': step}, run_name=f\"Trial_nr_{trial.number}\")\n",
    "        return score\n",
    "      \n",
    "\n",
    "    \n",
    "    print(f'Training: accuracy: {tAccuracy:.3f}%, Validation: accuracy: {vAccuracy:.3f}%, Differences: {differences[-3:]}, Score: {score:.3f} Step: {step}')\n",
    "    \n",
    "    logger.add_hparams(hparams, {'hparam/tAccuracy': tAccuracy, 'hparam/vAccuracy': vAccuracy, 'score': score, 'step': step}, run_name=f\"Trial_nr_{trial.number}\")\n",
    "    \n",
    "    \n",
    "    return score"
   ]
  },
  {
   "cell_type": "code",
   "execution_count": 13,
   "metadata": {},
   "outputs": [
    {
     "name": "stderr",
     "output_type": "stream",
     "text": [
      "[I 2024-12-23 11:57:08,157] A new study created in memory with name: no-name-c9d01276-ea11-4a17-9564-1327da067735\n",
      "[I 2024-12-23 11:57:22,520] Trial 0 finished with value: 0.4213391164474063 and parameters: {'layer_size': 28, 'dropout_main': 0.3804137416896371, 'decay_rate_100': 0.625538500296188, 'reg_lambda': 0.007017842271877219}. Best is trial 0 with value: 0.4213391164474063.\n"
     ]
    },
    {
     "name": "stdout",
     "output_type": "stream",
     "text": [
      "Training: accuracy: 80.469%, Validation: accuracy: 68.787%, Differences: [4.416005317447613, 7.352345873980482, 11.681767751479285], Score: 0.421 Step: 11\n"
     ]
    },
    {
     "name": "stderr",
     "output_type": "stream",
     "text": [
      "[I 2024-12-23 11:57:38,500] Trial 1 finished with value: 0.28292074769607134 and parameters: {'layer_size': 12, 'dropout_main': 0.45233424003034284, 'decay_rate_100': 0.3443304455061339, 'reg_lambda': 0.01490391195729113}. Best is trial 0 with value: 0.4213391164474063.\n"
     ]
    },
    {
     "name": "stdout",
     "output_type": "stream",
     "text": [
      "Training: accuracy: 70.376%, Validation: accuracy: 61.686%, Differences: [1.2513993283224067, 2.899858068127301, 8.689454062050217], Score: 0.283 Step: 13\n"
     ]
    },
    {
     "name": "stderr",
     "output_type": "stream",
     "text": [
      "[I 2024-12-23 11:57:57,038] Trial 2 finished with value: 0.3881902631733841 and parameters: {'layer_size': 9, 'dropout_main': 0.5036368653743739, 'decay_rate_100': 0.3978769654955977, 'reg_lambda': 0.08433172318906818}. Best is trial 0 with value: 0.4213391164474063.\n"
     ]
    },
    {
     "name": "stdout",
     "output_type": "stream",
     "text": [
      "Training: accuracy: 72.171%, Validation: accuracy: 66.272%, Differences: [0.5349932032624451, 4.441368143291214, 5.898418758995689], Score: 0.388 Step: 15\n"
     ]
    },
    {
     "name": "stderr",
     "output_type": "stream",
     "text": [
      "[I 2024-12-23 11:58:13,732] Trial 3 finished with value: -0.11914027700934927 and parameters: {'layer_size': 14, 'dropout_main': 0.5295997176801575, 'decay_rate_100': 0.6380017252869777, 'reg_lambda': 0.010958263545706889}. Best is trial 0 with value: 0.4213391164474063.\n"
     ]
    },
    {
     "name": "stdout",
     "output_type": "stream",
     "text": [
      "Training: accuracy: 53.294%, Validation: accuracy: 45.858%, Differences: [3.401867103790181, 3.4639622980969165, 7.435930753238445], Score: -0.119 Step: 15\n"
     ]
    },
    {
     "name": "stderr",
     "output_type": "stream",
     "text": [
      "[I 2024-12-23 11:58:23,122] Trial 4 finished with value: 0.11446390199065834 and parameters: {'layer_size': 13, 'dropout_main': 0.3919809881842891, 'decay_rate_100': 0.5050211106036574, 'reg_lambda': 0.0008142206794767023}. Best is trial 0 with value: 0.4213391164474063.\n"
     ]
    },
    {
     "name": "stdout",
     "output_type": "stream",
     "text": [
      "Training: accuracy: 59.945%, Validation: accuracy: 54.290%, Differences: [0.3359637374060398, 4.474602190948339, 5.655160522948989], Score: 0.114 Step: 8\n"
     ]
    },
    {
     "name": "stderr",
     "output_type": "stream",
     "text": [
      "[I 2024-12-23 11:58:41,895] Trial 5 finished with value: 0.37662721893491113 and parameters: {'layer_size': 26, 'dropout_main': 0.34702427099546584, 'decay_rate_100': 0.5653238402399638, 'reg_lambda': 0.014813082136920298}. Best is trial 0 with value: 0.4213391164474063.\n"
     ]
    },
    {
     "name": "stdout",
     "output_type": "stream",
     "text": [
      "Training: accuracy: 81.081%, Validation: accuracy: 66.864%, Differences: [3.3810021189828916, 11.598682632336477, 14.2171757556373], Score: 0.377 Step: 15\n"
     ]
    },
    {
     "name": "stderr",
     "output_type": "stream",
     "text": [
      "[I 2024-12-23 11:58:51,999] Trial 6 finished with value: 0.3808926090853578 and parameters: {'layer_size': 20, 'dropout_main': 0.3357720529966377, 'decay_rate_100': 0.4363525802408505, 'reg_lambda': 0.001336206451705009}. Best is trial 0 with value: 0.4213391164474063.\n"
     ]
    },
    {
     "name": "stdout",
     "output_type": "stream",
     "text": [
      "Training: accuracy: 69.975%, Validation: accuracy: 65.680%, Differences: [1.109342515592516, 1.6337158164081274, 4.294188789381096], Score: 0.381 Step: 8\n"
     ]
    },
    {
     "name": "stderr",
     "output_type": "stream",
     "text": [
      "[I 2024-12-23 11:59:05,699] Trial 7 finished with value: 0.4452730269379373 and parameters: {'layer_size': 15, 'dropout_main': 0.3208590572925877, 'decay_rate_100': 0.42062330886210486, 'reg_lambda': 0.031973995418041204}. Best is trial 7 with value: 0.4452730269379373.\n"
     ]
    },
    {
     "name": "stdout",
     "output_type": "stream",
     "text": [
      "Training: accuracy: 73.986%, Validation: accuracy: 68.935%, Differences: [1.1449504237965726, 3.4898248840556505, 5.051575243882937], Score: 0.445 Step: 12\n"
     ]
    },
    {
     "name": "stderr",
     "output_type": "stream",
     "text": [
      "[I 2024-12-23 11:59:18,800] Trial 8 finished with value: 0.3513482478182161 and parameters: {'layer_size': 28, 'dropout_main': 0.5029158238164338, 'decay_rate_100': 0.428606591116702, 'reg_lambda': 0.03762793737291463}. Best is trial 7 with value: 0.4452730269379373.\n"
     ]
    },
    {
     "name": "stdout",
     "output_type": "stream",
     "text": [
      "Training: accuracy: 73.986%, Validation: accuracy: 64.941%, Differences: [3.428854150008007, 7.568742003838153, 9.045658084119623], Score: 0.351 Step: 10\n"
     ]
    },
    {
     "name": "stderr",
     "output_type": "stream",
     "text": [
      "[I 2024-12-23 11:59:33,345] Trial 9 finished with value: 0.22650452197660834 and parameters: {'layer_size': 14, 'dropout_main': 0.5511499241517175, 'decay_rate_100': 0.7157837571258383, 'reg_lambda': 0.07869807007609843}. Best is trial 7 with value: 0.4452730269379373.\n"
     ]
    },
    {
     "name": "stdout",
     "output_type": "stream",
     "text": [
      "Training: accuracy: 75.760%, Validation: accuracy: 59.763%, Differences: [1.8429903646249812, 5.581071085878776, 15.996821525667677], Score: 0.227 Step: 13\n"
     ]
    },
    {
     "name": "stderr",
     "output_type": "stream",
     "text": [
      "[I 2024-12-23 11:59:40,105] Trial 10 finished with value: -0.18262388238667454 and parameters: {'layer_size': 19, 'dropout_main': 0.6724755046861323, 'decay_rate_100': 0.30649168360113305, 'reg_lambda': 0.05415699790345718}. Best is trial 7 with value: 0.4452730269379373.\n"
     ]
    },
    {
     "name": "stdout",
     "output_type": "stream",
     "text": [
      "Training: accuracy: 47.931%, Validation: accuracy: 44.083%, Differences: [3.4675855589317095, 3.7423286822325252, 3.847903006556848], Score: -0.183 Step: 5\n"
     ]
    },
    {
     "name": "stderr",
     "output_type": "stream",
     "text": [
      "[I 2024-12-23 12:00:06,017] Trial 11 finished with value: 0.41387640213418486 and parameters: {'layer_size': 23, 'dropout_main': 0.4043439012809441, 'decay_rate_100': 0.7771305550612513, 'reg_lambda': 0.04041232164850878}. Best is trial 7 with value: 0.4452730269379373.\n"
     ]
    },
    {
     "name": "stdout",
     "output_type": "stream",
     "text": [
      "Training: accuracy: 77.323%, Validation: accuracy: 68.047%, Differences: [7.479534823284823, 8.852750679673761, 9.275297857028619], Score: 0.414 Step: 21\n"
     ]
    },
    {
     "name": "stderr",
     "output_type": "stream",
     "text": [
      "[I 2024-12-23 12:00:17,617] Trial 12 finished with value: 0.3197848477401193 and parameters: {'layer_size': 22, 'dropout_main': 0.313530375185743, 'decay_rate_100': 0.6113639794040426, 'reg_lambda': 0.02981449953011607}. Best is trial 7 with value: 0.4452730269379373.\n"
     ]
    },
    {
     "name": "stdout",
     "output_type": "stream",
     "text": [
      "Training: accuracy: 72.698%, Validation: accuracy: 63.462%, Differences: [2.797782064608988, 3.766816927874615, 9.236941268191266], Score: 0.320 Step: 9\n"
     ]
    },
    {
     "name": "stderr",
     "output_type": "stream",
     "text": [
      "[I 2024-12-23 12:00:36,674] Trial 13 finished with value: 0.2921542964605569 and parameters: {'layer_size': 17, 'dropout_main': 0.40385017082606867, 'decay_rate_100': 0.5093135507972498, 'reg_lambda': 0.06078570780439041}. Best is trial 7 with value: 0.4452730269379373.\n"
     ]
    },
    {
     "name": "stdout",
     "output_type": "stream",
     "text": [
      "Training: accuracy: 77.133%, Validation: accuracy: 62.722%, Differences: [3.360886774348316, 9.931233008156084, 14.410707860227092], Score: 0.292 Step: 16\n"
     ]
    },
    {
     "name": "stderr",
     "output_type": "stream",
     "text": [
      "[I 2024-12-23 12:00:49,130] Trial 14 finished with value: 0.3380468713600151 and parameters: {'layer_size': 17, 'dropout_main': 0.30253644677377556, 'decay_rate_100': 0.6605752681752806, 'reg_lambda': 0.023049513038203438}. Best is trial 7 with value: 0.4452730269379373.\n"
     ]
    },
    {
     "name": "stdout",
     "output_type": "stream",
     "text": [
      "Training: accuracy: 75.084%, Validation: accuracy: 64.497%, Differences: [1.6706980649288425, 3.2972922996961387, 10.587418039341102], Score: 0.338 Step: 10\n"
     ]
    },
    {
     "name": "stderr",
     "output_type": "stream",
     "text": [
      "[I 2024-12-23 12:00:59,237] Trial 15 finished with value: -0.09314283574264096 and parameters: {'layer_size': 8, 'dropout_main': 0.5975211619188672, 'decay_rate_100': 0.502271029643507, 'reg_lambda': 0.09954762444921111}. Best is trial 7 with value: 0.4452730269379373.\n"
     ]
    },
    {
     "name": "stdout",
     "output_type": "stream",
     "text": [
      "Training: accuracy: 50.042%, Validation: accuracy: 46.893%, Differences: [2.8543798976491246, 2.9801945066368134, 3.1487386054693687], Score: -0.093 Step: 8\n"
     ]
    },
    {
     "name": "stderr",
     "output_type": "stream",
     "text": [
      "[I 2024-12-23 12:01:06,331] Trial 16 finished with value: 0.10282733460871117 and parameters: {'layer_size': 25, 'dropout_main': 0.44564095123155933, 'decay_rate_100': 0.5708119129212754, 'reg_lambda': 0.044073344605180975}. Best is trial 7 with value: 0.4452730269379373.\n"
     ]
    },
    {
     "name": "stdout",
     "output_type": "stream",
     "text": [
      "Training: accuracy: 56.166%, Validation: accuracy: 53.698%, Differences: [1.670573124900045, 2.34375, 2.467315688469533], Score: 0.103 Step: 5\n"
     ]
    },
    {
     "name": "stderr",
     "output_type": "stream",
     "text": [
      "[I 2024-12-23 12:01:13,730] Trial 17 finished with value: 0.10981883479823297 and parameters: {'layer_size': 16, 'dropout_main': 0.37580486913756184, 'decay_rate_100': 0.7048749791506806, 'reg_lambda': 0.02773953410297188}. Best is trial 7 with value: 0.4452730269379373.\n"
     ]
    },
    {
     "name": "stdout",
     "output_type": "stream",
     "text": [
      "Training: accuracy: 57.158%, Validation: accuracy: 53.994%, Differences: [2.663096713577481, 3.1228760195106346, 3.1638563489525], Score: 0.110 Step: 6\n"
     ]
    },
    {
     "name": "stderr",
     "output_type": "stream",
     "text": [
      "[I 2024-12-23 12:01:27,459] Trial 18 finished with value: 0.3405261965993059 and parameters: {'layer_size': 22, 'dropout_main': 0.44524997954054135, 'decay_rate_100': 0.7922769320819004, 'reg_lambda': 0.0674160017864022}. Best is trial 7 with value: 0.4452730269379373.\n"
     ]
    },
    {
     "name": "stdout",
     "output_type": "stream",
     "text": [
      "Training: accuracy: 72.825%, Validation: accuracy: 64.349%, Differences: [0.8941957860227063, 2.8567537581960636, 8.476056492883416], Score: 0.341 Step: 11\n"
     ]
    },
    {
     "name": "stderr",
     "output_type": "stream",
     "text": [
      "[I 2024-12-23 12:01:36,706] Trial 19 finished with value: 0.266694977836488 and parameters: {'layer_size': 11, 'dropout_main': 0.3438665481137409, 'decay_rate_100': 0.38017472514378403, 'reg_lambda': 0.021300263459177363}. Best is trial 7 with value: 0.4452730269379373.\n"
     ]
    },
    {
     "name": "stdout",
     "output_type": "stream",
     "text": [
      "Training: accuracy: 66.491%, Validation: accuracy: 60.651%, Differences: [1.5753688229649825, 3.1790990324644213, 5.839821885494956], Score: 0.267 Step: 7\n"
     ]
    },
    {
     "name": "stderr",
     "output_type": "stream",
     "text": [
      "[I 2024-12-23 12:01:53,660] Trial 20 finished with value: 0.37324871158618067 and parameters: {'layer_size': 28, 'dropout_main': 0.3752021518117565, 'decay_rate_100': 0.47680174408848724, 'reg_lambda': 0.03376477863609263}. Best is trial 7 with value: 0.4452730269379373.\n"
     ]
    },
    {
     "name": "stdout",
     "output_type": "stream",
     "text": [
      "Training: accuracy: 78.547%, Validation: accuracy: 66.420%, Differences: [6.0655885175116, 11.539086238605464, 12.127178954102021], Score: 0.373 Step: 13\n"
     ]
    },
    {
     "name": "stderr",
     "output_type": "stream",
     "text": [
      "[I 2024-12-23 12:02:06,486] Trial 21 finished with value: 0.32068295498945754 and parameters: {'layer_size': 23, 'dropout_main': 0.4132867646060415, 'decay_rate_100': 0.7822159287993111, 'reg_lambda': 0.04333099661818802}. Best is trial 7 with value: 0.4452730269379373.\n"
     ]
    },
    {
     "name": "stdout",
     "output_type": "stream",
     "text": [
      "Training: accuracy: 70.988%, Validation: accuracy: 63.314%, Differences: [2.016407124580205, 2.6909583399968042, 7.674566208220057], Score: 0.321 Step: 10\n"
     ]
    },
    {
     "name": "stderr",
     "output_type": "stream",
     "text": [
      "[I 2024-12-23 12:02:17,062] Trial 22 finished with value: 0.2270647525778767 and parameters: {'layer_size': 25, 'dropout_main': 0.42955251515244464, 'decay_rate_100': 0.7328607669696996, 'reg_lambda': 0.051838654230701345}. Best is trial 7 with value: 0.4452730269379373.\n"
     ]
    },
    {
     "name": "stdout",
     "output_type": "stream",
     "text": [
      "Training: accuracy: 62.437%, Validation: accuracy: 58.728%, Differences: [0.9664111226611283, 2.949834079641768, 3.708844754517827], Score: 0.227 Step: 8\n"
     ]
    },
    {
     "name": "stderr",
     "output_type": "stream",
     "text": [
      "[I 2024-12-23 12:02:32,888] Trial 23 finished with value: 0.3255651076751994 and parameters: {'layer_size': 20, 'dropout_main': 0.3597432107985951, 'decay_rate_100': 0.6816363232911619, 'reg_lambda': 0.040349731120631886}. Best is trial 7 with value: 0.4452730269379373.\n"
     ]
    },
    {
     "name": "stdout",
     "output_type": "stream",
     "text": [
      "Training: accuracy: 75.950%, Validation: accuracy: 64.053%, Differences: [5.286587438029741, 6.023858547897007, 11.896914481049095], Score: 0.326 Step: 13\n"
     ]
    },
    {
     "name": "stderr",
     "output_type": "stream",
     "text": [
      "[I 2024-12-23 12:02:51,750] Trial 24 finished with value: 0.4327430752985134 and parameters: {'layer_size': 26, 'dropout_main': 0.4811178900257515, 'decay_rate_100': 0.7452522618692375, 'reg_lambda': 0.012104075978707447}. Best is trial 7 with value: 0.4452730269379373.\n"
     ]
    },
    {
     "name": "stdout",
     "output_type": "stream",
     "text": [
      "Training: accuracy: 79.983%, Validation: accuracy: 69.231%, Differences: [4.459859267551579, 7.329856668798968, 10.752338877338886], Score: 0.433 Step: 15\n"
     ]
    },
    {
     "name": "stderr",
     "output_type": "stream",
     "text": [
      "[I 2024-12-23 12:03:17,010] Trial 25 finished with value: 0.3496573507534051 and parameters: {'layer_size': 26, 'dropout_main': 0.46745966615743134, 'decay_rate_100': 0.5912959279131526, 'reg_lambda': 0.009555629528736604}. Best is trial 7 with value: 0.4452730269379373.\n"
     ]
    },
    {
     "name": "stdout",
     "output_type": "stream",
     "text": [
      "Training: accuracy: 85.579%, Validation: accuracy: 66.124%, Differences: [11.510724852071007, 13.580231488885332, 19.4542869422677], Score: 0.350 Step: 20\n"
     ]
    },
    {
     "name": "stderr",
     "output_type": "stream",
     "text": [
      "[I 2024-12-23 12:03:31,430] Trial 26 finished with value: 0.3358546388299653 and parameters: {'layer_size': 28, 'dropout_main': 0.5862025751102569, 'decay_rate_100': 0.6254178178687566, 'reg_lambda': 0.022862767444744792}. Best is trial 7 with value: 0.4452730269379373.\n"
     ]
    },
    {
     "name": "stdout",
     "output_type": "stream",
     "text": [
      "Training: accuracy: 69.383%, Validation: accuracy: 63.757%, Differences: [2.378358387973769, 4.762838837358068, 5.626049496241812], Score: 0.336 Step: 11\n"
     ]
    },
    {
     "name": "stderr",
     "output_type": "stream",
     "text": [
      "[I 2024-12-23 12:03:58,125] Trial 27 finished with value: 0.047157217631024984 and parameters: {'layer_size': 15, 'dropout_main': 0.6962898821366198, 'decay_rate_100': 0.5328500863165235, 'reg_lambda': 0.0066408487410681795}. Best is trial 7 with value: 0.4452730269379373.\n"
     ]
    },
    {
     "name": "stdout",
     "output_type": "stream",
     "text": [
      "Training: accuracy: 60.367%, Validation: accuracy: 51.775%, Differences: [3.104259955221494, 3.524933032144574, 8.592250719654565], Score: 0.047 Step: 23\n"
     ]
    },
    {
     "name": "stderr",
     "output_type": "stream",
     "text": [
      "[I 2024-12-23 12:04:24,028] Trial 28 finished with value: 0.40164961087779266 and parameters: {'layer_size': 26, 'dropout_main': 0.4687919120287309, 'decay_rate_100': 0.460613731263636, 'reg_lambda': 0.01905012012279332}. Best is trial 7 with value: 0.4452730269379373.\n"
     ]
    },
    {
     "name": "stdout",
     "output_type": "stream",
     "text": [
      "Training: accuracy: 87.880%, Validation: accuracy: 68.787%, Differences: [14.380972133375977, 14.654091036302574, 19.09308531904685], Score: 0.402 Step: 20\n"
     ]
    },
    {
     "name": "stderr",
     "output_type": "stream",
     "text": [
      "[I 2024-12-23 12:04:32,179] Trial 29 finished with value: 0.04184277261200333 and parameters: {'layer_size': 11, 'dropout_main': 0.31879720728405275, 'decay_rate_100': 0.3050945418800441, 'reg_lambda': 0.014169820222500122}. Best is trial 7 with value: 0.4452730269379373.\n"
     ]
    },
    {
     "name": "stdout",
     "output_type": "stream",
     "text": [
      "Training: accuracy: 54.688%, Validation: accuracy: 51.479%, Differences: [1.7755227490804444, 1.9220774028466394, 3.2082100591715985], Score: 0.042 Step: 6\n"
     ]
    },
    {
     "name": "stderr",
     "output_type": "stream",
     "text": [
      "[I 2024-12-23 12:04:49,738] Trial 30 finished with value: 0.3906864678810381 and parameters: {'layer_size': 24, 'dropout_main': 0.4718204975601379, 'decay_rate_100': 0.7530990251062712, 'reg_lambda': 0.006634688407882125}. Best is trial 7 with value: 0.4452730269379373.\n"
     ]
    },
    {
     "name": "stdout",
     "output_type": "stream",
     "text": [
      "Training: accuracy: 80.764%, Validation: accuracy: 67.456%, Differences: [7.393825963537495, 12.80110546937469, 13.30873680633296], Score: 0.391 Step: 14\n"
     ]
    },
    {
     "name": "stderr",
     "output_type": "stream",
     "text": [
      "[I 2024-12-23 12:04:57,784] Trial 31 finished with value: -0.01687246415700127 and parameters: {'layer_size': 21, 'dropout_main': 0.4141832045910169, 'decay_rate_100': 0.7571011614838157, 'reg_lambda': 0.033961651811105685}. Best is trial 7 with value: 0.4452730269379373.\n"
     ]
    },
    {
     "name": "stdout",
     "output_type": "stream",
     "text": [
      "Training: accuracy: 54.012%, Validation: accuracy: 49.408%, Differences: [2.9814439069246745, 3.677109987206144, 4.6035403006556805], Score: -0.017 Step: 6\n"
     ]
    },
    {
     "name": "stderr",
     "output_type": "stream",
     "text": [
      "[I 2024-12-23 12:05:12,096] Trial 32 finished with value: 0.4841496598639457 and parameters: {'layer_size': 27, 'dropout_main': 0.3856724819734787, 'decay_rate_100': 0.6751000538440269, 'reg_lambda': 0.029791770100317812}. Best is trial 32 with value: 0.4841496598639457.\n"
     ]
    },
    {
     "name": "stdout",
     "output_type": "stream",
     "text": [
      "Training: accuracy: 77.597%, Validation: accuracy: 71.154%, Differences: [2.896234807292501, 3.23469734527427, 6.443282224532211], Score: 0.484 Step: 11\n"
     ]
    },
    {
     "name": "stderr",
     "output_type": "stream",
     "text": [
      "[I 2024-12-23 12:05:24,034] Trial 33 finished with value: 0.27436329345369215 and parameters: {'layer_size': 27, 'dropout_main': 0.37275782954914005, 'decay_rate_100': 0.6653263249512762, 'reg_lambda': 0.027104138073478973}. Best is trial 32 with value: 0.4841496598639457.\n"
     ]
    },
    {
     "name": "stdout",
     "output_type": "stream",
     "text": [
      "Training: accuracy: 69.426%, Validation: accuracy: 61.243%, Differences: [1.6373390772429204, 4.952872621141857, 8.183072125379816], Score: 0.274 Step: 9\n"
     ]
    },
    {
     "name": "stderr",
     "output_type": "stream",
     "text": [
      "[I 2024-12-23 12:05:33,581] Trial 34 finished with value: 0.19250793460086713 and parameters: {'layer_size': 27, 'dropout_main': 0.5303835666733524, 'decay_rate_100': 0.6844442869334141, 'reg_lambda': 0.0168160874202243}. Best is trial 32 with value: 0.4841496598639457.\n"
     ]
    },
    {
     "name": "stdout",
     "output_type": "stream",
     "text": [
      "Training: accuracy: 62.394%, Validation: accuracy: 57.396%, Differences: [0.06259495442187557, 0.521499680153525, 4.997975971533663], Score: 0.193 Step: 7\n"
     ]
    },
    {
     "name": "stderr",
     "output_type": "stream",
     "text": [
      "[I 2024-12-23 12:05:46,321] Trial 35 finished with value: 0.30385595506358654 and parameters: {'layer_size': 24, 'dropout_main': 0.3320094151090649, 'decay_rate_100': 0.6318524904048355, 'reg_lambda': 0.001072008675806077}. Best is trial 32 with value: 0.4841496598639457.\n"
     ]
    },
    {
     "name": "stdout",
     "output_type": "stream",
     "text": [
      "Training: accuracy: 72.023%, Validation: accuracy: 62.722%, Differences: [1.6965606508875766, 2.647229329921643, 9.300910562929786], Score: 0.304 Step: 10\n"
     ]
    },
    {
     "name": "stderr",
     "output_type": "stream",
     "text": [
      "[I 2024-12-23 12:06:09,137] Trial 36 finished with value: 0.404962630200603 and parameters: {'layer_size': 12, 'dropout_main': 0.3867298793618266, 'decay_rate_100': 0.6552540232111504, 'reg_lambda': 0.008922335371877041}. Best is trial 32 with value: 0.4841496598639457.\n"
     ]
    },
    {
     "name": "stdout",
     "output_type": "stream",
     "text": [
      "Training: accuracy: 75.760%, Validation: accuracy: 67.456%, Differences: [1.756281984647373, 3.339896849512243, 8.304513833359977], Score: 0.405 Step: 19\n"
     ]
    },
    {
     "name": "stderr",
     "output_type": "stream",
     "text": [
      "[I 2024-12-23 12:06:24,776] Trial 37 finished with value: 0.4040034028184929 and parameters: {'layer_size': 27, 'dropout_main': 0.3544237638330804, 'decay_rate_100': 0.36990812083645236, 'reg_lambda': 0.013787591019694772}. Best is trial 32 with value: 0.4841496598639457.\n"
     ]
    },
    {
     "name": "stdout",
     "output_type": "stream",
     "text": [
      "Training: accuracy: 76.077%, Validation: accuracy: 67.456%, Differences: [1.4180693267231703, 5.219994402686723, 8.62123680633296], Score: 0.404 Step: 12\n"
     ]
    },
    {
     "name": "stderr",
     "output_type": "stream",
     "text": [
      "[I 2024-12-23 12:06:40,544] Trial 38 finished with value: 0.31216293862080785 and parameters: {'layer_size': 18, 'dropout_main': 0.4825369311705541, 'decay_rate_100': 0.5861849698899224, 'reg_lambda': 0.032898032035394244}. Best is trial 32 with value: 0.4841496598639457.\n"
     ]
    },
    {
     "name": "stdout",
     "output_type": "stream",
     "text": [
      "Training: accuracy: 74.367%, Validation: accuracy: 63.314%, Differences: [7.337478010554939, 9.068272229329928, 11.052944586598429], Score: 0.312 Step: 13\n"
     ]
    },
    {
     "name": "stderr",
     "output_type": "stream",
     "text": [
      "[I 2024-12-23 12:06:54,154] Trial 39 finished with value: 0.3590756387884153 and parameters: {'layer_size': 25, 'dropout_main': 0.43036375247587094, 'decay_rate_100': 0.7105850716040997, 'reg_lambda': 0.04834367217844489}. Best is trial 32 with value: 0.4841496598639457.\n"
     ]
    },
    {
     "name": "stdout",
     "output_type": "stream",
     "text": [
      "Training: accuracy: 68.877%, Validation: accuracy: 64.645%, Differences: [0.24313329601791622, 1.4019520630097446, 4.2317187749880105], Score: 0.359 Step: 10\n"
     ]
    },
    {
     "name": "stderr",
     "output_type": "stream",
     "text": [
      "[I 2024-12-23 12:07:16,029] Trial 40 finished with value: 0.4856817686400011 and parameters: {'layer_size': 28, 'dropout_main': 0.6244523939342852, 'decay_rate_100': 0.5390928261355599, 'reg_lambda': 0.025823344793140884}. Best is trial 40 with value: 0.4856817686400011.\n"
     ]
    },
    {
     "name": "stdout",
     "output_type": "stream",
     "text": [
      "Training: accuracy: 79.096%, Validation: accuracy: 71.450%, Differences: [3.0640292659523425, 6.29560311050696, 7.64657964177195], Score: 0.486 Step: 17\n"
     ]
    },
    {
     "name": "stderr",
     "output_type": "stream",
     "text": [
      "[I 2024-12-23 12:07:30,821] Trial 41 finished with value: 0.040418053613709405 and parameters: {'layer_size': 28, 'dropout_main': 0.649189076152828, 'decay_rate_100': 0.5393311350823233, 'reg_lambda': 0.02676940149202022}. Best is trial 40 with value: 0.4856817686400011.\n"
     ]
    },
    {
     "name": "stdout",
     "output_type": "stream",
     "text": [
      "Training: accuracy: 57.728%, Validation: accuracy: 51.479%, Differences: [0.9093135295058374, 4.265202702702702, 6.248750599712139], Score: 0.040 Step: 11\n"
     ]
    },
    {
     "name": "stderr",
     "output_type": "stream",
     "text": [
      "[I 2024-12-23 12:07:41,854] Trial 42 finished with value: 0.11954948320085325 and parameters: {'layer_size': 26, 'dropout_main': 0.6217369072938492, 'decay_rate_100': 0.4191608830779374, 'reg_lambda': 0.018257005220960736}. Best is trial 40 with value: 0.4856817686400011.\n"
     ]
    },
    {
     "name": "stdout",
     "output_type": "stream",
     "text": [
      "Training: accuracy: 59.037%, Validation: accuracy: 54.438%, Differences: [0.27411842315688517, 2.213937310091154, 4.599292339676957], Score: 0.120 Step: 8\n"
     ]
    },
    {
     "name": "stderr",
     "output_type": "stream",
     "text": [
      "[I 2024-12-23 12:08:03,997] Trial 43 finished with value: 0.42177839796887406 and parameters: {'layer_size': 27, 'dropout_main': 0.5441384491682953, 'decay_rate_100': 0.6064326797108744, 'reg_lambda': 0.0038260661908476566}. Best is trial 40 with value: 0.4856817686400011.\n"
     ]
    },
    {
     "name": "stdout",
     "output_type": "stream",
     "text": [
      "Training: accuracy: 83.805%, Validation: accuracy: 69.231%, Differences: [8.280775227890615, 13.9630477370862, 14.57412941787942], Score: 0.422 Step: 17\n"
     ]
    },
    {
     "name": "stderr",
     "output_type": "stream",
     "text": [
      "[I 2024-12-23 12:08:16,142] Trial 44 finished with value: 0.1871062224022286 and parameters: {'layer_size': 27, 'dropout_main': 0.562482120104521, 'decay_rate_100': 0.609336884552594, 'reg_lambda': 0.006045234044713152}. Best is trial 40 with value: 0.4856817686400011.\n"
     ]
    },
    {
     "name": "stdout",
     "output_type": "stream",
     "text": [
      "Training: accuracy: 63.239%, Validation: accuracy: 57.249%, Differences: [4.3667789461058675, 4.534323524708142, 5.990499560211099], Score: 0.187 Step: 9\n"
     ]
    },
    {
     "name": "stderr",
     "output_type": "stream",
     "text": [
      "[I 2024-12-23 12:08:39,641] Trial 45 finished with value: 0.34581489264858273 and parameters: {'layer_size': 14, 'dropout_main': 0.6329510422645783, 'decay_rate_100': 0.5586723269152148, 'reg_lambda': 0.012850646674006991}. Best is trial 40 with value: 0.4856817686400011.\n"
     ]
    },
    {
     "name": "stdout",
     "output_type": "stream",
     "text": [
      "Training: accuracy: 77.407%, Validation: accuracy: 65.089%, Differences: [4.480474372301288, 5.957765272669121, 12.318337198144889], Score: 0.346 Step: 21\n"
     ]
    },
    {
     "name": "stderr",
     "output_type": "stream",
     "text": [
      "[I 2024-12-23 12:08:53,761] Trial 46 finished with value: 0.4280990132188115 and parameters: {'layer_size': 24, 'dropout_main': 0.5198032567424113, 'decay_rate_100': 0.7351867439019196, 'reg_lambda': 0.0027703916352868102}. Best is trial 40 with value: 0.4856817686400011.\n"
     ]
    },
    {
     "name": "stdout",
     "output_type": "stream",
     "text": [
      "Training: accuracy: 70.840%, Validation: accuracy: 67.751%, Differences: [1.8652296897489293, 2.6046247801055387, 3.088892331680796], Score: 0.428 Step: 11\n"
     ]
    },
    {
     "name": "stderr",
     "output_type": "stream",
     "text": [
      "[I 2024-12-23 12:09:09,087] Trial 47 finished with value: 0.252205706947237 and parameters: {'layer_size': 24, 'dropout_main': 0.5123332908047931, 'decay_rate_100': 0.7379821659051112, 'reg_lambda': 0.022099228260270356}. Best is trial 40 with value: 0.4856817686400011.\n"
     ]
    },
    {
     "name": "stdout",
     "output_type": "stream",
     "text": [
      "Training: accuracy: 69.658%, Validation: accuracy: 60.355%, Differences: [1.4689199184391484, 4.3806472893011374, 9.302909603390376], Score: 0.252 Step: 12\n"
     ]
    },
    {
     "name": "stderr",
     "output_type": "stream",
     "text": [
      "[I 2024-12-23 12:09:23,237] Trial 48 finished with value: 0.30759354646460346 and parameters: {'layer_size': 23, 'dropout_main': 0.4918094839224133, 'decay_rate_100': 0.33940819141815637, 'reg_lambda': 0.03774892015687607}. Best is trial 40 with value: 0.4856817686400011.\n"
     ]
    },
    {
     "name": "stdout",
     "output_type": "stream",
     "text": [
      "Training: accuracy: 73.374%, Validation: accuracy: 63.018%, Differences: [1.6124760115144596, 6.173536702382862, 10.356403926115462], Score: 0.308 Step: 11\n"
     ]
    },
    {
     "name": "stderr",
     "output_type": "stream",
     "text": [
      "[I 2024-12-23 12:09:36,503] Trial 49 finished with value: 0.3361712013337523 and parameters: {'layer_size': 25, 'dropout_main': 0.5789898918762201, 'decay_rate_100': 0.6952687736396503, 'reg_lambda': 0.025147975764693742}. Best is trial 40 with value: 0.4856817686400011.\n"
     ]
    },
    {
     "name": "stdout",
     "output_type": "stream",
     "text": [
      "Training: accuracy: 73.142%, Validation: accuracy: 64.201%, Differences: [2.436205621301781, 3.787806852710702, 8.94070845993923], Score: 0.336 Step: 10\n",
      "Number of finished trials:  50\n"
     ]
    }
   ],
   "source": [
    "from optuna.samplers import TPESampler\n",
    "\n",
    "# pruner = optuna.pruners.MedianPruner()\n",
    "# pruner = CustomPruner()\n",
    "sampler = TPESampler()\n",
    "\n",
    "study = optuna.create_study(directions=[\"maximize\"], sampler=sampler)\n",
    "study.optimize(objective, n_trials=50)\n",
    "\n",
    "print(\"Number of finished trials: \", len(study.trials))"
   ]
  }
 ],
 "metadata": {
  "kernelspec": {
   "display_name": "pawel",
   "language": "python",
   "name": "python3"
  },
  "language_info": {
   "codemirror_mode": {
    "name": "ipython",
    "version": 3
   },
   "file_extension": ".py",
   "mimetype": "text/x-python",
   "name": "python",
   "nbconvert_exporter": "python",
   "pygments_lexer": "ipython3",
   "version": "3.9.21"
  }
 },
 "nbformat": 4,
 "nbformat_minor": 2
}
