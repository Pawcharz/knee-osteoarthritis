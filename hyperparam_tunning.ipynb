{
 "cells": [
  {
   "cell_type": "markdown",
   "metadata": {},
   "source": [
    "### Import Dependencies"
   ]
  },
  {
   "cell_type": "code",
   "execution_count": 1,
   "metadata": {},
   "outputs": [],
   "source": [
    "import random\n",
    "random.seed(0)"
   ]
  },
  {
   "cell_type": "code",
   "execution_count": 2,
   "metadata": {},
   "outputs": [],
   "source": [
    "import torch\n",
    "import torch.nn as nn\n",
    "import torchvision\n",
    "from torchvision import transforms\n",
    "\n",
    "import optuna"
   ]
  },
  {
   "cell_type": "markdown",
   "metadata": {},
   "source": [
    "### Constant Variables"
   ]
  },
  {
   "cell_type": "code",
   "execution_count": 3,
   "metadata": {},
   "outputs": [],
   "source": [
    "DATASET_PATH = './knee-osteoarthritis_2'\n",
    "\n",
    "TRAIN_PATH = f'{DATASET_PATH}/train'\n",
    "VAL_PATH = f'{DATASET_PATH}/val'\n",
    "TEST_PATH = f'{DATASET_PATH}/test'"
   ]
  },
  {
   "cell_type": "code",
   "execution_count": null,
   "metadata": {},
   "outputs": [],
   "source": [
    "device = 'cuda' if torch.cuda.is_available() else 'cpu'\n",
    "\n",
    "print(device)"
   ]
  },
  {
   "cell_type": "code",
   "execution_count": 5,
   "metadata": {},
   "outputs": [],
   "source": [
    "classes = range(4)"
   ]
  },
  {
   "cell_type": "markdown",
   "metadata": {},
   "source": [
    "### Dataset Preparation"
   ]
  },
  {
   "cell_type": "code",
   "execution_count": 6,
   "metadata": {},
   "outputs": [],
   "source": [
    "from src.dataset.augmented_dataset import get_KneeOsteoarthritis_Edges, KneeOsteoarthritis_Edges\n",
    "\n",
    "transform_toTensor = transforms.Compose([transforms.ToTensor()])\n",
    "\n",
    "train_dataset = torchvision.datasets.ImageFolder(TRAIN_PATH, transform_toTensor)\n",
    "val_dataset = torchvision.datasets.ImageFolder(VAL_PATH, transform_toTensor)\n",
    "test_dataset = torchvision.datasets.ImageFolder(TEST_PATH, transform_toTensor)\n",
    "\n",
    "dataset_all = torch.utils.data.ConcatDataset([train_dataset, val_dataset, test_dataset])\n",
    "\n",
    "train_dataset, val_dataset, test_dataset = torch.utils.data.random_split(dataset_all, [0.7, 0.1, 0.2])\n",
    "\n",
    "train_dataset = KneeOsteoarthritis_Edges(train_dataset)\n",
    "val_dataset = KneeOsteoarthritis_Edges(val_dataset)\n",
    "test_dataset = KneeOsteoarthritis_Edges(test_dataset)"
   ]
  },
  {
   "cell_type": "code",
   "execution_count": null,
   "metadata": {},
   "outputs": [],
   "source": [
    "print(len(train_dataset), len(val_dataset), len(test_dataset))"
   ]
  },
  {
   "cell_type": "markdown",
   "metadata": {},
   "source": [
    "### Data Loaders"
   ]
  },
  {
   "cell_type": "code",
   "execution_count": 8,
   "metadata": {},
   "outputs": [],
   "source": [
    "from torch.utils.data import DataLoader\n",
    "\n",
    "BATCH_SIZE = 128\n",
    "\n",
    "train_loader = DataLoader(train_dataset, batch_size=BATCH_SIZE, shuffle=True)\n",
    "val_loader = DataLoader(val_dataset, batch_size=BATCH_SIZE, shuffle=True)\n",
    "test_loader = DataLoader(test_dataset, batch_size=BATCH_SIZE, shuffle=True)"
   ]
  },
  {
   "cell_type": "markdown",
   "metadata": {},
   "source": [
    "## Optuna"
   ]
  },
  {
   "cell_type": "code",
   "execution_count": 9,
   "metadata": {},
   "outputs": [],
   "source": [
    "def define_model(trial, layer_size, dropout_main):\n",
    "    class IntermediarySpaceModel(nn.Module):\n",
    "        def __init__(self, train_device, num_classes: int = 5, dropout: float = 0.5) -> None:\n",
    "            super().__init__()\n",
    "            \n",
    "            # Size of layer block\n",
    "            \n",
    "            S = layer_size\n",
    "            # S = trial.suggest_int(\"layer_size\", 12, 24)\n",
    "            self.train_device = train_device\n",
    "            \n",
    "            # Images\n",
    "            self.imagesClassifier = nn.Sequential(\n",
    "                nn.Conv2d(3, S*2, kernel_size=11, stride=4, padding=2),\n",
    "                nn.ReLU(inplace=True),\n",
    "                nn.MaxPool2d(kernel_size=3, stride=2),\n",
    "                nn.Dropout(p=dropout*0.2),\n",
    "                nn.Conv2d(S*2, S*2, kernel_size=5, padding=2),\n",
    "                nn.ReLU(inplace=True),\n",
    "                nn.MaxPool2d(kernel_size=3, stride=2),\n",
    "                nn.Dropout(p=dropout*0.4),\n",
    "                nn.Conv2d(S*2, S*2, kernel_size=3, padding=1),\n",
    "                nn.ReLU(inplace=True),\n",
    "                nn.Dropout(p=dropout*0.6),\n",
    "                nn.Conv2d(S*2, S, kernel_size=3, padding=1),\n",
    "                nn.ReLU(inplace=True),\n",
    "                nn.MaxPool2d(kernel_size=3, stride=2),\n",
    "                \n",
    "                nn.Flatten(),\n",
    "                nn.Dropout(p=dropout*0.8),\n",
    "                nn.Linear(S * 7 * 7, S*2),\n",
    "            )\n",
    "\n",
    "            self.edgesClassifier = nn.Sequential(\n",
    "                nn.Conv2d(1, S*2, kernel_size=11, stride=4, padding=2),\n",
    "                nn.ReLU(inplace=True),\n",
    "                nn.MaxPool2d(kernel_size=3, stride=2),\n",
    "                nn.Dropout(p=dropout*0.4),\n",
    "                nn.Conv2d(S*2, S*2, kernel_size=5, padding=2),\n",
    "                nn.ReLU(inplace=True),\n",
    "                nn.MaxPool2d(kernel_size=3, stride=2),\n",
    "                nn.Dropout(p=dropout*0.6),\n",
    "                nn.Conv2d(S*2, S, kernel_size=3, padding=1),\n",
    "                nn.ReLU(inplace=True),\n",
    "                nn.MaxPool2d(kernel_size=3, stride=2),\n",
    "                \n",
    "                nn.Flatten(),\n",
    "                nn.Dropout(p=dropout*0.8),\n",
    "                nn.Linear(S * 6 * 6, S*2),\n",
    "            )\n",
    "            \n",
    "            self.outputCombiner = nn.Sequential(\n",
    "                nn.ReLU(inplace=True),\n",
    "                nn.Dropout(p=dropout),\n",
    "                nn.Linear(S*4, S*3),\n",
    "                nn.ReLU(inplace=True),\n",
    "                nn.Dropout(p=dropout),\n",
    "                nn.Linear(S*3, S),\n",
    "                nn.ReLU(inplace=True),\n",
    "                nn.Dropout(p=dropout),\n",
    "                nn.Linear(S, num_classes),\n",
    "            )\n",
    "            \n",
    "        def forward(self, data: tuple) -> torch.Tensor:\n",
    "            \n",
    "            images, edges = data\n",
    "            \n",
    "            images = images.to(self.train_device)\n",
    "            edges = edges.to(self.train_device)\n",
    "            \n",
    "            # Images\n",
    "            images = self.imagesClassifier(images)\n",
    "            \n",
    "            # Edges\n",
    "            edges = self.edgesClassifier(edges)\n",
    "            \n",
    "            # Combining outputs\n",
    "            concated = torch.cat((images, edges), 1)\n",
    "            res = self.outputCombiner(concated)\n",
    "            \n",
    "            return res\n",
    "\n",
    "    # DROPOUT_MAIN = trial.suggest_float(\"dropout_main\", 0.3, 0.7)\n",
    "    model = IntermediarySpaceModel(device, 4, dropout_main)\n",
    "    model = model.to(device)\n",
    "    \n",
    "    return model\n"
   ]
  },
  {
   "cell_type": "code",
   "execution_count": null,
   "metadata": {},
   "outputs": [],
   "source": [
    "import torch.optim as optim\n",
    "from src.other import get_classes_frequencies\n",
    "    \n",
    "class_weights = get_classes_frequencies(train_dataset)\n",
    "weights_tensor = torch.Tensor(list(class_weights.values())).to(device)\n",
    "print(class_weights, weights_tensor)\n",
    "\n",
    "criterion = nn.CrossEntropyLoss(weights_tensor)"
   ]
  },
  {
   "cell_type": "code",
   "execution_count": 11,
   "metadata": {},
   "outputs": [],
   "source": [
    "EXP_NAME = \"confusion_matrix_test\"\n",
    "\n",
    "from torch.utils.tensorboard import SummaryWriter\n",
    "\n",
    "# logger = SummaryWriter(log_dir=f\"logs/test/{EXP_NAME}\")\n",
    "logger = SummaryWriter(log_dir=f\"logs/test\")"
   ]
  },
  {
   "cell_type": "code",
   "execution_count": 12,
   "metadata": {},
   "outputs": [],
   "source": [
    "from src.training import Trainer\n",
    "    \n",
    "def objective(trial):\n",
    "    # Hyperparameters\n",
    "    layer_size = trial.suggest_int(\"layer_size\", 8, 28)\n",
    "    dropout_main = trial.suggest_float(\"dropout_main\", 0.3, 0.7)\n",
    "    initial_lr = 0.001\n",
    "    lr_decay_rate_100 = trial.suggest_float(\"decay_rate_100\", 0.3, 0.8)\n",
    "    reg_type = \"L2\"\n",
    "    reg_lambda = trial.suggest_float(\"reg_lambda\", 0.0001, 0.1)\n",
    "    \n",
    "    hparams = {\n",
    "      \"layer_size\": layer_size,\n",
    "      \"dropout_main\": dropout_main,\n",
    "      \"initial_lr\": initial_lr,\n",
    "      \"lr_decay_rate_100\": lr_decay_rate_100,\n",
    "      \"reg_type\": reg_type,\n",
    "      \"reg_lambda\": reg_lambda,\n",
    "    }\n",
    "    \n",
    "    # Model\n",
    "    model = define_model(trial, layer_size, dropout_main)\n",
    "    \n",
    "    # Optimizer\n",
    "    optimizer = optim.Adam(model.parameters(), lr=initial_lr)\n",
    "    \n",
    "    # lr scheduler\n",
    "    lr_decay_rate_1 = lr_decay_rate_100**(1/100)\n",
    "    lr_scheduler = torch.optim.lr_scheduler.ExponentialLR(optimizer=optimizer, gamma=lr_decay_rate_1)\n",
    "    \n",
    "    # Trainer object\n",
    "    trainer = Trainer(\n",
    "      model=model,\n",
    "      classes=classes,\n",
    "      train_loader=train_loader,\n",
    "      val_loader=val_loader,\n",
    "      criterion=criterion,\n",
    "      optimizer=optimizer,\n",
    "      device=device,\n",
    "      lr_scheduler=lr_scheduler,\n",
    "      reg_type=reg_type,\n",
    "      reg_lambda=0.01,\n",
    "      # tensorboard_logger=logger\n",
    "    )\n",
    "\n",
    "        \n",
    "    # Training loop\n",
    "    tAccuracy, tLoss, vAccuracy, vLoss = 0, 0, 0, 0\n",
    "    \n",
    "    val_accuracy_midpoint = 60\n",
    "    relDifference = None\n",
    "    \n",
    "    for step in range(40):\n",
    "      tAccuracy, tLoss, vAccuracy, vLoss, _ = trainer.train_single()\n",
    "      difference = tAccuracy - vAccuracy\n",
    "      relDifference = difference * (vAccuracy-val_accuracy_midpoint) / 100\n",
    "\n",
    "      trial.report(relDifference, step)\n",
    "      \n",
    "      if trial.should_prune():\n",
    "        print(f'Training: accuracy: {tAccuracy:.3f}%, Validation: accuracy: {vAccuracy:.3f}%, relDifference: {relDifference:.3f}')\n",
    "        raise optuna.TrialPruned()\n",
    "    \n",
    "    print(f'Training: accuracy: {tAccuracy:.3f}%, Validation: accuracy: {vAccuracy:.3f}%')\n",
    "    \n",
    "    logger.add_hparams(hparams, {'hparam/tAccuracy': tAccuracy, 'hparam/vAccuracy': vAccuracy, 'relDifference': relDifference}, run_name=f\"Trial_nr_{trial.number}\")\n",
    "    \n",
    "    return relDifference"
   ]
  },
  {
   "cell_type": "code",
   "execution_count": null,
   "metadata": {},
   "outputs": [],
   "source": [
    "from optuna.samplers import TPESampler\n",
    "\n",
    "pruner = optuna.pruners.MedianPruner()\n",
    "sampler = TPESampler()\n",
    "\n",
    "study = optuna.create_study(directions=[\"maximize\"], sampler=sampler, pruner=pruner)\n",
    "study.optimize(objective, n_trials=120)\n",
    "\n",
    "print(\"Number of finished trials: \", len(study.trials))"
   ]
  }
 ],
 "metadata": {
  "kernelspec": {
   "display_name": "pawel",
   "language": "python",
   "name": "python3"
  },
  "language_info": {
   "codemirror_mode": {
    "name": "ipython",
    "version": 3
   },
   "file_extension": ".py",
   "mimetype": "text/x-python",
   "name": "python",
   "nbconvert_exporter": "python",
   "pygments_lexer": "ipython3",
   "version": "3.9.21"
  }
 },
 "nbformat": 4,
 "nbformat_minor": 2
}
