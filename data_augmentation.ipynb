{
 "cells": [
  {
   "cell_type": "code",
   "execution_count": null,
   "metadata": {},
   "outputs": [],
   "source": [
    "import torch\n",
    "import torchvision\n",
    "from torchvision import transforms\n",
    "from torchvision.transforms import v2"
   ]
  },
  {
   "cell_type": "code",
   "execution_count": 2,
   "metadata": {},
   "outputs": [],
   "source": [
    "DATASET_PATH = './knee-osteoarthritis'"
   ]
  },
  {
   "cell_type": "code",
   "execution_count": 3,
   "metadata": {},
   "outputs": [],
   "source": [
    "TRAIN_PATH = f'{DATASET_PATH}/train'\n",
    "VAL_PATH = f'{DATASET_PATH}/val'\n",
    "TEST_PATH = f'{DATASET_PATH}/test'\n",
    "AUTO_TEST_PATH = f'{DATASET_PATH}/auto_test'"
   ]
  },
  {
   "cell_type": "code",
   "execution_count": 4,
   "metadata": {},
   "outputs": [],
   "source": [
    "transform_toTensor = transforms.Compose([transforms.ToTensor()])"
   ]
  },
  {
   "cell_type": "code",
   "execution_count": 5,
   "metadata": {},
   "outputs": [],
   "source": [
    "train = torchvision.datasets.ImageFolder(TRAIN_PATH, transform_toTensor)\n",
    "val = torchvision.datasets.ImageFolder(VAL_PATH, transform_toTensor)\n",
    "# test = torchvision.datasets.ImageFolder(TEST_PATH, transform_toTensor)\n",
    "# auto_test = torchvision.datasets.ImageFolder(AUTO_TEST_PATH, transform_toTensor)"
   ]
  },
  {
   "cell_type": "code",
   "execution_count": null,
   "metadata": {},
   "outputs": [],
   "source": [
    "print(len(train))\n",
    "print(len(val))\n",
    "# print(len(test))\n",
    "# print(len(auto_test))"
   ]
  },
  {
   "cell_type": "markdown",
   "metadata": {},
   "source": [
    "### Augmentation "
   ]
  },
  {
   "cell_type": "code",
   "execution_count": 7,
   "metadata": {},
   "outputs": [],
   "source": [
    "import cv2\n",
    "import numpy as np"
   ]
  },
  {
   "cell_type": "markdown",
   "metadata": {},
   "source": [
    "#### Edges"
   ]
  },
  {
   "cell_type": "code",
   "execution_count": 8,
   "metadata": {},
   "outputs": [],
   "source": [
    "sobel_y_1 = np.array([\n",
    "    [-1, -1, -1],\n",
    "    [0, 0, 0],\n",
    "    [1, 1, 1],\n",
    "])\n",
    "sobel_y_2 = sobel_y_1 * -1\n",
    "\n",
    "def getAugmentationEdges(image):\n",
    "    grayscaled = cv2.cvtColor(image, cv2.COLOR_BGR2GRAY)\n",
    "    \n",
    "    # Apply two filters, upper and lower for different bones\n",
    "    edges_1 = cv2.filter2D(grayscaled, -1, sobel_y_1)\n",
    "    edges_2 = cv2.filter2D(grayscaled, -1, sobel_y_2)\n",
    "\n",
    "    # Cutout noisy background \n",
    "    _, edges_1 = cv2.threshold(edges_1, 10, 255, cv2.THRESH_TOZERO)\n",
    "    _, edges_2 = cv2.threshold(edges_2, 10, 255, cv2.THRESH_TOZERO)\n",
    "\n",
    "    edges = edges_1 + edges_2\n",
    "\n",
    "    max_brightness = edges.max()\n",
    "\n",
    "    # Normalize color\n",
    "    edges = cv2.convertScaleAbs(edges, alpha = 255/max_brightness, beta = 0)\n",
    "\n",
    "    return edges"
   ]
  },
  {
   "cell_type": "markdown",
   "metadata": {},
   "source": [
    "### Building Dataset"
   ]
  },
  {
   "cell_type": "code",
   "execution_count": null,
   "metadata": {},
   "outputs": [],
   "source": [
    "example_img = train[0][0]\n",
    "# print(example_img)\n",
    "print(example_img.shape)"
   ]
  },
  {
   "cell_type": "code",
   "execution_count": 10,
   "metadata": {},
   "outputs": [],
   "source": [
    "transform_baseImage = v2.Compose([\n",
    "    v2.Resize(256),\n",
    "    v2.CenterCrop(256),\n",
    "    v2.Normalize(mean=[0.485, 0.456, 0.406],\n",
    "                         std=[0.229, 0.224, 0.225] )\n",
    "])\n",
    "\n",
    "transform_edgesImage = v2.Compose([\n",
    "    v2.ToDtype(torch.float),\n",
    "    # v2.Resize(256),\n",
    "    # v2.CenterCrop(256),\n",
    "    v2.Normalize(mean=[0.449], std=[0.226])\n",
    "])"
   ]
  },
  {
   "cell_type": "code",
   "execution_count": 11,
   "metadata": {},
   "outputs": [],
   "source": [
    "\n",
    "from torch.utils.data import Dataset, DataLoader\n",
    "\n",
    "class KneeOsteoarthritis(Dataset):\n",
    "    def __init__(self, dataset):\n",
    "        self.images = []\n",
    "        self.edges_images = []\n",
    "        self.labels = []\n",
    "        \n",
    "        for data in dataset:\n",
    "            image = data[0]\n",
    "            image_agmentation = image.numpy()*255\n",
    "            image_agmentation = np.moveaxis(image_agmentation, 0, -1)\n",
    "            edges_image = getAugmentationEdges(image_agmentation)\n",
    "            # print(image.shape, image_agmentation.shape, edges_image.shape)\n",
    "            edges_image = torch.tensor(edges_image)\n",
    "            label = data[1]\n",
    "            \n",
    "            image = transform_baseImage(image)\n",
    "            # print(image.shape, edges_image.shape)\n",
    "            edges_image = transform_edgesImage(edges_image.unsqueeze(0))\n",
    "            \n",
    "            self.images.append(image)\n",
    "            self.edges_images.append(edges_image)            \n",
    "            self.labels.append(label)\n",
    "            \n",
    "    def __len__(self):\n",
    "        return len(self.images)\n",
    "    \n",
    "    def __getitem__(self, idx):\n",
    "        image = self.images[idx]\n",
    "        edges_image = self.edges_images[idx]\n",
    "        label = self.labels[idx]\n",
    "        \n",
    "        return image, edges_image, label"
   ]
  },
  {
   "cell_type": "code",
   "execution_count": null,
   "metadata": {},
   "outputs": [],
   "source": [
    "train_dataset = KneeOsteoarthritis(train)\n",
    "val_dataset = KneeOsteoarthritis(val)\n",
    "# test_dataset = KneeOsteoarthritis(test)\n",
    "# auto_test_dataset = KneeOsteoarthritis(auto_test)"
   ]
  },
  {
   "cell_type": "code",
   "execution_count": 13,
   "metadata": {},
   "outputs": [],
   "source": [
    "import matplotlib.pyplot as plt\n",
    "import numpy as np\n",
    "\n",
    "# functions to show an image\n",
    "def imshow(img):\n",
    "    img = img / 2 + 0.5     # unnormalize\n",
    "    npimg = img.numpy()\n",
    "    plt.imshow(np.transpose(npimg, (1, 2, 0)), cmap='gray')\n",
    "    plt.show()"
   ]
  },
  {
   "cell_type": "code",
   "execution_count": null,
   "metadata": {},
   "outputs": [],
   "source": [
    "row = train_dataset[1]\n",
    "normal_ex = row[0]\n",
    "augmented_ex = row[1]\n",
    "print(normal_ex.shape, augmented_ex.shape)\n",
    "\n",
    "\n",
    "imshow(normal_ex)\n",
    "imshow(augmented_ex)"
   ]
  },
  {
   "cell_type": "markdown",
   "metadata": {},
   "source": [
    "### Configuring loader"
   ]
  },
  {
   "cell_type": "code",
   "execution_count": 15,
   "metadata": {},
   "outputs": [],
   "source": [
    "from collections import Counter"
   ]
  },
  {
   "cell_type": "code",
   "execution_count": 16,
   "metadata": {},
   "outputs": [],
   "source": [
    "\n",
    "def get_Class_Frequency(dataset):\n",
    "  freq_table = dict(Counter(dataset.labels))\n",
    "  return freq_table\n",
    "\n",
    "def build_Sampler(dataset):\n",
    "  freq_table = get_Class_Frequency(dataset)\n",
    "  least_class_frequency = min(freq_table.values())\n",
    "\n",
    "  normalized_freq = dict(freq_table)\n",
    "  for i, val in enumerate(normalized_freq.values()):\n",
    "    normalized_freq[i] = val / len(dataset.labels)\n",
    "    \n",
    "  print(normalized_freq, least_class_frequency)\n",
    "  \n",
    "  weights = np.zeros(len(dataset.labels))\n",
    "  for i, weight in enumerate(weights):\n",
    "    label = dataset.labels[i]\n",
    "    weights[i] = 1 / freq_table[label]\n",
    "      \n",
    "  # print(weights)\n",
    "  samples_weight = torch.from_numpy(weights)\n",
    "  samples_weigth = samples_weight.double()\n",
    "  sampler = torch.utils.data.WeightedRandomSampler(samples_weight, len(samples_weight))\n",
    "  \n",
    "  return sampler"
   ]
  },
  {
   "cell_type": "code",
   "execution_count": null,
   "metadata": {},
   "outputs": [],
   "source": [
    "train_sampler = build_Sampler(train_dataset)\n",
    "val_sampler = build_Sampler(val_dataset)"
   ]
  },
  {
   "cell_type": "code",
   "execution_count": 18,
   "metadata": {},
   "outputs": [],
   "source": [
    "# train_loader = torch.utils.data.DataLoader(train_dataset, batch_size=16, sampler=train_sampler)\n",
    "# val_loader = torch.utils.data.DataLoader(val_dataset, batch_size=16, sampler=val_sampler)\n",
    "\n",
    "train_loader = torch.utils.data.DataLoader(train_dataset, batch_size=16, shuffle=True)\n",
    "val_loader = torch.utils.data.DataLoader(val_dataset, batch_size=16, shuffle=True)"
   ]
  },
  {
   "cell_type": "markdown",
   "metadata": {},
   "source": [
    "### Building Model"
   ]
  },
  {
   "cell_type": "code",
   "execution_count": null,
   "metadata": {},
   "outputs": [],
   "source": [
    "device = 'cuda' if torch.cuda.is_available() else 'cpu'\n",
    "\n",
    "print(device)"
   ]
  },
  {
   "cell_type": "code",
   "execution_count": 20,
   "metadata": {},
   "outputs": [],
   "source": [
    "import torch.nn as nn\n",
    "import torch.nn.functional as F\n",
    "\n",
    "from torchvision.models import resnet18, ResNet18_Weights\n",
    "\n",
    "class AugmentedModel(nn.Module):\n",
    "    def __init__(self, num_classes: int = 5, dropout: float = 0.5) -> None:\n",
    "        super().__init__()\n",
    "        \n",
    "        # weights = ResNet18_Weights.DEFAULT\n",
    "        # self.resnet18 = resnet18(weights=weights, progress=False)\n",
    "        \n",
    "        self.edgesClassifier = nn.Sequential(\n",
    "            nn.Conv2d(1, 64, kernel_size=11, stride=4, padding=2),\n",
    "            nn.ReLU(inplace=True),\n",
    "            nn.MaxPool2d(kernel_size=3, stride=2),\n",
    "            nn.Conv2d(64, 64, kernel_size=5, padding=2),\n",
    "            nn.Dropout(p=dropout*0.4),\n",
    "            nn.ReLU(inplace=True),\n",
    "            nn.MaxPool2d(kernel_size=3, stride=2),\n",
    "            nn.Dropout(p=dropout*0.6),\n",
    "            nn.Conv2d(64, 32, kernel_size=3, padding=1),\n",
    "            nn.ReLU(inplace=True),\n",
    "            nn.Dropout(p=dropout*0.8),\n",
    "            nn.MaxPool2d(kernel_size=3, stride=2),\n",
    "            \n",
    "            nn.Flatten(),\n",
    "            nn.Dropout(p=dropout),\n",
    "            nn.Linear(32 * 6 * 6, 64),\n",
    "            nn.ReLU(inplace=True),\n",
    "            nn.Dropout(p=dropout),\n",
    "            nn.Linear(64, num_classes),\n",
    "            # nn.ReLU(inplace=True),\n",
    "            # nn.Linear(64, num_classes),\n",
    "        )\n",
    "        \n",
    "        self.baseClassifier = nn.Sequential(\n",
    "            # nn.Dropout(p=dropout),\n",
    "            nn.Linear(1000, 256),\n",
    "            nn.ReLU(inplace=True),\n",
    "            # nn.Dropout(p=dropout),\n",
    "            nn.Linear(256, 128),\n",
    "            nn.ReLU(inplace=True),\n",
    "            nn.Linear(128, 64),\n",
    "            nn.ReLU(inplace=True),\n",
    "            nn.Linear(64, num_classes),\n",
    "        )\n",
    "        \n",
    "        self.outputCombiner = nn.Sequential(\n",
    "            nn.Linear(2 * num_classes, num_classes),\n",
    "        )\n",
    "\n",
    "    def forward(self, image: torch.Tensor, edges: torch.Tensor) -> torch.Tensor:\n",
    "        \n",
    "        out_edges = self.edgesClassifier(edges)\n",
    "        # print(out_edges.shape)\n",
    "        return out_edges\n",
    "        # out_edges = self.edgesClassifier(edges)\n",
    "      \n",
    "        # out_image = self.resnet18(image)\n",
    "        # out_image = self.baseClassifier(out_image)\n",
    "        \n",
    "        # concated = torch.cat((out_image, out_edges), 1)\n",
    "        \n",
    "        # res = self.outputCombiner(concated)\n",
    "        # return res\n",
    "      \n",
    "net = AugmentedModel(3, 0.5)\n",
    "net = net.to(device)"
   ]
  },
  {
   "cell_type": "markdown",
   "metadata": {},
   "source": [
    "### Freeze Resnet"
   ]
  },
  {
   "cell_type": "code",
   "execution_count": null,
   "metadata": {},
   "outputs": [],
   "source": [
    "# for param in net.resnet18.parameters():\n",
    "#     param.requires_grad = False"
   ]
  },
  {
   "cell_type": "code",
   "execution_count": null,
   "metadata": {},
   "outputs": [],
   "source": [
    "# print(sum(p.numel() for p in net.classifier.parameters()) ,sum(p.numel() for p in net.edgesClassifier.parameters()) )\n",
    "print(sum(p.numel() for p in net.parameters()))\n",
    "\n",
    "trainable_parameters = filter(lambda p: p.requires_grad, net.parameters())\n",
    "print(sum(p.numel() for p in trainable_parameters))"
   ]
  },
  {
   "cell_type": "markdown",
   "metadata": {},
   "source": [
    "### Setting up Model Training"
   ]
  },
  {
   "cell_type": "code",
   "execution_count": null,
   "metadata": {},
   "outputs": [],
   "source": [
    "import torch.optim as optim\n",
    "# criterion = nn.NLLLoss()\n",
    "\n",
    "class_weights = get_Class_Frequency(train_dataset)\n",
    "weights_tensor = torch.Tensor(list(class_weights.values())).to(device)\n",
    "print(weights_tensor, weights_tensor.dtype)\n",
    "\n",
    "criterion = nn.CrossEntropyLoss(weights_tensor)\n",
    "optimizer = optim.Adam(net.parameters(), lr=0.001)"
   ]
  },
  {
   "cell_type": "code",
   "execution_count": 25,
   "metadata": {},
   "outputs": [],
   "source": [
    "def get_lr(optimizer):\n",
    "  for param_group in optimizer.param_groups:\n",
    "    return param_group['lr']"
   ]
  },
  {
   "cell_type": "code",
   "execution_count": 26,
   "metadata": {},
   "outputs": [],
   "source": [
    "def validate(model):\n",
    "  with torch.no_grad():\n",
    "    epoch_correct = 0\n",
    "    epoch_samples = 0\n",
    "    running_loss = 0.0\n",
    "    \n",
    "    for i, data in enumerate(val_loader):\n",
    "      images, edges, labels = data\n",
    "      images = images.to(device)\n",
    "      edges = edges.to(device)\n",
    "      labels = labels.to(device)\n",
    "      \n",
    "      # forward + backward + optimize\n",
    "      outputs = model(images, edges)\n",
    "      loss = criterion(outputs, labels)\n",
    "      \n",
    "      # Changing outputs (logits) to labels\n",
    "      outputs_clear = outputs.max(1).indices\n",
    "      \n",
    "      epoch_correct += (outputs_clear == labels).float().sum()\n",
    "      epoch_samples += len(outputs)\n",
    "      \n",
    "      running_loss += loss.item()\n",
    "    \n",
    "    # print(epoch_correct, epoch_samples)\n",
    "    accuracy = epoch_correct / epoch_samples * 100\n",
    "    \n",
    "    return accuracy, running_loss / epoch_samples\n",
    "    "
   ]
  },
  {
   "cell_type": "code",
   "execution_count": 27,
   "metadata": {},
   "outputs": [],
   "source": [
    "from torchrl.record import TensorboardLogger\n",
    "\n",
    "logger = TensorboardLogger(exp_name=\"my_exp\")"
   ]
  },
  {
   "cell_type": "code",
   "execution_count": 28,
   "metadata": {},
   "outputs": [],
   "source": [
    "epochCounter = 0"
   ]
  },
  {
   "cell_type": "code",
   "execution_count": 29,
   "metadata": {},
   "outputs": [],
   "source": [
    "def train_many(model, epochs_nr, regularization_type = \"L2\", lambda_reg=0.01):\n",
    "    global epochCounter\n",
    "    for epoch in range(0, epochs_nr):  # loop over the dataset multiple times\n",
    "        epoch_correct = 0\n",
    "        epoch_samples = 0\n",
    "        running_loss = 0.0\n",
    "    \n",
    "        for i, data in enumerate(train_loader, 0):\n",
    "\n",
    "            # get the inputs; data is a list of [inputs, labels]\n",
    "            images, edges, labels = data\n",
    "            images = images.to(device)\n",
    "            edges = edges.to(device)\n",
    "            labels = labels.to(device)\n",
    "            \n",
    "            # zero the parameter gradients\n",
    "            optimizer.zero_grad()\n",
    "            \n",
    "            # forward + backward + optimize\n",
    "            outputs = model(images, edges)\n",
    "            loss = criterion(outputs, labels)\n",
    "            \n",
    "            # Apply L1 regularization\n",
    "            if regularization_type == 'L1':\n",
    "                l1_norm = sum(p.abs().sum() for p in model.parameters())\n",
    "                loss += lambda_reg * l1_norm\n",
    "                \n",
    "            # Apply L2 regularization\n",
    "            elif regularization_type == 'L2':\n",
    "                l2_norm = sum(p.pow(2).sum() for p in model.parameters())\n",
    "                loss += lambda_reg * l2_norm\n",
    "                \n",
    "            loss.backward()\n",
    "            \n",
    "            optimizer.step()\n",
    "            \n",
    "            # Changing outputs (logits) to labels\n",
    "            outputs_clear = outputs.max(1).indices\n",
    "            \n",
    "            epoch_correct += (outputs_clear == labels).float().sum()\n",
    "            epoch_samples += len(outputs)\n",
    "            \n",
    "            running_loss += loss.item()\n",
    "                \n",
    "        tAccuracy = epoch_correct / epoch_samples * 100\n",
    "        tLoss = running_loss / epoch_samples\n",
    "        \n",
    "        # Validation\n",
    "        vAccuracy, vLoss = validate(model)\n",
    "        \n",
    "        logger.log_scalar(\"learning_rate\", get_lr(optimizer), step=epochCounter)\n",
    "        \n",
    "        logger.log_scalar(\"train_acc\", tAccuracy, step=epochCounter)\n",
    "        logger.log_scalar(\"train_loss\", tLoss, step=epochCounter)\n",
    "        logger.log_scalar(\"val_acc\", vAccuracy, step=epochCounter)\n",
    "        logger.log_scalar(\"val_loss\", vLoss, step=epochCounter)\n",
    "        \n",
    "        print(f'Epoch {epochCounter}: Training: accuracy: {tAccuracy:.3f}%, loss: {tLoss:.3f}; Validation: accuracy: {vAccuracy:.3f}%, loss: {vLoss:.3f}')\n",
    "        \n",
    "        epochCounter += 1\n",
    "        \n",
    "    print('Finished Training')"
   ]
  },
  {
   "cell_type": "markdown",
   "metadata": {},
   "source": [
    "### Training Model"
   ]
  },
  {
   "cell_type": "code",
   "execution_count": 30,
   "metadata": {},
   "outputs": [],
   "source": [
    "# %load_ext tensorboard"
   ]
  },
  {
   "cell_type": "code",
   "execution_count": 31,
   "metadata": {},
   "outputs": [],
   "source": [
    "# %tensorboard --logdir logs/my_exp"
   ]
  },
  {
   "cell_type": "code",
   "execution_count": null,
   "metadata": {},
   "outputs": [],
   "source": [
    "train_many(net, 25, 'L2', 0.01)"
   ]
  },
  {
   "cell_type": "code",
   "execution_count": null,
   "metadata": {},
   "outputs": [],
   "source": [
    "train_many(net, 50, 'L2', 0.005)"
   ]
  },
  {
   "cell_type": "code",
   "execution_count": null,
   "metadata": {},
   "outputs": [],
   "source": [
    "train_many(net, 75, 200, 'L2', 0.0025)"
   ]
  }
 ],
 "metadata": {
  "kernelspec": {
   "display_name": "env_torch",
   "language": "python",
   "name": "python3"
  },
  "language_info": {
   "codemirror_mode": {
    "name": "ipython",
    "version": 3
   },
   "file_extension": ".py",
   "mimetype": "text/x-python",
   "name": "python",
   "nbconvert_exporter": "python",
   "pygments_lexer": "ipython3",
   "version": "3.10.13"
  }
 },
 "nbformat": 4,
 "nbformat_minor": 2
}
