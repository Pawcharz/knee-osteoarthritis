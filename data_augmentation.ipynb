{
 "cells": [
  {
   "cell_type": "code",
   "execution_count": null,
   "metadata": {},
   "outputs": [],
   "source": [
    "import torch\n",
    "import torchvision\n",
    "from torchvision import transforms\n",
    "from torchvision.transforms import v2"
   ]
  },
  {
   "cell_type": "code",
   "execution_count": null,
   "metadata": {},
   "outputs": [],
   "source": [
    "DATASET_PATH = './knee-osteoarthritis'"
   ]
  },
  {
   "cell_type": "code",
   "execution_count": null,
   "metadata": {},
   "outputs": [],
   "source": [
    "TRAIN_PATH = f'{DATASET_PATH}/train'\n",
    "VAL_PATH = f'{DATASET_PATH}/val'\n",
    "TEST_PATH = f'{DATASET_PATH}/test'\n",
    "AUTO_TEST_PATH = f'{DATASET_PATH}/auto_test'"
   ]
  },
  {
   "cell_type": "code",
   "execution_count": null,
   "metadata": {},
   "outputs": [],
   "source": [
    "transform_toTensor = transforms.Compose([transforms.ToTensor()])"
   ]
  },
  {
   "cell_type": "code",
   "execution_count": null,
   "metadata": {},
   "outputs": [],
   "source": [
    "train = torchvision.datasets.ImageFolder(TRAIN_PATH, transform_toTensor)\n",
    "# val = torchvision.datasets.ImageFolder(VAL_PATH, transform_toTensor)\n",
    "# test = torchvision.datasets.ImageFolder(TEST_PATH, transform_toTensor)\n",
    "# auto_test = torchvision.datasets.ImageFolder(AUTO_TEST_PATH, transform_toTensor)"
   ]
  },
  {
   "cell_type": "code",
   "execution_count": null,
   "metadata": {},
   "outputs": [],
   "source": [
    "print(len(train))\n",
    "# print(len(val))\n",
    "# print(len(test))\n",
    "# print(len(auto_test))"
   ]
  },
  {
   "cell_type": "markdown",
   "metadata": {},
   "source": [
    "### Augmentation "
   ]
  },
  {
   "cell_type": "code",
   "execution_count": null,
   "metadata": {},
   "outputs": [],
   "source": [
    "import cv2\n",
    "import numpy as np"
   ]
  },
  {
   "cell_type": "markdown",
   "metadata": {},
   "source": [
    "#### Edges"
   ]
  },
  {
   "cell_type": "code",
   "execution_count": null,
   "metadata": {},
   "outputs": [],
   "source": [
    "sobel_y_1 = np.array([\n",
    "    [-1, -1, -1],\n",
    "    [0, 0, 0],\n",
    "    [1, 1, 1],\n",
    "])\n",
    "sobel_y_2 = sobel_y_1 * -1\n",
    "\n",
    "def getAugmentationEdges(image):\n",
    "    grayscaled = cv2.cvtColor(image, cv2.COLOR_BGR2GRAY)\n",
    "    \n",
    "    # Apply two filters, upper and lower for different bones\n",
    "    edges_1 = cv2.filter2D(grayscaled, -1, sobel_y_1)\n",
    "    edges_2 = cv2.filter2D(grayscaled, -1, sobel_y_2)\n",
    "\n",
    "    # Cutout noisy background \n",
    "    _, edges_1 = cv2.threshold(edges_1, 10, 255, cv2.THRESH_TOZERO)\n",
    "    _, edges_2 = cv2.threshold(edges_2, 10, 255, cv2.THRESH_TOZERO)\n",
    "\n",
    "    edges = edges_1 + edges_2\n",
    "\n",
    "    max_brightness = edges.max()\n",
    "\n",
    "    # Normalize color\n",
    "    edges = cv2.convertScaleAbs(edges, alpha = 255/max_brightness, beta = 0)\n",
    "\n",
    "    return edges"
   ]
  },
  {
   "cell_type": "markdown",
   "metadata": {},
   "source": [
    "### Building Dataset"
   ]
  },
  {
   "cell_type": "code",
   "execution_count": null,
   "metadata": {},
   "outputs": [],
   "source": [
    "example_img = train[0][0]\n",
    "# print(example_img)\n",
    "print(example_img.shape)"
   ]
  },
  {
   "cell_type": "code",
   "execution_count": null,
   "metadata": {},
   "outputs": [],
   "source": [
    "transform_baseImage = v2.Compose([\n",
    "    v2.Resize(256),\n",
    "    v2.CenterCrop(256),\n",
    "    v2.Normalize(mean=[0.485, 0.456, 0.406],\n",
    "                         std=[0.229, 0.224, 0.225] )\n",
    "])\n",
    "\n",
    "transform_edgesImage = v2.Compose([\n",
    "    v2.ToDtype(torch.float),\n",
    "    # v2.Resize(256),\n",
    "    # v2.CenterCrop(256),\n",
    "    v2.Normalize(mean=[0.449], std=[0.226])\n",
    "])"
   ]
  },
  {
   "cell_type": "code",
   "execution_count": null,
   "metadata": {},
   "outputs": [],
   "source": [
    "\n",
    "from torch.utils.data import Dataset, DataLoader\n",
    "\n",
    "class KneeOsteoarthritis(Dataset):\n",
    "    def __init__(self, dataset):\n",
    "        self.images = []\n",
    "        self.edges_images = []\n",
    "        self.labels = []\n",
    "        \n",
    "        for data in dataset:\n",
    "            image = data[0]\n",
    "            image_agmentation = image.numpy()*255\n",
    "            image_agmentation = np.moveaxis(image_agmentation, 0, -1)\n",
    "            edges_image = getAugmentationEdges(image_agmentation)\n",
    "            # print(image.shape, image_agmentation.shape, edges_image.shape)\n",
    "            edges_image = torch.tensor(edges_image)\n",
    "            label = data[1]\n",
    "            \n",
    "            image = transform_baseImage(image)\n",
    "            # print(image.shape, edges_image.shape)\n",
    "            edges_image = transform_edgesImage(edges_image.unsqueeze(0))\n",
    "            \n",
    "            self.images.append(image)\n",
    "            self.edges_images.append(edges_image)            \n",
    "            self.labels.append(label)\n",
    "            \n",
    "    def __len__(self):\n",
    "        return len(self.images)\n",
    "    \n",
    "    def __getitem__(self, idx):\n",
    "        image = self.images[idx]\n",
    "        edges_image = self.edges_images[idx]\n",
    "        label = self.labels[idx]\n",
    "        \n",
    "        return image, edges_image, label"
   ]
  },
  {
   "cell_type": "code",
   "execution_count": null,
   "metadata": {},
   "outputs": [],
   "source": [
    "train_dataset = KneeOsteoarthritis(train)\n",
    "# val_dataset = KneeOsteoarthritis(val)\n",
    "# test_dataset = KneeOsteoarthritis(test)\n",
    "# auto_test_dataset = KneeOsteoarthritis(auto_test)"
   ]
  },
  {
   "cell_type": "code",
   "execution_count": null,
   "metadata": {},
   "outputs": [],
   "source": [
    "import matplotlib.pyplot as plt\n",
    "import numpy as np\n",
    "\n",
    "# functions to show an image\n",
    "def imshow(img):\n",
    "    img = img / 2 + 0.5     # unnormalize\n",
    "    npimg = img.numpy()\n",
    "    plt.imshow(np.transpose(npimg, (1, 2, 0)), cmap='gray')\n",
    "    plt.show()"
   ]
  },
  {
   "cell_type": "code",
   "execution_count": null,
   "metadata": {},
   "outputs": [],
   "source": [
    "\n",
    "row = train_dataset[4]\n",
    "normal_ex = row[0]\n",
    "augmented_ex = row[1]\n",
    "print(normal_ex.shape, augmented_ex.shape)\n",
    "\n",
    "\n",
    "imshow(normal_ex)\n",
    "imshow(augmented_ex)"
   ]
  },
  {
   "cell_type": "markdown",
   "metadata": {},
   "source": [
    "### Configuring loader"
   ]
  },
  {
   "cell_type": "code",
   "execution_count": null,
   "metadata": {},
   "outputs": [],
   "source": [
    "from collections import Counter\n",
    "\n",
    "freq_table = dict(Counter(train_dataset.labels))\n",
    "least_class_frequency = min(freq_table.values())\n",
    "\n",
    "print(freq_table, least_class_frequency, list(freq_table.values()))"
   ]
  },
  {
   "cell_type": "code",
   "execution_count": null,
   "metadata": {},
   "outputs": [],
   "source": [
    "class_sample_count = np.array(freq_table.values())\n",
    "print(class_sample_count)\n",
    "weights = np.zeros(len(train_dataset.labels))\n",
    "for i, weight in enumerate(weights):\n",
    "    label = train_dataset.labels[i]\n",
    "    weights[i] = 1 / freq_table[label]\n",
    "    \n",
    "print(weights)\n",
    "samples_weight = torch.from_numpy(weights)\n",
    "samples_weigth = samples_weight.double()\n",
    "sampler = torch.utils.data.WeightedRandomSampler(samples_weight, len(samples_weight))"
   ]
  },
  {
   "cell_type": "code",
   "execution_count": null,
   "metadata": {},
   "outputs": [],
   "source": [
    "print(samples_weigth)"
   ]
  },
  {
   "cell_type": "code",
   "execution_count": null,
   "metadata": {},
   "outputs": [],
   "source": [
    "train_loader = torch.utils.data.DataLoader(train_dataset, batch_size=16, sampler=sampler)"
   ]
  },
  {
   "cell_type": "markdown",
   "metadata": {},
   "source": [
    "### Building Model"
   ]
  },
  {
   "cell_type": "code",
   "execution_count": null,
   "metadata": {},
   "outputs": [],
   "source": [
    "device = 'cuda' if torch.cuda.is_available() else 'cpu'\n",
    "\n",
    "print(device)"
   ]
  },
  {
   "cell_type": "code",
   "execution_count": null,
   "metadata": {},
   "outputs": [],
   "source": [
    "import torch.nn as nn\n",
    "import torch.nn.functional as F\n",
    "\n",
    "from torchvision.models import resnet18, ResNet18_Weights\n",
    "\n",
    "class AugmentedModel(nn.Module):\n",
    "    def __init__(self, num_classes: int = 5, dropout: float = 0.5) -> None:\n",
    "        super().__init__()\n",
    "        \n",
    "        weights = ResNet18_Weights.DEFAULT\n",
    "        self.resnet18 = resnet18(weights=weights, progress=False)\n",
    "        \n",
    "        self.edgesClassifier = nn.Sequential(\n",
    "            # nn.Conv2d(1, 64, kernel_size=11, stride=4, padding=2),\n",
    "            # nn.ReLU(inplace=True),\n",
    "            # nn.MaxPool2d(kernel_size=3, stride=2),\n",
    "            # nn.Conv2d(64, 128, kernel_size=5, padding=2),\n",
    "            # nn.ReLU(inplace=True),\n",
    "            # nn.Conv2d(128, 128, kernel_size=5, stride=2, padding=2),\n",
    "            # nn.ReLU(inplace=True),\n",
    "            # nn.Conv2d(128, 128, kernel_size=3, padding=2),\n",
    "            # nn.ReLU(inplace=True),\n",
    "            # nn.AdaptiveAvgPool2d((6, 6)),\n",
    "            # nn.Flatten()\n",
    "            \n",
    "            nn.Conv2d(1, 64, kernel_size=11, stride=4, padding=2),\n",
    "            nn.ReLU(inplace=True),\n",
    "            nn.MaxPool2d(kernel_size=3, stride=2),\n",
    "            nn.Conv2d(64, 192, kernel_size=5, padding=2),\n",
    "            nn.ReLU(inplace=True),\n",
    "            nn.MaxPool2d(kernel_size=3, stride=2),\n",
    "            nn.Conv2d(192, 384, kernel_size=3, padding=1),\n",
    "            nn.ReLU(inplace=True),\n",
    "            nn.Conv2d(384, 256, kernel_size=3, padding=1),\n",
    "            nn.ReLU(inplace=True),\n",
    "            nn.Conv2d(256, 256, kernel_size=3, padding=1),\n",
    "            nn.ReLU(inplace=True),\n",
    "            nn.MaxPool2d(kernel_size=3, stride=2),\n",
    "            nn.AdaptiveAvgPool2d((6, 6)),\n",
    "            nn.Flatten(),\n",
    "            nn.Dropout(p=dropout),\n",
    "            nn.Linear(256 * 6 * 6, 128),\n",
    "            nn.ReLU(inplace=True),\n",
    "            nn.Dropout(p=dropout),\n",
    "            nn.Linear(128, 128),\n",
    "            nn.ReLU(inplace=True),\n",
    "            nn.Linear(128, num_classes),\n",
    "\n",
    "            \n",
    "            # nn.Conv2d(1, 64, kernel_size=11, stride=4, padding=2),\n",
    "            # nn.ReLU(inplace=True),\n",
    "            # nn.MaxPool2d(kernel_size=3, stride=2),\n",
    "            # nn.Conv2d(64, 192, kernel_size=5, padding=2),\n",
    "            # nn.ReLU(inplace=True),\n",
    "            # nn.MaxPool2d(kernel_size=3, stride=2),\n",
    "            # nn.Conv2d(192, 384, kernel_size=3, padding=1),\n",
    "            # nn.ReLU(inplace=True),\n",
    "            # nn.Conv2d(384, 256, kernel_size=3, padding=1),\n",
    "            # nn.ReLU(inplace=True),\n",
    "            # nn.Conv2d(256, 256, kernel_size=3, padding=1),\n",
    "            # nn.ReLU(inplace=True),\n",
    "            # nn.MaxPool2d(kernel_size=3, stride=2),\n",
    "            # nn.AdaptiveAvgPool2d((6, 6)),\n",
    "            # nn.Dropout(p=dropout),\n",
    "            # nn.Linear(256 * 6 * 6, 128),\n",
    "            # nn.ReLU(inplace=True),\n",
    "            # nn.Dropout(p=dropout),\n",
    "            # nn.Linear(128, 128),\n",
    "            # nn.ReLU(inplace=True),\n",
    "            # nn.Linear(128, num_classes),\n",
    "        )\n",
    "        \n",
    "        self.classifier = nn.Sequential(\n",
    "            nn.Dropout(p=dropout),\n",
    "            nn.Linear(1000, 4096),\n",
    "            nn.ReLU(inplace=True),\n",
    "            nn.Dropout(p=dropout),\n",
    "            nn.Linear(4096, 4096),\n",
    "            nn.ReLU(inplace=True),\n",
    "            nn.Linear(4096, num_classes),\n",
    "        )\n",
    "        \n",
    "        self.outputCombiner = nn.Sequential(\n",
    "            nn.Linear(2 * num_classes, num_classes),\n",
    "        )\n",
    "\n",
    "    def forward(self, image: torch.Tensor, edges: torch.Tensor) -> torch.Tensor:\n",
    "        \n",
    "        out_edges = self.edgesClassifier(edges)\n",
    "        return out_edges\n",
    "        # out_edges = self.edgesClassifier(edges)\n",
    "      \n",
    "        # out_image = self.resnet18(image)\n",
    "        # out_image = self.classifier(out_image)\n",
    "        \n",
    "        # concated = torch.cat((out_image, out_edges), 1)\n",
    "        \n",
    "        # res = self.outputCombiner(concated)\n",
    "        # return res\n",
    "      \n",
    "net = AugmentedModel(3)\n",
    "net = net.to(device)"
   ]
  },
  {
   "cell_type": "code",
   "execution_count": null,
   "metadata": {},
   "outputs": [],
   "source": [
    "print(sum(p.numel() for p in net.classifier.parameters()) ,sum(p.numel() for p in net.edgesClassifier.parameters()) )\n",
    "print(sum(p.numel() for p in net.parameters()))"
   ]
  },
  {
   "cell_type": "markdown",
   "metadata": {},
   "source": [
    "### Training Model"
   ]
  },
  {
   "cell_type": "code",
   "execution_count": null,
   "metadata": {},
   "outputs": [],
   "source": [
    "import torch.optim as optim\n",
    "\n",
    "criterion = nn.CrossEntropyLoss()\n",
    "optimizer = optim.Adam(net.classifier.parameters(), lr=0.001)"
   ]
  },
  {
   "cell_type": "code",
   "execution_count": null,
   "metadata": {},
   "outputs": [],
   "source": [
    "epoch_correct = 0\n",
    "epoch_samples = 0\n",
    "running_loss = 0.0\n",
    "    \n",
    "for epoch in range(50):  # loop over the dataset multiple times\n",
    "    \n",
    "    for i, data in enumerate(train_loader, 0):\n",
    "\n",
    "        # get the inputs; data is a list of [inputs, labels]\n",
    "        images, edges, labels = data\n",
    "        images = images.to(device)\n",
    "        edges = edges.to(device)\n",
    "        labels = labels.to(device)\n",
    "        \n",
    "        # zero the parameter gradients\n",
    "        optimizer.zero_grad()\n",
    "        \n",
    "        # forward + backward + optimize\n",
    "        outputs = net(images, edges)\n",
    "        loss = criterion(outputs, labels)\n",
    "        \n",
    "        loss.backward()\n",
    "        \n",
    "        optimizer.step()\n",
    "        \n",
    "        # Changing outputs (logits) to labels\n",
    "        outputs_clear = outputs.max(1).indices\n",
    "        \n",
    "        epoch_correct += (outputs_clear == labels).float().sum()\n",
    "        epoch_samples += len(outputs)\n",
    "        \n",
    "        running_loss += loss.item()\n",
    "            \n",
    "    accuracy = epoch_correct / epoch_samples * 100\n",
    "    print(f'Epoch {epoch + 1}: loss: {running_loss / epoch_samples:.3f}, accuracy: {accuracy}%')\n",
    "    \n",
    "    epoch_correct = 0\n",
    "    epoch_samples = 0\n",
    "    running_loss = 0.0\n",
    "\n",
    "print('Finished Training')"
   ]
  }
 ],
 "metadata": {
  "kernelspec": {
   "display_name": "env_torch",
   "language": "python",
   "name": "python3"
  },
  "language_info": {
   "codemirror_mode": {
    "name": "ipython",
    "version": 3
   },
   "file_extension": ".py",
   "mimetype": "text/x-python",
   "name": "python",
   "nbconvert_exporter": "python",
   "pygments_lexer": "ipython3",
   "version": "3.10.13"
  }
 },
 "nbformat": 4,
 "nbformat_minor": 2
}
